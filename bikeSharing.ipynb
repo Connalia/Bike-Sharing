{
 "cells": [
  {
   "cell_type": "markdown",
   "metadata": {},
   "source": [
    "# <span style=\"color:DarkRed\"> Data Challenge - Bike Sharing Demand Prediction </span>"
   ]
  },
  {
   "cell_type": "markdown",
   "metadata": {},
   "source": [
    "A dataset consisting of a few thousand records containing the hourly count of rental bikes between years 2011 and 2012 in Capital bikeshare system with the corresponding weather and seasonal information.\n",
    "\n",
    "Goal is to predict how many bikes will be rented each hour of a day, based on data including weather, time, temperature, whether or not its a workday, and much more. The dataset was taken from UCI Machine Learning Repository.\n",
    "Goal predict `count`(=`cnt`)"
   ]
  },
  {
   "cell_type": "markdown",
   "metadata": {},
   "source": [
    "# Dataset"
   ]
  },
  {
   "cell_type": "code",
   "execution_count": 1,
   "metadata": {},
   "outputs": [
    {
     "name": "stderr",
     "output_type": "stream",
     "text": [
      "Using TensorFlow backend.\n"
     ]
    }
   ],
   "source": [
    "import numpy as np\n",
    "\n",
    "#np.random.seed(1337)\n",
    "\n",
    "from keras.callbacks import ModelCheckpoint\n",
    "\n",
    "from keras.layers import Input, Conv2D, Dense, concatenate\n",
    "from keras.models import Model\n",
    "\n",
    "from keras.models import Sequential\n",
    "from keras.layers import Dense, Activation, Flatten\n",
    "\n",
    "from sklearn.model_selection import train_test_split\n",
    "from sklearn.ensemble import RandomForestRegressor\n",
    "from sklearn.metrics import mean_absolute_error \n",
    "from matplotlib import pyplot as plt\n",
    "import seaborn as sb\n",
    "import matplotlib.pyplot as plt\n",
    "import pandas as pd\n",
    "\n",
    "from sklearn.ensemble import RandomForestRegressor\n",
    "\n",
    "from sklearn.preprocessing import StandardScaler\n",
    "\n",
    "from sklearn import metrics\n",
    "\n",
    "\n",
    "import warnings \n",
    "from sklearn.metrics import mean_squared_log_error, r2_score\n",
    "warnings.filterwarnings('ignore')\n",
    "warnings.filterwarnings('ignore', category=DeprecationWarning)"
   ]
  },
  {
   "cell_type": "code",
   "execution_count": 2,
   "metadata": {},
   "outputs": [],
   "source": [
    "filename = 'train.csv' "
   ]
  },
  {
   "cell_type": "code",
   "execution_count": 3,
   "metadata": {},
   "outputs": [
    {
     "data": {
      "text/html": [
       "<div>\n",
       "<style scoped>\n",
       "    .dataframe tbody tr th:only-of-type {\n",
       "        vertical-align: middle;\n",
       "    }\n",
       "\n",
       "    .dataframe tbody tr th {\n",
       "        vertical-align: top;\n",
       "    }\n",
       "\n",
       "    .dataframe thead th {\n",
       "        text-align: right;\n",
       "    }\n",
       "</style>\n",
       "<table border=\"1\" class=\"dataframe\">\n",
       "  <thead>\n",
       "    <tr style=\"text-align: right;\">\n",
       "      <th></th>\n",
       "      <th>season</th>\n",
       "      <th>yr</th>\n",
       "      <th>mnth</th>\n",
       "      <th>hr</th>\n",
       "      <th>holiday</th>\n",
       "      <th>weekday</th>\n",
       "      <th>workingday</th>\n",
       "      <th>weathersit</th>\n",
       "      <th>temp</th>\n",
       "      <th>atemp</th>\n",
       "      <th>hum</th>\n",
       "      <th>windspeed</th>\n",
       "      <th>casual</th>\n",
       "      <th>registered</th>\n",
       "      <th>cnt</th>\n",
       "    </tr>\n",
       "  </thead>\n",
       "  <tbody>\n",
       "    <tr>\n",
       "      <td>0</td>\n",
       "      <td>4</td>\n",
       "      <td>0</td>\n",
       "      <td>11</td>\n",
       "      <td>0</td>\n",
       "      <td>0</td>\n",
       "      <td>2</td>\n",
       "      <td>1</td>\n",
       "      <td>1</td>\n",
       "      <td>0.56</td>\n",
       "      <td>0.5303</td>\n",
       "      <td>0.64</td>\n",
       "      <td>0.3582</td>\n",
       "      <td>7</td>\n",
       "      <td>15</td>\n",
       "      <td>22</td>\n",
       "    </tr>\n",
       "    <tr>\n",
       "      <td>1</td>\n",
       "      <td>1</td>\n",
       "      <td>0</td>\n",
       "      <td>2</td>\n",
       "      <td>21</td>\n",
       "      <td>0</td>\n",
       "      <td>6</td>\n",
       "      <td>0</td>\n",
       "      <td>1</td>\n",
       "      <td>0.28</td>\n",
       "      <td>0.2727</td>\n",
       "      <td>0.65</td>\n",
       "      <td>0.2537</td>\n",
       "      <td>9</td>\n",
       "      <td>59</td>\n",
       "      <td>68</td>\n",
       "    </tr>\n",
       "    <tr>\n",
       "      <td>2</td>\n",
       "      <td>4</td>\n",
       "      <td>1</td>\n",
       "      <td>11</td>\n",
       "      <td>12</td>\n",
       "      <td>0</td>\n",
       "      <td>3</td>\n",
       "      <td>1</td>\n",
       "      <td>1</td>\n",
       "      <td>0.44</td>\n",
       "      <td>0.4394</td>\n",
       "      <td>0.41</td>\n",
       "      <td>0.1940</td>\n",
       "      <td>74</td>\n",
       "      <td>270</td>\n",
       "      <td>344</td>\n",
       "    </tr>\n",
       "    <tr>\n",
       "      <td>3</td>\n",
       "      <td>1</td>\n",
       "      <td>1</td>\n",
       "      <td>1</td>\n",
       "      <td>7</td>\n",
       "      <td>0</td>\n",
       "      <td>2</td>\n",
       "      <td>1</td>\n",
       "      <td>2</td>\n",
       "      <td>0.18</td>\n",
       "      <td>0.1970</td>\n",
       "      <td>0.93</td>\n",
       "      <td>0.1642</td>\n",
       "      <td>3</td>\n",
       "      <td>219</td>\n",
       "      <td>222</td>\n",
       "    </tr>\n",
       "    <tr>\n",
       "      <td>4</td>\n",
       "      <td>1</td>\n",
       "      <td>1</td>\n",
       "      <td>3</td>\n",
       "      <td>16</td>\n",
       "      <td>0</td>\n",
       "      <td>1</td>\n",
       "      <td>1</td>\n",
       "      <td>1</td>\n",
       "      <td>0.30</td>\n",
       "      <td>0.2727</td>\n",
       "      <td>0.45</td>\n",
       "      <td>0.2985</td>\n",
       "      <td>30</td>\n",
       "      <td>180</td>\n",
       "      <td>210</td>\n",
       "    </tr>\n",
       "  </tbody>\n",
       "</table>\n",
       "</div>"
      ],
      "text/plain": [
       "   season  yr  mnth  hr  holiday  weekday  workingday  weathersit  temp  \\\n",
       "0       4   0    11   0        0        2           1           1  0.56   \n",
       "1       1   0     2  21        0        6           0           1  0.28   \n",
       "2       4   1    11  12        0        3           1           1  0.44   \n",
       "3       1   1     1   7        0        2           1           2  0.18   \n",
       "4       1   1     3  16        0        1           1           1  0.30   \n",
       "\n",
       "    atemp   hum  windspeed  casual  registered  cnt  \n",
       "0  0.5303  0.64     0.3582       7          15   22  \n",
       "1  0.2727  0.65     0.2537       9          59   68  \n",
       "2  0.4394  0.41     0.1940      74         270  344  \n",
       "3  0.1970  0.93     0.1642       3         219  222  \n",
       "4  0.2727  0.45     0.2985      30         180  210  "
      ]
     },
     "execution_count": 3,
     "metadata": {},
     "output_type": "execute_result"
    }
   ],
   "source": [
    "# Reading training data from the local storage\n",
    "df_train = pd.read_csv(filename)\n",
    "\n",
    "df_train_Forest = pd.read_csv(filename)\n",
    "\n",
    "df_train.head()"
   ]
  },
  {
   "cell_type": "code",
   "execution_count": 4,
   "metadata": {},
   "outputs": [
    {
     "data": {
      "text/plain": [
       "(12165, 15)"
      ]
     },
     "execution_count": 4,
     "metadata": {},
     "output_type": "execute_result"
    }
   ],
   "source": [
    "df_train.shape"
   ]
  },
  {
   "cell_type": "code",
   "execution_count": null,
   "metadata": {},
   "outputs": [],
   "source": []
  },
  {
   "cell_type": "code",
   "execution_count": 5,
   "metadata": {},
   "outputs": [
    {
     "data": {
      "text/html": [
       "<div>\n",
       "<style scoped>\n",
       "    .dataframe tbody tr th:only-of-type {\n",
       "        vertical-align: middle;\n",
       "    }\n",
       "\n",
       "    .dataframe tbody tr th {\n",
       "        vertical-align: top;\n",
       "    }\n",
       "\n",
       "    .dataframe thead th {\n",
       "        text-align: right;\n",
       "    }\n",
       "</style>\n",
       "<table border=\"1\" class=\"dataframe\">\n",
       "  <thead>\n",
       "    <tr style=\"text-align: right;\">\n",
       "      <th></th>\n",
       "      <th>season</th>\n",
       "      <th>yr</th>\n",
       "      <th>mnth</th>\n",
       "      <th>hr</th>\n",
       "      <th>holiday</th>\n",
       "      <th>weekday</th>\n",
       "      <th>workingday</th>\n",
       "      <th>weathersit</th>\n",
       "      <th>temp</th>\n",
       "      <th>atemp</th>\n",
       "      <th>hum</th>\n",
       "      <th>windspeed</th>\n",
       "    </tr>\n",
       "  </thead>\n",
       "  <tbody>\n",
       "    <tr>\n",
       "      <td>0</td>\n",
       "      <td>1</td>\n",
       "      <td>1</td>\n",
       "      <td>1</td>\n",
       "      <td>20</td>\n",
       "      <td>0</td>\n",
       "      <td>4</td>\n",
       "      <td>1</td>\n",
       "      <td>1</td>\n",
       "      <td>0.26</td>\n",
       "      <td>0.2121</td>\n",
       "      <td>0.52</td>\n",
       "      <td>0.4478</td>\n",
       "    </tr>\n",
       "    <tr>\n",
       "      <td>1</td>\n",
       "      <td>4</td>\n",
       "      <td>1</td>\n",
       "      <td>10</td>\n",
       "      <td>15</td>\n",
       "      <td>0</td>\n",
       "      <td>5</td>\n",
       "      <td>1</td>\n",
       "      <td>1</td>\n",
       "      <td>0.52</td>\n",
       "      <td>0.5000</td>\n",
       "      <td>0.42</td>\n",
       "      <td>0.4478</td>\n",
       "    </tr>\n",
       "    <tr>\n",
       "      <td>2</td>\n",
       "      <td>1</td>\n",
       "      <td>0</td>\n",
       "      <td>1</td>\n",
       "      <td>10</td>\n",
       "      <td>0</td>\n",
       "      <td>0</td>\n",
       "      <td>0</td>\n",
       "      <td>1</td>\n",
       "      <td>0.22</td>\n",
       "      <td>0.2121</td>\n",
       "      <td>0.51</td>\n",
       "      <td>0.2836</td>\n",
       "    </tr>\n",
       "    <tr>\n",
       "      <td>3</td>\n",
       "      <td>3</td>\n",
       "      <td>1</td>\n",
       "      <td>8</td>\n",
       "      <td>18</td>\n",
       "      <td>0</td>\n",
       "      <td>3</td>\n",
       "      <td>1</td>\n",
       "      <td>1</td>\n",
       "      <td>0.74</td>\n",
       "      <td>0.6667</td>\n",
       "      <td>0.51</td>\n",
       "      <td>0.2239</td>\n",
       "    </tr>\n",
       "    <tr>\n",
       "      <td>4</td>\n",
       "      <td>1</td>\n",
       "      <td>1</td>\n",
       "      <td>2</td>\n",
       "      <td>8</td>\n",
       "      <td>0</td>\n",
       "      <td>1</td>\n",
       "      <td>1</td>\n",
       "      <td>1</td>\n",
       "      <td>0.24</td>\n",
       "      <td>0.2424</td>\n",
       "      <td>0.60</td>\n",
       "      <td>0.0000</td>\n",
       "    </tr>\n",
       "  </tbody>\n",
       "</table>\n",
       "</div>"
      ],
      "text/plain": [
       "   season  yr  mnth  hr  holiday  weekday  workingday  weathersit  temp  \\\n",
       "0       1   1     1  20        0        4           1           1  0.26   \n",
       "1       4   1    10  15        0        5           1           1  0.52   \n",
       "2       1   0     1  10        0        0           0           1  0.22   \n",
       "3       3   1     8  18        0        3           1           1  0.74   \n",
       "4       1   1     2   8        0        1           1           1  0.24   \n",
       "\n",
       "    atemp   hum  windspeed  \n",
       "0  0.2121  0.52     0.4478  \n",
       "1  0.5000  0.42     0.4478  \n",
       "2  0.2121  0.51     0.2836  \n",
       "3  0.6667  0.51     0.2239  \n",
       "4  0.2424  0.60     0.0000  "
      ]
     },
     "execution_count": 5,
     "metadata": {},
     "output_type": "execute_result"
    }
   ],
   "source": [
    "df_test = pd.read_csv('test.csv')\n",
    "df_test.head()"
   ]
  },
  {
   "cell_type": "code",
   "execution_count": 6,
   "metadata": {},
   "outputs": [
    {
     "data": {
      "text/plain": [
       "(5214, 12)"
      ]
     },
     "execution_count": 6,
     "metadata": {},
     "output_type": "execute_result"
    }
   ],
   "source": [
    "df_test.shape"
   ]
  },
  {
   "cell_type": "code",
   "execution_count": null,
   "metadata": {},
   "outputs": [],
   "source": []
  },
  {
   "cell_type": "markdown",
   "metadata": {},
   "source": [
    "# Feature Engineering"
   ]
  },
  {
   "cell_type": "markdown",
   "metadata": {},
   "source": [
    "Change column names for a nice precise reading:"
   ]
  },
  {
   "cell_type": "code",
   "execution_count": 7,
   "metadata": {},
   "outputs": [],
   "source": [
    "df_train_Forest.rename(columns={'weathersit':'weather',\n",
    "                     'mnth':'month',\n",
    "                     'hr':'hour',\n",
    "                     'yr':'year',\n",
    "                     'hum': 'humidity',\n",
    "                     'cnt':'count'},inplace=True)"
   ]
  },
  {
   "cell_type": "code",
   "execution_count": 8,
   "metadata": {},
   "outputs": [],
   "source": [
    "df_train.rename(columns={'weathersit':'weather',\n",
    "                     'mnth':'month',\n",
    "                     'hr':'hour',\n",
    "                     'yr':'year',\n",
    "                     'hum': 'humidity',\n",
    "                     'cnt':'count'},inplace=True)"
   ]
  },
  {
   "cell_type": "markdown",
   "metadata": {},
   "source": [
    "Check existence of null values in the dataset:"
   ]
  },
  {
   "cell_type": "code",
   "execution_count": 9,
   "metadata": {},
   "outputs": [
    {
     "data": {
      "text/plain": [
       "season        0\n",
       "year          0\n",
       "month         0\n",
       "hour          0\n",
       "holiday       0\n",
       "weekday       0\n",
       "workingday    0\n",
       "weather       0\n",
       "temp          0\n",
       "atemp         0\n",
       "humidity      0\n",
       "windspeed     0\n",
       "casual        0\n",
       "registered    0\n",
       "count         0\n",
       "dtype: int64"
      ]
     },
     "execution_count": 9,
     "metadata": {},
     "output_type": "execute_result"
    }
   ],
   "source": [
    "df_train.isnull().sum()"
   ]
  },
  {
   "cell_type": "markdown",
   "metadata": {},
   "source": [
    "#### Shuffle Data: "
   ]
  },
  {
   "cell_type": "code",
   "execution_count": 10,
   "metadata": {},
   "outputs": [],
   "source": [
    "from sklearn.utils import shuffle"
   ]
  },
  {
   "cell_type": "code",
   "execution_count": 11,
   "metadata": {},
   "outputs": [],
   "source": [
    "seed = 42\n",
    "df_train = shuffle(df_train, random_state=seed)\n",
    "\n",
    "df_train_Forest = shuffle(df_train_Forest, random_state=seed)\n",
    "\n",
    "#df_train.head()"
   ]
  },
  {
   "cell_type": "markdown",
   "metadata": {},
   "source": [
    "#  <span style=\"color:SlateBlue\"> Exploring Data (with Analysis) </span>"
   ]
  },
  {
   "cell_type": "markdown",
   "metadata": {},
   "source": [
    "`sn` (seaborn as sn)for correlation(για διαγραμμα συσχέτισης)"
   ]
  },
  {
   "cell_type": "code",
   "execution_count": 12,
   "metadata": {},
   "outputs": [],
   "source": [
    "import seaborn as sn"
   ]
  },
  {
   "cell_type": "code",
   "execution_count": null,
   "metadata": {},
   "outputs": [],
   "source": []
  },
  {
   "cell_type": "markdown",
   "metadata": {},
   "source": [
    "To see how numerical(=continuous) variables are connected with each other, data correlation can be checked:\n",
    " (correlation=συσχέτιση) "
   ]
  },
  {
   "cell_type": "code",
   "execution_count": 13,
   "metadata": {},
   "outputs": [
    {
     "data": {
      "text/plain": [
       "<matplotlib.axes._subplots.AxesSubplot at 0x21434fe4c08>"
      ]
     },
     "execution_count": 13,
     "metadata": {},
     "output_type": "execute_result"
    },
    {
     "data": {
      "image/png": "[encoded data removed]",
      "text/plain": [
       "<Figure size 1080x720 with 2 Axes>"
      ]
     },
     "metadata": {
      "needs_background": "light"
     },
     "output_type": "display_data"
    }
   ],
   "source": [
    "data_corr = df_train[['temp', 'atemp', 'humidity', 'windspeed', 'casual', 'registered', 'count']].corr()\n",
    "mask = np.array(data_corr)\n",
    "mask[np.tril_indices_from(mask)] = False\n",
    "fig = plt.subplots(figsize=(15, 10))\n",
    "sn.heatmap(data_corr, mask=mask, vmax=1, square=True, annot=True, cmap=\"YlGnBu\")"
   ]
  },
  {
   "cell_type": "markdown",
   "metadata": {},
   "source": [
    "It can be observed that:\n",
    "- `temp` and `atemp` are strongly correlated. To reduce the dimensionality of the predictive model, the feature `atemp` is dismissed.\n",
    "\n",
    " I can see in first column, `temp` with `atemp`(in row) have `0.99`,are highly correlated. Remove atemp. \n",
    "\n",
    "\n",
    "- `casual` and `registered` contain direct information about the bike sharing `count` which we want to predict (data leakage).\n",
    "\n",
    " `casual` and `registered` is exactly what you are trying to predict,because `casual`+`registered`=`count`\n",
    "\n",
    "\n",
    "- `windspeed` has little correlation with `count`.\n",
    "\n",
    " `Windspeed` correlation with count is so low(0.097) that we won’t even consider it in our model. We can remove it too.\n",
    " \n",
    "\n",
    "- `temp` has positive correlation and `humidity` has negative correlation with `count`."
   ]
  },
  {
   "cell_type": "code",
   "execution_count": 14,
   "metadata": {},
   "outputs": [],
   "source": [
    "df_train = df_train.drop(['atemp', 'windspeed'], axis=1)"
   ]
  },
  {
   "cell_type": "code",
   "execution_count": 15,
   "metadata": {},
   "outputs": [],
   "source": [
    "#df_train = df_train.drop(['casual', 'registered'], axis=1)"
   ]
  },
  {
   "cell_type": "code",
   "execution_count": null,
   "metadata": {},
   "outputs": [],
   "source": []
  },
  {
   "cell_type": "markdown",
   "metadata": {},
   "source": [
    "Analyze the change in bike sharing pattern (`count` variable) with categorical variables:"
   ]
  },
  {
   "cell_type": "markdown",
   "metadata": {},
   "source": [
    "`sn` Correlation of two feature(`count` and categorical features).\n",
    "\n",
    "`nrows`=8, create 8 diagramas (because categorical features are 8)"
   ]
  },
  {
   "cell_type": "code",
   "execution_count": 16,
   "metadata": {},
   "outputs": [
    {
     "data": {
      "text/plain": [
       "<matplotlib.axes._subplots.AxesSubplot at 0x21435975348>"
      ]
     },
     "execution_count": 16,
     "metadata": {},
     "output_type": "execute_result"
    },
    {
     "data": {
      "image/png": "[encoded data removed]",
      "text/plain": [
       "<Figure size 1080x1800 with 8 Axes>"
      ]
     },
     "metadata": {
      "needs_background": "light"
     },
     "output_type": "display_data"
    }
   ],
   "source": [
    "fig,[ax1,ax2,ax3,ax4,ax5,ax6,ax7,ax8] = plt.subplots(nrows=8, figsize=(15,25))\n",
    "sn.barplot(x = df_train['season'], y = df_train['count'],ax = ax1)\n",
    "sn.barplot(x = df_train['year'], y = df_train['count'],ax = ax2)\n",
    "sn.barplot(x = df_train['month'], y = df_train['count'],ax = ax3)\n",
    "sn.barplot(x = df_train['hour'], y = df_train['count'],ax = ax4)\n",
    "sn.barplot(x = df_train['holiday'], y = df_train['count'],ax = ax5)\n",
    "sn.barplot(x = df_train['weekday'], y = df_train['count'],ax = ax6)\n",
    "sn.barplot(x = df_train['workingday'], y = df_train['count'],ax = ax7)\n",
    "sn.barplot(x = df_train['weather'], y = df_train['count'],ax = ax8)"
   ]
  },
  {
   "cell_type": "markdown",
   "metadata": {},
   "source": [
    "It can be observed that:\n",
    "- If we use the `weekday` attribute instead of `workingday` (binary value) then results improve a bit. Also, we observed that the workingday parameter, when not taken, does not give much change in result.\n",
    "- We remove `weather_4`(highly varience=έχει υψηλη διακυμανση, big divergence=μεγαλη αποκλιση), people usually don't take bike when weather is very bad, but it has exeption and take. This case is outliers"
   ]
  },
  {
   "cell_type": "markdown",
   "metadata": {},
   "source": [
    "Try, but there was no improvement at score:\n",
    "- We can disregard the significantly high correlation between `weather` and `huminity` since it is only natural for them to have high correlation.Because when they have high huminity is probably rain(bad weather)\n",
    "- We can disregard the significantly high correlation between `season` and `month` since it is only natural for them to have high correlation."
   ]
  },
  {
   "cell_type": "markdown",
   "metadata": {},
   "source": [
    "Analyzing Outliers:"
   ]
  },
  {
   "cell_type": "code",
   "execution_count": 17,
   "metadata": {},
   "outputs": [
    {
     "data": {
      "text/plain": [
       "[Text(0, 0.5, 'Count'),\n",
       " Text(0.5, 0, 'Hour Of The Day'),\n",
       " Text(0.5, 1.0, 'Box Plot On Count Across Hour Of The Day')]"
      ]
     },
     "execution_count": 17,
     "metadata": {},
     "output_type": "execute_result"
    },
    {
     "data": {
      "image/png": "[encoded data removed]",
      "text/plain": [
       "<Figure size 1440x720 with 1 Axes>"
      ]
     },
     "metadata": {
      "needs_background": "light"
     },
     "output_type": "display_data"
    }
   ],
   "source": [
    "fig, axes = plt.subplots(nrows=1,ncols=1)\n",
    "fig.set_size_inches(20, 10)\n",
    "sn.boxplot(data=df_train,y=\"count\",x=\"hour\",orient=\"v\",ax=axes)\n",
    "axes.set(xlabel='Hour Of The Day', ylabel='Count',title=\"Box Plot On Count Across Hour Of The Day\")"
   ]
  },
  {
   "cell_type": "markdown",
   "metadata": {},
   "source": [
    "Above, we can see that people use more bikes between 7 - 8 and 17 - 18 o'clock, which can be related to the time of day when people go or come back from work or school.\n",
    "\n",
    "The points on top are outliers."
   ]
  },
  {
   "cell_type": "code",
   "execution_count": null,
   "metadata": {},
   "outputs": [],
   "source": []
  },
  {
   "cell_type": "markdown",
   "metadata": {},
   "source": [
    "Removing Outliers in `count`:"
   ]
  },
  {
   "cell_type": "code",
   "execution_count": 18,
   "metadata": {},
   "outputs": [
    {
     "name": "stdout",
     "output_type": "stream",
     "text": [
      "Shape before delete Ouliers:  (12165, 13)\n"
     ]
    }
   ],
   "source": [
    "print (\"Shape before delete Ouliers: \",df_train.shape)"
   ]
  },
  {
   "cell_type": "code",
   "execution_count": 19,
   "metadata": {},
   "outputs": [],
   "source": [
    "df_train = df_train[np.abs(df_train[\"count\"]-df_train[\"count\"].mean())<=(3*df_train[\"count\"].std())]"
   ]
  },
  {
   "cell_type": "code",
   "execution_count": 20,
   "metadata": {},
   "outputs": [
    {
     "name": "stdout",
     "output_type": "stream",
     "text": [
      "Shape after delete Ouliers:  (11989, 13)\n"
     ]
    }
   ],
   "source": [
    "print (\"Shape after delete Ouliers: \",df_train.shape)"
   ]
  },
  {
   "cell_type": "markdown",
   "metadata": {},
   "source": [
    "#  <span style=\"color:SlateBlue\"> Predict Count Sharing Bike (Training Models) </span>"
   ]
  },
  {
   "cell_type": "markdown",
   "metadata": {},
   "source": [
    "# RMSLE Score"
   ]
  },
  {
   "cell_type": "markdown",
   "metadata": {},
   "source": [
    "In this particular competition, the metric to evaluate your model is **Root Mean Square Logarithmic Error** (RMSLE). It is particularly helpful when we want to penalize an under-predicted estimate greater than an over-predicted estimate. If $\\hat{y_i}$ is the predicted value of the $I$-th sample, and ${y_i}$ is the corresponding true value, then the RMSLE estimated over $N$ samples is defined as:\n",
    "\n",
    "$$ RMSLE = \\sqrt{\\frac{1}{N} \\sum_{i=1}^N (\\log(1+\\hat{y_i}) - \\log(1+y_i))^2 } $$"
   ]
  },
  {
   "cell_type": "markdown",
   "metadata": {},
   "source": [
    "# Model building"
   ]
  },
  {
   "cell_type": "markdown",
   "metadata": {},
   "source": [
    "# 1)Trees"
   ]
  },
  {
   "cell_type": "code",
   "execution_count": null,
   "metadata": {},
   "outputs": [],
   "source": []
  },
  {
   "cell_type": "markdown",
   "metadata": {},
   "source": [
    "## Initialize Feature"
   ]
  },
  {
   "cell_type": "markdown",
   "metadata": {},
   "source": [
    "Some data types need to be changed from numerical to categorical in order for the model to interpret better these variables:"
   ]
  },
  {
   "cell_type": "code",
   "execution_count": 21,
   "metadata": {},
   "outputs": [],
   "source": [
    "df_train_Forest['season'] = df_train_Forest.season.astype('category')\n",
    "df_train_Forest['year'] = df_train_Forest.year.astype('category')\n",
    "df_train_Forest['month'] = df_train_Forest.month.astype('category')\n",
    "df_train_Forest['hour'] = df_train_Forest.hour.astype('category')\n",
    "df_train_Forest['holiday'] = df_train_Forest.holiday.astype('category')\n",
    "df_train_Forest['weekday'] = df_train_Forest.weekday.astype('category')\n",
    "df_train_Forest['workingday'] = df_train_Forest.workingday.astype('category')\n",
    "df_train_Forest['weather'] = df_train_Forest.weather.astype('category')"
   ]
  },
  {
   "cell_type": "markdown",
   "metadata": {},
   "source": [
    "Rounding the continuous float number `temp`, `humidity`(for better `RandomForest`): \n",
    "\n",
    "(e.g. 0,34=>0,3 when round is 1)"
   ]
  },
  {
   "cell_type": "markdown",
   "metadata": {},
   "source": [
    "`RandomForest` with only categories feature(score=0.4)and with no categories(score=0.35)"
   ]
  },
  {
   "cell_type": "code",
   "execution_count": 22,
   "metadata": {},
   "outputs": [],
   "source": [
    "df_train_Forest=df_train_Forest.round({'humidity': 1,'temp':1,'windspeed':1})\n",
    "y_Forest = df_train_Forest['count']\n",
    "X_Forest = df_train_Forest[['humidity','temp','windspeed','season','year','month','hour','weekday','workingday','weather']]\n",
    "              \n",
    "X_train_Forest, X_test_Forest, y_train_Forest, y_test_Forest = train_test_split(X_Forest, y_Forest, test_size=0.2, random_state=42)"
   ]
  },
  {
   "cell_type": "markdown",
   "metadata": {},
   "source": [
    "## i)RandomForest "
   ]
  },
  {
   "cell_type": "markdown",
   "metadata": {},
   "source": [
    "GridsSearchCV:"
   ]
  },
  {
   "cell_type": "code",
   "execution_count": 23,
   "metadata": {},
   "outputs": [],
   "source": [
    "# from sklearn.model_selection import train_test_split, GridSearchCV\n",
    "\n",
    "# # Random Forest\n",
    "# rf = RandomForestRegressor(n_jobs=-1, random_state=0)\n",
    "# parameters = {'n_estimators': [100, 200, 400, 800], 'max_depth': [5, 15, 25]}\n",
    "# rf_cv = GridSearchCV(rf, parameters, cv=5, n_jobs=-1)\n",
    "# rf_cv.fit(X_train_Forest, y_train_Forest)\n",
    "\n",
    "# print (rf_cv.best_params_)\n",
    "\n",
    "# y_pred_Forest_CV = rf_cv.predict(X_test_Forest)"
   ]
  },
  {
   "cell_type": "code",
   "execution_count": 24,
   "metadata": {},
   "outputs": [],
   "source": [
    "# print('RMSLE_Forest:', np.sqrt(mean_squared_log_error(y_test_Forest, y_pred_Forest_CV)))"
   ]
  },
  {
   "cell_type": "markdown",
   "metadata": {},
   "source": [
    "GridSearchCV on RandomForestRegressor gave as best parameters:\n",
    "\n",
    "    {'max_depth': 15, 'n_estimators': 800}\n",
    "    \n",
    "and gave a score of:\n",
    "\n",
    "    0.35316109498740716"
   ]
  },
  {
   "cell_type": "code",
   "execution_count": null,
   "metadata": {},
   "outputs": [],
   "source": []
  },
  {
   "cell_type": "code",
   "execution_count": 25,
   "metadata": {},
   "outputs": [],
   "source": [
    "model_Forest = RandomForestRegressor(n_estimators = 800, max_depth = 15, random_state = 12)\n",
    "reg_Forest = model_Forest\n",
    "model_Forest.fit(X_train_Forest,y_train_Forest)\n",
    "\n",
    "# Get the mean absolute error on the validation data :\n",
    "y_pred_Forest = model_Forest.predict(X_test_Forest)\n",
    "MAE_Forest = mean_absolute_error(y_test_Forest , y_pred_Forest)"
   ]
  },
  {
   "cell_type": "code",
   "execution_count": 26,
   "metadata": {},
   "outputs": [
    {
     "name": "stdout",
     "output_type": "stream",
     "text": [
      "RMSLE_Forest: 0.35298182229774855\n"
     ]
    }
   ],
   "source": [
    "print('RMSLE_Forest:', np.sqrt(mean_squared_log_error(y_test_Forest, y_pred_Forest)))"
   ]
  },
  {
   "cell_type": "code",
   "execution_count": null,
   "metadata": {},
   "outputs": [],
   "source": []
  },
  {
   "cell_type": "markdown",
   "metadata": {},
   "source": [
    "## ii)ExtraTreesRegressor"
   ]
  },
  {
   "cell_type": "code",
   "execution_count": 27,
   "metadata": {},
   "outputs": [],
   "source": [
    "from sklearn import model_selection\n",
    "from sklearn.ensemble import ExtraTreesRegressor"
   ]
  },
  {
   "cell_type": "markdown",
   "metadata": {},
   "source": [
    "GridSearchCV:"
   ]
  },
  {
   "cell_type": "code",
   "execution_count": 28,
   "metadata": {},
   "outputs": [],
   "source": [
    "# model_Tree = ensemble.ExtraTreesRegressor(n_jobs=-1, random_state=0)\n",
    "# parameters = {'n_estimators': [100, 200, 400, 800], 'max_depth': [5, 15, 25]}\n",
    "# mt_cv = GridSearchCV(model_Tree, parameters, cv=5, n_jobs=-1)\n",
    "# mt_cv.fit(X_train_Forest, y_train_Forest)\n",
    "\n",
    "# print (rf_cv.best_params_)\n",
    "\n",
    "# y_pred_Forest = mt_cv.predict(X_test_Forest)\n",
    "\n",
    "# print('RMSLE_Forest:', np.sqrt(mean_squared_log_error(y_test_Forest, y_pred_Forest)))"
   ]
  },
  {
   "cell_type": "markdown",
   "metadata": {},
   "source": [
    "GridSearchCV on ExtraTreesRegressor gave as best parameters:\n",
    "\n",
    "    {'max_depth': 15, 'n_estimators': 800}\n",
    "    \n",
    "and gave a score of:\n",
    "\n",
    "    0.3513426035169288"
   ]
  },
  {
   "cell_type": "code",
   "execution_count": null,
   "metadata": {},
   "outputs": [],
   "source": []
  },
  {
   "cell_type": "code",
   "execution_count": 29,
   "metadata": {},
   "outputs": [
    {
     "name": "stdout",
     "output_type": "stream",
     "text": [
      "RMSLE_Forest: 0.3509753298103063\n"
     ]
    }
   ],
   "source": [
    "from sklearn import ensemble\n",
    "model_Tree = ensemble.ExtraTreesRegressor(n_estimators = 800, max_depth = 15)\n",
    "reg_Tree = model_Tree\n",
    "model_Tree.fit(X_train_Forest, y_train_Forest)\n",
    "\n",
    "y_pred_Tree_CV = model_Tree.predict(X_test_Forest)\n",
    "\n",
    "print('RMSLE_Forest:', np.sqrt(mean_squared_log_error(y_test_Forest, y_pred_Tree_CV)))"
   ]
  },
  {
   "cell_type": "code",
   "execution_count": null,
   "metadata": {},
   "outputs": [],
   "source": []
  },
  {
   "cell_type": "markdown",
   "metadata": {},
   "source": [
    "# 2) MLP:"
   ]
  },
  {
   "cell_type": "markdown",
   "metadata": {},
   "source": [
    "## Initialize Feature"
   ]
  },
  {
   "cell_type": "markdown",
   "metadata": {},
   "source": [
    "Some data types need to be changed from numerical to categorical in order for the model to interpret better these variables:"
   ]
  },
  {
   "cell_type": "code",
   "execution_count": 31,
   "metadata": {},
   "outputs": [],
   "source": [
    "df_train['season'] = df_train.season.astype('category')\n",
    "df_train['year'] = df_train.year.astype('category')\n",
    "df_train['month'] = df_train.month.astype('category')\n",
    "df_train['hour'] = df_train.hour.astype('category')\n",
    "df_train['holiday'] = df_train.holiday.astype('category')\n",
    "df_train['weekday'] = df_train.weekday.astype('category')\n",
    "df_train['workingday'] = df_train.workingday.astype('category')\n",
    "df_train['weather'] = df_train.weather.astype('category')"
   ]
  },
  {
   "cell_type": "markdown",
   "metadata": {},
   "source": [
    "One hot encoding:"
   ]
  },
  {
   "cell_type": "code",
   "execution_count": 32,
   "metadata": {},
   "outputs": [],
   "source": [
    "df_train=pd.get_dummies(df_train)"
   ]
  },
  {
   "cell_type": "code",
   "execution_count": null,
   "metadata": {},
   "outputs": [],
   "source": []
  },
  {
   "cell_type": "markdown",
   "metadata": {},
   "source": [
    "## Useful Libriries:"
   ]
  },
  {
   "cell_type": "markdown",
   "metadata": {},
   "source": [
    "When a `Dropout` rate of 0.8 is suggested in a paper (retain 80%), this will, in fact, will be a dropout rate of 0.2 (set 20% of inputs to zero).\n",
    "\n",
    "Creating a dropout layer with a 50% chance of setting inputs to zero.(eg.model.add(Dropout(0.5)))"
   ]
  },
  {
   "cell_type": "code",
   "execution_count": 33,
   "metadata": {},
   "outputs": [],
   "source": [
    "from keras.layers import Dropout"
   ]
  },
  {
   "cell_type": "markdown",
   "metadata": {},
   "source": [
    "Layer `Noise`(eg. input layer => model.add(GaussianNoise(0.01, input_shape=(2,))))"
   ]
  },
  {
   "cell_type": "code",
   "execution_count": 34,
   "metadata": {},
   "outputs": [],
   "source": [
    "from keras.layers import GaussianNoise"
   ]
  },
  {
   "cell_type": "markdown",
   "metadata": {},
   "source": [
    "`Initializers` helps Initializations define the way to set the initial random weights of Keras layers."
   ]
  },
  {
   "cell_type": "code",
   "execution_count": 35,
   "metadata": {},
   "outputs": [],
   "source": [
    "from keras.initializers import RandomNormal"
   ]
  },
  {
   "cell_type": "markdown",
   "metadata": {},
   "source": [
    "`BatchNormalization`: \n",
    "\n",
    "Normalize the activations of the previous layer at each batch, i.e. applies a transformation that maintains the mean activation close to 0 and the activation standard deviation close to 1.\n",
    "\n",
    "https://keras.io/layers/normalization/?fbclid=IwAR2RTd4vyPaMXLPjh0qPyirb3fKumkw8vkUIDY-e7HjnRogCMIniLKhd__g\n",
    "\n",
    "Benefits of using BatchNormalization:\n",
    "\n",
    "- Networks train faster converge much more quickly.\n",
    "\n",
    "- Allows higher learning rates. Gradient descent usually requires small learning rates for the network to converge.\n",
    "\n",
    "- Makes weights easier to initialize\n",
    "\n",
    "- Makes more activation functions viable. Because batch normalization regulates the values going into each activation function, non-linearities that don't seem to work well in deep networks actually become viable again.\n",
    "\n",
    "- May give better results overall.\n",
    "\n",
    "https://www.dlology.com/blog/one-simple-trick-to-train-keras-model-faster-with-batch-normalization/?fbclid=IwAR2VngzpCyste4vS4qyhXuc93ZZWhTjj6svE_AXTwKZq5P6e6ur1wVnRl1E"
   ]
  },
  {
   "cell_type": "code",
   "execution_count": 36,
   "metadata": {},
   "outputs": [],
   "source": [
    "from keras.layers import BatchNormalization"
   ]
  },
  {
   "cell_type": "code",
   "execution_count": null,
   "metadata": {},
   "outputs": [],
   "source": []
  },
  {
   "cell_type": "markdown",
   "metadata": {},
   "source": [
    "`Optimizer` Adam - A Method for Stochastic Optimization\n",
    "\n",
    "e.g F(x)=((w*x)....W*X)\n",
    "\n",
    "    F'(x)=0\n",
    "    \n",
    "`learning rate`= how big is step to find minimum on gragh(=F(x)) => the solution"
   ]
  },
  {
   "cell_type": "code",
   "execution_count": 37,
   "metadata": {},
   "outputs": [],
   "source": [
    "from keras.optimizers import Adam"
   ]
  },
  {
   "cell_type": "code",
   "execution_count": 38,
   "metadata": {},
   "outputs": [],
   "source": [
    "from keras.optimizers import SGD\n",
    "from keras.regularizers import l2"
   ]
  },
  {
   "cell_type": "markdown",
   "metadata": {},
   "source": [
    "### Model"
   ]
  },
  {
   "cell_type": "code",
   "execution_count": 39,
   "metadata": {},
   "outputs": [],
   "source": [
    "y = df_train['count']\n",
    "#X = df_train[['temp', 'humidity','season_1','season_2','season_3','season_4','year_0','year_1','month_1','month_2','month_3','month_4','month_5','month_6','month_7','month_8','month_9','month_10','month_11','month_12','hour_0','hour_1','hour_2','hour_3','hour_4','hour_5','hour_6','hour_7','hour_8','hour_9','hour_10','hour_11','hour_12','hour_13','hour_14','hour_15','hour_16','hour_17','hour_18','hour_19','hour_20','hour_21','hour_22','hour_23','workingday_0','workingday_1','weather_1','weather_2','weather_3','weather_4','weekday_0','weekday_1','weekday_2','weekday_3','weekday_4','weekday_5','weekday_6','holiday_0','holiday_1' ]]\n",
    "X = df_train[['temp', 'humidity','season_1','season_2','season_3','season_4','year_0','year_1','month_1','month_2','month_3','month_4','month_5','month_6','month_7','month_8','month_9','month_10','month_11','month_12','hour_0','hour_1','hour_2','hour_3','hour_4','hour_5','hour_6','hour_7','hour_8','hour_9','hour_10','hour_11','hour_12','hour_13','hour_14','hour_15','hour_16','hour_17','hour_18','hour_19','hour_20','hour_21','hour_22','hour_23','weekday_0','weekday_1','weekday_2','weekday_3','weekday_4','weekday_5','weekday_6','weather_1','weather_2','weather_3','holiday_0','holiday_1']]\n",
    "\n",
    "\n",
    "X_train, X_test, y_train, y_test = train_test_split(X, y, test_size=0.2, random_state=42)"
   ]
  },
  {
   "cell_type": "code",
   "execution_count": null,
   "metadata": {},
   "outputs": [],
   "source": []
  },
  {
   "cell_type": "markdown",
   "metadata": {},
   "source": [
    "GridSearchCV:"
   ]
  },
  {
   "cell_type": "code",
   "execution_count": 40,
   "metadata": {},
   "outputs": [],
   "source": [
    "# # GridSearchCV for MLP \n",
    "\n",
    "# from keras.wrappers.scikit_learn import KerasRegressor\n",
    "\n",
    "# def create_model(neurons = 1, dropout_rate = 0.1, learning_rate=0.1, optimizer= 'Adam'):\n",
    "#     model = Sequential()\n",
    "#     model.add(Dense(neurons, input_dim=57, kernel_initializer=RandomNormal(mean=0.0, stddev=0.05, seed=12), use_bias = False))\n",
    "#     model.add(BatchNormalization())\n",
    "#     model.add(Activation('relu'))\n",
    "#     model.add(Dropout(dropout_rate))\n",
    "#     #model.add(Dense(80, use_bias = False))\n",
    "#     #model.add(Dense(40, use_bias = False))\n",
    "#     model.add(Dense(40, use_bias = False))\n",
    "#     model.add(Activation('relu'))\n",
    "#     model.add(Dense(1, activation='relu'))\n",
    "    \n",
    "#     model.compile(loss='mse', optimizer= 'adam', metrics=['mse','mae'])\n",
    "#     return model\n",
    "\n",
    "# batch_size = [32, 50, 60]\n",
    "# epochs = [50, 100]\n",
    "# # optimizer = ['Adam', 'Adamax', 'Nadam']\n",
    "# learning_rate = [0.008, 0.01]\n",
    "# #momentum\n",
    "# dropout_rate = [0.008, 0.01]\n",
    "# neurons = [120, 60]\n",
    "# parameters = {'batch_size': batch_size,\n",
    "#              'epochs': epochs,\n",
    "# #              'optimizer': optimizer,\n",
    "#              'dropout_rate': dropout_rate,\n",
    "#              'learning_rate': learning_rate,\n",
    "#              'neurons': neurons}\n",
    "\n",
    "\n",
    "# model_CV = KerasRegressor(create_model, verbose=0)\n",
    "\n",
    "# model_CV = GridSearchCV(model_CV, parameters, cv=5, n_jobs=-1)\n",
    "\n",
    "# model_CV.fit(X_train, y_train)\n",
    "\n",
    "# print (model_CV.best_params_)\n",
    "\n",
    "# y_pred_CV = model_CV.predict(X_test)\n",
    "\n",
    "# print('RMSLE_Forest:', np.sqrt(mean_squared_log_error(y_test, y_pred_CV)))"
   ]
  },
  {
   "cell_type": "markdown",
   "metadata": {},
   "source": [
    "GridSearchCV on modeal gave as best parameters:\n",
    "\n",
    "    {'batch_size': 60, 'dropout_rate': 0.01, 'epochs': 100, 'learning_rate': 0.008, 'neurons': 120}\n",
    "    \n",
    "and gave a score of:\n",
    "\n",
    "    0.8820762729223331"
   ]
  },
  {
   "cell_type": "code",
   "execution_count": null,
   "metadata": {},
   "outputs": [],
   "source": []
  },
  {
   "cell_type": "markdown",
   "metadata": {},
   "source": [
    "Make neurotic shape:"
   ]
  },
  {
   "cell_type": "code",
   "execution_count": 41,
   "metadata": {},
   "outputs": [
    {
     "name": "stdout",
     "output_type": "stream",
     "text": [
      "WARNING:tensorflow:From C:\\Users\\giann\\Anaconda3\\lib\\site-packages\\keras\\backend\\tensorflow_backend.py:74: The name tf.get_default_graph is deprecated. Please use tf.compat.v1.get_default_graph instead.\n",
      "\n",
      "WARNING:tensorflow:From C:\\Users\\giann\\Anaconda3\\lib\\site-packages\\keras\\backend\\tensorflow_backend.py:517: The name tf.placeholder is deprecated. Please use tf.compat.v1.placeholder instead.\n",
      "\n",
      "WARNING:tensorflow:From C:\\Users\\giann\\Anaconda3\\lib\\site-packages\\keras\\backend\\tensorflow_backend.py:4115: The name tf.random_normal is deprecated. Please use tf.random.normal instead.\n",
      "\n",
      "WARNING:tensorflow:From C:\\Users\\giann\\Anaconda3\\lib\\site-packages\\keras\\backend\\tensorflow_backend.py:133: The name tf.placeholder_with_default is deprecated. Please use tf.compat.v1.placeholder_with_default instead.\n",
      "\n",
      "WARNING:tensorflow:From C:\\Users\\giann\\Anaconda3\\lib\\site-packages\\keras\\backend\\tensorflow_backend.py:4138: The name tf.random_uniform is deprecated. Please use tf.random.uniform instead.\n",
      "\n",
      "_________________________________________________________________\n",
      "Layer (type)                 Output Shape              Param #   \n",
      "=================================================================\n",
      "dense_1 (Dense)              (None, 120)               6720      \n",
      "_________________________________________________________________\n",
      "batch_normalization_1 (Batch (None, 120)               480       \n",
      "_________________________________________________________________\n",
      "activation_1 (Activation)    (None, 120)               0         \n",
      "_________________________________________________________________\n",
      "dense_2 (Dense)              (None, 80)                9600      \n",
      "_________________________________________________________________\n",
      "batch_normalization_2 (Batch (None, 80)                320       \n",
      "_________________________________________________________________\n",
      "activation_2 (Activation)    (None, 80)                0         \n",
      "_________________________________________________________________\n",
      "dense_3 (Dense)              (None, 40)                3200      \n",
      "_________________________________________________________________\n",
      "batch_normalization_3 (Batch (None, 40)                160       \n",
      "_________________________________________________________________\n",
      "activation_3 (Activation)    (None, 40)                0         \n",
      "_________________________________________________________________\n",
      "dense_4 (Dense)              (None, 12)                480       \n",
      "_________________________________________________________________\n",
      "batch_normalization_4 (Batch (None, 12)                48        \n",
      "_________________________________________________________________\n",
      "activation_4 (Activation)    (None, 12)                0         \n",
      "_________________________________________________________________\n",
      "dense_5 (Dense)              (None, 1)                 13        \n",
      "=================================================================\n",
      "Total params: 21,021\n",
      "Trainable params: 20,517\n",
      "Non-trainable params: 504\n",
      "_________________________________________________________________\n"
     ]
    }
   ],
   "source": [
    "model = Sequential()\n",
    "\n",
    "model.add(Dense(120, input_dim=56, kernel_initializer=RandomNormal(mean=0.0, stddev=0.05, seed=12), use_bias = False))\n",
    "model.add(BatchNormalization())\n",
    "model.add(Activation(\"relu\"))\n",
    "\n",
    "model.add(Dense(80, use_bias = False))\n",
    "model.add(BatchNormalization())\n",
    "model.add(Activation(\"relu\"))\n",
    "\n",
    "model.add(Dense(40, use_bias = False))\n",
    "model.add(BatchNormalization())\n",
    "model.add(Activation(\"relu\"))\n",
    "\n",
    "model.add(Dense(12, use_bias = False))\n",
    "model.add(BatchNormalization())\n",
    "model.add(Activation(\"relu\"))\n",
    "\n",
    "model.add(Dense(1, activation='relu'))\n",
    "model.summary()"
   ]
  },
  {
   "cell_type": "markdown",
   "metadata": {},
   "source": [
    "`mse` = mean absolute error \n",
    "\n",
    "mse= $ \\frac{1}{n} \\mathbf{\\Sigma}_{x=1}^{n} (y(x)-t(x))^2$\n",
    "\n",
    "n= numerous examples (πλήθος παραδειγμάτων)"
   ]
  },
  {
   "cell_type": "markdown",
   "metadata": {},
   "source": [
    "help site:https://jupyter-notebook.readthedocs.io/en/stable/examples/Notebook/Typesetting%20Equations.html"
   ]
  },
  {
   "cell_type": "code",
   "execution_count": 42,
   "metadata": {},
   "outputs": [
    {
     "name": "stdout",
     "output_type": "stream",
     "text": [
      "WARNING:tensorflow:From C:\\Users\\giann\\Anaconda3\\lib\\site-packages\\keras\\optimizers.py:790: The name tf.train.Optimizer is deprecated. Please use tf.compat.v1.train.Optimizer instead.\n",
      "\n"
     ]
    }
   ],
   "source": [
    "model.compile(loss='mse', optimizer=Adam(lr= 0.008), metrics=['mse','mae'])"
   ]
  },
  {
   "cell_type": "code",
   "execution_count": null,
   "metadata": {},
   "outputs": [],
   "source": []
  },
  {
   "cell_type": "code",
   "execution_count": 43,
   "metadata": {
    "scrolled": true
   },
   "outputs": [
    {
     "name": "stdout",
     "output_type": "stream",
     "text": [
      "WARNING:tensorflow:From C:\\Users\\giann\\Anaconda3\\lib\\site-packages\\keras\\backend\\tensorflow_backend.py:986: The name tf.assign_add is deprecated. Please use tf.compat.v1.assign_add instead.\n",
      "\n",
      "WARNING:tensorflow:From C:\\Users\\giann\\Anaconda3\\lib\\site-packages\\keras\\backend\\tensorflow_backend.py:973: The name tf.assign is deprecated. Please use tf.compat.v1.assign instead.\n",
      "\n",
      "WARNING:tensorflow:From C:\\Users\\giann\\Anaconda3\\lib\\site-packages\\keras\\backend\\tensorflow_backend.py:2741: The name tf.Session is deprecated. Please use tf.compat.v1.Session instead.\n",
      "\n",
      "Train on 7672 samples, validate on 1919 samples\n",
      "Epoch 1/100\n",
      "WARNING:tensorflow:From C:\\Users\\giann\\Anaconda3\\lib\\site-packages\\keras\\backend\\tensorflow_backend.py:174: The name tf.get_default_session is deprecated. Please use tf.compat.v1.get_default_session instead.\n",
      "\n",
      "WARNING:tensorflow:From C:\\Users\\giann\\Anaconda3\\lib\\site-packages\\keras\\backend\\tensorflow_backend.py:181: The name tf.ConfigProto is deprecated. Please use tf.compat.v1.ConfigProto instead.\n",
      "\n",
      "WARNING:tensorflow:From C:\\Users\\giann\\Anaconda3\\lib\\site-packages\\keras\\backend\\tensorflow_backend.py:190: The name tf.global_variables is deprecated. Please use tf.compat.v1.global_variables instead.\n",
      "\n",
      "WARNING:tensorflow:From C:\\Users\\giann\\Anaconda3\\lib\\site-packages\\keras\\backend\\tensorflow_backend.py:199: The name tf.is_variable_initialized is deprecated. Please use tf.compat.v1.is_variable_initialized instead.\n",
      "\n",
      "WARNING:tensorflow:From C:\\Users\\giann\\Anaconda3\\lib\\site-packages\\keras\\backend\\tensorflow_backend.py:206: The name tf.variables_initializer is deprecated. Please use tf.compat.v1.variables_initializer instead.\n",
      "\n",
      "7672/7672 [==============================] - 4s 492us/step - loss: 53891.8898 - mean_squared_error: 53891.8898 - mean_absolute_error: 171.3590 - val_loss: 35366.3680 - val_mean_squared_error: 35366.3680 - val_mean_absolute_error: 140.6078\n",
      "Epoch 2/100\n",
      "7672/7672 [==============================] - 1s 97us/step - loss: 28782.8162 - mean_squared_error: 28782.8162 - mean_absolute_error: 124.8131 - val_loss: 5162.5055 - val_mean_squared_error: 5162.5055 - val_mean_absolute_error: 52.7595\n",
      "Epoch 3/100\n",
      "7672/7672 [==============================] - 1s 97us/step - loss: 6761.3269 - mean_squared_error: 6761.3269 - mean_absolute_error: 57.0881 - val_loss: 5796.3596 - val_mean_squared_error: 5796.3596 - val_mean_absolute_error: 49.2152\n",
      "Epoch 4/100\n",
      "7672/7672 [==============================] - 1s 101us/step - loss: 3116.9040 - mean_squared_error: 3116.9040 - mean_absolute_error: 37.9535 - val_loss: 3483.8257 - val_mean_squared_error: 3483.8257 - val_mean_absolute_error: 40.2861\n",
      "Epoch 5/100\n",
      "7672/7672 [==============================] - 1s 106us/step - loss: 2825.5030 - mean_squared_error: 2825.5030 - mean_absolute_error: 35.7483 - val_loss: 3048.5838 - val_mean_squared_error: 3048.5838 - val_mean_absolute_error: 36.6817\n",
      "Epoch 6/100\n",
      "7672/7672 [==============================] - 1s 173us/step - loss: 2559.4529 - mean_squared_error: 2559.4529 - mean_absolute_error: 33.8397 - val_loss: 2159.1288 - val_mean_squared_error: 2159.1288 - val_mean_absolute_error: 29.2329\n",
      "Epoch 7/100\n",
      "7672/7672 [==============================] - 1s 145us/step - loss: 2342.7528 - mean_squared_error: 2342.7528 - mean_absolute_error: 31.7849 - val_loss: 2472.8183 - val_mean_squared_error: 2472.8183 - val_mean_absolute_error: 31.2017\n",
      "Epoch 8/100\n",
      "7672/7672 [==============================] - 1s 132us/step - loss: 2228.5607 - mean_squared_error: 2228.5607 - mean_absolute_error: 31.4120 - val_loss: 2011.6204 - val_mean_squared_error: 2011.6204 - val_mean_absolute_error: 28.1749\n",
      "Epoch 9/100\n",
      "7672/7672 [==============================] - 1s 168us/step - loss: 2073.5188 - mean_squared_error: 2073.5188 - mean_absolute_error: 30.3003 - val_loss: 2099.1445 - val_mean_squared_error: 2099.1445 - val_mean_absolute_error: 28.2208\n",
      "Epoch 10/100\n",
      "7672/7672 [==============================] - 1s 106us/step - loss: 2096.1879 - mean_squared_error: 2096.1879 - mean_absolute_error: 30.5543 - val_loss: 2015.9177 - val_mean_squared_error: 2015.9177 - val_mean_absolute_error: 27.1665\n",
      "Epoch 11/100\n",
      "7672/7672 [==============================] - 1s 103us/step - loss: 2205.0097 - mean_squared_error: 2205.0097 - mean_absolute_error: 30.8877 - val_loss: 2528.4846 - val_mean_squared_error: 2528.4846 - val_mean_absolute_error: 30.9579\n",
      "Epoch 12/100\n",
      "7672/7672 [==============================] - 1s 130us/step - loss: 1941.1037 - mean_squared_error: 1941.1037 - mean_absolute_error: 29.1519 - val_loss: 1934.9153 - val_mean_squared_error: 1934.9153 - val_mean_absolute_error: 27.1866\n",
      "Epoch 13/100\n",
      "7672/7672 [==============================] - 1s 111us/step - loss: 1927.9660 - mean_squared_error: 1927.9660 - mean_absolute_error: 29.0216 - val_loss: 2133.5094 - val_mean_squared_error: 2133.5094 - val_mean_absolute_error: 29.3367\n",
      "Epoch 14/100\n",
      "7672/7672 [==============================] - 1s 106us/step - loss: 1959.7493 - mean_squared_error: 1959.7493 - mean_absolute_error: 29.5425 - val_loss: 1925.8067 - val_mean_squared_error: 1925.8067 - val_mean_absolute_error: 27.6960\n",
      "Epoch 15/100\n",
      "7672/7672 [==============================] - 1s 104us/step - loss: 1844.3993 - mean_squared_error: 1844.3993 - mean_absolute_error: 28.7203 - val_loss: 2042.2578 - val_mean_squared_error: 2042.2578 - val_mean_absolute_error: 27.7770\n",
      "Epoch 16/100\n",
      "7672/7672 [==============================] - 1s 100us/step - loss: 1887.3857 - mean_squared_error: 1887.3857 - mean_absolute_error: 28.7296 - val_loss: 1981.9479 - val_mean_squared_error: 1981.9479 - val_mean_absolute_error: 27.3226\n",
      "Epoch 17/100\n",
      "7672/7672 [==============================] - 1s 87us/step - loss: 1794.7999 - mean_squared_error: 1794.7999 - mean_absolute_error: 28.1870 - val_loss: 1914.8763 - val_mean_squared_error: 1914.8763 - val_mean_absolute_error: 26.6558\n",
      "Epoch 18/100\n",
      "7672/7672 [==============================] - 1s 86us/step - loss: 1846.1617 - mean_squared_error: 1846.1617 - mean_absolute_error: 28.4852 - val_loss: 2644.6029 - val_mean_squared_error: 2644.6029 - val_mean_absolute_error: 31.6657\n",
      "Epoch 19/100\n",
      "7672/7672 [==============================] - 1s 90us/step - loss: 1961.4876 - mean_squared_error: 1961.4876 - mean_absolute_error: 29.2714 - val_loss: 2166.8760 - val_mean_squared_error: 2166.8760 - val_mean_absolute_error: 28.7924\n",
      "Epoch 20/100\n",
      "7672/7672 [==============================] - 1s 89us/step - loss: 1854.5685 - mean_squared_error: 1854.5685 - mean_absolute_error: 29.0404 - val_loss: 1919.9386 - val_mean_squared_error: 1919.9386 - val_mean_absolute_error: 27.1081\n",
      "Epoch 21/100\n",
      "7672/7672 [==============================] - 1s 105us/step - loss: 1713.6565 - mean_squared_error: 1713.6565 - mean_absolute_error: 27.9254 - val_loss: 1807.1487 - val_mean_squared_error: 1807.1487 - val_mean_absolute_error: 26.1399\n",
      "Epoch 22/100\n",
      "7672/7672 [==============================] - 2s 197us/step - loss: 1750.5315 - mean_squared_error: 1750.5315 - mean_absolute_error: 27.9598 - val_loss: 1929.6042 - val_mean_squared_error: 1929.6042 - val_mean_absolute_error: 27.1760\n",
      "Epoch 23/100\n",
      "7672/7672 [==============================] - 1s 163us/step - loss: 1567.9748 - mean_squared_error: 1567.9748 - mean_absolute_error: 26.7912 - val_loss: 1867.0886 - val_mean_squared_error: 1867.0886 - val_mean_absolute_error: 26.7320\n",
      "Epoch 24/100\n",
      "7672/7672 [==============================] - 1s 195us/step - loss: 1637.4097 - mean_squared_error: 1637.4097 - mean_absolute_error: 27.1542 - val_loss: 1942.8168 - val_mean_squared_error: 1942.8168 - val_mean_absolute_error: 26.3782\n",
      "Epoch 25/100\n",
      "7672/7672 [==============================] - 1s 163us/step - loss: 1563.0035 - mean_squared_error: 1563.0035 - mean_absolute_error: 27.1970 - val_loss: 1783.8011 - val_mean_squared_error: 1783.8011 - val_mean_absolute_error: 25.5241\n",
      "Epoch 26/100\n",
      "7672/7672 [==============================] - 1s 172us/step - loss: 1497.6211 - mean_squared_error: 1497.6211 - mean_absolute_error: 26.3096 - val_loss: 1822.2943 - val_mean_squared_error: 1822.2943 - val_mean_absolute_error: 25.6689\n",
      "Epoch 27/100\n",
      "7672/7672 [==============================] - 1s 185us/step - loss: 1515.0929 - mean_squared_error: 1515.0929 - mean_absolute_error: 26.3216 - val_loss: 1904.0930 - val_mean_squared_error: 1904.0930 - val_mean_absolute_error: 26.4376\n"
     ]
    },
    {
     "name": "stdout",
     "output_type": "stream",
     "text": [
      "Epoch 28/100\n",
      "7672/7672 [==============================] - 1s 163us/step - loss: 1453.3982 - mean_squared_error: 1453.3982 - mean_absolute_error: 26.0644 - val_loss: 1904.4319 - val_mean_squared_error: 1904.4319 - val_mean_absolute_error: 27.2017\n",
      "Epoch 29/100\n",
      "7672/7672 [==============================] - 1s 140us/step - loss: 1368.2398 - mean_squared_error: 1368.2398 - mean_absolute_error: 25.1967 - val_loss: 1837.3431 - val_mean_squared_error: 1837.3431 - val_mean_absolute_error: 26.1543\n",
      "Epoch 30/100\n",
      "7672/7672 [==============================] - 1s 108us/step - loss: 1433.5600 - mean_squared_error: 1433.5600 - mean_absolute_error: 25.9757 - val_loss: 1861.9911 - val_mean_squared_error: 1861.9911 - val_mean_absolute_error: 26.4011\n",
      "Epoch 31/100\n",
      "7672/7672 [==============================] - 1s 88us/step - loss: 1402.4487 - mean_squared_error: 1402.4487 - mean_absolute_error: 25.4756 - val_loss: 1935.5811 - val_mean_squared_error: 1935.5811 - val_mean_absolute_error: 26.5832\n",
      "Epoch 32/100\n",
      "7672/7672 [==============================] - 1s 101us/step - loss: 1534.1979 - mean_squared_error: 1534.1979 - mean_absolute_error: 27.1185 - val_loss: 1781.1426 - val_mean_squared_error: 1781.1426 - val_mean_absolute_error: 25.6047\n",
      "Epoch 33/100\n",
      "7672/7672 [==============================] - 1s 185us/step - loss: 1373.7151 - mean_squared_error: 1373.7151 - mean_absolute_error: 25.4473 - val_loss: 2033.4966 - val_mean_squared_error: 2033.4966 - val_mean_absolute_error: 27.7570\n",
      "Epoch 34/100\n",
      "7672/7672 [==============================] - 1s 153us/step - loss: 1464.5231 - mean_squared_error: 1464.5231 - mean_absolute_error: 26.0058 - val_loss: 1989.6114 - val_mean_squared_error: 1989.6114 - val_mean_absolute_error: 26.7303\n",
      "Epoch 35/100\n",
      "7672/7672 [==============================] - 1s 141us/step - loss: 1397.0093 - mean_squared_error: 1397.0093 - mean_absolute_error: 25.4670 - val_loss: 1839.9984 - val_mean_squared_error: 1839.9984 - val_mean_absolute_error: 26.2033\n",
      "Epoch 36/100\n",
      "7672/7672 [==============================] - 1s 157us/step - loss: 1297.8949 - mean_squared_error: 1297.8949 - mean_absolute_error: 24.7048 - val_loss: 2224.6731 - val_mean_squared_error: 2224.6731 - val_mean_absolute_error: 28.9691\n",
      "Epoch 37/100\n",
      "7672/7672 [==============================] - 1s 126us/step - loss: 1244.0525 - mean_squared_error: 1244.0525 - mean_absolute_error: 24.5743 - val_loss: 1791.0857 - val_mean_squared_error: 1791.0857 - val_mean_absolute_error: 25.7062\n",
      "Epoch 38/100\n",
      "7672/7672 [==============================] - 1s 146us/step - loss: 1233.7655 - mean_squared_error: 1233.7655 - mean_absolute_error: 23.8131 - val_loss: 2315.6448 - val_mean_squared_error: 2315.6448 - val_mean_absolute_error: 29.5682\n",
      "Epoch 39/100\n",
      "7672/7672 [==============================] - 1s 130us/step - loss: 1276.9604 - mean_squared_error: 1276.9604 - mean_absolute_error: 24.4760 - val_loss: 1849.1370 - val_mean_squared_error: 1849.1370 - val_mean_absolute_error: 25.8536\n",
      "Epoch 40/100\n",
      "7672/7672 [==============================] - 1s 154us/step - loss: 1198.8257 - mean_squared_error: 1198.8257 - mean_absolute_error: 23.9984 - val_loss: 1857.8304 - val_mean_squared_error: 1857.8304 - val_mean_absolute_error: 25.9127\n",
      "Epoch 41/100\n",
      "7672/7672 [==============================] - 1s 154us/step - loss: 1214.4285 - mean_squared_error: 1214.4285 - mean_absolute_error: 23.9947 - val_loss: 1966.4383 - val_mean_squared_error: 1966.4383 - val_mean_absolute_error: 26.5145\n",
      "Epoch 42/100\n",
      "7672/7672 [==============================] - 1s 137us/step - loss: 1251.0165 - mean_squared_error: 1251.0165 - mean_absolute_error: 24.2095 - val_loss: 2053.8168 - val_mean_squared_error: 2053.8168 - val_mean_absolute_error: 27.4824\n",
      "Epoch 43/100\n",
      "7672/7672 [==============================] - 1s 149us/step - loss: 1226.7500 - mean_squared_error: 1226.7500 - mean_absolute_error: 23.7355 - val_loss: 2009.6144 - val_mean_squared_error: 2009.6144 - val_mean_absolute_error: 28.2918\n",
      "Epoch 44/100\n",
      "7672/7672 [==============================] - 1s 136us/step - loss: 1282.3250 - mean_squared_error: 1282.3250 - mean_absolute_error: 24.7375 - val_loss: 1907.1738 - val_mean_squared_error: 1907.1738 - val_mean_absolute_error: 26.3467\n",
      "Epoch 45/100\n",
      "7672/7672 [==============================] - 1s 148us/step - loss: 1179.4470 - mean_squared_error: 1179.4470 - mean_absolute_error: 23.2951 - val_loss: 1872.7802 - val_mean_squared_error: 1872.7802 - val_mean_absolute_error: 26.1831\n",
      "Epoch 46/100\n",
      "7672/7672 [==============================] - 1s 132us/step - loss: 1138.5703 - mean_squared_error: 1138.5703 - mean_absolute_error: 22.9067 - val_loss: 1878.8401 - val_mean_squared_error: 1878.8401 - val_mean_absolute_error: 25.8939\n",
      "Epoch 47/100\n",
      "7672/7672 [==============================] - 1s 152us/step - loss: 1158.1793 - mean_squared_error: 1158.1793 - mean_absolute_error: 23.5014 - val_loss: 1820.0039 - val_mean_squared_error: 1820.0039 - val_mean_absolute_error: 25.4803\n",
      "Epoch 48/100\n",
      "7672/7672 [==============================] - 1s 149us/step - loss: 1176.5698 - mean_squared_error: 1176.5698 - mean_absolute_error: 23.5613 - val_loss: 1873.6323 - val_mean_squared_error: 1873.6323 - val_mean_absolute_error: 25.8690\n",
      "Epoch 49/100\n",
      "7672/7672 [==============================] - 1s 117us/step - loss: 1166.0797 - mean_squared_error: 1166.0797 - mean_absolute_error: 23.0956 - val_loss: 2096.6110 - val_mean_squared_error: 2096.6110 - val_mean_absolute_error: 27.8707\n",
      "Epoch 50/100\n",
      "7672/7672 [==============================] - 1s 157us/step - loss: 1120.4336 - mean_squared_error: 1120.4336 - mean_absolute_error: 22.9915 - val_loss: 1791.0995 - val_mean_squared_error: 1791.0995 - val_mean_absolute_error: 25.6220\n",
      "Epoch 51/100\n",
      "7672/7672 [==============================] - 1s 140us/step - loss: 1077.3263 - mean_squared_error: 1077.3263 - mean_absolute_error: 22.5081 - val_loss: 1816.3355 - val_mean_squared_error: 1816.3355 - val_mean_absolute_error: 25.6839\n",
      "Epoch 52/100\n",
      "7672/7672 [==============================] - 1s 144us/step - loss: 1066.2163 - mean_squared_error: 1066.2163 - mean_absolute_error: 22.0909 - val_loss: 1774.1808 - val_mean_squared_error: 1774.1808 - val_mean_absolute_error: 25.5432\n",
      "Epoch 53/100\n",
      "7672/7672 [==============================] - 2s 267us/step - loss: 1104.4635 - mean_squared_error: 1104.4635 - mean_absolute_error: 22.7562 - val_loss: 1745.3801 - val_mean_squared_error: 1745.3801 - val_mean_absolute_error: 25.2274\n",
      "Epoch 54/100\n",
      "7672/7672 [==============================] - 3s 424us/step - loss: 1070.6992 - mean_squared_error: 1070.6992 - mean_absolute_error: 22.3865 - val_loss: 1870.2532 - val_mean_squared_error: 1870.2532 - val_mean_absolute_error: 26.2130\n",
      "Epoch 55/100\n",
      "7672/7672 [==============================] - 2s 224us/step - loss: 1043.2894 - mean_squared_error: 1043.2894 - mean_absolute_error: 22.1567 - val_loss: 2064.0569 - val_mean_squared_error: 2064.0569 - val_mean_absolute_error: 27.0551\n",
      "Epoch 56/100\n",
      "7672/7672 [==============================] - 1s 117us/step - loss: 993.6241 - mean_squared_error: 993.6241 - mean_absolute_error: 21.6565 - val_loss: 2023.4434 - val_mean_squared_error: 2023.4434 - val_mean_absolute_error: 27.2957\n",
      "Epoch 57/100\n",
      "7672/7672 [==============================] - 1s 97us/step - loss: 1058.1891 - mean_squared_error: 1058.1891 - mean_absolute_error: 22.1256 - val_loss: 2192.8020 - val_mean_squared_error: 2192.8020 - val_mean_absolute_error: 27.8738\n",
      "Epoch 58/100\n",
      "7672/7672 [==============================] - 1s 110us/step - loss: 1058.5477 - mean_squared_error: 1058.5477 - mean_absolute_error: 22.3891 - val_loss: 2114.5804 - val_mean_squared_error: 2114.5804 - val_mean_absolute_error: 27.7884\n",
      "Epoch 59/100\n",
      "7672/7672 [==============================] - 3s 447us/step - loss: 998.8821 - mean_squared_error: 998.8821 - mean_absolute_error: 21.7011 - val_loss: 1869.3441 - val_mean_squared_error: 1869.3441 - val_mean_absolute_error: 25.5327\n",
      "Epoch 60/100\n",
      "7672/7672 [==============================] - 2s 284us/step - loss: 999.7532 - mean_squared_error: 999.7532 - mean_absolute_error: 21.7000 - val_loss: 1752.9003 - val_mean_squared_error: 1752.9003 - val_mean_absolute_error: 25.1819\n",
      "Epoch 61/100\n",
      "7672/7672 [==============================] - 1s 95us/step - loss: 1013.7608 - mean_squared_error: 1013.7608 - mean_absolute_error: 21.8400 - val_loss: 1856.8178 - val_mean_squared_error: 1856.8178 - val_mean_absolute_error: 26.5586\n",
      "Epoch 62/100\n",
      "7672/7672 [==============================] - 1s 160us/step - loss: 995.7997 - mean_squared_error: 995.7997 - mean_absolute_error: 21.5357 - val_loss: 1797.2708 - val_mean_squared_error: 1797.2708 - val_mean_absolute_error: 25.8256\n",
      "Epoch 63/100\n",
      "7672/7672 [==============================] - 2s 236us/step - loss: 970.4215 - mean_squared_error: 970.4215 - mean_absolute_error: 21.5531 - val_loss: 1771.7866 - val_mean_squared_error: 1771.7866 - val_mean_absolute_error: 25.9292\n",
      "Epoch 64/100\n",
      "7672/7672 [==============================] - 2s 280us/step - loss: 1017.5277 - mean_squared_error: 1017.5277 - mean_absolute_error: 21.9392 - val_loss: 1819.3169 - val_mean_squared_error: 1819.3169 - val_mean_absolute_error: 26.3789\n",
      "Epoch 65/100\n",
      "7672/7672 [==============================] - 2s 258us/step - loss: 1095.5141 - mean_squared_error: 1095.5141 - mean_absolute_error: 22.5189 - val_loss: 1762.4024 - val_mean_squared_error: 1762.4024 - val_mean_absolute_error: 25.2581\n",
      "Epoch 66/100\n",
      "7672/7672 [==============================] - 1s 179us/step - loss: 991.6026 - mean_squared_error: 991.6026 - mean_absolute_error: 21.7364 - val_loss: 1840.8913 - val_mean_squared_error: 1840.8913 - val_mean_absolute_error: 25.6963\n",
      "Epoch 67/100\n",
      "7672/7672 [==============================] - 1s 122us/step - loss: 1020.5118 - mean_squared_error: 1020.5118 - mean_absolute_error: 21.6258 - val_loss: 1907.7923 - val_mean_squared_error: 1907.7923 - val_mean_absolute_error: 26.5719\n",
      "Epoch 68/100\n",
      "7672/7672 [==============================] - 1s 105us/step - loss: 995.0344 - mean_squared_error: 995.0344 - mean_absolute_error: 21.9411 - val_loss: 1798.3443 - val_mean_squared_error: 1798.3443 - val_mean_absolute_error: 25.7860\n",
      "Epoch 69/100\n",
      "7672/7672 [==============================] - 1s 146us/step - loss: 966.5689 - mean_squared_error: 966.5689 - mean_absolute_error: 21.3536 - val_loss: 1852.3963 - val_mean_squared_error: 1852.3963 - val_mean_absolute_error: 25.6150\n",
      "Epoch 70/100\n",
      "7672/7672 [==============================] - 1s 96us/step - loss: 923.8945 - mean_squared_error: 923.8945 - mean_absolute_error: 20.6803 - val_loss: 1781.9081 - val_mean_squared_error: 1781.9081 - val_mean_absolute_error: 25.1277\n",
      "Epoch 71/100\n",
      "7672/7672 [==============================] - 1s 89us/step - loss: 900.4702 - mean_squared_error: 900.4702 - mean_absolute_error: 20.5732 - val_loss: 1754.2730 - val_mean_squared_error: 1754.2730 - val_mean_absolute_error: 25.2733\n",
      "Epoch 72/100\n",
      "7672/7672 [==============================] - 1s 91us/step - loss: 999.2800 - mean_squared_error: 999.2800 - mean_absolute_error: 21.8454 - val_loss: 1859.6800 - val_mean_squared_error: 1859.6800 - val_mean_absolute_error: 26.2964\n",
      "Epoch 73/100\n",
      "7672/7672 [==============================] - 1s 92us/step - loss: 925.4779 - mean_squared_error: 925.4779 - mean_absolute_error: 20.7306 - val_loss: 1764.6559 - val_mean_squared_error: 1764.6559 - val_mean_absolute_error: 25.2355\n",
      "Epoch 74/100\n",
      "7672/7672 [==============================] - 1s 98us/step - loss: 939.2333 - mean_squared_error: 939.2333 - mean_absolute_error: 20.7972 - val_loss: 2082.9252 - val_mean_squared_error: 2082.9252 - val_mean_absolute_error: 27.1395\n",
      "Epoch 75/100\n",
      "7672/7672 [==============================] - 1s 114us/step - loss: 920.3414 - mean_squared_error: 920.3414 - mean_absolute_error: 20.9619 - val_loss: 1813.4120 - val_mean_squared_error: 1813.4120 - val_mean_absolute_error: 25.7674\n",
      "Epoch 76/100\n",
      "7672/7672 [==============================] - 1s 96us/step - loss: 876.3466 - mean_squared_error: 876.3466 - mean_absolute_error: 20.4764 - val_loss: 2030.6660 - val_mean_squared_error: 2030.6660 - val_mean_absolute_error: 27.7095\n",
      "Epoch 77/100\n",
      "7672/7672 [==============================] - 1s 162us/step - loss: 950.0880 - mean_squared_error: 950.0880 - mean_absolute_error: 20.9241 - val_loss: 2244.9254 - val_mean_squared_error: 2244.9254 - val_mean_absolute_error: 28.9037\n",
      "Epoch 78/100\n",
      "7672/7672 [==============================] - 1s 128us/step - loss: 939.3933 - mean_squared_error: 939.3933 - mean_absolute_error: 20.9967 - val_loss: 1847.6115 - val_mean_squared_error: 1847.6115 - val_mean_absolute_error: 25.3600\n",
      "Epoch 79/100\n",
      "7672/7672 [==============================] - 1s 144us/step - loss: 867.3092 - mean_squared_error: 867.3092 - mean_absolute_error: 20.3732 - val_loss: 1951.5956 - val_mean_squared_error: 1951.5956 - val_mean_absolute_error: 26.5669\n",
      "Epoch 80/100\n",
      "7672/7672 [==============================] - 1s 129us/step - loss: 832.1325 - mean_squared_error: 832.1325 - mean_absolute_error: 19.6536 - val_loss: 2555.7693 - val_mean_squared_error: 2555.7693 - val_mean_absolute_error: 30.7963\n",
      "Epoch 81/100\n",
      "7672/7672 [==============================] - 1s 121us/step - loss: 969.2588 - mean_squared_error: 969.2588 - mean_absolute_error: 21.5105 - val_loss: 1813.2460 - val_mean_squared_error: 1813.2460 - val_mean_absolute_error: 25.8534\n",
      "Epoch 82/100\n",
      "7672/7672 [==============================] - 1s 95us/step - loss: 943.9038 - mean_squared_error: 943.9038 - mean_absolute_error: 21.2078 - val_loss: 1997.3863 - val_mean_squared_error: 1997.3863 - val_mean_absolute_error: 26.8831\n",
      "Epoch 83/100\n",
      "7672/7672 [==============================] - 1s 126us/step - loss: 894.9573 - mean_squared_error: 894.9573 - mean_absolute_error: 20.7904 - val_loss: 1824.3710 - val_mean_squared_error: 1824.3710 - val_mean_absolute_error: 25.8825\n",
      "Epoch 84/100\n",
      "7672/7672 [==============================] - 1s 111us/step - loss: 880.5735 - mean_squared_error: 880.5735 - mean_absolute_error: 20.2785 - val_loss: 1820.3624 - val_mean_squared_error: 1820.3624 - val_mean_absolute_error: 25.8923\n",
      "Epoch 85/100\n",
      "7672/7672 [==============================] - 1s 94us/step - loss: 914.3579 - mean_squared_error: 914.3579 - mean_absolute_error: 20.6396 - val_loss: 1940.2445 - val_mean_squared_error: 1940.2445 - val_mean_absolute_error: 26.7548\n",
      "Epoch 86/100\n",
      "7672/7672 [==============================] - 1s 123us/step - loss: 820.6714 - mean_squared_error: 820.6714 - mean_absolute_error: 19.8664 - val_loss: 1812.8486 - val_mean_squared_error: 1812.8486 - val_mean_absolute_error: 25.4744\n",
      "Epoch 87/100\n",
      "7672/7672 [==============================] - 1s 121us/step - loss: 860.5693 - mean_squared_error: 860.5693 - mean_absolute_error: 20.0606 - val_loss: 1773.3606 - val_mean_squared_error: 1773.3606 - val_mean_absolute_error: 25.1790\n",
      "Epoch 88/100\n",
      "7672/7672 [==============================] - 1s 94us/step - loss: 835.0671 - mean_squared_error: 835.0671 - mean_absolute_error: 19.7510 - val_loss: 1779.9758 - val_mean_squared_error: 1779.9758 - val_mean_absolute_error: 25.3060\n",
      "Epoch 89/100\n",
      "7672/7672 [==============================] - 1s 112us/step - loss: 912.5007 - mean_squared_error: 912.5007 - mean_absolute_error: 20.8461 - val_loss: 1878.5936 - val_mean_squared_error: 1878.5936 - val_mean_absolute_error: 26.0296\n",
      "Epoch 90/100\n",
      "7672/7672 [==============================] - 1s 111us/step - loss: 936.9566 - mean_squared_error: 936.9566 - mean_absolute_error: 21.0969 - val_loss: 2248.0259 - val_mean_squared_error: 2248.0259 - val_mean_absolute_error: 28.6050\n",
      "Epoch 91/100\n",
      "7672/7672 [==============================] - 1s 95us/step - loss: 882.5664 - mean_squared_error: 882.5664 - mean_absolute_error: 20.4976 - val_loss: 2258.6448 - val_mean_squared_error: 2258.6448 - val_mean_absolute_error: 28.8296\n",
      "Epoch 92/100\n",
      "7672/7672 [==============================] - 1s 101us/step - loss: 845.1398 - mean_squared_error: 845.1398 - mean_absolute_error: 20.0298 - val_loss: 2068.2597 - val_mean_squared_error: 2068.2597 - val_mean_absolute_error: 27.4198\n",
      "Epoch 93/100\n",
      "7672/7672 [==============================] - 1s 122us/step - loss: 839.6827 - mean_squared_error: 839.6827 - mean_absolute_error: 19.7661 - val_loss: 1864.7096 - val_mean_squared_error: 1864.7096 - val_mean_absolute_error: 26.2249\n",
      "Epoch 94/100\n",
      "7672/7672 [==============================] - 1s 93us/step - loss: 844.2395 - mean_squared_error: 844.2395 - mean_absolute_error: 19.8256 - val_loss: 1951.9261 - val_mean_squared_error: 1951.9261 - val_mean_absolute_error: 25.8792\n"
     ]
    },
    {
     "name": "stdout",
     "output_type": "stream",
     "text": [
      "Epoch 95/100\n",
      "7672/7672 [==============================] - 1s 91us/step - loss: 802.6415 - mean_squared_error: 802.6415 - mean_absolute_error: 19.5752 - val_loss: 1834.3888 - val_mean_squared_error: 1834.3888 - val_mean_absolute_error: 25.4531\n",
      "Epoch 96/100\n",
      "7672/7672 [==============================] - 1s 87us/step - loss: 846.0103 - mean_squared_error: 846.0103 - mean_absolute_error: 19.9658 - val_loss: 1845.9664 - val_mean_squared_error: 1845.9664 - val_mean_absolute_error: 25.4394\n",
      "Epoch 97/100\n",
      "7672/7672 [==============================] - 1s 92us/step - loss: 857.8785 - mean_squared_error: 857.8785 - mean_absolute_error: 20.0393 - val_loss: 1793.6808 - val_mean_squared_error: 1793.6808 - val_mean_absolute_error: 25.5763\n",
      "Epoch 98/100\n",
      "7672/7672 [==============================] - 1s 92us/step - loss: 829.6402 - mean_squared_error: 829.6402 - mean_absolute_error: 20.0697 - val_loss: 1915.3023 - val_mean_squared_error: 1915.3023 - val_mean_absolute_error: 26.3122\n",
      "Epoch 99/100\n",
      "7672/7672 [==============================] - 1s 108us/step - loss: 899.2895 - mean_squared_error: 899.2895 - mean_absolute_error: 20.7479 - val_loss: 1757.0438 - val_mean_squared_error: 1757.0438 - val_mean_absolute_error: 25.2835\n",
      "Epoch 100/100\n",
      "7672/7672 [==============================] - 1s 110us/step - loss: 786.6428 - mean_squared_error: 786.6428 - mean_absolute_error: 19.3799 - val_loss: 1771.4046 - val_mean_squared_error: 1771.4046 - val_mean_absolute_error: 25.5897\n"
     ]
    }
   ],
   "source": [
    "history = model.fit(X_train, y_train, epochs=100, batch_size=60,  verbose=1, validation_split=0.2)"
   ]
  },
  {
   "cell_type": "code",
   "execution_count": 44,
   "metadata": {},
   "outputs": [
    {
     "name": "stdout",
     "output_type": "stream",
     "text": [
      "dict_keys(['val_loss', 'val_mean_squared_error', 'val_mean_absolute_error', 'loss', 'mean_squared_error', 'mean_absolute_error'])\n"
     ]
    },
    {
     "data": {
      "image/png": "[encoded data removed]",
      "text/plain": [
       "<Figure size 432x288 with 1 Axes>"
      ]
     },
     "metadata": {
      "needs_background": "light"
     },
     "output_type": "display_data"
    }
   ],
   "source": [
    "print(history.history.keys())\n",
    "# \"Loss\"\n",
    "plt.plot(history.history['loss'])\n",
    "plt.plot(history.history['val_loss'])\n",
    "plt.title('model loss')\n",
    "plt.ylabel('loss')\n",
    "plt.xlabel('epoch')\n",
    "plt.legend(['train', 'validation'], loc='upper left')\n",
    "plt.show()"
   ]
  },
  {
   "cell_type": "code",
   "execution_count": 45,
   "metadata": {},
   "outputs": [],
   "source": [
    "y_pred = model.predict(X_test)"
   ]
  },
  {
   "cell_type": "code",
   "execution_count": 46,
   "metadata": {},
   "outputs": [
    {
     "name": "stdout",
     "output_type": "stream",
     "text": [
      "RMSLE: 0.3847776469305781\n"
     ]
    }
   ],
   "source": [
    "print('RMSLE:', np.sqrt(mean_squared_log_error(y_test, y_pred)))"
   ]
  },
  {
   "cell_type": "code",
   "execution_count": null,
   "metadata": {},
   "outputs": [],
   "source": []
  },
  {
   "cell_type": "markdown",
   "metadata": {},
   "source": [
    "### Split Dataset and make multiple Models:"
   ]
  },
  {
   "cell_type": "markdown",
   "metadata": {},
   "source": [
    "#### K-Fold\n",
    "\n",
    "https://towardsdatascience.com/why-and-how-to-cross-validate-a-model-d6424b45261f"
   ]
  },
  {
   "cell_type": "markdown",
   "metadata": {},
   "source": [
    "![title](K-fold.png)"
   ]
  },
  {
   "cell_type": "markdown",
   "metadata": {},
   "source": [
    "It has method `sklearn.model_selection.KFold`, but we do hardcode."
   ]
  },
  {
   "cell_type": "code",
   "execution_count": null,
   "metadata": {},
   "outputs": [],
   "source": []
  },
  {
   "cell_type": "markdown",
   "metadata": {},
   "source": [
    "Split all df_train in 5 sets which a set has 20% of data(tuples):"
   ]
  },
  {
   "cell_type": "code",
   "execution_count": 47,
   "metadata": {},
   "outputs": [],
   "source": [
    "start=0\n",
    "temp                = int(2*(df_train.shape[0]/10))\n",
    "to=temp\n",
    "#print(to)\n",
    "train_part_1    = df_train[start:to][:]\n",
    "#print(train_part_1) \n",
    "\n",
    "start=to\n",
    "to+=temp\n",
    "train_part_2    = df_train[start:to][:] \n",
    "\n",
    "start=to\n",
    "to+=temp\n",
    "train_part_3    = df_train[start:to][:]\n",
    "start=to\n",
    "to+=temp\n",
    "train_part_4    = df_train[start:to][:] \n",
    "\n",
    "start=to\n",
    "to+=temp\n",
    "train_part_5    = df_train[start:to][:]\n",
    " "
   ]
  },
  {
   "cell_type": "code",
   "execution_count": null,
   "metadata": {},
   "outputs": [],
   "source": []
  },
  {
   "cell_type": "markdown",
   "metadata": {},
   "source": [
    "#### Model 1"
   ]
  },
  {
   "cell_type": "markdown",
   "metadata": {},
   "source": [
    "Take set 2,3,4,5 for train and set 1 for test:"
   ]
  },
  {
   "cell_type": "markdown",
   "metadata": {},
   "source": [
    " `concat()` train_parts which are pandas dataFrames \n",
    " \n",
    " https://pandas.pydata.org/pandas-docs/stable/user_guide/merging.html\n",
    " "
   ]
  },
  {
   "cell_type": "code",
   "execution_count": 48,
   "metadata": {},
   "outputs": [],
   "source": [
    "temp1 = [train_part_2, train_part_3, train_part_4, train_part_5]\n",
    "train_model_1 = pd.concat(temp1)\n",
    "\n",
    "temp1 = [train_part_1]\n",
    "test_model_1 = pd.concat(temp1)"
   ]
  },
  {
   "cell_type": "code",
   "execution_count": null,
   "metadata": {},
   "outputs": [],
   "source": []
  },
  {
   "cell_type": "code",
   "execution_count": 49,
   "metadata": {},
   "outputs": [],
   "source": [
    "y_train_model_1 = train_model_1['count']\n",
    "X_train_model_1 = train_model_1[['temp', 'humidity','season_1','season_2','season_3','season_4','year_0','year_1','month_1','month_2','month_3','month_4','month_5','month_6','month_7','month_8','month_9','month_10','month_11','month_12','hour_0','hour_1','hour_2','hour_3','hour_4','hour_5','hour_6','hour_7','hour_8','hour_9','hour_10','hour_11','hour_12','hour_13','hour_14','hour_15','hour_16','hour_17','hour_18','hour_19','hour_20','hour_21','hour_22','hour_23','weekday_0','weekday_1','weekday_2','weekday_3','weekday_4','weekday_5','weekday_6','weather_1','weather_2','weather_3','holiday_0','holiday_1']]"
   ]
  },
  {
   "cell_type": "code",
   "execution_count": 50,
   "metadata": {},
   "outputs": [],
   "source": [
    "y_test_model_1 = test_model_1['count']\n",
    "X_test_model_1 = test_model_1[['temp', 'humidity','season_1','season_2','season_3','season_4','year_0','year_1','month_1','month_2','month_3','month_4','month_5','month_6','month_7','month_8','month_9','month_10','month_11','month_12','hour_0','hour_1','hour_2','hour_3','hour_4','hour_5','hour_6','hour_7','hour_8','hour_9','hour_10','hour_11','hour_12','hour_13','hour_14','hour_15','hour_16','hour_17','hour_18','hour_19','hour_20','hour_21','hour_22','hour_23','weekday_0','weekday_1','weekday_2','weekday_3','weekday_4','weekday_5','weekday_6','weather_1','weather_2','weather_3','holiday_0','holiday_1']]"
   ]
  },
  {
   "cell_type": "code",
   "execution_count": null,
   "metadata": {},
   "outputs": [],
   "source": []
  },
  {
   "cell_type": "code",
   "execution_count": 51,
   "metadata": {},
   "outputs": [
    {
     "data": {
      "text/plain": [
       "(9588, 56)"
      ]
     },
     "execution_count": 51,
     "metadata": {},
     "output_type": "execute_result"
    }
   ],
   "source": [
    "X_train_model_1.shape"
   ]
  },
  {
   "cell_type": "code",
   "execution_count": 52,
   "metadata": {},
   "outputs": [
    {
     "data": {
      "text/plain": [
       "(2397, 56)"
      ]
     },
     "execution_count": 52,
     "metadata": {},
     "output_type": "execute_result"
    }
   ],
   "source": [
    "X_test_model_1.shape"
   ]
  },
  {
   "cell_type": "code",
   "execution_count": null,
   "metadata": {},
   "outputs": [],
   "source": []
  },
  {
   "cell_type": "markdown",
   "metadata": {},
   "source": [
    "Make neurotic shape:"
   ]
  },
  {
   "cell_type": "code",
   "execution_count": 53,
   "metadata": {},
   "outputs": [
    {
     "name": "stdout",
     "output_type": "stream",
     "text": [
      "WARNING:tensorflow:From C:\\Users\\giann\\Anaconda3\\lib\\site-packages\\keras\\backend\\tensorflow_backend.py:3445: calling dropout (from tensorflow.python.ops.nn_ops) with keep_prob is deprecated and will be removed in a future version.\n",
      "Instructions for updating:\n",
      "Please use `rate` instead of `keep_prob`. Rate should be set to `rate = 1 - keep_prob`.\n",
      "_________________________________________________________________\n",
      "Layer (type)                 Output Shape              Param #   \n",
      "=================================================================\n",
      "dense_6 (Dense)              (None, 120)               6720      \n",
      "_________________________________________________________________\n",
      "batch_normalization_5 (Batch (None, 120)               480       \n",
      "_________________________________________________________________\n",
      "activation_5 (Activation)    (None, 120)               0         \n",
      "_________________________________________________________________\n",
      "gaussian_noise_1 (GaussianNo (None, 120)               0         \n",
      "_________________________________________________________________\n",
      "dropout_1 (Dropout)          (None, 120)               0         \n",
      "_________________________________________________________________\n",
      "dense_7 (Dense)              (None, 80)                9600      \n",
      "_________________________________________________________________\n",
      "batch_normalization_6 (Batch (None, 80)                320       \n",
      "_________________________________________________________________\n",
      "activation_6 (Activation)    (None, 80)                0         \n",
      "_________________________________________________________________\n",
      "dense_8 (Dense)              (None, 40)                3200      \n",
      "_________________________________________________________________\n",
      "batch_normalization_7 (Batch (None, 40)                160       \n",
      "_________________________________________________________________\n",
      "activation_7 (Activation)    (None, 40)                0         \n",
      "_________________________________________________________________\n",
      "dense_9 (Dense)              (None, 12)                480       \n",
      "_________________________________________________________________\n",
      "batch_normalization_8 (Batch (None, 12)                48        \n",
      "_________________________________________________________________\n",
      "activation_8 (Activation)    (None, 12)                0         \n",
      "_________________________________________________________________\n",
      "dense_10 (Dense)             (None, 1)                 13        \n",
      "=================================================================\n",
      "Total params: 21,021\n",
      "Trainable params: 20,517\n",
      "Non-trainable params: 504\n",
      "_________________________________________________________________\n"
     ]
    }
   ],
   "source": [
    "model_Split_1 = Sequential()\n",
    "#model.add(Dense(120, input_dim=35, kernel_initializer='normal', activation='relu'))\n",
    "\n",
    "#model.add(GaussianNoise(0.01, input_shape=(59,)))\n",
    "#model.add(Dense(120, activation='relu'))\n",
    "\n",
    "model_Split_1.add(Dense(120, input_dim=56, kernel_initializer=RandomNormal(mean=0.0, stddev=0.05, seed=12), use_bias = False))\n",
    "model_Split_1.add(BatchNormalization())\n",
    "model_Split_1.add(Activation('relu'))\n",
    "model_Split_1.add(GaussianNoise(0.01))\n",
    "model_Split_1.add(Dropout(0.01))\n",
    "\n",
    "model_Split_1.add(Dense(80, use_bias = False))\n",
    "model_Split_1.add(BatchNormalization())\n",
    "model_Split_1.add(Activation('relu'))\n",
    "\n",
    "#model.add(Dropout(0.1))\n",
    "\n",
    "model_Split_1.add(Dense(40, use_bias = False))\n",
    "model_Split_1.add(BatchNormalization())\n",
    "model_Split_1.add(Activation('relu'))\n",
    "\n",
    "model_Split_1.add(Dense(12, use_bias = False))\n",
    "model_Split_1.add(BatchNormalization())\n",
    "model_Split_1.add(Activation('relu'))\n",
    "\n",
    "model_Split_1.add(Dense(1, activation='relu'))\n",
    "model_Split_1.summary()"
   ]
  },
  {
   "cell_type": "code",
   "execution_count": 54,
   "metadata": {},
   "outputs": [],
   "source": [
    "model_Split_1.compile(loss='mse', optimizer=Adam(lr= 0.008), metrics=['mse','mae'])"
   ]
  },
  {
   "cell_type": "code",
   "execution_count": null,
   "metadata": {},
   "outputs": [],
   "source": []
  },
  {
   "cell_type": "code",
   "execution_count": 55,
   "metadata": {
    "scrolled": true
   },
   "outputs": [
    {
     "name": "stdout",
     "output_type": "stream",
     "text": [
      "Train on 7670 samples, validate on 1918 samples\n",
      "Epoch 1/100\n",
      "7670/7670 [==============================] - 5s 590us/step - loss: 56359.9242 - mean_squared_error: 56359.9242 - mean_absolute_error: 174.7607 - val_loss: 37105.8836 - val_mean_squared_error: 37105.8836 - val_mean_absolute_error: 144.7263\n",
      "Epoch 2/100\n",
      "7670/7670 [==============================] - 1s 143us/step - loss: 31212.2981 - mean_squared_error: 31212.2981 - mean_absolute_error: 129.6587 - val_loss: 6112.6275 - val_mean_squared_error: 6112.6275 - val_mean_absolute_error: 58.6313\n",
      "Epoch 3/100\n",
      "7670/7670 [==============================] - 1s 145us/step - loss: 7713.1526 - mean_squared_error: 7713.1526 - mean_absolute_error: 61.5192 - val_loss: 4166.6839 - val_mean_squared_error: 4166.6839 - val_mean_absolute_error: 41.8427\n",
      "Epoch 4/100\n",
      "7670/7670 [==============================] - 1s 125us/step - loss: 3121.0407 - mean_squared_error: 3121.0407 - mean_absolute_error: 38.0971 - val_loss: 3680.7043 - val_mean_squared_error: 3680.7043 - val_mean_absolute_error: 39.0404\n",
      "Epoch 5/100\n",
      "7670/7670 [==============================] - 1s 148us/step - loss: 2807.8046 - mean_squared_error: 2807.8046 - mean_absolute_error: 35.6120 - val_loss: 2372.1133 - val_mean_squared_error: 2372.1133 - val_mean_absolute_error: 30.7742\n",
      "Epoch 6/100\n",
      "7670/7670 [==============================] - 1s 114us/step - loss: 2597.6725 - mean_squared_error: 2597.6725 - mean_absolute_error: 33.6493 - val_loss: 2236.5785 - val_mean_squared_error: 2236.5785 - val_mean_absolute_error: 29.5583\n",
      "Epoch 7/100\n",
      "7670/7670 [==============================] - 1s 100us/step - loss: 2539.2187 - mean_squared_error: 2539.2187 - mean_absolute_error: 33.4878 - val_loss: 2470.5137 - val_mean_squared_error: 2470.5137 - val_mean_absolute_error: 31.5516\n",
      "Epoch 8/100\n",
      "7670/7670 [==============================] - 1s 119us/step - loss: 2301.5210 - mean_squared_error: 2301.5210 - mean_absolute_error: 32.0588 - val_loss: 2409.4802 - val_mean_squared_error: 2409.4802 - val_mean_absolute_error: 30.7155\n",
      "Epoch 9/100\n",
      "7670/7670 [==============================] - 1s 128us/step - loss: 2407.1019 - mean_squared_error: 2407.1019 - mean_absolute_error: 32.5679 - val_loss: 1889.3972 - val_mean_squared_error: 1889.3972 - val_mean_absolute_error: 27.4314\n",
      "Epoch 10/100\n",
      "7670/7670 [==============================] - 2s 236us/step - loss: 2189.2370 - mean_squared_error: 2189.2370 - mean_absolute_error: 31.2486 - val_loss: 2105.8840 - val_mean_squared_error: 2105.8840 - val_mean_absolute_error: 28.1852- loss: 2344.5417 - mean_squared_error: 2344.5417 - mean_abs\n",
      "Epoch 11/100\n",
      "7670/7670 [==============================] - 3s 410us/step - loss: 2091.5430 - mean_squared_error: 2091.5430 - mean_absolute_error: 30.1670 - val_loss: 2506.6831 - val_mean_squared_error: 2506.6831 - val_mean_absolute_error: 30.6582\n",
      "Epoch 12/100\n",
      "7670/7670 [==============================] - 1s 172us/step - loss: 2217.5306 - mean_squared_error: 2217.5306 - mean_absolute_error: 31.1475 - val_loss: 2034.4584 - val_mean_squared_error: 2034.4584 - val_mean_absolute_error: 27.7926\n",
      "Epoch 13/100\n",
      "7670/7670 [==============================] - 1s 139us/step - loss: 1952.9227 - mean_squared_error: 1952.9227 - mean_absolute_error: 29.8300 - val_loss: 1920.1702 - val_mean_squared_error: 1920.1702 - val_mean_absolute_error: 27.3024\n",
      "Epoch 14/100\n",
      "7670/7670 [==============================] - 1s 134us/step - loss: 2093.7505 - mean_squared_error: 2093.7505 - mean_absolute_error: 30.2093 - val_loss: 2376.7511 - val_mean_squared_error: 2376.7511 - val_mean_absolute_error: 29.8944\n",
      "Epoch 15/100\n",
      "7670/7670 [==============================] - 1s 150us/step - loss: 1890.5274 - mean_squared_error: 1890.5274 - mean_absolute_error: 29.1767 - val_loss: 1800.4316 - val_mean_squared_error: 1800.4316 - val_mean_absolute_error: 25.6881\n",
      "Epoch 16/100\n",
      "7670/7670 [==============================] - 1s 169us/step - loss: 1876.0643 - mean_squared_error: 1876.0643 - mean_absolute_error: 28.9498 - val_loss: 1879.9605 - val_mean_squared_error: 1879.9605 - val_mean_absolute_error: 26.6604\n",
      "Epoch 17/100\n",
      "7670/7670 [==============================] - 1s 114us/step - loss: 1942.0226 - mean_squared_error: 1942.0226 - mean_absolute_error: 29.4020 - val_loss: 2028.6750 - val_mean_squared_error: 2028.6750 - val_mean_absolute_error: 27.3647\n",
      "Epoch 18/100\n",
      "7670/7670 [==============================] - 2s 264us/step - loss: 1811.4370 - mean_squared_error: 1811.4370 - mean_absolute_error: 28.7995 - val_loss: 2150.1463 - val_mean_squared_error: 2150.1463 - val_mean_absolute_error: 29.0837\n",
      "Epoch 19/100\n",
      "7670/7670 [==============================] - 2s 253us/step - loss: 1853.4164 - mean_squared_error: 1853.4164 - mean_absolute_error: 28.9253 - val_loss: 2237.0369 - val_mean_squared_error: 2237.0369 - val_mean_absolute_error: 28.5120\n",
      "Epoch 20/100\n",
      "7670/7670 [==============================] - 1s 181us/step - loss: 1769.4535 - mean_squared_error: 1769.4535 - mean_absolute_error: 28.4167 - val_loss: 2106.7790 - val_mean_squared_error: 2106.7790 - val_mean_absolute_error: 28.0181\n",
      "Epoch 21/100\n",
      "7670/7670 [==============================] - 1s 160us/step - loss: 1854.1136 - mean_squared_error: 1854.1136 - mean_absolute_error: 29.7763 - val_loss: 1948.6586 - val_mean_squared_error: 1948.6586 - val_mean_absolute_error: 26.8643\n",
      "Epoch 22/100\n",
      "7670/7670 [==============================] - 1s 151us/step - loss: 1695.1374 - mean_squared_error: 1695.1374 - mean_absolute_error: 27.7871 - val_loss: 1865.7777 - val_mean_squared_error: 1865.7777 - val_mean_absolute_error: 26.6418\n",
      "Epoch 23/100\n",
      "7670/7670 [==============================] - 1s 117us/step - loss: 1730.4491 - mean_squared_error: 1730.4491 - mean_absolute_error: 27.9321 - val_loss: 2469.8118 - val_mean_squared_error: 2469.8118 - val_mean_absolute_error: 31.0665\n",
      "Epoch 24/100\n",
      "7670/7670 [==============================] - 1s 106us/step - loss: 1648.3958 - mean_squared_error: 1648.3958 - mean_absolute_error: 27.5211 - val_loss: 2484.8591 - val_mean_squared_error: 2484.8591 - val_mean_absolute_error: 30.5964\n",
      "Epoch 25/100\n",
      "7670/7670 [==============================] - 1s 116us/step - loss: 1643.6800 - mean_squared_error: 1643.6800 - mean_absolute_error: 27.6954 - val_loss: 1960.5389 - val_mean_squared_error: 1960.5389 - val_mean_absolute_error: 26.6594\n",
      "Epoch 26/100\n",
      "7670/7670 [==============================] - 1s 117us/step - loss: 1586.4562 - mean_squared_error: 1586.4562 - mean_absolute_error: 26.6932 - val_loss: 1947.7984 - val_mean_squared_error: 1947.7984 - val_mean_absolute_error: 26.5350\n",
      "Epoch 27/100\n",
      "7670/7670 [==============================] - 1s 103us/step - loss: 1561.5781 - mean_squared_error: 1561.5781 - mean_absolute_error: 27.2020 - val_loss: 2030.8867 - val_mean_squared_error: 2030.8867 - val_mean_absolute_error: 27.1425\n",
      "Epoch 28/100\n",
      "7670/7670 [==============================] - 1s 101us/step - loss: 1514.6233 - mean_squared_error: 1514.6233 - mean_absolute_error: 26.4624 - val_loss: 2097.8847 - val_mean_squared_error: 2097.8847 - val_mean_absolute_error: 27.3317\n",
      "Epoch 29/100\n",
      "7670/7670 [==============================] - 1s 97us/step - loss: 1528.8807 - mean_squared_error: 1528.8807 - mean_absolute_error: 26.9590 - val_loss: 2031.2051 - val_mean_squared_error: 2031.2051 - val_mean_absolute_error: 26.4613\n",
      "Epoch 30/100\n",
      "7670/7670 [==============================] - 1s 97us/step - loss: 1481.2006 - mean_squared_error: 1481.2006 - mean_absolute_error: 26.4622 - val_loss: 2002.0717 - val_mean_squared_error: 2002.0717 - val_mean_absolute_error: 27.0806\n",
      "Epoch 31/100\n",
      "7670/7670 [==============================] - 1s 101us/step - loss: 1549.4132 - mean_squared_error: 1549.4132 - mean_absolute_error: 27.2123 - val_loss: 2113.4926 - val_mean_squared_error: 2113.4926 - val_mean_absolute_error: 27.1477\n",
      "Epoch 32/100\n",
      "7670/7670 [==============================] - 1s 98us/step - loss: 1500.0822 - mean_squared_error: 1500.0822 - mean_absolute_error: 26.7356 - val_loss: 2162.7039 - val_mean_squared_error: 2162.7039 - val_mean_absolute_error: 27.9324\n",
      "Epoch 33/100\n",
      "7670/7670 [==============================] - 1s 99us/step - loss: 1374.9175 - mean_squared_error: 1374.9175 - mean_absolute_error: 25.5723 - val_loss: 2026.8198 - val_mean_squared_error: 2026.8198 - val_mean_absolute_error: 26.6467\n"
     ]
    },
    {
     "name": "stdout",
     "output_type": "stream",
     "text": [
      "Epoch 34/100\n",
      "7670/7670 [==============================] - 1s 104us/step - loss: 1339.6546 - mean_squared_error: 1339.6546 - mean_absolute_error: 25.3610 - val_loss: 2040.4068 - val_mean_squared_error: 2040.4068 - val_mean_absolute_error: 26.8702\n",
      "Epoch 35/100\n",
      "7670/7670 [==============================] - 1s 106us/step - loss: 1381.7928 - mean_squared_error: 1381.7928 - mean_absolute_error: 25.5857 - val_loss: 2151.1181 - val_mean_squared_error: 2151.1181 - val_mean_absolute_error: 27.7251\n",
      "Epoch 36/100\n",
      "7670/7670 [==============================] - 1s 104us/step - loss: 1308.9453 - mean_squared_error: 1308.9453 - mean_absolute_error: 25.1003 - val_loss: 2792.0862 - val_mean_squared_error: 2792.0862 - val_mean_absolute_error: 32.3482\n",
      "Epoch 37/100\n",
      "7670/7670 [==============================] - 1s 105us/step - loss: 1241.6095 - mean_squared_error: 1241.6095 - mean_absolute_error: 24.4556 - val_loss: 2081.0539 - val_mean_squared_error: 2081.0539 - val_mean_absolute_error: 26.5736\n",
      "Epoch 38/100\n",
      "7670/7670 [==============================] - 1s 105us/step - loss: 1295.1748 - mean_squared_error: 1295.1748 - mean_absolute_error: 24.8860 - val_loss: 2489.4720 - val_mean_squared_error: 2489.4720 - val_mean_absolute_error: 29.9719\n",
      "Epoch 39/100\n",
      "7670/7670 [==============================] - 1s 100us/step - loss: 1290.2673 - mean_squared_error: 1290.2673 - mean_absolute_error: 24.5031 - val_loss: 1942.4118 - val_mean_squared_error: 1942.4118 - val_mean_absolute_error: 26.2960\n",
      "Epoch 40/100\n",
      "7670/7670 [==============================] - 1s 99us/step - loss: 1272.1352 - mean_squared_error: 1272.1352 - mean_absolute_error: 24.3848 - val_loss: 2012.1137 - val_mean_squared_error: 2012.1137 - val_mean_absolute_error: 26.1838\n",
      "Epoch 41/100\n",
      "7670/7670 [==============================] - 1s 102us/step - loss: 1352.3924 - mean_squared_error: 1352.3924 - mean_absolute_error: 25.5393 - val_loss: 2135.2736 - val_mean_squared_error: 2135.2736 - val_mean_absolute_error: 27.4755\n",
      "Epoch 42/100\n",
      "7670/7670 [==============================] - 1s 100us/step - loss: 1264.1185 - mean_squared_error: 1264.1185 - mean_absolute_error: 24.6359 - val_loss: 2247.5521 - val_mean_squared_error: 2247.5521 - val_mean_absolute_error: 27.9313\n",
      "Epoch 43/100\n",
      "7670/7670 [==============================] - 1s 100us/step - loss: 1229.4161 - mean_squared_error: 1229.4161 - mean_absolute_error: 24.4542 - val_loss: 1931.4593 - val_mean_squared_error: 1931.4593 - val_mean_absolute_error: 26.1661\n",
      "Epoch 44/100\n",
      "7670/7670 [==============================] - 1s 100us/step - loss: 1203.1698 - mean_squared_error: 1203.1698 - mean_absolute_error: 23.9942 - val_loss: 2035.4080 - val_mean_squared_error: 2035.4080 - val_mean_absolute_error: 26.6919\n",
      "Epoch 45/100\n",
      "7670/7670 [==============================] - 1s 106us/step - loss: 1200.0138 - mean_squared_error: 1200.0138 - mean_absolute_error: 23.8254 - val_loss: 2097.8642 - val_mean_squared_error: 2097.8642 - val_mean_absolute_error: 27.3931\n",
      "Epoch 46/100\n",
      "7670/7670 [==============================] - 1s 107us/step - loss: 1192.1153 - mean_squared_error: 1192.1153 - mean_absolute_error: 24.1387 - val_loss: 2544.7598 - val_mean_squared_error: 2544.7598 - val_mean_absolute_error: 29.8794\n",
      "Epoch 47/100\n",
      "7670/7670 [==============================] - 1s 104us/step - loss: 1247.4351 - mean_squared_error: 1247.4351 - mean_absolute_error: 24.5231 - val_loss: 2376.0762 - val_mean_squared_error: 2376.0762 - val_mean_absolute_error: 29.2953\n",
      "Epoch 48/100\n",
      "7670/7670 [==============================] - 1s 100us/step - loss: 1083.0366 - mean_squared_error: 1083.0366 - mean_absolute_error: 23.0534 - val_loss: 2130.5841 - val_mean_squared_error: 2130.5841 - val_mean_absolute_error: 26.8685\n",
      "Epoch 49/100\n",
      "7670/7670 [==============================] - 1s 106us/step - loss: 1136.4378 - mean_squared_error: 1136.4378 - mean_absolute_error: 23.4982 - val_loss: 2153.4816 - val_mean_squared_error: 2153.4816 - val_mean_absolute_error: 27.2124\n",
      "Epoch 50/100\n",
      "7670/7670 [==============================] - 1s 104us/step - loss: 1202.2288 - mean_squared_error: 1202.2288 - mean_absolute_error: 24.0724 - val_loss: 2094.5062 - val_mean_squared_error: 2094.5062 - val_mean_absolute_error: 27.0503\n",
      "Epoch 51/100\n",
      "7670/7670 [==============================] - 1s 104us/step - loss: 1124.0963 - mean_squared_error: 1124.0963 - mean_absolute_error: 23.1672 - val_loss: 2205.7609 - val_mean_squared_error: 2205.7609 - val_mean_absolute_error: 27.9109\n",
      "Epoch 52/100\n",
      "7670/7670 [==============================] - 1s 103us/step - loss: 1103.7890 - mean_squared_error: 1103.7890 - mean_absolute_error: 23.3691 - val_loss: 2082.8622 - val_mean_squared_error: 2082.8622 - val_mean_absolute_error: 27.4653\n",
      "Epoch 53/100\n",
      "7670/7670 [==============================] - 1s 109us/step - loss: 1182.7442 - mean_squared_error: 1182.7442 - mean_absolute_error: 23.3934 - val_loss: 2092.1187 - val_mean_squared_error: 2092.1187 - val_mean_absolute_error: 26.9518\n",
      "Epoch 54/100\n",
      "7670/7670 [==============================] - 1s 108us/step - loss: 1106.6369 - mean_squared_error: 1106.6369 - mean_absolute_error: 23.3479 - val_loss: 2011.9446 - val_mean_squared_error: 2011.9446 - val_mean_absolute_error: 26.3660\n",
      "Epoch 55/100\n",
      "7670/7670 [==============================] - 1s 108us/step - loss: 960.0870 - mean_squared_error: 960.0870 - mean_absolute_error: 21.7046 - val_loss: 2219.9039 - val_mean_squared_error: 2219.9039 - val_mean_absolute_error: 28.4709\n",
      "Epoch 56/100\n",
      "7670/7670 [==============================] - 1s 111us/step - loss: 1043.2736 - mean_squared_error: 1043.2736 - mean_absolute_error: 22.4688 - val_loss: 2154.4995 - val_mean_squared_error: 2154.4995 - val_mean_absolute_error: 27.2188\n",
      "Epoch 57/100\n",
      "7670/7670 [==============================] - 1s 103us/step - loss: 972.2191 - mean_squared_error: 972.2191 - mean_absolute_error: 21.7231 - val_loss: 2129.7862 - val_mean_squared_error: 2129.7862 - val_mean_absolute_error: 27.3352\n",
      "Epoch 58/100\n",
      "7670/7670 [==============================] - 1s 102us/step - loss: 1136.0883 - mean_squared_error: 1136.0883 - mean_absolute_error: 23.4558 - val_loss: 2054.7044 - val_mean_squared_error: 2054.7044 - val_mean_absolute_error: 26.5670\n",
      "Epoch 59/100\n",
      "7670/7670 [==============================] - 1s 105us/step - loss: 1018.7644 - mean_squared_error: 1018.7644 - mean_absolute_error: 22.4378 - val_loss: 2094.7889 - val_mean_squared_error: 2094.7889 - val_mean_absolute_error: 27.0649\n",
      "Epoch 60/100\n",
      "7670/7670 [==============================] - 1s 101us/step - loss: 1049.0608 - mean_squared_error: 1049.0608 - mean_absolute_error: 22.5337 - val_loss: 2267.8977 - val_mean_squared_error: 2267.8977 - val_mean_absolute_error: 28.6600\n",
      "Epoch 61/100\n",
      "7670/7670 [==============================] - 1s 102us/step - loss: 979.5382 - mean_squared_error: 979.5382 - mean_absolute_error: 21.9162 - val_loss: 2165.8058 - val_mean_squared_error: 2165.8058 - val_mean_absolute_error: 27.5181\n",
      "Epoch 62/100\n",
      "7670/7670 [==============================] - 1s 101us/step - loss: 1015.1805 - mean_squared_error: 1015.1805 - mean_absolute_error: 22.3438 - val_loss: 2269.8545 - val_mean_squared_error: 2269.8545 - val_mean_absolute_error: 27.7133\n",
      "Epoch 63/100\n",
      "7670/7670 [==============================] - 1s 114us/step - loss: 1005.9278 - mean_squared_error: 1005.9278 - mean_absolute_error: 22.0715 - val_loss: 2361.3723 - val_mean_squared_error: 2361.3723 - val_mean_absolute_error: 29.5567\n",
      "Epoch 64/100\n",
      "7670/7670 [==============================] - 1s 103us/step - loss: 1051.7801 - mean_squared_error: 1051.7801 - mean_absolute_error: 22.5029 - val_loss: 2203.2636 - val_mean_squared_error: 2203.2636 - val_mean_absolute_error: 27.9695\n",
      "Epoch 65/100\n",
      "7670/7670 [==============================] - 1s 101us/step - loss: 993.1781 - mean_squared_error: 993.1781 - mean_absolute_error: 21.7848 - val_loss: 2111.6191 - val_mean_squared_error: 2111.6191 - val_mean_absolute_error: 27.1538\n",
      "Epoch 66/100\n",
      "7670/7670 [==============================] - 1s 107us/step - loss: 1072.3761 - mean_squared_error: 1072.3761 - mean_absolute_error: 22.4428 - val_loss: 2013.2709 - val_mean_squared_error: 2013.2709 - val_mean_absolute_error: 26.7810\n",
      "Epoch 67/100\n",
      "7670/7670 [==============================] - 1s 104us/step - loss: 1035.8923 - mean_squared_error: 1035.8923 - mean_absolute_error: 22.6678 - val_loss: 2102.8975 - val_mean_squared_error: 2102.8975 - val_mean_absolute_error: 27.4869\n",
      "Epoch 68/100\n",
      "7670/7670 [==============================] - 1s 105us/step - loss: 1084.3478 - mean_squared_error: 1084.3478 - mean_absolute_error: 23.0136 - val_loss: 2091.4613 - val_mean_squared_error: 2091.4613 - val_mean_absolute_error: 27.1344\n",
      "Epoch 69/100\n",
      "7670/7670 [==============================] - 1s 105us/step - loss: 1028.6091 - mean_squared_error: 1028.6091 - mean_absolute_error: 22.3046 - val_loss: 2008.8973 - val_mean_squared_error: 2008.8973 - val_mean_absolute_error: 26.8197\n",
      "Epoch 70/100\n",
      "7670/7670 [==============================] - 1s 105us/step - loss: 987.5009 - mean_squared_error: 987.5009 - mean_absolute_error: 21.8842 - val_loss: 2165.7079 - val_mean_squared_error: 2165.7079 - val_mean_absolute_error: 27.7605\n",
      "Epoch 71/100\n",
      "7670/7670 [==============================] - 1s 101us/step - loss: 976.6396 - mean_squared_error: 976.6396 - mean_absolute_error: 21.7722 - val_loss: 2055.0884 - val_mean_squared_error: 2055.0884 - val_mean_absolute_error: 26.6886\n",
      "Epoch 72/100\n",
      "7670/7670 [==============================] - 1s 108us/step - loss: 988.6292 - mean_squared_error: 988.6292 - mean_absolute_error: 21.6644 - val_loss: 2033.2177 - val_mean_squared_error: 2033.2177 - val_mean_absolute_error: 26.6529\n",
      "Epoch 73/100\n",
      "7670/7670 [==============================] - 1s 113us/step - loss: 924.6671 - mean_squared_error: 924.6671 - mean_absolute_error: 21.2699 - val_loss: 2042.7284 - val_mean_squared_error: 2042.7284 - val_mean_absolute_error: 26.8167\n",
      "Epoch 74/100\n",
      "7670/7670 [==============================] - 1s 124us/step - loss: 1036.4084 - mean_squared_error: 1036.4084 - mean_absolute_error: 22.5441 - val_loss: 2316.9248 - val_mean_squared_error: 2316.9248 - val_mean_absolute_error: 28.5775\n",
      "Epoch 75/100\n",
      "7670/7670 [==============================] - 1s 119us/step - loss: 973.4330 - mean_squared_error: 973.4330 - mean_absolute_error: 21.8737 - val_loss: 2114.5145 - val_mean_squared_error: 2114.5145 - val_mean_absolute_error: 27.3301\n",
      "Epoch 76/100\n",
      "7670/7670 [==============================] - 1s 113us/step - loss: 951.4664 - mean_squared_error: 951.4664 - mean_absolute_error: 21.2949 - val_loss: 2075.0719 - val_mean_squared_error: 2075.0719 - val_mean_absolute_error: 27.6595\n",
      "Epoch 77/100\n",
      "7670/7670 [==============================] - 1s 114us/step - loss: 931.9109 - mean_squared_error: 931.9109 - mean_absolute_error: 21.5163 - val_loss: 2077.5351 - val_mean_squared_error: 2077.5351 - val_mean_absolute_error: 26.7613\n",
      "Epoch 78/100\n",
      "7670/7670 [==============================] - 1s 112us/step - loss: 916.8532 - mean_squared_error: 916.8532 - mean_absolute_error: 21.0453 - val_loss: 2015.0906 - val_mean_squared_error: 2015.0906 - val_mean_absolute_error: 26.3122\n",
      "Epoch 79/100\n",
      "7670/7670 [==============================] - 1s 115us/step - loss: 960.2824 - mean_squared_error: 960.2824 - mean_absolute_error: 21.9873 - val_loss: 1958.1748 - val_mean_squared_error: 1958.1748 - val_mean_absolute_error: 26.3032\n",
      "Epoch 80/100\n",
      "7670/7670 [==============================] - 1s 115us/step - loss: 978.6381 - mean_squared_error: 978.6381 - mean_absolute_error: 21.9227 - val_loss: 2388.4734 - val_mean_squared_error: 2388.4734 - val_mean_absolute_error: 29.6883\n",
      "Epoch 81/100\n",
      "7670/7670 [==============================] - 1s 124us/step - loss: 921.0483 - mean_squared_error: 921.0483 - mean_absolute_error: 21.2011 - val_loss: 2076.9469 - val_mean_squared_error: 2076.9469 - val_mean_absolute_error: 27.1747\n",
      "Epoch 82/100\n",
      "7670/7670 [==============================] - 1s 115us/step - loss: 983.5409 - mean_squared_error: 983.5409 - mean_absolute_error: 21.8695 - val_loss: 1967.1772 - val_mean_squared_error: 1967.1772 - val_mean_absolute_error: 26.0683\n",
      "Epoch 83/100\n",
      "7670/7670 [==============================] - 1s 109us/step - loss: 928.6565 - mean_squared_error: 928.6565 - mean_absolute_error: 21.2584 - val_loss: 2163.7357 - val_mean_squared_error: 2163.7357 - val_mean_absolute_error: 27.5350\n",
      "Epoch 84/100\n",
      "7670/7670 [==============================] - 1s 111us/step - loss: 954.8602 - mean_squared_error: 954.8602 - mean_absolute_error: 21.6171 - val_loss: 2214.9092 - val_mean_squared_error: 2214.9092 - val_mean_absolute_error: 27.7228\n",
      "Epoch 85/100\n",
      "7670/7670 [==============================] - 1s 108us/step - loss: 962.2460 - mean_squared_error: 962.2460 - mean_absolute_error: 21.7707 - val_loss: 1941.3535 - val_mean_squared_error: 1941.3535 - val_mean_absolute_error: 25.5979\n",
      "Epoch 86/100\n",
      "7670/7670 [==============================] - 1s 120us/step - loss: 920.7200 - mean_squared_error: 920.7200 - mean_absolute_error: 21.1996 - val_loss: 1984.6837 - val_mean_squared_error: 1984.6837 - val_mean_absolute_error: 26.3860\n",
      "Epoch 87/100\n",
      "7670/7670 [==============================] - 1s 114us/step - loss: 871.9543 - mean_squared_error: 871.9543 - mean_absolute_error: 20.7135 - val_loss: 2069.5718 - val_mean_squared_error: 2069.5718 - val_mean_absolute_error: 27.3328\n",
      "Epoch 88/100\n",
      "7670/7670 [==============================] - 1s 113us/step - loss: 878.6358 - mean_squared_error: 878.6358 - mean_absolute_error: 20.7417 - val_loss: 2015.6015 - val_mean_squared_error: 2015.6015 - val_mean_absolute_error: 26.4804\n",
      "Epoch 89/100\n",
      "7670/7670 [==============================] - 1s 121us/step - loss: 886.6981 - mean_squared_error: 886.6981 - mean_absolute_error: 21.0134 - val_loss: 1957.3205 - val_mean_squared_error: 1957.3205 - val_mean_absolute_error: 25.9985\n",
      "Epoch 90/100\n",
      "7670/7670 [==============================] - 1s 114us/step - loss: 859.8576 - mean_squared_error: 859.8576 - mean_absolute_error: 20.4102 - val_loss: 1974.2313 - val_mean_squared_error: 1974.2313 - val_mean_absolute_error: 26.1195\n",
      "Epoch 91/100\n",
      "7670/7670 [==============================] - 1s 111us/step - loss: 895.3652 - mean_squared_error: 895.3652 - mean_absolute_error: 20.8738 - val_loss: 2013.7389 - val_mean_squared_error: 2013.7389 - val_mean_absolute_error: 26.7170\n",
      "Epoch 92/100\n",
      "7670/7670 [==============================] - 1s 115us/step - loss: 845.5295 - mean_squared_error: 845.5295 - mean_absolute_error: 20.4464 - val_loss: 2059.8683 - val_mean_squared_error: 2059.8683 - val_mean_absolute_error: 26.9232\n",
      "Epoch 93/100\n",
      "7670/7670 [==============================] - 1s 111us/step - loss: 963.7289 - mean_squared_error: 963.7289 - mean_absolute_error: 21.7297 - val_loss: 1977.1333 - val_mean_squared_error: 1977.1333 - val_mean_absolute_error: 26.7258\n",
      "Epoch 94/100\n",
      "7670/7670 [==============================] - 1s 113us/step - loss: 867.5252 - mean_squared_error: 867.5252 - mean_absolute_error: 20.6473 - val_loss: 2020.4353 - val_mean_squared_error: 2020.4353 - val_mean_absolute_error: 27.5243\n",
      "Epoch 95/100\n",
      "7670/7670 [==============================] - 1s 166us/step - loss: 918.0091 - mean_squared_error: 918.0091 - mean_absolute_error: 21.1136 - val_loss: 1980.3685 - val_mean_squared_error: 1980.3685 - val_mean_absolute_error: 25.8938\n",
      "Epoch 96/100\n",
      "7670/7670 [==============================] - 1s 148us/step - loss: 868.7754 - mean_squared_error: 868.7754 - mean_absolute_error: 20.5157 - val_loss: 1926.9785 - val_mean_squared_error: 1926.9785 - val_mean_absolute_error: 25.8023\n",
      "Epoch 97/100\n",
      "7670/7670 [==============================] - 1s 155us/step - loss: 873.4831 - mean_squared_error: 873.4831 - mean_absolute_error: 20.8171 - val_loss: 2050.3083 - val_mean_squared_error: 2050.3083 - val_mean_absolute_error: 26.9766\n",
      "Epoch 98/100\n",
      "7670/7670 [==============================] - 1s 140us/step - loss: 887.3570 - mean_squared_error: 887.3570 - mean_absolute_error: 20.7087 - val_loss: 2219.9469 - val_mean_squared_error: 2219.9469 - val_mean_absolute_error: 28.2023\n",
      "Epoch 99/100\n",
      "7670/7670 [==============================] - 1s 157us/step - loss: 858.3172 - mean_squared_error: 858.3172 - mean_absolute_error: 20.4577 - val_loss: 1924.7378 - val_mean_squared_error: 1924.7378 - val_mean_absolute_error: 26.4913\n",
      "Epoch 100/100\n",
      "7670/7670 [==============================] - 1s 134us/step - loss: 831.0566 - mean_squared_error: 831.0566 - mean_absolute_error: 20.4103 - val_loss: 1936.0650 - val_mean_squared_error: 1936.0650 - val_mean_absolute_error: 25.8612\n"
     ]
    }
   ],
   "source": [
    "history_model_1 = model_Split_1.fit(X_train_model_1, y_train_model_1, epochs=100, batch_size=60,  verbose=1, validation_split=0.2)"
   ]
  },
  {
   "cell_type": "code",
   "execution_count": 56,
   "metadata": {},
   "outputs": [],
   "source": [
    "y_pred_model_1 = model_Split_1.predict(X_test_model_1)"
   ]
  },
  {
   "cell_type": "code",
   "execution_count": 57,
   "metadata": {},
   "outputs": [
    {
     "name": "stdout",
     "output_type": "stream",
     "text": [
      "RMSLE model 1: 0.416794760987722\n"
     ]
    }
   ],
   "source": [
    "print('RMSLE model 1:', np.sqrt(mean_squared_log_error(y_test_model_1, y_pred_model_1)))"
   ]
  },
  {
   "cell_type": "code",
   "execution_count": null,
   "metadata": {},
   "outputs": [],
   "source": []
  },
  {
   "cell_type": "markdown",
   "metadata": {},
   "source": [
    "#### Model 2"
   ]
  },
  {
   "cell_type": "markdown",
   "metadata": {},
   "source": [
    "Take set 1,3,4,5 for train and set 2 for test:"
   ]
  },
  {
   "cell_type": "markdown",
   "metadata": {},
   "source": [
    " `concat()` train_parts which are pandas dataFrames \n",
    " \n",
    " https://pandas.pydata.org/pandas-docs/stable/user_guide/merging.html"
   ]
  },
  {
   "cell_type": "code",
   "execution_count": 58,
   "metadata": {},
   "outputs": [],
   "source": [
    "temp2 = [train_part_1, train_part_3, train_part_4, train_part_5]\n",
    "train_model_2 = pd.concat(temp2)\n",
    "\n",
    "temp2 = [train_part_2]\n",
    "test_model_2 = pd.concat(temp2)"
   ]
  },
  {
   "cell_type": "code",
   "execution_count": 59,
   "metadata": {},
   "outputs": [],
   "source": [
    "y_train_model_2 = train_model_2['count']\n",
    "X_train_model_2 = train_model_2[['temp', 'humidity','season_1','season_2','season_3','season_4','year_0','year_1','month_1','month_2','month_3','month_4','month_5','month_6','month_7','month_8','month_9','month_10','month_11','month_12','hour_0','hour_1','hour_2','hour_3','hour_4','hour_5','hour_6','hour_7','hour_8','hour_9','hour_10','hour_11','hour_12','hour_13','hour_14','hour_15','hour_16','hour_17','hour_18','hour_19','hour_20','hour_21','hour_22','hour_23','weekday_0','weekday_1','weekday_2','weekday_3','weekday_4','weekday_5','weekday_6','weather_1','weather_2','weather_3','holiday_0','holiday_1']]"
   ]
  },
  {
   "cell_type": "code",
   "execution_count": 60,
   "metadata": {},
   "outputs": [],
   "source": [
    "y_test_model_2 = test_model_2['count']\n",
    "X_test_model_2 = test_model_2[['temp', 'humidity','season_1','season_2','season_3','season_4','year_0','year_1','month_1','month_2','month_3','month_4','month_5','month_6','month_7','month_8','month_9','month_10','month_11','month_12','hour_0','hour_1','hour_2','hour_3','hour_4','hour_5','hour_6','hour_7','hour_8','hour_9','hour_10','hour_11','hour_12','hour_13','hour_14','hour_15','hour_16','hour_17','hour_18','hour_19','hour_20','hour_21','hour_22','hour_23','weekday_0','weekday_1','weekday_2','weekday_3','weekday_4','weekday_5','weekday_6','weather_1','weather_2','weather_3','holiday_0','holiday_1']]"
   ]
  },
  {
   "cell_type": "code",
   "execution_count": null,
   "metadata": {},
   "outputs": [],
   "source": []
  },
  {
   "cell_type": "code",
   "execution_count": 61,
   "metadata": {},
   "outputs": [
    {
     "data": {
      "text/plain": [
       "(9588, 56)"
      ]
     },
     "execution_count": 61,
     "metadata": {},
     "output_type": "execute_result"
    }
   ],
   "source": [
    "X_train_model_2.shape"
   ]
  },
  {
   "cell_type": "markdown",
   "metadata": {},
   "source": [
    "Make neurotic shape:"
   ]
  },
  {
   "cell_type": "code",
   "execution_count": 62,
   "metadata": {},
   "outputs": [
    {
     "name": "stdout",
     "output_type": "stream",
     "text": [
      "_________________________________________________________________\n",
      "Layer (type)                 Output Shape              Param #   \n",
      "=================================================================\n",
      "dense_11 (Dense)             (None, 120)               6720      \n",
      "_________________________________________________________________\n",
      "batch_normalization_9 (Batch (None, 120)               480       \n",
      "_________________________________________________________________\n",
      "activation_9 (Activation)    (None, 120)               0         \n",
      "_________________________________________________________________\n",
      "gaussian_noise_2 (GaussianNo (None, 120)               0         \n",
      "_________________________________________________________________\n",
      "dropout_2 (Dropout)          (None, 120)               0         \n",
      "_________________________________________________________________\n",
      "dense_12 (Dense)             (None, 80)                9600      \n",
      "_________________________________________________________________\n",
      "batch_normalization_10 (Batc (None, 80)                320       \n",
      "_________________________________________________________________\n",
      "activation_10 (Activation)   (None, 80)                0         \n",
      "_________________________________________________________________\n",
      "dense_13 (Dense)             (None, 40)                3200      \n",
      "_________________________________________________________________\n",
      "batch_normalization_11 (Batc (None, 40)                160       \n",
      "_________________________________________________________________\n",
      "activation_11 (Activation)   (None, 40)                0         \n",
      "_________________________________________________________________\n",
      "dense_14 (Dense)             (None, 12)                480       \n",
      "_________________________________________________________________\n",
      "batch_normalization_12 (Batc (None, 12)                48        \n",
      "_________________________________________________________________\n",
      "activation_12 (Activation)   (None, 12)                0         \n",
      "_________________________________________________________________\n",
      "dense_15 (Dense)             (None, 1)                 13        \n",
      "=================================================================\n",
      "Total params: 21,021\n",
      "Trainable params: 20,517\n",
      "Non-trainable params: 504\n",
      "_________________________________________________________________\n"
     ]
    }
   ],
   "source": [
    "model_Split_2 = Sequential()\n",
    "#model.add(Dense(120, input_dim=35, kernel_initializer='normal', activation='relu'))\n",
    "\n",
    "#model.add(GaussianNoise(0.01, input_shape=(59,)))\n",
    "#model.add(Dense(120, activation='relu'))\n",
    "\n",
    "model_Split_2.add(Dense(120, input_dim=56, kernel_initializer=RandomNormal(mean=0.0, stddev=0.05, seed=12), use_bias = False))\n",
    "model_Split_2.add(BatchNormalization())\n",
    "model_Split_2.add(Activation('relu'))\n",
    "model_Split_2.add(GaussianNoise(0.01))\n",
    "model_Split_2.add(Dropout(0.01))\n",
    "\n",
    "model_Split_2.add(Dense(80, use_bias = False))\n",
    "model_Split_2.add(BatchNormalization())\n",
    "model_Split_2.add(Activation('relu'))\n",
    "\n",
    "#model.add(Dropout(0.1))\n",
    "\n",
    "model_Split_2.add(Dense(40, use_bias = False))\n",
    "model_Split_2.add(BatchNormalization())\n",
    "model_Split_2.add(Activation('relu'))\n",
    "\n",
    "model_Split_2.add(Dense(12, use_bias = False))\n",
    "model_Split_2.add(BatchNormalization())\n",
    "model_Split_2.add(Activation('relu'))\n",
    "\n",
    "model_Split_2.add(Dense(1, activation='relu'))\n",
    "model_Split_2.summary()"
   ]
  },
  {
   "cell_type": "code",
   "execution_count": 63,
   "metadata": {},
   "outputs": [],
   "source": [
    "model_Split_2.compile(loss='mse', optimizer=Adam(lr= 0.008), metrics=['mse','mae'])"
   ]
  },
  {
   "cell_type": "code",
   "execution_count": null,
   "metadata": {},
   "outputs": [],
   "source": []
  },
  {
   "cell_type": "code",
   "execution_count": 64,
   "metadata": {
    "scrolled": true
   },
   "outputs": [
    {
     "name": "stdout",
     "output_type": "stream",
     "text": [
      "Train on 7670 samples, validate on 1918 samples\n",
      "Epoch 1/100\n",
      "7670/7670 [==============================] - 5s 602us/step - loss: 53448.1900 - mean_squared_error: 53448.1900 - mean_absolute_error: 171.0430 - val_loss: 27375.2015 - val_mean_squared_error: 27375.2015 - val_mean_absolute_error: 123.8044\n",
      "Epoch 2/100\n",
      "7670/7670 [==============================] - 1s 119us/step - loss: 26761.3465 - mean_squared_error: 26761.3465 - mean_absolute_error: 119.9598 - val_loss: 5084.4095 - val_mean_squared_error: 5084.4095 - val_mean_absolute_error: 53.7132\n",
      "Epoch 3/100\n",
      "7670/7670 [==============================] - 1s 120us/step - loss: 6506.4771 - mean_squared_error: 6506.4771 - mean_absolute_error: 56.2158 - val_loss: 4164.4503 - val_mean_squared_error: 4164.4503 - val_mean_absolute_error: 42.4136\n",
      "Epoch 4/100\n",
      "7670/7670 [==============================] - 1s 123us/step - loss: 3063.0541 - mean_squared_error: 3063.0541 - mean_absolute_error: 37.6115 - val_loss: 2435.3326 - val_mean_squared_error: 2435.3326 - val_mean_absolute_error: 32.0735\n",
      "Epoch 5/100\n",
      "7670/7670 [==============================] - 1s 123us/step - loss: 2768.3823 - mean_squared_error: 2768.3823 - mean_absolute_error: 35.3914 - val_loss: 2444.2176 - val_mean_squared_error: 2444.2176 - val_mean_absolute_error: 32.1909\n",
      "Epoch 6/100\n",
      "7670/7670 [==============================] - 1s 121us/step - loss: 2591.4629 - mean_squared_error: 2591.4629 - mean_absolute_error: 33.7426 - val_loss: 2113.2732 - val_mean_squared_error: 2113.2732 - val_mean_absolute_error: 28.9517\n",
      "Epoch 7/100\n",
      "7670/7670 [==============================] - 1s 120us/step - loss: 2277.2177 - mean_squared_error: 2277.2177 - mean_absolute_error: 31.9092 - val_loss: 2082.7740 - val_mean_squared_error: 2082.7740 - val_mean_absolute_error: 29.0150\n",
      "Epoch 8/100\n",
      "7670/7670 [==============================] - 1s 122us/step - loss: 2381.6005 - mean_squared_error: 2381.6005 - mean_absolute_error: 32.7879 - val_loss: 1933.3874 - val_mean_squared_error: 1933.3874 - val_mean_absolute_error: 27.3886\n",
      "Epoch 9/100\n",
      "7670/7670 [==============================] - 1s 126us/step - loss: 2298.9100 - mean_squared_error: 2298.9100 - mean_absolute_error: 32.1919 - val_loss: 1868.4295 - val_mean_squared_error: 1868.4295 - val_mean_absolute_error: 27.0595\n",
      "Epoch 10/100\n",
      "7670/7670 [==============================] - 1s 119us/step - loss: 2294.0902 - mean_squared_error: 2294.0902 - mean_absolute_error: 31.8756 - val_loss: 2080.7500 - val_mean_squared_error: 2080.7500 - val_mean_absolute_error: 27.2231\n",
      "Epoch 11/100\n",
      "7670/7670 [==============================] - 1s 121us/step - loss: 2121.5605 - mean_squared_error: 2121.5605 - mean_absolute_error: 30.6261 - val_loss: 1870.7238 - val_mean_squared_error: 1870.7238 - val_mean_absolute_error: 26.4043\n",
      "Epoch 12/100\n",
      "7670/7670 [==============================] - 1s 118us/step - loss: 2066.7779 - mean_squared_error: 2066.7779 - mean_absolute_error: 30.1732 - val_loss: 2051.5518 - val_mean_squared_error: 2051.5518 - val_mean_absolute_error: 27.7832\n",
      "Epoch 13/100\n",
      "7670/7670 [==============================] - 1s 131us/step - loss: 1989.9870 - mean_squared_error: 1989.9870 - mean_absolute_error: 29.8845 - val_loss: 1997.6851 - val_mean_squared_error: 1997.6851 - val_mean_absolute_error: 27.0775\n",
      "Epoch 14/100\n",
      "7670/7670 [==============================] - 1s 124us/step - loss: 1836.2101 - mean_squared_error: 1836.2101 - mean_absolute_error: 28.5179 - val_loss: 2060.5033 - val_mean_squared_error: 2060.5033 - val_mean_absolute_error: 28.2640\n",
      "Epoch 15/100\n",
      "7670/7670 [==============================] - 1s 120us/step - loss: 2036.8102 - mean_squared_error: 2036.8102 - mean_absolute_error: 30.5687 - val_loss: 1879.5110 - val_mean_squared_error: 1879.5110 - val_mean_absolute_error: 26.6126\n",
      "Epoch 16/100\n",
      "7670/7670 [==============================] - 1s 127us/step - loss: 1854.3771 - mean_squared_error: 1854.3771 - mean_absolute_error: 28.6462 - val_loss: 1887.8036 - val_mean_squared_error: 1887.8036 - val_mean_absolute_error: 26.5848\n",
      "Epoch 17/100\n",
      "7670/7670 [==============================] - 1s 115us/step - loss: 1800.3160 - mean_squared_error: 1800.3160 - mean_absolute_error: 28.5562 - val_loss: 1857.5974 - val_mean_squared_error: 1857.5974 - val_mean_absolute_error: 26.3751\n",
      "Epoch 18/100\n",
      "7670/7670 [==============================] - 1s 120us/step - loss: 1836.0962 - mean_squared_error: 1836.0962 - mean_absolute_error: 29.0640 - val_loss: 2102.9445 - val_mean_squared_error: 2102.9445 - val_mean_absolute_error: 28.2069\n",
      "Epoch 19/100\n",
      "7670/7670 [==============================] - 1s 121us/step - loss: 1705.0601 - mean_squared_error: 1705.0601 - mean_absolute_error: 27.7828 - val_loss: 1929.1350 - val_mean_squared_error: 1929.1350 - val_mean_absolute_error: 26.6578\n",
      "Epoch 20/100\n",
      "7670/7670 [==============================] - 1s 124us/step - loss: 1830.5929 - mean_squared_error: 1830.5929 - mean_absolute_error: 28.3718 - val_loss: 1879.7375 - val_mean_squared_error: 1879.7375 - val_mean_absolute_error: 26.8250\n",
      "Epoch 21/100\n",
      "7670/7670 [==============================] - 1s 118us/step - loss: 1643.6151 - mean_squared_error: 1643.6151 - mean_absolute_error: 27.5300 - val_loss: 2039.2071 - val_mean_squared_error: 2039.2071 - val_mean_absolute_error: 27.7489\n",
      "Epoch 22/100\n",
      "7670/7670 [==============================] - 1s 121us/step - loss: 1790.6167 - mean_squared_error: 1790.6167 - mean_absolute_error: 28.3216 - val_loss: 2066.7266 - val_mean_squared_error: 2066.7266 - val_mean_absolute_error: 27.4689\n",
      "Epoch 23/100\n",
      "7670/7670 [==============================] - 1s 119us/step - loss: 1577.6022 - mean_squared_error: 1577.6022 - mean_absolute_error: 27.0530 - val_loss: 2266.4900 - val_mean_squared_error: 2266.4900 - val_mean_absolute_error: 28.2832\n",
      "Epoch 24/100\n",
      "7670/7670 [==============================] - 1s 165us/step - loss: 1651.4751 - mean_squared_error: 1651.4751 - mean_absolute_error: 27.0379 - val_loss: 1974.6204 - val_mean_squared_error: 1974.6204 - val_mean_absolute_error: 26.8421\n",
      "Epoch 25/100\n",
      "7670/7670 [==============================] - 1s 157us/step - loss: 1667.1296 - mean_squared_error: 1667.1296 - mean_absolute_error: 27.7295 - val_loss: 1987.6049 - val_mean_squared_error: 1987.6049 - val_mean_absolute_error: 26.6549\n",
      "Epoch 26/100\n",
      "7670/7670 [==============================] - 1s 156us/step - loss: 1614.0987 - mean_squared_error: 1614.0987 - mean_absolute_error: 27.4589 - val_loss: 1896.8524 - val_mean_squared_error: 1896.8524 - val_mean_absolute_error: 26.1953\n",
      "Epoch 27/100\n",
      "7670/7670 [==============================] - 1s 162us/step - loss: 1523.4086 - mean_squared_error: 1523.4086 - mean_absolute_error: 26.5618 - val_loss: 1847.6868 - val_mean_squared_error: 1847.6868 - val_mean_absolute_error: 25.5430\n",
      "Epoch 28/100\n",
      "7670/7670 [==============================] - 1s 143us/step - loss: 1693.2349 - mean_squared_error: 1693.2349 - mean_absolute_error: 27.8885 - val_loss: 1986.0009 - val_mean_squared_error: 1986.0009 - val_mean_absolute_error: 27.0969\n",
      "Epoch 29/100\n",
      "7670/7670 [==============================] - 1s 142us/step - loss: 1490.8126 - mean_squared_error: 1490.8126 - mean_absolute_error: 26.5887 - val_loss: 2186.5104 - val_mean_squared_error: 2186.5104 - val_mean_absolute_error: 28.4954\n",
      "Epoch 30/100\n",
      "7670/7670 [==============================] - 1s 148us/step - loss: 1448.6960 - mean_squared_error: 1448.6960 - mean_absolute_error: 25.9914 - val_loss: 2077.1077 - val_mean_squared_error: 2077.1077 - val_mean_absolute_error: 27.4134\n",
      "Epoch 31/100\n",
      "7670/7670 [==============================] - 1s 142us/step - loss: 1350.5036 - mean_squared_error: 1350.5036 - mean_absolute_error: 24.8770 - val_loss: 1968.4695 - val_mean_squared_error: 1968.4695 - val_mean_absolute_error: 26.2631\n",
      "Epoch 32/100\n",
      "7670/7670 [==============================] - 1s 140us/step - loss: 1487.9531 - mean_squared_error: 1487.9531 - mean_absolute_error: 26.4375 - val_loss: 2069.7707 - val_mean_squared_error: 2069.7707 - val_mean_absolute_error: 27.4603\n",
      "Epoch 33/100\n",
      "7670/7670 [==============================] - 1s 145us/step - loss: 1340.7152 - mean_squared_error: 1340.7152 - mean_absolute_error: 25.2144 - val_loss: 1904.2245 - val_mean_squared_error: 1904.2245 - val_mean_absolute_error: 26.7255\n",
      "Epoch 34/100\n",
      "7670/7670 [==============================] - 1s 142us/step - loss: 1341.6589 - mean_squared_error: 1341.6589 - mean_absolute_error: 24.9749 - val_loss: 1810.0779 - val_mean_squared_error: 1810.0779 - val_mean_absolute_error: 25.3920\n",
      "Epoch 35/100\n",
      "7670/7670 [==============================] - 1s 149us/step - loss: 1424.6155 - mean_squared_error: 1424.6155 - mean_absolute_error: 25.8241 - val_loss: 1850.7469 - val_mean_squared_error: 1850.7469 - val_mean_absolute_error: 25.6931\n",
      "Epoch 36/100\n",
      "7670/7670 [==============================] - 1s 143us/step - loss: 1376.3821 - mean_squared_error: 1376.3821 - mean_absolute_error: 25.8651 - val_loss: 2096.3351 - val_mean_squared_error: 2096.3351 - val_mean_absolute_error: 28.5862\n",
      "Epoch 37/100\n",
      "7670/7670 [==============================] - 1s 128us/step - loss: 1417.9861 - mean_squared_error: 1417.9861 - mean_absolute_error: 26.0211 - val_loss: 1869.8502 - val_mean_squared_error: 1869.8502 - val_mean_absolute_error: 26.4627\n",
      "Epoch 38/100\n",
      "7670/7670 [==============================] - 1s 139us/step - loss: 1307.6685 - mean_squared_error: 1307.6685 - mean_absolute_error: 24.9760 - val_loss: 2047.8847 - val_mean_squared_error: 2047.8847 - val_mean_absolute_error: 27.5736\n",
      "Epoch 39/100\n",
      "7670/7670 [==============================] - 1s 141us/step - loss: 1301.8154 - mean_squared_error: 1301.8154 - mean_absolute_error: 24.7461 - val_loss: 1914.5295 - val_mean_squared_error: 1914.5295 - val_mean_absolute_error: 26.1865\n",
      "Epoch 40/100\n",
      "7670/7670 [==============================] - 1s 143us/step - loss: 1328.9884 - mean_squared_error: 1328.9884 - mean_absolute_error: 24.8013 - val_loss: 1959.6990 - val_mean_squared_error: 1959.6990 - val_mean_absolute_error: 26.3432\n",
      "Epoch 41/100\n",
      "7670/7670 [==============================] - 1s 141us/step - loss: 1321.0613 - mean_squared_error: 1321.0613 - mean_absolute_error: 24.9681 - val_loss: 1829.5156 - val_mean_squared_error: 1829.5156 - val_mean_absolute_error: 25.7648\n",
      "Epoch 42/100\n",
      "7670/7670 [==============================] - 1s 143us/step - loss: 1267.7869 - mean_squared_error: 1267.7869 - mean_absolute_error: 24.2589 - val_loss: 2047.7383 - val_mean_squared_error: 2047.7383 - val_mean_absolute_error: 27.5330\n",
      "Epoch 43/100\n",
      "7670/7670 [==============================] - 1s 140us/step - loss: 1258.8766 - mean_squared_error: 1258.8766 - mean_absolute_error: 24.3764 - val_loss: 1844.8607 - val_mean_squared_error: 1844.8607 - val_mean_absolute_error: 25.7246\n",
      "Epoch 44/100\n",
      "7670/7670 [==============================] - 1s 167us/step - loss: 1239.3592 - mean_squared_error: 1239.3592 - mean_absolute_error: 24.0385 - val_loss: 2185.2703 - val_mean_squared_error: 2185.2703 - val_mean_absolute_error: 28.3884\n",
      "Epoch 45/100\n",
      "7670/7670 [==============================] - ETA: 0s - loss: 1149.0879 - mean_squared_error: 1149.0879 - mean_absolute_error: 23.331 - 1s 157us/step - loss: 1141.5404 - mean_squared_error: 1141.5404 - mean_absolute_error: 23.2828 - val_loss: 1989.7122 - val_mean_squared_error: 1989.7122 - val_mean_absolute_error: 26.7456\n",
      "Epoch 46/100\n",
      "7670/7670 [==============================] - 1s 153us/step - loss: 1224.7266 - mean_squared_error: 1224.7266 - mean_absolute_error: 24.0823 - val_loss: 1906.8080 - val_mean_squared_error: 1906.8080 - val_mean_absolute_error: 26.0122\n",
      "Epoch 47/100\n",
      "7670/7670 [==============================] - 1s 139us/step - loss: 1220.0195 - mean_squared_error: 1220.0195 - mean_absolute_error: 23.8430 - val_loss: 1935.9282 - val_mean_squared_error: 1935.9282 - val_mean_absolute_error: 26.5718\n",
      "Epoch 48/100\n",
      "7670/7670 [==============================] - 1s 140us/step - loss: 1221.7102 - mean_squared_error: 1221.7102 - mean_absolute_error: 24.1860 - val_loss: 1861.2287 - val_mean_squared_error: 1861.2287 - val_mean_absolute_error: 25.7946\n",
      "Epoch 49/100\n",
      "7670/7670 [==============================] - 1s 149us/step - loss: 1117.6946 - mean_squared_error: 1117.6946 - mean_absolute_error: 22.9278 - val_loss: 2509.7227 - val_mean_squared_error: 2509.7227 - val_mean_absolute_error: 29.7105\n",
      "Epoch 50/100\n",
      "7670/7670 [==============================] - 1s 148us/step - loss: 1089.4951 - mean_squared_error: 1089.4951 - mean_absolute_error: 23.0923 - val_loss: 1970.0977 - val_mean_squared_error: 1970.0977 - val_mean_absolute_error: 26.6289\n",
      "Epoch 51/100\n",
      "7670/7670 [==============================] - 1s 165us/step - loss: 1173.0590 - mean_squared_error: 1173.0590 - mean_absolute_error: 23.6720 - val_loss: 2048.0647 - val_mean_squared_error: 2048.0647 - val_mean_absolute_error: 27.0781\n",
      "Epoch 52/100\n",
      "7670/7670 [==============================] - 1s 148us/step - loss: 1098.8716 - mean_squared_error: 1098.8716 - mean_absolute_error: 22.9796 - val_loss: 1820.7438 - val_mean_squared_error: 1820.7438 - val_mean_absolute_error: 25.2503\n",
      "Epoch 53/100\n",
      "7670/7670 [==============================] - 1s 157us/step - loss: 1182.3136 - mean_squared_error: 1182.3136 - mean_absolute_error: 23.7416 - val_loss: 1855.9423 - val_mean_squared_error: 1855.9423 - val_mean_absolute_error: 26.1638\n",
      "Epoch 54/100\n",
      "7670/7670 [==============================] - 1s 140us/step - loss: 1190.6078 - mean_squared_error: 1190.6078 - mean_absolute_error: 23.7783 - val_loss: 1780.1023 - val_mean_squared_error: 1780.1023 - val_mean_absolute_error: 25.2039\n",
      "Epoch 55/100\n",
      "7670/7670 [==============================] - 1s 146us/step - loss: 1153.3540 - mean_squared_error: 1153.3540 - mean_absolute_error: 23.4963 - val_loss: 1851.2688 - val_mean_squared_error: 1851.2688 - val_mean_absolute_error: 25.8996\n",
      "Epoch 56/100\n",
      "7670/7670 [==============================] - 1s 148us/step - loss: 1047.5296 - mean_squared_error: 1047.5296 - mean_absolute_error: 22.4365 - val_loss: 1861.9409 - val_mean_squared_error: 1861.9409 - val_mean_absolute_error: 26.4662\n",
      "Epoch 57/100\n",
      "7670/7670 [==============================] - 1s 145us/step - loss: 1037.7961 - mean_squared_error: 1037.7961 - mean_absolute_error: 22.3185 - val_loss: 2110.6959 - val_mean_squared_error: 2110.6959 - val_mean_absolute_error: 27.5784\n",
      "Epoch 58/100\n",
      "7670/7670 [==============================] - 1s 145us/step - loss: 1134.7298 - mean_squared_error: 1134.7298 - mean_absolute_error: 23.2827 - val_loss: 2031.2723 - val_mean_squared_error: 2031.2723 - val_mean_absolute_error: 26.8019\n",
      "Epoch 59/100\n",
      "7670/7670 [==============================] - 1s 160us/step - loss: 1110.3338 - mean_squared_error: 1110.3338 - mean_absolute_error: 23.2014 - val_loss: 1852.1272 - val_mean_squared_error: 1852.1272 - val_mean_absolute_error: 25.7151\n",
      "Epoch 60/100\n",
      "7670/7670 [==============================] - 1s 162us/step - loss: 1108.1048 - mean_squared_error: 1108.1048 - mean_absolute_error: 22.7914 - val_loss: 1935.3525 - val_mean_squared_error: 1935.3525 - val_mean_absolute_error: 26.7370\n",
      "Epoch 61/100\n",
      "7670/7670 [==============================] - 1s 167us/step - loss: 1034.6053 - mean_squared_error: 1034.6053 - mean_absolute_error: 22.3350 - val_loss: 2312.2283 - val_mean_squared_error: 2312.2283 - val_mean_absolute_error: 29.5457\n",
      "Epoch 62/100\n",
      "7670/7670 [==============================] - 1s 164us/step - loss: 1136.2429 - mean_squared_error: 1136.2429 - mean_absolute_error: 23.2333 - val_loss: 1863.3289 - val_mean_squared_error: 1863.3289 - val_mean_absolute_error: 25.9007\n",
      "Epoch 63/100\n",
      "7670/7670 [==============================] - 1s 161us/step - loss: 1091.8743 - mean_squared_error: 1091.8743 - mean_absolute_error: 22.8648 - val_loss: 1911.7542 - val_mean_squared_error: 1911.7542 - val_mean_absolute_error: 26.9823\n",
      "Epoch 64/100\n",
      "7670/7670 [==============================] - 1s 149us/step - loss: 1070.8270 - mean_squared_error: 1070.8270 - mean_absolute_error: 22.5494 - val_loss: 2092.3230 - val_mean_squared_error: 2092.3230 - val_mean_absolute_error: 27.9362\n",
      "Epoch 65/100\n",
      "7670/7670 [==============================] - 1s 151us/step - loss: 1062.7983 - mean_squared_error: 1062.7983 - mean_absolute_error: 22.5118 - val_loss: 1911.3673 - val_mean_squared_error: 1911.3673 - val_mean_absolute_error: 26.3366\n",
      "Epoch 66/100\n",
      "7670/7670 [==============================] - 1s 155us/step - loss: 1063.7104 - mean_squared_error: 1063.7104 - mean_absolute_error: 22.4091 - val_loss: 1853.7749 - val_mean_squared_error: 1853.7749 - val_mean_absolute_error: 25.7472\n"
     ]
    },
    {
     "name": "stdout",
     "output_type": "stream",
     "text": [
      "Epoch 67/100\n",
      "7670/7670 [==============================] - 1s 150us/step - loss: 1088.3289 - mean_squared_error: 1088.3289 - mean_absolute_error: 22.9792 - val_loss: 1871.6966 - val_mean_squared_error: 1871.6966 - val_mean_absolute_error: 26.7594\n",
      "Epoch 68/100\n",
      "7670/7670 [==============================] - 1s 151us/step - loss: 1070.3168 - mean_squared_error: 1070.3168 - mean_absolute_error: 22.8122 - val_loss: 1867.3258 - val_mean_squared_error: 1867.3258 - val_mean_absolute_error: 25.6253\n",
      "Epoch 69/100\n",
      "7670/7670 [==============================] - 1s 152us/step - loss: 969.1706 - mean_squared_error: 969.1706 - mean_absolute_error: 21.8120 - val_loss: 1941.3286 - val_mean_squared_error: 1941.3286 - val_mean_absolute_error: 26.4450\n",
      "Epoch 70/100\n",
      "7670/7670 [==============================] - 2s 204us/step - loss: 997.6652 - mean_squared_error: 997.6652 - mean_absolute_error: 21.8986 - val_loss: 1893.6335 - val_mean_squared_error: 1893.6335 - val_mean_absolute_error: 26.1129\n",
      "Epoch 71/100\n",
      "7670/7670 [==============================] - 2s 251us/step - loss: 1100.9062 - mean_squared_error: 1100.9062 - mean_absolute_error: 23.0718 - val_loss: 1968.7269 - val_mean_squared_error: 1968.7269 - val_mean_absolute_error: 26.8829\n",
      "Epoch 72/100\n",
      "7670/7670 [==============================] - 2s 205us/step - loss: 1019.2683 - mean_squared_error: 1019.2683 - mean_absolute_error: 21.9362 - val_loss: 1891.6976 - val_mean_squared_error: 1891.6976 - val_mean_absolute_error: 26.1488\n",
      "Epoch 73/100\n",
      "7670/7670 [==============================] - 1s 183us/step - loss: 947.0387 - mean_squared_error: 947.0387 - mean_absolute_error: 21.3413 - val_loss: 2228.1396 - val_mean_squared_error: 2228.1396 - val_mean_absolute_error: 29.6444\n",
      "Epoch 74/100\n",
      "7670/7670 [==============================] - 1s 180us/step - loss: 1041.5759 - mean_squared_error: 1041.5759 - mean_absolute_error: 22.5528 - val_loss: 1896.4189 - val_mean_squared_error: 1896.4189 - val_mean_absolute_error: 26.2560\n",
      "Epoch 75/100\n",
      "7670/7670 [==============================] - 1s 175us/step - loss: 978.8095 - mean_squared_error: 978.8095 - mean_absolute_error: 21.9563 - val_loss: 1878.3203 - val_mean_squared_error: 1878.3203 - val_mean_absolute_error: 26.2972\n",
      "Epoch 76/100\n",
      "7670/7670 [==============================] - 1s 142us/step - loss: 961.7059 - mean_squared_error: 961.7059 - mean_absolute_error: 21.3039 - val_loss: 1909.9226 - val_mean_squared_error: 1909.9226 - val_mean_absolute_error: 26.6349\n",
      "Epoch 77/100\n",
      "7670/7670 [==============================] - 1s 151us/step - loss: 1003.4225 - mean_squared_error: 1003.4225 - mean_absolute_error: 21.6469 - val_loss: 1806.7550 - val_mean_squared_error: 1806.7550 - val_mean_absolute_error: 25.7013\n",
      "Epoch 78/100\n",
      "7670/7670 [==============================] - 1s 148us/step - loss: 972.5393 - mean_squared_error: 972.5393 - mean_absolute_error: 21.8951 - val_loss: 1858.3316 - val_mean_squared_error: 1858.3316 - val_mean_absolute_error: 25.9140\n",
      "Epoch 79/100\n",
      "7670/7670 [==============================] - 1s 140us/step - loss: 905.3138 - mean_squared_error: 905.3138 - mean_absolute_error: 21.0329 - val_loss: 1837.7990 - val_mean_squared_error: 1837.7990 - val_mean_absolute_error: 25.3109\n",
      "Epoch 80/100\n",
      "7670/7670 [==============================] - 1s 142us/step - loss: 960.9834 - mean_squared_error: 960.9834 - mean_absolute_error: 21.5109 - val_loss: 1906.2261 - val_mean_squared_error: 1906.2261 - val_mean_absolute_error: 26.2252\n",
      "Epoch 81/100\n",
      "7670/7670 [==============================] - 1s 161us/step - loss: 963.8419 - mean_squared_error: 963.8419 - mean_absolute_error: 21.7055 - val_loss: 1966.0554 - val_mean_squared_error: 1966.0554 - val_mean_absolute_error: 26.6197\n",
      "Epoch 82/100\n",
      "7670/7670 [==============================] - 2s 222us/step - loss: 1058.2579 - mean_squared_error: 1058.2579 - mean_absolute_error: 22.6846 - val_loss: 1992.8335 - val_mean_squared_error: 1992.8335 - val_mean_absolute_error: 27.2068\n",
      "Epoch 83/100\n",
      "7670/7670 [==============================] - 1s 187us/step - loss: 961.9168 - mean_squared_error: 961.9168 - mean_absolute_error: 21.3277 - val_loss: 1865.9515 - val_mean_squared_error: 1865.9515 - val_mean_absolute_error: 25.7958\n",
      "Epoch 84/100\n",
      "7670/7670 [==============================] - 1s 148us/step - loss: 918.4844 - mean_squared_error: 918.4844 - mean_absolute_error: 20.6575 - val_loss: 1900.7026 - val_mean_squared_error: 1900.7026 - val_mean_absolute_error: 26.0139\n",
      "Epoch 85/100\n",
      "7670/7670 [==============================] - 1s 142us/step - loss: 994.8803 - mean_squared_error: 994.8803 - mean_absolute_error: 21.9990 - val_loss: 2001.0708 - val_mean_squared_error: 2001.0708 - val_mean_absolute_error: 26.9996\n",
      "Epoch 86/100\n",
      "7670/7670 [==============================] - 1s 132us/step - loss: 917.6975 - mean_squared_error: 917.6975 - mean_absolute_error: 21.0737 - val_loss: 2027.0742 - val_mean_squared_error: 2027.0742 - val_mean_absolute_error: 27.2605\n",
      "Epoch 87/100\n",
      "7670/7670 [==============================] - 1s 138us/step - loss: 942.9494 - mean_squared_error: 942.9494 - mean_absolute_error: 21.1923 - val_loss: 1863.7971 - val_mean_squared_error: 1863.7971 - val_mean_absolute_error: 25.6461\n",
      "Epoch 88/100\n",
      "7670/7670 [==============================] - 1s 148us/step - loss: 908.5119 - mean_squared_error: 908.5119 - mean_absolute_error: 20.7640 - val_loss: 1949.3470 - val_mean_squared_error: 1949.3470 - val_mean_absolute_error: 26.3048\n",
      "Epoch 89/100\n",
      "7670/7670 [==============================] - 1s 142us/step - loss: 905.4627 - mean_squared_error: 905.4627 - mean_absolute_error: 20.8403 - val_loss: 1854.6456 - val_mean_squared_error: 1854.6456 - val_mean_absolute_error: 25.5047\n",
      "Epoch 90/100\n",
      "7670/7670 [==============================] - 1s 140us/step - loss: 883.1822 - mean_squared_error: 883.1822 - mean_absolute_error: 20.7685 - val_loss: 1911.7223 - val_mean_squared_error: 1911.7223 - val_mean_absolute_error: 26.2365\n",
      "Epoch 91/100\n",
      "7670/7670 [==============================] - 1s 162us/step - loss: 958.9300 - mean_squared_error: 958.9300 - mean_absolute_error: 21.2919 - val_loss: 1889.6666 - val_mean_squared_error: 1889.6666 - val_mean_absolute_error: 26.3766\n",
      "Epoch 92/100\n",
      "7670/7670 [==============================] - 1s 140us/step - loss: 858.2099 - mean_squared_error: 858.2099 - mean_absolute_error: 20.3672 - val_loss: 1910.3809 - val_mean_squared_error: 1910.3809 - val_mean_absolute_error: 26.2740\n",
      "Epoch 93/100\n",
      "7670/7670 [==============================] - 1s 165us/step - loss: 841.5130 - mean_squared_error: 841.5130 - mean_absolute_error: 20.0948 - val_loss: 2036.0712 - val_mean_squared_error: 2036.0712 - val_mean_absolute_error: 27.2141\n",
      "Epoch 94/100\n",
      "7670/7670 [==============================] - 1s 184us/step - loss: 883.3845 - mean_squared_error: 883.3845 - mean_absolute_error: 20.7286 - val_loss: 1938.7051 - val_mean_squared_error: 1938.7051 - val_mean_absolute_error: 26.4872\n",
      "Epoch 95/100\n",
      "7670/7670 [==============================] - 1s 159us/step - loss: 916.0460 - mean_squared_error: 916.0460 - mean_absolute_error: 21.0772 - val_loss: 1899.6464 - val_mean_squared_error: 1899.6464 - val_mean_absolute_error: 26.1743\n",
      "Epoch 96/100\n",
      "7670/7670 [==============================] - 1s 143us/step - loss: 911.5920 - mean_squared_error: 911.5920 - mean_absolute_error: 20.6784 - val_loss: 1981.2277 - val_mean_squared_error: 1981.2277 - val_mean_absolute_error: 26.8069\n",
      "Epoch 97/100\n",
      "7670/7670 [==============================] - 1s 166us/step - loss: 994.2090 - mean_squared_error: 994.2090 - mean_absolute_error: 21.8124 - val_loss: 1903.8434 - val_mean_squared_error: 1903.8434 - val_mean_absolute_error: 26.4513\n",
      "Epoch 98/100\n",
      "7670/7670 [==============================] - 1s 156us/step - loss: 838.7492 - mean_squared_error: 838.7492 - mean_absolute_error: 20.3409 - val_loss: 1921.1675 - val_mean_squared_error: 1921.1675 - val_mean_absolute_error: 26.3936\n",
      "Epoch 99/100\n",
      "7670/7670 [==============================] - 1s 169us/step - loss: 896.8089 - mean_squared_error: 896.8089 - mean_absolute_error: 20.6852 - val_loss: 1926.8711 - val_mean_squared_error: 1926.8711 - val_mean_absolute_error: 26.1485\n",
      "Epoch 100/100\n",
      "7670/7670 [==============================] - 1s 155us/step - loss: 848.6601 - mean_squared_error: 848.6601 - mean_absolute_error: 20.3585 - val_loss: 1968.1776 - val_mean_squared_error: 1968.1776 - val_mean_absolute_error: 26.8084\n"
     ]
    }
   ],
   "source": [
    "history_model_2 = model_Split_2.fit(X_train_model_2, y_train_model_2, epochs=100, batch_size=60,  verbose=1, validation_split=0.2)"
   ]
  },
  {
   "cell_type": "code",
   "execution_count": 65,
   "metadata": {},
   "outputs": [],
   "source": [
    "y_pred_model_2 = model_Split_2.predict(X_test_model_2)"
   ]
  },
  {
   "cell_type": "code",
   "execution_count": 66,
   "metadata": {},
   "outputs": [
    {
     "name": "stdout",
     "output_type": "stream",
     "text": [
      "RMSLE model 2: 0.40898213631897573\n"
     ]
    }
   ],
   "source": [
    "print('RMSLE model 2:', np.sqrt(mean_squared_log_error(y_test_model_2, y_pred_model_2)))"
   ]
  },
  {
   "cell_type": "code",
   "execution_count": null,
   "metadata": {},
   "outputs": [],
   "source": []
  },
  {
   "cell_type": "markdown",
   "metadata": {},
   "source": [
    "#### Model 3"
   ]
  },
  {
   "cell_type": "markdown",
   "metadata": {},
   "source": [
    "Take set 1,2,4,5 for train and set 3 for test:"
   ]
  },
  {
   "cell_type": "markdown",
   "metadata": {},
   "source": [
    " `concat()` train_parts which are pandas dataFrames \n",
    " \n",
    " https://pandas.pydata.org/pandas-docs/stable/user_guide/merging.html"
   ]
  },
  {
   "cell_type": "code",
   "execution_count": 67,
   "metadata": {},
   "outputs": [],
   "source": [
    "temp3 = [train_part_1, train_part_2, train_part_4, train_part_5]\n",
    "train_model_3 = pd.concat(temp3)\n",
    "\n",
    "temp3 = [train_part_3]\n",
    "test_model_3= pd.concat(temp3)"
   ]
  },
  {
   "cell_type": "code",
   "execution_count": 68,
   "metadata": {},
   "outputs": [],
   "source": [
    "y_train_model_3 = train_model_3['count']\n",
    "X_train_model_3 = train_model_3[['temp', 'humidity','season_1','season_2','season_3','season_4','year_0','year_1','month_1','month_2','month_3','month_4','month_5','month_6','month_7','month_8','month_9','month_10','month_11','month_12','hour_0','hour_1','hour_2','hour_3','hour_4','hour_5','hour_6','hour_7','hour_8','hour_9','hour_10','hour_11','hour_12','hour_13','hour_14','hour_15','hour_16','hour_17','hour_18','hour_19','hour_20','hour_21','hour_22','hour_23','weekday_0','weekday_1','weekday_2','weekday_3','weekday_4','weekday_5','weekday_6','weather_1','weather_2','weather_3','holiday_0','holiday_1']]\n",
    "\n",
    "y_test_model_3 = test_model_3['count']\n",
    "X_test_model_3 = test_model_3[['temp', 'humidity','season_1','season_2','season_3','season_4','year_0','year_1','month_1','month_2','month_3','month_4','month_5','month_6','month_7','month_8','month_9','month_10','month_11','month_12','hour_0','hour_1','hour_2','hour_3','hour_4','hour_5','hour_6','hour_7','hour_8','hour_9','hour_10','hour_11','hour_12','hour_13','hour_14','hour_15','hour_16','hour_17','hour_18','hour_19','hour_20','hour_21','hour_22','hour_23','weekday_0','weekday_1','weekday_2','weekday_3','weekday_4','weekday_5','weekday_6','weather_1','weather_2','weather_3','holiday_0','holiday_1']]"
   ]
  },
  {
   "cell_type": "code",
   "execution_count": null,
   "metadata": {},
   "outputs": [],
   "source": []
  },
  {
   "cell_type": "code",
   "execution_count": 69,
   "metadata": {},
   "outputs": [
    {
     "data": {
      "text/plain": [
       "(9588, 56)"
      ]
     },
     "execution_count": 69,
     "metadata": {},
     "output_type": "execute_result"
    }
   ],
   "source": [
    "X_train_model_3.shape"
   ]
  },
  {
   "cell_type": "markdown",
   "metadata": {},
   "source": [
    "Make neurotic shape:"
   ]
  },
  {
   "cell_type": "code",
   "execution_count": 70,
   "metadata": {},
   "outputs": [
    {
     "name": "stdout",
     "output_type": "stream",
     "text": [
      "_________________________________________________________________\n",
      "Layer (type)                 Output Shape              Param #   \n",
      "=================================================================\n",
      "dense_16 (Dense)             (None, 120)               6720      \n",
      "_________________________________________________________________\n",
      "batch_normalization_13 (Batc (None, 120)               480       \n",
      "_________________________________________________________________\n",
      "activation_13 (Activation)   (None, 120)               0         \n",
      "_________________________________________________________________\n",
      "gaussian_noise_3 (GaussianNo (None, 120)               0         \n",
      "_________________________________________________________________\n",
      "dropout_3 (Dropout)          (None, 120)               0         \n",
      "_________________________________________________________________\n",
      "dense_17 (Dense)             (None, 80)                9600      \n",
      "_________________________________________________________________\n",
      "batch_normalization_14 (Batc (None, 80)                320       \n",
      "_________________________________________________________________\n",
      "activation_14 (Activation)   (None, 80)                0         \n",
      "_________________________________________________________________\n",
      "dense_18 (Dense)             (None, 40)                3200      \n",
      "_________________________________________________________________\n",
      "batch_normalization_15 (Batc (None, 40)                160       \n",
      "_________________________________________________________________\n",
      "activation_15 (Activation)   (None, 40)                0         \n",
      "_________________________________________________________________\n",
      "dense_19 (Dense)             (None, 12)                480       \n",
      "_________________________________________________________________\n",
      "batch_normalization_16 (Batc (None, 12)                48        \n",
      "_________________________________________________________________\n",
      "activation_16 (Activation)   (None, 12)                0         \n",
      "_________________________________________________________________\n",
      "dense_20 (Dense)             (None, 1)                 13        \n",
      "=================================================================\n",
      "Total params: 21,021\n",
      "Trainable params: 20,517\n",
      "Non-trainable params: 504\n",
      "_________________________________________________________________\n"
     ]
    }
   ],
   "source": [
    "model_Split_3 = Sequential()\n",
    "#model.add(Dense(120, input_dim=35, kernel_initializer='normal', activation='relu'))\n",
    "\n",
    "#model.add(GaussianNoise(0.01, input_shape=(59,)))\n",
    "#model.add(Dense(120, activation='relu'))\n",
    "\n",
    "model_Split_3.add(Dense(120, input_dim=56, kernel_initializer=RandomNormal(mean=0.0, stddev=0.05, seed=12), use_bias = False))\n",
    "model_Split_3.add(BatchNormalization())\n",
    "model_Split_3.add(Activation('relu'))\n",
    "model_Split_3.add(GaussianNoise(0.01))\n",
    "model_Split_3.add(Dropout(0.01))\n",
    "\n",
    "model_Split_3.add(Dense(80, use_bias = False))\n",
    "model_Split_3.add(BatchNormalization())\n",
    "model_Split_3.add(Activation('relu'))\n",
    "\n",
    "#model.add(Dropout(0.1))\n",
    "\n",
    "model_Split_3.add(Dense(40, use_bias = False))\n",
    "model_Split_3.add(BatchNormalization())\n",
    "model_Split_3.add(Activation('relu'))\n",
    "\n",
    "model_Split_3.add(Dense(12, use_bias = False))\n",
    "model_Split_3.add(BatchNormalization())\n",
    "model_Split_3.add(Activation('relu'))\n",
    "\n",
    "model_Split_3.add(Dense(1, activation='relu'))\n",
    "model_Split_3.summary()"
   ]
  },
  {
   "cell_type": "code",
   "execution_count": 71,
   "metadata": {},
   "outputs": [],
   "source": [
    "model_Split_3.compile(loss='mse', optimizer=Adam(lr= 0.008), metrics=['mse','mae'])"
   ]
  },
  {
   "cell_type": "code",
   "execution_count": null,
   "metadata": {},
   "outputs": [],
   "source": []
  },
  {
   "cell_type": "code",
   "execution_count": 72,
   "metadata": {
    "scrolled": true
   },
   "outputs": [
    {
     "name": "stdout",
     "output_type": "stream",
     "text": [
      "Train on 7670 samples, validate on 1918 samples\n",
      "Epoch 1/100\n",
      "7670/7670 [==============================] - 6s 791us/step - loss: 54581.6195 - mean_squared_error: 54581.6195 - mean_absolute_error: 172.3596 - val_loss: 30285.2029 - val_mean_squared_error: 30285.2029 - val_mean_absolute_error: 131.2279\n",
      "Epoch 2/100\n",
      "7670/7670 [==============================] - 1s 171us/step - loss: 28360.8499 - mean_squared_error: 28360.8499 - mean_absolute_error: 123.5210 - val_loss: 7549.5195 - val_mean_squared_error: 7549.5195 - val_mean_absolute_error: 66.2911\n",
      "Epoch 3/100\n",
      "7670/7670 [==============================] - 1s 152us/step - loss: 6517.3172 - mean_squared_error: 6517.3172 - mean_absolute_error: 56.4331 - val_loss: 4898.7191 - val_mean_squared_error: 4898.7191 - val_mean_absolute_error: 46.1135\n",
      "Epoch 4/100\n",
      "7670/7670 [==============================] - 1s 155us/step - loss: 3068.6492 - mean_squared_error: 3068.6492 - mean_absolute_error: 37.6740 - val_loss: 3102.6901 - val_mean_squared_error: 3102.6901 - val_mean_absolute_error: 36.4993\n",
      "Epoch 5/100\n",
      "7670/7670 [==============================] - 1s 165us/step - loss: 2788.7786 - mean_squared_error: 2788.7786 - mean_absolute_error: 35.5722 - val_loss: 2780.3374 - val_mean_squared_error: 2780.3374 - val_mean_absolute_error: 35.1989\n",
      "Epoch 6/100\n",
      "7670/7670 [==============================] - 1s 156us/step - loss: 2534.9076 - mean_squared_error: 2534.9076 - mean_absolute_error: 33.4746 - val_loss: 2330.5650 - val_mean_squared_error: 2330.5650 - val_mean_absolute_error: 29.9983\n",
      "Epoch 7/100\n",
      "7670/7670 [==============================] - 1s 156us/step - loss: 2493.6797 - mean_squared_error: 2493.6797 - mean_absolute_error: 33.1631 - val_loss: 2240.0468 - val_mean_squared_error: 2240.0468 - val_mean_absolute_error: 28.7194\n",
      "Epoch 8/100\n",
      "7670/7670 [==============================] - 1s 157us/step - loss: 2335.1169 - mean_squared_error: 2335.1169 - mean_absolute_error: 32.4169 - val_loss: 2132.3089 - val_mean_squared_error: 2132.3089 - val_mean_absolute_error: 28.2919\n",
      "Epoch 9/100\n",
      "7670/7670 [==============================] - 1s 154us/step - loss: 2395.3578 - mean_squared_error: 2395.3578 - mean_absolute_error: 32.5275 - val_loss: 2226.7259 - val_mean_squared_error: 2226.7259 - val_mean_absolute_error: 28.9145\n",
      "Epoch 10/100\n",
      "7670/7670 [==============================] - 1s 163us/step - loss: 2226.5028 - mean_squared_error: 2226.5028 - mean_absolute_error: 31.7486 - val_loss: 2155.9709 - val_mean_squared_error: 2155.9709 - val_mean_absolute_error: 27.9243\n",
      "Epoch 11/100\n",
      "7670/7670 [==============================] - 2s 215us/step - loss: 2021.7650 - mean_squared_error: 2021.7650 - mean_absolute_error: 30.0276 - val_loss: 2415.8748 - val_mean_squared_error: 2415.8748 - val_mean_absolute_error: 30.9534\n",
      "Epoch 12/100\n",
      "7670/7670 [==============================] - 2s 220us/step - loss: 2027.0853 - mean_squared_error: 2027.0853 - mean_absolute_error: 29.9944 - val_loss: 2481.2233 - val_mean_squared_error: 2481.2233 - val_mean_absolute_error: 30.8463\n",
      "Epoch 13/100\n",
      "7670/7670 [==============================] - 2s 231us/step - loss: 1988.6844 - mean_squared_error: 1988.6844 - mean_absolute_error: 29.8226 - val_loss: 2156.5090 - val_mean_squared_error: 2156.5090 - val_mean_absolute_error: 28.6302\n",
      "Epoch 14/100\n",
      "7670/7670 [==============================] - 2s 199us/step - loss: 1847.2602 - mean_squared_error: 1847.2602 - mean_absolute_error: 28.7172 - val_loss: 1999.8237 - val_mean_squared_error: 1999.8237 - val_mean_absolute_error: 27.4295\n",
      "Epoch 15/100\n",
      "7670/7670 [==============================] - 2s 217us/step - loss: 1795.7672 - mean_squared_error: 1795.7672 - mean_absolute_error: 28.4159 - val_loss: 1954.0013 - val_mean_squared_error: 1954.0013 - val_mean_absolute_error: 26.3197\n",
      "Epoch 16/100\n",
      "7670/7670 [==============================] - 1s 152us/step - loss: 1736.3304 - mean_squared_error: 1736.3304 - mean_absolute_error: 28.0513 - val_loss: 1993.9558 - val_mean_squared_error: 1993.9558 - val_mean_absolute_error: 27.0987\n",
      "Epoch 17/100\n",
      "7670/7670 [==============================] - 1s 189us/step - loss: 1724.8484 - mean_squared_error: 1724.8484 - mean_absolute_error: 27.6891 - val_loss: 2011.2204 - val_mean_squared_error: 2011.2204 - val_mean_absolute_error: 27.3735\n",
      "Epoch 18/100\n",
      "7670/7670 [==============================] - 2s 240us/step - loss: 1780.0388 - mean_squared_error: 1780.0388 - mean_absolute_error: 28.5838 - val_loss: 2234.5034 - val_mean_squared_error: 2234.5034 - val_mean_absolute_error: 28.8433\n",
      "Epoch 19/100\n",
      "7670/7670 [==============================] - 2s 217us/step - loss: 1693.1298 - mean_squared_error: 1693.1298 - mean_absolute_error: 27.9472 - val_loss: 2116.6319 - val_mean_squared_error: 2116.6319 - val_mean_absolute_error: 27.7418\n",
      "Epoch 20/100\n",
      "7670/7670 [==============================] - 3s 327us/step - loss: 1672.5198 - mean_squared_error: 1672.5198 - mean_absolute_error: 27.5102 - val_loss: 2013.2109 - val_mean_squared_error: 2013.2109 - val_mean_absolute_error: 26.7727\n",
      "Epoch 21/100\n",
      "7670/7670 [==============================] - 2s 208us/step - loss: 1722.0554 - mean_squared_error: 1722.0554 - mean_absolute_error: 27.9150 - val_loss: 1863.2682 - val_mean_squared_error: 1863.2682 - val_mean_absolute_error: 25.8856\n",
      "Epoch 22/100\n",
      "7670/7670 [==============================] - 1s 176us/step - loss: 1581.4121 - mean_squared_error: 1581.4121 - mean_absolute_error: 26.6425 - val_loss: 1982.4232 - val_mean_squared_error: 1982.4232 - val_mean_absolute_error: 26.8667\n",
      "Epoch 23/100\n",
      "7670/7670 [==============================] - 1s 149us/step - loss: 1537.2124 - mean_squared_error: 1537.2124 - mean_absolute_error: 26.6158 - val_loss: 2073.9320 - val_mean_squared_error: 2073.9320 - val_mean_absolute_error: 26.9054\n",
      "Epoch 24/100\n",
      "7670/7670 [==============================] - 1s 182us/step - loss: 1583.7922 - mean_squared_error: 1583.7922 - mean_absolute_error: 26.9452 - val_loss: 1966.9381 - val_mean_squared_error: 1966.9381 - val_mean_absolute_error: 26.7309\n",
      "Epoch 25/100\n",
      "7670/7670 [==============================] - 2s 199us/step - loss: 1517.7806 - mean_squared_error: 1517.7806 - mean_absolute_error: 26.1544 - val_loss: 1979.3788 - val_mean_squared_error: 1979.3788 - val_mean_absolute_error: 26.8556\n",
      "Epoch 26/100\n",
      "7670/7670 [==============================] - 1s 155us/step - loss: 1421.8541 - mean_squared_error: 1421.8541 - mean_absolute_error: 25.7567 - val_loss: 1895.9119 - val_mean_squared_error: 1895.9119 - val_mean_absolute_error: 26.4165\n",
      "Epoch 27/100\n",
      "7670/7670 [==============================] - 1s 162us/step - loss: 1450.1682 - mean_squared_error: 1450.1682 - mean_absolute_error: 26.0401 - val_loss: 2015.1790 - val_mean_squared_error: 2015.1790 - val_mean_absolute_error: 27.1976\n",
      "Epoch 28/100\n",
      "7670/7670 [==============================] - 1s 146us/step - loss: 1442.4020 - mean_squared_error: 1442.4020 - mean_absolute_error: 25.6962 - val_loss: 1877.7100 - val_mean_squared_error: 1877.7100 - val_mean_absolute_error: 25.9516\n",
      "Epoch 29/100\n",
      "7670/7670 [==============================] - 1s 145us/step - loss: 1479.6251 - mean_squared_error: 1479.6251 - mean_absolute_error: 26.4987 - val_loss: 1986.9749 - val_mean_squared_error: 1986.9749 - val_mean_absolute_error: 26.7896\n",
      "Epoch 30/100\n",
      "7670/7670 [==============================] - 1s 146us/step - loss: 1297.5735 - mean_squared_error: 1297.5735 - mean_absolute_error: 24.4498 - val_loss: 1936.9520 - val_mean_squared_error: 1936.9520 - val_mean_absolute_error: 25.9666\n",
      "Epoch 31/100\n",
      "7670/7670 [==============================] - 1s 188us/step - loss: 1446.1416 - mean_squared_error: 1446.1416 - mean_absolute_error: 25.8958 - val_loss: 2211.5053 - val_mean_squared_error: 2211.5053 - val_mean_absolute_error: 28.1221\n",
      "Epoch 32/100\n",
      "7670/7670 [==============================] - 2s 226us/step - loss: 1362.6268 - mean_squared_error: 1362.6268 - mean_absolute_error: 25.4294 - val_loss: 2069.9634 - val_mean_squared_error: 2069.9634 - val_mean_absolute_error: 27.8860\n",
      "Epoch 33/100\n",
      "7670/7670 [==============================] - 1s 184us/step - loss: 1408.7213 - mean_squared_error: 1408.7213 - mean_absolute_error: 25.9280 - val_loss: 1915.1488 - val_mean_squared_error: 1915.1488 - val_mean_absolute_error: 26.0752\n",
      "Epoch 34/100\n",
      "7670/7670 [==============================] - 2s 202us/step - loss: 1371.9496 - mean_squared_error: 1371.9496 - mean_absolute_error: 25.5111 - val_loss: 1834.1291 - val_mean_squared_error: 1834.1291 - val_mean_absolute_error: 25.4372\n",
      "Epoch 35/100\n",
      "7670/7670 [==============================] - 1s 154us/step - loss: 1284.1626 - mean_squared_error: 1284.1626 - mean_absolute_error: 24.6601 - val_loss: 2142.5705 - val_mean_squared_error: 2142.5705 - val_mean_absolute_error: 27.7830\n",
      "Epoch 36/100\n",
      "7670/7670 [==============================] - 1s 161us/step - loss: 1339.4790 - mean_squared_error: 1339.4790 - mean_absolute_error: 25.1583 - val_loss: 1852.1164 - val_mean_squared_error: 1852.1164 - val_mean_absolute_error: 25.8587\n",
      "Epoch 37/100\n",
      "7670/7670 [==============================] - 1s 158us/step - loss: 1313.5927 - mean_squared_error: 1313.5927 - mean_absolute_error: 24.8832 - val_loss: 1851.4602 - val_mean_squared_error: 1851.4602 - val_mean_absolute_error: 25.4245\n",
      "Epoch 38/100\n",
      "7670/7670 [==============================] - 1s 170us/step - loss: 1294.1457 - mean_squared_error: 1294.1457 - mean_absolute_error: 24.8024 - val_loss: 1967.1781 - val_mean_squared_error: 1967.1781 - val_mean_absolute_error: 26.6775\n",
      "Epoch 39/100\n",
      "7670/7670 [==============================] - 1s 168us/step - loss: 1256.7311 - mean_squared_error: 1256.7311 - mean_absolute_error: 24.4672 - val_loss: 1986.9998 - val_mean_squared_error: 1986.9998 - val_mean_absolute_error: 26.9985\n",
      "Epoch 40/100\n",
      "7670/7670 [==============================] - 1s 173us/step - loss: 1268.7169 - mean_squared_error: 1268.7169 - mean_absolute_error: 24.4475 - val_loss: 2123.3451 - val_mean_squared_error: 2123.3451 - val_mean_absolute_error: 27.4014\n",
      "Epoch 41/100\n",
      "7670/7670 [==============================] - 1s 171us/step - loss: 1209.2529 - mean_squared_error: 1209.2529 - mean_absolute_error: 23.8964 - val_loss: 1904.1394 - val_mean_squared_error: 1904.1394 - val_mean_absolute_error: 26.0282\n",
      "Epoch 42/100\n",
      "7670/7670 [==============================] - 1s 164us/step - loss: 1245.1177 - mean_squared_error: 1245.1177 - mean_absolute_error: 24.4373 - val_loss: 1975.0581 - val_mean_squared_error: 1975.0581 - val_mean_absolute_error: 26.3740\n",
      "Epoch 43/100\n",
      "7670/7670 [==============================] - 1s 160us/step - loss: 1164.8120 - mean_squared_error: 1164.8120 - mean_absolute_error: 23.2094 - val_loss: 1963.2249 - val_mean_squared_error: 1963.2249 - val_mean_absolute_error: 25.9660\n",
      "Epoch 44/100\n",
      "7670/7670 [==============================] - 1s 188us/step - loss: 1166.6478 - mean_squared_error: 1166.6478 - mean_absolute_error: 23.2586 - val_loss: 1971.0789 - val_mean_squared_error: 1971.0789 - val_mean_absolute_error: 26.5694\n",
      "Epoch 45/100\n",
      "7670/7670 [==============================] - 1s 170us/step - loss: 1260.9399 - mean_squared_error: 1260.9399 - mean_absolute_error: 24.5289 - val_loss: 2040.9024 - val_mean_squared_error: 2040.9024 - val_mean_absolute_error: 26.7521\n",
      "Epoch 46/100\n",
      "7670/7670 [==============================] - 1s 167us/step - loss: 1202.9947 - mean_squared_error: 1202.9947 - mean_absolute_error: 24.2994 - val_loss: 2196.9116 - val_mean_squared_error: 2196.9116 - val_mean_absolute_error: 27.8815\n",
      "Epoch 47/100\n",
      "7670/7670 [==============================] - 1s 180us/step - loss: 1227.0020 - mean_squared_error: 1227.0020 - mean_absolute_error: 23.7391 - val_loss: 2070.2636 - val_mean_squared_error: 2070.2636 - val_mean_absolute_error: 26.8306\n",
      "Epoch 48/100\n",
      "7670/7670 [==============================] - 1s 170us/step - loss: 1264.3874 - mean_squared_error: 1264.3874 - mean_absolute_error: 24.5083 - val_loss: 1930.1206 - val_mean_squared_error: 1930.1206 - val_mean_absolute_error: 25.8358\n",
      "Epoch 49/100\n",
      "7670/7670 [==============================] - 1s 157us/step - loss: 1112.4060 - mean_squared_error: 1112.4060 - mean_absolute_error: 23.2583 - val_loss: 1826.6706 - val_mean_squared_error: 1826.6706 - val_mean_absolute_error: 25.7109\n",
      "Epoch 50/100\n",
      "7670/7670 [==============================] - 1s 175us/step - loss: 1140.1308 - mean_squared_error: 1140.1308 - mean_absolute_error: 23.3191 - val_loss: 1947.6893 - val_mean_squared_error: 1947.6893 - val_mean_absolute_error: 25.9145\n",
      "Epoch 51/100\n",
      "7670/7670 [==============================] - 1s 160us/step - loss: 1125.6246 - mean_squared_error: 1125.6246 - mean_absolute_error: 22.5971 - val_loss: 2186.0898 - val_mean_squared_error: 2186.0898 - val_mean_absolute_error: 27.6026\n",
      "Epoch 52/100\n",
      "7670/7670 [==============================] - 1s 193us/step - loss: 1124.3724 - mean_squared_error: 1124.3724 - mean_absolute_error: 22.9669 - val_loss: 1880.3770 - val_mean_squared_error: 1880.3770 - val_mean_absolute_error: 25.6181\n",
      "Epoch 53/100\n",
      "7670/7670 [==============================] - 2s 234us/step - loss: 1151.0014 - mean_squared_error: 1151.0014 - mean_absolute_error: 23.3933 - val_loss: 1925.2233 - val_mean_squared_error: 1925.2233 - val_mean_absolute_error: 26.0878\n",
      "Epoch 54/100\n",
      "7670/7670 [==============================] - 2s 259us/step - loss: 1156.8041 - mean_squared_error: 1156.8041 - mean_absolute_error: 23.2631 - val_loss: 1883.3709 - val_mean_squared_error: 1883.3709 - val_mean_absolute_error: 25.3865\n",
      "Epoch 55/100\n",
      "7670/7670 [==============================] - 2s 196us/step - loss: 1108.7961 - mean_squared_error: 1108.7961 - mean_absolute_error: 22.8532 - val_loss: 1907.7823 - val_mean_squared_error: 1907.7823 - val_mean_absolute_error: 25.3365\n",
      "Epoch 56/100\n",
      "7670/7670 [==============================] - 1s 158us/step - loss: 1163.6102 - mean_squared_error: 1163.6102 - mean_absolute_error: 23.4817 - val_loss: 1915.8401 - val_mean_squared_error: 1915.8401 - val_mean_absolute_error: 25.5141\n",
      "Epoch 57/100\n",
      "7670/7670 [==============================] - 2s 216us/step - loss: 1148.0916 - mean_squared_error: 1148.0916 - mean_absolute_error: 23.2043 - val_loss: 2079.5669 - val_mean_squared_error: 2079.5669 - val_mean_absolute_error: 26.9345\n",
      "Epoch 58/100\n",
      "7670/7670 [==============================] - 1s 163us/step - loss: 1117.6995 - mean_squared_error: 1117.6995 - mean_absolute_error: 22.7781 - val_loss: 1938.6057 - val_mean_squared_error: 1938.6057 - val_mean_absolute_error: 26.2105\n",
      "Epoch 59/100\n",
      "7670/7670 [==============================] - 1s 188us/step - loss: 1000.3992 - mean_squared_error: 1000.3992 - mean_absolute_error: 21.7130 - val_loss: 2172.0828 - val_mean_squared_error: 2172.0828 - val_mean_absolute_error: 27.6700\n",
      "Epoch 60/100\n",
      "7670/7670 [==============================] - 1s 178us/step - loss: 1032.1059 - mean_squared_error: 1032.1059 - mean_absolute_error: 21.8656 - val_loss: 2027.9466 - val_mean_squared_error: 2027.9466 - val_mean_absolute_error: 26.4630\n",
      "Epoch 61/100\n",
      "7670/7670 [==============================] - 1s 192us/step - loss: 1050.2461 - mean_squared_error: 1050.2461 - mean_absolute_error: 22.2448 - val_loss: 2024.9770 - val_mean_squared_error: 2024.9770 - val_mean_absolute_error: 26.4390\n",
      "Epoch 62/100\n",
      "7670/7670 [==============================] - 1s 164us/step - loss: 1079.7940 - mean_squared_error: 1079.7940 - mean_absolute_error: 22.6903 - val_loss: 1909.8072 - val_mean_squared_error: 1909.8072 - val_mean_absolute_error: 25.6334\n",
      "Epoch 63/100\n",
      "7670/7670 [==============================] - 1s 174us/step - loss: 1090.7169 - mean_squared_error: 1090.7169 - mean_absolute_error: 22.6779 - val_loss: 1913.2555 - val_mean_squared_error: 1913.2555 - val_mean_absolute_error: 25.5039\n",
      "Epoch 64/100\n",
      "7670/7670 [==============================] - 1s 184us/step - loss: 998.0593 - mean_squared_error: 998.0593 - mean_absolute_error: 21.8313 - val_loss: 1812.4966 - val_mean_squared_error: 1812.4966 - val_mean_absolute_error: 25.2005\n",
      "Epoch 65/100\n",
      "7670/7670 [==============================] - 1s 160us/step - loss: 1024.1864 - mean_squared_error: 1024.1864 - mean_absolute_error: 21.8605 - val_loss: 2022.4069 - val_mean_squared_error: 2022.4069 - val_mean_absolute_error: 26.7945\n",
      "Epoch 66/100\n",
      "7670/7670 [==============================] - 1s 178us/step - loss: 1052.1552 - mean_squared_error: 1052.1552 - mean_absolute_error: 22.4534 - val_loss: 1951.4002 - val_mean_squared_error: 1951.4002 - val_mean_absolute_error: 26.0176\n",
      "Epoch 67/100\n"
     ]
    },
    {
     "name": "stdout",
     "output_type": "stream",
     "text": [
      "7670/7670 [==============================] - 2s 255us/step - loss: 991.9546 - mean_squared_error: 991.9546 - mean_absolute_error: 21.6122 - val_loss: 1912.7425 - val_mean_squared_error: 1912.7425 - val_mean_absolute_error: 26.0429\n",
      "Epoch 68/100\n",
      "7670/7670 [==============================] - 1s 177us/step - loss: 954.9425 - mean_squared_error: 954.9425 - mean_absolute_error: 21.2627 - val_loss: 1913.1846 - val_mean_squared_error: 1913.1846 - val_mean_absolute_error: 26.0821\n",
      "Epoch 69/100\n",
      "7670/7670 [==============================] - 1s 180us/step - loss: 1010.8421 - mean_squared_error: 1010.8421 - mean_absolute_error: 21.9422 - val_loss: 1958.9470 - val_mean_squared_error: 1958.9470 - val_mean_absolute_error: 26.6524\n",
      "Epoch 70/100\n",
      "7670/7670 [==============================] - 1s 167us/step - loss: 999.7337 - mean_squared_error: 999.7337 - mean_absolute_error: 21.7614 - val_loss: 1883.7121 - val_mean_squared_error: 1883.7121 - val_mean_absolute_error: 25.6338\n",
      "Epoch 71/100\n",
      "7670/7670 [==============================] - 1s 160us/step - loss: 1096.3197 - mean_squared_error: 1096.3197 - mean_absolute_error: 22.4072 - val_loss: 1811.6782 - val_mean_squared_error: 1811.6782 - val_mean_absolute_error: 25.0814\n",
      "Epoch 72/100\n",
      "7670/7670 [==============================] - 1s 191us/step - loss: 1119.7269 - mean_squared_error: 1119.7269 - mean_absolute_error: 22.9957 - val_loss: 2030.8369 - val_mean_squared_error: 2030.8369 - val_mean_absolute_error: 26.4022\n",
      "Epoch 73/100\n",
      "7670/7670 [==============================] - 1s 157us/step - loss: 1016.6616 - mean_squared_error: 1016.6616 - mean_absolute_error: 21.8918 - val_loss: 1836.6589 - val_mean_squared_error: 1836.6589 - val_mean_absolute_error: 25.4474\n",
      "Epoch 74/100\n",
      "7670/7670 [==============================] - 1s 181us/step - loss: 963.0611 - mean_squared_error: 963.0611 - mean_absolute_error: 21.2107 - val_loss: 1946.2400 - val_mean_squared_error: 1946.2400 - val_mean_absolute_error: 26.5523\n",
      "Epoch 75/100\n",
      "7670/7670 [==============================] - 2s 196us/step - loss: 917.3249 - mean_squared_error: 917.3249 - mean_absolute_error: 20.8370 - val_loss: 1938.3411 - val_mean_squared_error: 1938.3411 - val_mean_absolute_error: 26.2803\n",
      "Epoch 76/100\n",
      "7670/7670 [==============================] - 1s 157us/step - loss: 979.2304 - mean_squared_error: 979.2304 - mean_absolute_error: 21.5396 - val_loss: 1926.8675 - val_mean_squared_error: 1926.8675 - val_mean_absolute_error: 26.0480\n",
      "Epoch 77/100\n",
      "7670/7670 [==============================] - 1s 171us/step - loss: 973.8618 - mean_squared_error: 973.8618 - mean_absolute_error: 21.2487 - val_loss: 1964.1613 - val_mean_squared_error: 1964.1613 - val_mean_absolute_error: 26.3674\n",
      "Epoch 78/100\n",
      "7670/7670 [==============================] - 1s 163us/step - loss: 938.5017 - mean_squared_error: 938.5017 - mean_absolute_error: 21.2602 - val_loss: 2035.7821 - val_mean_squared_error: 2035.7821 - val_mean_absolute_error: 26.6146\n",
      "Epoch 79/100\n",
      "7670/7670 [==============================] - 1s 146us/step - loss: 926.6537 - mean_squared_error: 926.6537 - mean_absolute_error: 20.9759 - val_loss: 1955.7713 - val_mean_squared_error: 1955.7713 - val_mean_absolute_error: 26.2388\n",
      "Epoch 80/100\n",
      "7670/7670 [==============================] - 1s 153us/step - loss: 898.0442 - mean_squared_error: 898.0442 - mean_absolute_error: 20.7923 - val_loss: 1972.1742 - val_mean_squared_error: 1972.1742 - val_mean_absolute_error: 26.0379\n",
      "Epoch 81/100\n",
      "7670/7670 [==============================] - 2s 305us/step - loss: 913.7019 - mean_squared_error: 913.7019 - mean_absolute_error: 21.1230 - val_loss: 1828.9561 - val_mean_squared_error: 1828.9561 - val_mean_absolute_error: 25.3751\n",
      "Epoch 82/100\n",
      "7670/7670 [==============================] - 2s 294us/step - loss: 960.1116 - mean_squared_error: 960.1116 - mean_absolute_error: 21.4181 - val_loss: 1861.5736 - val_mean_squared_error: 1861.5736 - val_mean_absolute_error: 25.3900\n",
      "Epoch 83/100\n",
      "7670/7670 [==============================] - 2s 198us/step - loss: 877.3300 - mean_squared_error: 877.3300 - mean_absolute_error: 20.5927 - val_loss: 1880.8226 - val_mean_squared_error: 1880.8226 - val_mean_absolute_error: 25.3495\n",
      "Epoch 84/100\n",
      "7670/7670 [==============================] - 2s 219us/step - loss: 900.1847 - mean_squared_error: 900.1847 - mean_absolute_error: 20.5821 - val_loss: 1868.5057 - val_mean_squared_error: 1868.5057 - val_mean_absolute_error: 26.1694\n",
      "Epoch 85/100\n",
      "7670/7670 [==============================] - 2s 214us/step - loss: 940.9876 - mean_squared_error: 940.9876 - mean_absolute_error: 21.1360 - val_loss: 1937.0729 - val_mean_squared_error: 1937.0729 - val_mean_absolute_error: 25.8719\n",
      "Epoch 86/100\n",
      "7670/7670 [==============================] - 1s 170us/step - loss: 975.9060 - mean_squared_error: 975.9060 - mean_absolute_error: 21.5658 - val_loss: 2006.5872 - val_mean_squared_error: 2006.5872 - val_mean_absolute_error: 26.5402\n",
      "Epoch 87/100\n",
      "7670/7670 [==============================] - 1s 178us/step - loss: 910.2430 - mean_squared_error: 910.2430 - mean_absolute_error: 20.6393 - val_loss: 1986.0794 - val_mean_squared_error: 1986.0794 - val_mean_absolute_error: 26.3326\n",
      "Epoch 88/100\n",
      "7670/7670 [==============================] - 1s 182us/step - loss: 885.7600 - mean_squared_error: 885.7600 - mean_absolute_error: 20.6918 - val_loss: 1891.2309 - val_mean_squared_error: 1891.2309 - val_mean_absolute_error: 25.8362\n",
      "Epoch 89/100\n",
      "7670/7670 [==============================] - 1s 192us/step - loss: 851.3710 - mean_squared_error: 851.3710 - mean_absolute_error: 20.2755 - val_loss: 1941.7091 - val_mean_squared_error: 1941.7091 - val_mean_absolute_error: 26.3795\n",
      "Epoch 90/100\n",
      "7670/7670 [==============================] - 2s 196us/step - loss: 949.1882 - mean_squared_error: 949.1882 - mean_absolute_error: 21.0374 - val_loss: 2227.0665 - val_mean_squared_error: 2227.0665 - val_mean_absolute_error: 28.3436\n",
      "Epoch 91/100\n",
      "7670/7670 [==============================] - 1s 192us/step - loss: 948.2711 - mean_squared_error: 948.2711 - mean_absolute_error: 21.1327 - val_loss: 1833.5983 - val_mean_squared_error: 1833.5983 - val_mean_absolute_error: 25.4134\n",
      "Epoch 92/100\n",
      "7670/7670 [==============================] - 2s 277us/step - loss: 891.4456 - mean_squared_error: 891.4456 - mean_absolute_error: 20.5975 - val_loss: 1893.9895 - val_mean_squared_error: 1893.9895 - val_mean_absolute_error: 26.1798\n",
      "Epoch 93/100\n",
      "7670/7670 [==============================] - 2s 211us/step - loss: 920.1257 - mean_squared_error: 920.1257 - mean_absolute_error: 21.1563 - val_loss: 1861.9981 - val_mean_squared_error: 1861.9981 - val_mean_absolute_error: 25.7198\n",
      "Epoch 94/100\n",
      "7670/7670 [==============================] - 2s 257us/step - loss: 909.7291 - mean_squared_error: 909.7291 - mean_absolute_error: 20.8453 - val_loss: 1877.0613 - val_mean_squared_error: 1877.0613 - val_mean_absolute_error: 26.0096\n",
      "Epoch 95/100\n",
      "7670/7670 [==============================] - 2s 209us/step - loss: 918.3289 - mean_squared_error: 918.3289 - mean_absolute_error: 20.9863 - val_loss: 1798.0791 - val_mean_squared_error: 1798.0791 - val_mean_absolute_error: 25.1233\n",
      "Epoch 96/100\n",
      "7670/7670 [==============================] - 1s 158us/step - loss: 835.7438 - mean_squared_error: 835.7438 - mean_absolute_error: 20.0990 - val_loss: 1884.9498 - val_mean_squared_error: 1884.9498 - val_mean_absolute_error: 25.5606\n",
      "Epoch 97/100\n",
      "7670/7670 [==============================] - 2s 210us/step - loss: 968.2438 - mean_squared_error: 968.2438 - mean_absolute_error: 21.4575 - val_loss: 1892.5571 - val_mean_squared_error: 1892.5571 - val_mean_absolute_error: 25.7224\n",
      "Epoch 98/100\n",
      "7670/7670 [==============================] - 1s 188us/step - loss: 837.4412 - mean_squared_error: 837.4412 - mean_absolute_error: 20.3487 - val_loss: 1862.0269 - val_mean_squared_error: 1862.0269 - val_mean_absolute_error: 25.1675\n",
      "Epoch 99/100\n",
      "7670/7670 [==============================] - 2s 216us/step - loss: 1001.4264 - mean_squared_error: 1001.4264 - mean_absolute_error: 21.3407 - val_loss: 1936.0040 - val_mean_squared_error: 1936.0040 - val_mean_absolute_error: 26.5958\n",
      "Epoch 100/100\n",
      "7670/7670 [==============================] - 2s 207us/step - loss: 930.9307 - mean_squared_error: 930.9307 - mean_absolute_error: 21.1984 - val_loss: 1938.7734 - val_mean_squared_error: 1938.7734 - val_mean_absolute_error: 26.0384\n"
     ]
    }
   ],
   "source": [
    "history_model_3 = model_Split_3.fit(X_train_model_3, y_train_model_3, epochs=100, batch_size=60,  verbose=1, validation_split=0.2)"
   ]
  },
  {
   "cell_type": "code",
   "execution_count": 73,
   "metadata": {},
   "outputs": [],
   "source": [
    "y_pred_model_3 = model_Split_3.predict(X_test_model_3)"
   ]
  },
  {
   "cell_type": "code",
   "execution_count": 74,
   "metadata": {},
   "outputs": [
    {
     "name": "stdout",
     "output_type": "stream",
     "text": [
      "RMSLE model 3: 0.38490117081980485\n"
     ]
    }
   ],
   "source": [
    "print('RMSLE model 3:', np.sqrt(mean_squared_log_error(y_test_model_3, y_pred_model_3)))"
   ]
  },
  {
   "cell_type": "code",
   "execution_count": null,
   "metadata": {},
   "outputs": [],
   "source": []
  },
  {
   "cell_type": "markdown",
   "metadata": {},
   "source": [
    "#### Model 4"
   ]
  },
  {
   "cell_type": "markdown",
   "metadata": {},
   "source": [
    "Take set 1,2,3,5 for train and set 4 for test:"
   ]
  },
  {
   "cell_type": "markdown",
   "metadata": {},
   "source": [
    " `concat()` train_parts which are pandas dataFrames \n",
    " \n",
    " https://pandas.pydata.org/pandas-docs/stable/user_guide/merging.html"
   ]
  },
  {
   "cell_type": "code",
   "execution_count": 75,
   "metadata": {},
   "outputs": [],
   "source": [
    "temp4 = [train_part_1, train_part_2, train_part_3, train_part_5]\n",
    "train_model_4 = pd.concat(temp4)\n",
    "\n",
    "temp4 = [train_part_4]\n",
    "test_model_4= pd.concat(temp4)"
   ]
  },
  {
   "cell_type": "code",
   "execution_count": 76,
   "metadata": {},
   "outputs": [],
   "source": [
    "y_train_model_4 = train_model_4['count']\n",
    "X_train_model_4 = train_model_4[['temp', 'humidity','season_1','season_2','season_3','season_4','year_0','year_1','month_1','month_2','month_3','month_4','month_5','month_6','month_7','month_8','month_9','month_10','month_11','month_12','hour_0','hour_1','hour_2','hour_3','hour_4','hour_5','hour_6','hour_7','hour_8','hour_9','hour_10','hour_11','hour_12','hour_13','hour_14','hour_15','hour_16','hour_17','hour_18','hour_19','hour_20','hour_21','hour_22','hour_23','weekday_0','weekday_1','weekday_2','weekday_3','weekday_4','weekday_5','weekday_6','weather_1','weather_2','weather_3','holiday_0','holiday_1']]\n",
    "\n",
    "y_test_model_4 = test_model_4['count']\n",
    "X_test_model_4 = test_model_4[['temp', 'humidity','season_1','season_2','season_3','season_4','year_0','year_1','month_1','month_2','month_3','month_4','month_5','month_6','month_7','month_8','month_9','month_10','month_11','month_12','hour_0','hour_1','hour_2','hour_3','hour_4','hour_5','hour_6','hour_7','hour_8','hour_9','hour_10','hour_11','hour_12','hour_13','hour_14','hour_15','hour_16','hour_17','hour_18','hour_19','hour_20','hour_21','hour_22','hour_23','weekday_0','weekday_1','weekday_2','weekday_3','weekday_4','weekday_5','weekday_6','weather_1','weather_2','weather_3','holiday_0','holiday_1']]"
   ]
  },
  {
   "cell_type": "code",
   "execution_count": null,
   "metadata": {},
   "outputs": [],
   "source": []
  },
  {
   "cell_type": "code",
   "execution_count": 77,
   "metadata": {},
   "outputs": [
    {
     "data": {
      "text/plain": [
       "(9588, 56)"
      ]
     },
     "execution_count": 77,
     "metadata": {},
     "output_type": "execute_result"
    }
   ],
   "source": [
    "X_train_model_4.shape"
   ]
  },
  {
   "cell_type": "markdown",
   "metadata": {},
   "source": [
    "Make neurotic shape:"
   ]
  },
  {
   "cell_type": "code",
   "execution_count": 78,
   "metadata": {},
   "outputs": [
    {
     "name": "stdout",
     "output_type": "stream",
     "text": [
      "_________________________________________________________________\n",
      "Layer (type)                 Output Shape              Param #   \n",
      "=================================================================\n",
      "dense_21 (Dense)             (None, 120)               6720      \n",
      "_________________________________________________________________\n",
      "batch_normalization_17 (Batc (None, 120)               480       \n",
      "_________________________________________________________________\n",
      "activation_17 (Activation)   (None, 120)               0         \n",
      "_________________________________________________________________\n",
      "gaussian_noise_4 (GaussianNo (None, 120)               0         \n",
      "_________________________________________________________________\n",
      "dropout_4 (Dropout)          (None, 120)               0         \n",
      "_________________________________________________________________\n",
      "dense_22 (Dense)             (None, 80)                9600      \n",
      "_________________________________________________________________\n",
      "batch_normalization_18 (Batc (None, 80)                320       \n",
      "_________________________________________________________________\n",
      "activation_18 (Activation)   (None, 80)                0         \n",
      "_________________________________________________________________\n",
      "dense_23 (Dense)             (None, 40)                3200      \n",
      "_________________________________________________________________\n",
      "batch_normalization_19 (Batc (None, 40)                160       \n",
      "_________________________________________________________________\n",
      "activation_19 (Activation)   (None, 40)                0         \n",
      "_________________________________________________________________\n",
      "dense_24 (Dense)             (None, 12)                480       \n",
      "_________________________________________________________________\n",
      "batch_normalization_20 (Batc (None, 12)                48        \n",
      "_________________________________________________________________\n",
      "activation_20 (Activation)   (None, 12)                0         \n",
      "_________________________________________________________________\n",
      "dense_25 (Dense)             (None, 1)                 13        \n",
      "=================================================================\n",
      "Total params: 21,021\n",
      "Trainable params: 20,517\n",
      "Non-trainable params: 504\n",
      "_________________________________________________________________\n"
     ]
    }
   ],
   "source": [
    "model_Split_4 = Sequential()\n",
    "#model.add(Dense(120, input_dim=35, kernel_initializer='normal', activation='relu'))\n",
    "\n",
    "#model.add(GaussianNoise(0.01, input_shape=(59,)))\n",
    "#model.add(Dense(120, activation='relu'))\n",
    "\n",
    "model_Split_4.add(Dense(120, input_dim=56, kernel_initializer=RandomNormal(mean=0.0, stddev=0.05, seed=12), use_bias = False))\n",
    "model_Split_4.add(BatchNormalization())\n",
    "model_Split_4.add(Activation('relu'))\n",
    "model_Split_4.add(GaussianNoise(0.01))\n",
    "model_Split_4.add(Dropout(0.01))\n",
    "\n",
    "model_Split_4.add(Dense(80, use_bias = False))\n",
    "model_Split_4.add(BatchNormalization())\n",
    "model_Split_4.add(Activation('relu'))\n",
    "\n",
    "#model.add(Dropout(0.1))\n",
    "\n",
    "model_Split_4.add(Dense(40, use_bias = False))\n",
    "model_Split_4.add(BatchNormalization())\n",
    "model_Split_4.add(Activation('relu'))\n",
    "\n",
    "model_Split_4.add(Dense(12, use_bias = False))\n",
    "model_Split_4.add(BatchNormalization())\n",
    "model_Split_4.add(Activation('relu'))\n",
    "\n",
    "model_Split_4.add(Dense(1, activation='relu'))\n",
    "model_Split_4.summary()"
   ]
  },
  {
   "cell_type": "code",
   "execution_count": 79,
   "metadata": {},
   "outputs": [],
   "source": [
    "model_Split_4.compile(loss='mse', optimizer=Adam(lr= 0.008), metrics=['mse','mae'])"
   ]
  },
  {
   "cell_type": "code",
   "execution_count": null,
   "metadata": {},
   "outputs": [],
   "source": []
  },
  {
   "cell_type": "code",
   "execution_count": 80,
   "metadata": {
    "scrolled": true
   },
   "outputs": [
    {
     "name": "stdout",
     "output_type": "stream",
     "text": [
      "Train on 7670 samples, validate on 1918 samples\n",
      "Epoch 1/100\n",
      "7670/7670 [==============================] - 8s 1ms/step - loss: 54450.4366 - mean_squared_error: 54450.4366 - mean_absolute_error: 173.0828 - val_loss: 32558.3533 - val_mean_squared_error: 32558.3533 - val_mean_absolute_error: 134.3087\n",
      "Epoch 2/100\n",
      "7670/7670 [==============================] - 1s 186us/step - loss: 33067.8027 - mean_squared_error: 33067.8027 - mean_absolute_error: 134.2774 - val_loss: 4591.9218 - val_mean_squared_error: 4591.9218 - val_mean_absolute_error: 48.7771\n",
      "Epoch 3/100\n",
      "7670/7670 [==============================] - 1s 168us/step - loss: 9279.7494 - mean_squared_error: 9279.7494 - mean_absolute_error: 67.2239 - val_loss: 3638.2995 - val_mean_squared_error: 3638.2995 - val_mean_absolute_error: 40.0225\n",
      "Epoch 4/100\n",
      "7670/7670 [==============================] - 1s 161us/step - loss: 3311.0794 - mean_squared_error: 3311.0794 - mean_absolute_error: 39.0876 - val_loss: 2483.5416 - val_mean_squared_error: 2483.5416 - val_mean_absolute_error: 33.0170\n",
      "Epoch 5/100\n",
      "7670/7670 [==============================] - 1s 186us/step - loss: 2819.3430 - mean_squared_error: 2819.3430 - mean_absolute_error: 35.4982 - val_loss: 2684.6334 - val_mean_squared_error: 2684.6334 - val_mean_absolute_error: 34.2704\n",
      "Epoch 6/100\n",
      "7670/7670 [==============================] - 2s 210us/step - loss: 2583.2148 - mean_squared_error: 2583.2148 - mean_absolute_error: 34.5112 - val_loss: 2304.0243 - val_mean_squared_error: 2304.0243 - val_mean_absolute_error: 30.6364\n",
      "Epoch 7/100\n",
      "7670/7670 [==============================] - 2s 220us/step - loss: 2511.5140 - mean_squared_error: 2511.5140 - mean_absolute_error: 33.6726 - val_loss: 2240.8793 - val_mean_squared_error: 2240.8793 - val_mean_absolute_error: 29.8341\n",
      "Epoch 8/100\n",
      "7670/7670 [==============================] - 1s 189us/step - loss: 2401.0781 - mean_squared_error: 2401.0781 - mean_absolute_error: 32.6003 - val_loss: 2052.8301 - val_mean_squared_error: 2052.8301 - val_mean_absolute_error: 28.1864\n",
      "Epoch 9/100\n",
      "7670/7670 [==============================] - 1s 182us/step - loss: 2281.7209 - mean_squared_error: 2281.7209 - mean_absolute_error: 31.9417 - val_loss: 2485.3338 - val_mean_squared_error: 2485.3338 - val_mean_absolute_error: 30.9806\n",
      "Epoch 10/100\n",
      "7670/7670 [==============================] - 2s 198us/step - loss: 2246.3194 - mean_squared_error: 2246.3194 - mean_absolute_error: 31.7005 - val_loss: 2157.5891 - val_mean_squared_error: 2157.5891 - val_mean_absolute_error: 28.6188\n",
      "Epoch 11/100\n",
      "7670/7670 [==============================] - 2s 203us/step - loss: 1993.4378 - mean_squared_error: 1993.4378 - mean_absolute_error: 30.0989 - val_loss: 2165.4265 - val_mean_squared_error: 2165.4265 - val_mean_absolute_error: 28.9731\n",
      "Epoch 12/100\n",
      "7670/7670 [==============================] - 1s 173us/step - loss: 1949.7963 - mean_squared_error: 1949.7963 - mean_absolute_error: 29.9334 - val_loss: 2099.0296 - val_mean_squared_error: 2099.0296 - val_mean_absolute_error: 27.4910\n",
      "Epoch 13/100\n",
      "7670/7670 [==============================] - 1s 173us/step - loss: 1940.0713 - mean_squared_error: 1940.0713 - mean_absolute_error: 29.5388 - val_loss: 2435.1582 - val_mean_squared_error: 2435.1582 - val_mean_absolute_error: 30.6315\n",
      "Epoch 14/100\n",
      "7670/7670 [==============================] - 2s 275us/step - loss: 2003.3885 - mean_squared_error: 2003.3885 - mean_absolute_error: 30.1659 - val_loss: 2012.9551 - val_mean_squared_error: 2012.9551 - val_mean_absolute_error: 27.0444\n",
      "Epoch 15/100\n",
      "7670/7670 [==============================] - 2s 223us/step - loss: 1860.3459 - mean_squared_error: 1860.3459 - mean_absolute_error: 29.1193 - val_loss: 2110.8241 - val_mean_squared_error: 2110.8241 - val_mean_absolute_error: 27.8462\n",
      "Epoch 16/100\n",
      "7670/7670 [==============================] - 2s 216us/step - loss: 1906.1604 - mean_squared_error: 1906.1604 - mean_absolute_error: 29.3763 - val_loss: 1925.4038 - val_mean_squared_error: 1925.4038 - val_mean_absolute_error: 25.8661\n",
      "Epoch 17/100\n",
      "7670/7670 [==============================] - 1s 184us/step - loss: 1722.2492 - mean_squared_error: 1722.2492 - mean_absolute_error: 28.2375 - val_loss: 2445.1920 - val_mean_squared_error: 2445.1920 - val_mean_absolute_error: 31.9469\n",
      "Epoch 18/100\n",
      "7670/7670 [==============================] - 2s 253us/step - loss: 1851.6947 - mean_squared_error: 1851.6947 - mean_absolute_error: 29.3259 - val_loss: 2218.3223 - val_mean_squared_error: 2218.3223 - val_mean_absolute_error: 28.6534\n",
      "Epoch 19/100\n",
      "7670/7670 [==============================] - 1s 167us/step - loss: 1912.1899 - mean_squared_error: 1912.1899 - mean_absolute_error: 29.7771 - val_loss: 1965.7306 - val_mean_squared_error: 1965.7306 - val_mean_absolute_error: 26.5986\n",
      "Epoch 20/100\n",
      "7670/7670 [==============================] - 2s 252us/step - loss: 1533.7085 - mean_squared_error: 1533.7085 - mean_absolute_error: 26.6539 - val_loss: 2007.5142 - val_mean_squared_error: 2007.5142 - val_mean_absolute_error: 26.7124\n",
      "Epoch 21/100\n",
      "7670/7670 [==============================] - 1s 194us/step - loss: 1588.8893 - mean_squared_error: 1588.8893 - mean_absolute_error: 27.0165 - val_loss: 2083.1321 - val_mean_squared_error: 2083.1321 - val_mean_absolute_error: 27.2689\n",
      "Epoch 22/100\n",
      "7670/7670 [==============================] - 1s 192us/step - loss: 1839.1465 - mean_squared_error: 1839.1465 - mean_absolute_error: 28.5757 - val_loss: 2177.7223 - val_mean_squared_error: 2177.7223 - val_mean_absolute_error: 27.8539\n",
      "Epoch 23/100\n",
      "7670/7670 [==============================] - 1s 184us/step - loss: 1799.0484 - mean_squared_error: 1799.0484 - mean_absolute_error: 28.6970 - val_loss: 2020.5533 - val_mean_squared_error: 2020.5533 - val_mean_absolute_error: 27.9285\n",
      "Epoch 24/100\n",
      "7670/7670 [==============================] - 2s 217us/step - loss: 1677.3373 - mean_squared_error: 1677.3373 - mean_absolute_error: 27.9476 - val_loss: 2088.0682 - val_mean_squared_error: 2088.0682 - val_mean_absolute_error: 27.0530\n",
      "Epoch 25/100\n",
      "7670/7670 [==============================] - 2s 232us/step - loss: 1504.4867 - mean_squared_error: 1504.4867 - mean_absolute_error: 26.3465 - val_loss: 2002.4845 - val_mean_squared_error: 2002.4845 - val_mean_absolute_error: 26.6340\n",
      "Epoch 26/100\n",
      "7670/7670 [==============================] - 2s 290us/step - loss: 1796.5332 - mean_squared_error: 1796.5332 - mean_absolute_error: 28.8616 - val_loss: 1938.2640 - val_mean_squared_error: 1938.2640 - val_mean_absolute_error: 26.2290\n",
      "Epoch 27/100\n",
      "7670/7670 [==============================] - 1s 177us/step - loss: 1624.1459 - mean_squared_error: 1624.1459 - mean_absolute_error: 27.5395 - val_loss: 1974.8120 - val_mean_squared_error: 1974.8120 - val_mean_absolute_error: 26.3855\n",
      "Epoch 28/100\n",
      "7670/7670 [==============================] - 1s 182us/step - loss: 1639.8144 - mean_squared_error: 1639.8144 - mean_absolute_error: 27.3244 - val_loss: 2213.9413 - val_mean_squared_error: 2213.9413 - val_mean_absolute_error: 27.5781\n",
      "Epoch 29/100\n",
      "7670/7670 [==============================] - 2s 225us/step - loss: 1499.1292 - mean_squared_error: 1499.1292 - mean_absolute_error: 26.3665 - val_loss: 1959.3606 - val_mean_squared_error: 1959.3606 - val_mean_absolute_error: 25.8001\n",
      "Epoch 30/100\n",
      "7670/7670 [==============================] - 1s 184us/step - loss: 1653.5775 - mean_squared_error: 1653.5775 - mean_absolute_error: 27.9362 - val_loss: 1983.5291 - val_mean_squared_error: 1983.5291 - val_mean_absolute_error: 26.4484\n",
      "Epoch 31/100\n",
      "7670/7670 [==============================] - 1s 173us/step - loss: 1475.9921 - mean_squared_error: 1475.9921 - mean_absolute_error: 26.3493 - val_loss: 2276.4805 - val_mean_squared_error: 2276.4805 - val_mean_absolute_error: 29.1968\n",
      "Epoch 32/100\n",
      "7670/7670 [==============================] - 2s 231us/step - loss: 1546.2870 - mean_squared_error: 1546.2870 - mean_absolute_error: 26.9657 - val_loss: 1978.6438 - val_mean_squared_error: 1978.6438 - val_mean_absolute_error: 26.8575\n",
      "Epoch 33/100\n",
      "7670/7670 [==============================] - 1s 170us/step - loss: 1399.2110 - mean_squared_error: 1399.2110 - mean_absolute_error: 25.7077 - val_loss: 2283.4654 - val_mean_squared_error: 2283.4654 - val_mean_absolute_error: 28.2583\n",
      "Epoch 34/100\n",
      "7670/7670 [==============================] - 2s 206us/step - loss: 1421.1187 - mean_squared_error: 1421.1187 - mean_absolute_error: 25.8024 - val_loss: 2260.7439 - val_mean_squared_error: 2260.7439 - val_mean_absolute_error: 28.4784\n",
      "Epoch 35/100\n",
      "7670/7670 [==============================] - 2s 216us/step - loss: 1408.9938 - mean_squared_error: 1408.9938 - mean_absolute_error: 25.6710 - val_loss: 2068.4752 - val_mean_squared_error: 2068.4752 - val_mean_absolute_error: 27.5377\n",
      "Epoch 36/100\n",
      "7670/7670 [==============================] - 2s 237us/step - loss: 1453.3296 - mean_squared_error: 1453.3296 - mean_absolute_error: 26.4550 - val_loss: 2058.6987 - val_mean_squared_error: 2058.6987 - val_mean_absolute_error: 27.0525\n",
      "Epoch 37/100\n",
      "7670/7670 [==============================] - 2s 196us/step - loss: 1387.0199 - mean_squared_error: 1387.0199 - mean_absolute_error: 25.2036 - val_loss: 2355.8977 - val_mean_squared_error: 2355.8977 - val_mean_absolute_error: 29.6393\n",
      "Epoch 38/100\n",
      "7670/7670 [==============================] - 2s 228us/step - loss: 1346.9114 - mean_squared_error: 1346.9114 - mean_absolute_error: 25.0338 - val_loss: 2115.8713 - val_mean_squared_error: 2115.8713 - val_mean_absolute_error: 26.9799\n",
      "Epoch 39/100\n",
      "7670/7670 [==============================] - 2s 223us/step - loss: 1338.3877 - mean_squared_error: 1338.3877 - mean_absolute_error: 24.9451 - val_loss: 2080.4491 - val_mean_squared_error: 2080.4491 - val_mean_absolute_error: 26.9874\n",
      "Epoch 40/100\n",
      "7670/7670 [==============================] - 2s 209us/step - loss: 1337.0877 - mean_squared_error: 1337.0877 - mean_absolute_error: 25.3501 - val_loss: 2082.6239 - val_mean_squared_error: 2082.6239 - val_mean_absolute_error: 26.9512\n",
      "Epoch 41/100\n",
      "7670/7670 [==============================] - 2s 267us/step - loss: 1273.9975 - mean_squared_error: 1273.9975 - mean_absolute_error: 24.8505 - val_loss: 2136.9238 - val_mean_squared_error: 2136.9238 - val_mean_absolute_error: 27.4918\n",
      "Epoch 42/100\n",
      "7670/7670 [==============================] - 2s 209us/step - loss: 1315.5741 - mean_squared_error: 1315.5741 - mean_absolute_error: 24.9681 - val_loss: 2041.2359 - val_mean_squared_error: 2041.2359 - val_mean_absolute_error: 27.5155\n",
      "Epoch 43/100\n",
      "7670/7670 [==============================] - 2s 226us/step - loss: 1297.5376 - mean_squared_error: 1297.5376 - mean_absolute_error: 25.3909 - val_loss: 2059.0180 - val_mean_squared_error: 2059.0180 - val_mean_absolute_error: 27.1035\n",
      "Epoch 44/100\n",
      "7670/7670 [==============================] - 2s 289us/step - loss: 1278.3806 - mean_squared_error: 1278.3806 - mean_absolute_error: 24.7904 - val_loss: 2515.0393 - val_mean_squared_error: 2515.0393 - val_mean_absolute_error: 30.1130\n",
      "Epoch 45/100\n",
      "7670/7670 [==============================] - 2s 235us/step - loss: 1316.1603 - mean_squared_error: 1316.1603 - mean_absolute_error: 25.1342 - val_loss: 2282.8326 - val_mean_squared_error: 2282.8326 - val_mean_absolute_error: 27.8821\n",
      "Epoch 46/100\n",
      "7670/7670 [==============================] - 2s 214us/step - loss: 1327.4240 - mean_squared_error: 1327.4240 - mean_absolute_error: 25.1437 - val_loss: 2041.5880 - val_mean_squared_error: 2041.5880 - val_mean_absolute_error: 26.6835\n",
      "Epoch 47/100\n",
      "7670/7670 [==============================] - 1s 184us/step - loss: 1131.7740 - mean_squared_error: 1131.7740 - mean_absolute_error: 23.1233 - val_loss: 1929.5044 - val_mean_squared_error: 1929.5044 - val_mean_absolute_error: 25.9513\n",
      "Epoch 48/100\n",
      "7670/7670 [==============================] - 2s 283us/step - loss: 1138.2205 - mean_squared_error: 1138.2205 - mean_absolute_error: 23.3610 - val_loss: 2240.4719 - val_mean_squared_error: 2240.4719 - val_mean_absolute_error: 28.6244\n",
      "Epoch 49/100\n",
      "7670/7670 [==============================] - 2s 202us/step - loss: 1289.5028 - mean_squared_error: 1289.5028 - mean_absolute_error: 24.9121 - val_loss: 2110.1900 - val_mean_squared_error: 2110.1900 - val_mean_absolute_error: 27.2656\n",
      "Epoch 50/100\n",
      "7670/7670 [==============================] - 2s 210us/step - loss: 1173.8292 - mean_squared_error: 1173.8292 - mean_absolute_error: 24.1085 - val_loss: 2100.4085 - val_mean_squared_error: 2100.4085 - val_mean_absolute_error: 27.0197\n",
      "Epoch 51/100\n",
      "7670/7670 [==============================] - 2s 206us/step - loss: 1264.0024 - mean_squared_error: 1264.0024 - mean_absolute_error: 24.6955 - val_loss: 2131.6934 - val_mean_squared_error: 2131.6934 - val_mean_absolute_error: 27.2529\n",
      "Epoch 52/100\n",
      "7670/7670 [==============================] - 2s 241us/step - loss: 1213.1641 - mean_squared_error: 1213.1641 - mean_absolute_error: 24.4243 - val_loss: 2022.7292 - val_mean_squared_error: 2022.7292 - val_mean_absolute_error: 26.9797\n",
      "Epoch 53/100\n",
      "7670/7670 [==============================] - 2s 219us/step - loss: 1224.3194 - mean_squared_error: 1224.3194 - mean_absolute_error: 24.4363 - val_loss: 2102.7804 - val_mean_squared_error: 2102.7804 - val_mean_absolute_error: 27.2777\n",
      "Epoch 54/100\n",
      "7670/7670 [==============================] - 2s 206us/step - loss: 1134.9275 - mean_squared_error: 1134.9275 - mean_absolute_error: 23.4308 - val_loss: 2021.9219 - val_mean_squared_error: 2021.9219 - val_mean_absolute_error: 26.6648\n",
      "Epoch 55/100\n",
      "7670/7670 [==============================] - 2s 227us/step - loss: 1151.0978 - mean_squared_error: 1151.0978 - mean_absolute_error: 23.5253 - val_loss: 2051.9192 - val_mean_squared_error: 2051.9192 - val_mean_absolute_error: 26.6114\n",
      "Epoch 56/100\n",
      "7670/7670 [==============================] - 1s 181us/step - loss: 1123.4899 - mean_squared_error: 1123.4899 - mean_absolute_error: 22.9685 - val_loss: 2140.5537 - val_mean_squared_error: 2140.5537 - val_mean_absolute_error: 27.9058\n",
      "Epoch 57/100\n",
      "7670/7670 [==============================] - 2s 216us/step - loss: 1217.0205 - mean_squared_error: 1217.0205 - mean_absolute_error: 24.3354 - val_loss: 2044.7550 - val_mean_squared_error: 2044.7550 - val_mean_absolute_error: 27.1932\n",
      "Epoch 58/100\n",
      "7670/7670 [==============================] - 2s 270us/step - loss: 1122.9385 - mean_squared_error: 1122.9385 - mean_absolute_error: 23.2604 - val_loss: 2155.7974 - val_mean_squared_error: 2155.7974 - val_mean_absolute_error: 27.3402\n",
      "Epoch 59/100\n",
      "7670/7670 [==============================] - 1s 195us/step - loss: 1097.4665 - mean_squared_error: 1097.4665 - mean_absolute_error: 22.9204 - val_loss: 2030.0963 - val_mean_squared_error: 2030.0963 - val_mean_absolute_error: 27.0183\n",
      "Epoch 60/100\n",
      "7670/7670 [==============================] - 2s 209us/step - loss: 1079.4669 - mean_squared_error: 1079.4669 - mean_absolute_error: 23.2955 - val_loss: 2089.2800 - val_mean_squared_error: 2089.2800 - val_mean_absolute_error: 26.6213\n",
      "Epoch 61/100\n",
      "7670/7670 [==============================] - 1s 180us/step - loss: 1099.5332 - mean_squared_error: 1099.5332 - mean_absolute_error: 23.1920 - val_loss: 2251.6372 - val_mean_squared_error: 2251.6372 - val_mean_absolute_error: 28.3739\n",
      "Epoch 62/100\n",
      "7670/7670 [==============================] - 2s 322us/step - loss: 1055.9948 - mean_squared_error: 1055.9948 - mean_absolute_error: 22.5718 - val_loss: 2076.7331 - val_mean_squared_error: 2076.7331 - val_mean_absolute_error: 27.2365\n",
      "Epoch 63/100\n",
      "7670/7670 [==============================] - 2s 300us/step - loss: 1103.1078 - mean_squared_error: 1103.1078 - mean_absolute_error: 23.1802 - val_loss: 2310.1966 - val_mean_squared_error: 2310.1966 - val_mean_absolute_error: 28.8309\n",
      "Epoch 64/100\n",
      "7670/7670 [==============================] - 2s 223us/step - loss: 1063.8421 - mean_squared_error: 1063.8421 - mean_absolute_error: 22.8509 - val_loss: 2293.9851 - val_mean_squared_error: 2293.9851 - val_mean_absolute_error: 28.6064\n",
      "Epoch 65/100\n",
      "7670/7670 [==============================] - 2s 199us/step - loss: 1034.9864 - mean_squared_error: 1034.9864 - mean_absolute_error: 22.6181 - val_loss: 2195.6795 - val_mean_squared_error: 2195.6795 - val_mean_absolute_error: 28.2651\n",
      "Epoch 66/100\n",
      "7670/7670 [==============================] - 1s 191us/step - loss: 1038.9545 - mean_squared_error: 1038.9545 - mean_absolute_error: 22.5615 - val_loss: 2102.5238 - val_mean_squared_error: 2102.5238 - val_mean_absolute_error: 26.9572\n",
      "Epoch 67/100\n"
     ]
    },
    {
     "name": "stdout",
     "output_type": "stream",
     "text": [
      "7670/7670 [==============================] - 2s 271us/step - loss: 1145.8516 - mean_squared_error: 1145.8516 - mean_absolute_error: 23.8487 - val_loss: 2168.9518 - val_mean_squared_error: 2168.9518 - val_mean_absolute_error: 27.7339\n",
      "Epoch 68/100\n",
      "7670/7670 [==============================] - 2s 247us/step - loss: 1066.7133 - mean_squared_error: 1066.7133 - mean_absolute_error: 22.8203 - val_loss: 2253.4159 - val_mean_squared_error: 2253.4159 - val_mean_absolute_error: 28.8168\n",
      "Epoch 69/100\n",
      "7670/7670 [==============================] - 2s 236us/step - loss: 1059.6357 - mean_squared_error: 1059.6357 - mean_absolute_error: 22.8622 - val_loss: 2111.5759 - val_mean_squared_error: 2111.5759 - val_mean_absolute_error: 26.8248\n",
      "Epoch 70/100\n",
      "7670/7670 [==============================] - 2s 223us/step - loss: 1028.7488 - mean_squared_error: 1028.7488 - mean_absolute_error: 22.5354 - val_loss: 2031.7294 - val_mean_squared_error: 2031.7294 - val_mean_absolute_error: 26.3168\n",
      "Epoch 71/100\n",
      "7670/7670 [==============================] - 2s 222us/step - loss: 997.8108 - mean_squared_error: 997.8108 - mean_absolute_error: 22.1121 - val_loss: 2021.2112 - val_mean_squared_error: 2021.2112 - val_mean_absolute_error: 26.4144\n",
      "Epoch 72/100\n",
      "7670/7670 [==============================] - 2s 237us/step - loss: 1063.6539 - mean_squared_error: 1063.6539 - mean_absolute_error: 22.8099 - val_loss: 2161.2118 - val_mean_squared_error: 2161.2118 - val_mean_absolute_error: 27.8268\n",
      "Epoch 73/100\n",
      "7670/7670 [==============================] - 2s 242us/step - loss: 958.1782 - mean_squared_error: 958.1782 - mean_absolute_error: 21.7798 - val_loss: 2447.5789 - val_mean_squared_error: 2447.5789 - val_mean_absolute_error: 29.8265\n",
      "Epoch 74/100\n",
      "7670/7670 [==============================] - 2s 210us/step - loss: 989.2310 - mean_squared_error: 989.2310 - mean_absolute_error: 21.9573 - val_loss: 1984.5316 - val_mean_squared_error: 1984.5316 - val_mean_absolute_error: 26.0978\n",
      "Epoch 75/100\n",
      "7670/7670 [==============================] - 2s 229us/step - loss: 926.6425 - mean_squared_error: 926.6425 - mean_absolute_error: 21.5190 - val_loss: 2028.8687 - val_mean_squared_error: 2028.8687 - val_mean_absolute_error: 26.3208\n",
      "Epoch 76/100\n",
      "7670/7670 [==============================] - 2s 196us/step - loss: 1017.1178 - mean_squared_error: 1017.1178 - mean_absolute_error: 22.2045 - val_loss: 2188.7802 - val_mean_squared_error: 2188.7802 - val_mean_absolute_error: 27.6401\n",
      "Epoch 77/100\n",
      "7670/7670 [==============================] - 1s 178us/step - loss: 1022.7396 - mean_squared_error: 1022.7396 - mean_absolute_error: 22.1429 - val_loss: 1982.6897 - val_mean_squared_error: 1982.6897 - val_mean_absolute_error: 26.3740\n",
      "Epoch 78/100\n",
      "7670/7670 [==============================] - 2s 292us/step - loss: 967.0113 - mean_squared_error: 967.0113 - mean_absolute_error: 21.6940 - val_loss: 2191.0918 - val_mean_squared_error: 2191.0918 - val_mean_absolute_error: 28.3279\n",
      "Epoch 79/100\n",
      "7670/7670 [==============================] - 2s 272us/step - loss: 969.1569 - mean_squared_error: 969.1569 - mean_absolute_error: 21.7301 - val_loss: 1937.4572 - val_mean_squared_error: 1937.4572 - val_mean_absolute_error: 25.5040\n",
      "Epoch 80/100\n",
      "7670/7670 [==============================] - 2s 202us/step - loss: 922.9554 - mean_squared_error: 922.9554 - mean_absolute_error: 21.1440 - val_loss: 2249.6399 - val_mean_squared_error: 2249.6399 - val_mean_absolute_error: 28.0778\n",
      "Epoch 81/100\n",
      "7670/7670 [==============================] - 2s 258us/step - loss: 874.1278 - mean_squared_error: 874.1278 - mean_absolute_error: 20.5168 - val_loss: 1891.0534 - val_mean_squared_error: 1891.0534 - val_mean_absolute_error: 25.5592\n",
      "Epoch 82/100\n",
      "7670/7670 [==============================] - 1s 195us/step - loss: 902.7248 - mean_squared_error: 902.7248 - mean_absolute_error: 20.7972 - val_loss: 2062.9856 - val_mean_squared_error: 2062.9856 - val_mean_absolute_error: 26.9344\n",
      "Epoch 83/100\n",
      "7670/7670 [==============================] - 2s 229us/step - loss: 879.8485 - mean_squared_error: 879.8485 - mean_absolute_error: 20.7143 - val_loss: 2091.6243 - val_mean_squared_error: 2091.6243 - val_mean_absolute_error: 27.4491\n",
      "Epoch 84/100\n",
      "7670/7670 [==============================] - 2s 283us/step - loss: 919.0362 - mean_squared_error: 919.0362 - mean_absolute_error: 20.9838 - val_loss: 2009.1561 - val_mean_squared_error: 2009.1561 - val_mean_absolute_error: 26.7147\n",
      "Epoch 85/100\n",
      "7670/7670 [==============================] - 2s 204us/step - loss: 845.9430 - mean_squared_error: 845.9430 - mean_absolute_error: 20.3753 - val_loss: 2016.1657 - val_mean_squared_error: 2016.1657 - val_mean_absolute_error: 26.2674\n",
      "Epoch 86/100\n",
      "7670/7670 [==============================] - 2s 277us/step - loss: 900.8106 - mean_squared_error: 900.8106 - mean_absolute_error: 20.9286 - val_loss: 1961.1877 - val_mean_squared_error: 1961.1877 - val_mean_absolute_error: 26.0552\n",
      "Epoch 87/100\n",
      "7670/7670 [==============================] - 2s 219us/step - loss: 855.7121 - mean_squared_error: 855.7121 - mean_absolute_error: 20.4451 - val_loss: 2473.8294 - val_mean_squared_error: 2473.8294 - val_mean_absolute_error: 29.7464\n",
      "Epoch 88/100\n",
      "7670/7670 [==============================] - 2s 217us/step - loss: 1024.8027 - mean_squared_error: 1024.8027 - mean_absolute_error: 22.4079 - val_loss: 1964.2315 - val_mean_squared_error: 1964.2315 - val_mean_absolute_error: 26.1470\n",
      "Epoch 89/100\n",
      "7670/7670 [==============================] - 2s 258us/step - loss: 936.7362 - mean_squared_error: 936.7362 - mean_absolute_error: 20.9942 - val_loss: 2122.7688 - val_mean_squared_error: 2122.7688 - val_mean_absolute_error: 27.1635\n",
      "Epoch 90/100\n",
      "7670/7670 [==============================] - 2s 227us/step - loss: 874.0258 - mean_squared_error: 874.0258 - mean_absolute_error: 20.5888 - val_loss: 2064.7892 - val_mean_squared_error: 2064.7892 - val_mean_absolute_error: 26.6847\n",
      "Epoch 91/100\n",
      "7670/7670 [==============================] - 2s 212us/step - loss: 929.4244 - mean_squared_error: 929.4244 - mean_absolute_error: 21.5522 - val_loss: 1998.9967 - val_mean_squared_error: 1998.9967 - val_mean_absolute_error: 26.1476\n",
      "Epoch 92/100\n",
      "7670/7670 [==============================] - 1s 181us/step - loss: 925.8417 - mean_squared_error: 925.8417 - mean_absolute_error: 21.2898 - val_loss: 2110.3249 - val_mean_squared_error: 2110.3249 - val_mean_absolute_error: 26.8684\n",
      "Epoch 93/100\n",
      "7670/7670 [==============================] - 2s 206us/step - loss: 846.4097 - mean_squared_error: 846.4097 - mean_absolute_error: 20.4100 - val_loss: 2139.5431 - val_mean_squared_error: 2139.5431 - val_mean_absolute_error: 27.3018\n",
      "Epoch 94/100\n",
      "7670/7670 [==============================] - 2s 202us/step - loss: 845.0475 - mean_squared_error: 845.0475 - mean_absolute_error: 20.2360 - val_loss: 1975.8820 - val_mean_squared_error: 1975.8820 - val_mean_absolute_error: 26.2278\n",
      "Epoch 95/100\n",
      "7670/7670 [==============================] - 2s 257us/step - loss: 860.4345 - mean_squared_error: 860.4345 - mean_absolute_error: 20.7069 - val_loss: 1981.6354 - val_mean_squared_error: 1981.6354 - val_mean_absolute_error: 26.2307\n",
      "Epoch 96/100\n",
      "7670/7670 [==============================] - 2s 223us/step - loss: 863.9807 - mean_squared_error: 863.9807 - mean_absolute_error: 20.1659 - val_loss: 2029.5321 - val_mean_squared_error: 2029.5321 - val_mean_absolute_error: 26.5553\n",
      "Epoch 97/100\n",
      "7670/7670 [==============================] - 2s 208us/step - loss: 841.7750 - mean_squared_error: 841.7750 - mean_absolute_error: 20.2705 - val_loss: 1986.5214 - val_mean_squared_error: 1986.5214 - val_mean_absolute_error: 26.5785\n",
      "Epoch 98/100\n",
      "7670/7670 [==============================] - 2s 218us/step - loss: 845.4977 - mean_squared_error: 845.4977 - mean_absolute_error: 20.2583 - val_loss: 2046.3430 - val_mean_squared_error: 2046.3430 - val_mean_absolute_error: 26.7139\n",
      "Epoch 99/100\n",
      "7670/7670 [==============================] - 1s 169us/step - loss: 827.9161 - mean_squared_error: 827.9161 - mean_absolute_error: 20.0637 - val_loss: 1946.7385 - val_mean_squared_error: 1946.7385 - val_mean_absolute_error: 25.8388\n",
      "Epoch 100/100\n",
      "7670/7670 [==============================] - 1s 167us/step - loss: 803.9415 - mean_squared_error: 803.9415 - mean_absolute_error: 19.7011 - val_loss: 1963.4872 - val_mean_squared_error: 1963.4872 - val_mean_absolute_error: 26.2175\n"
     ]
    },
    {
     "data": {
      "text/plain": [
       "<keras.callbacks.History at 0x215285b1308>"
      ]
     },
     "execution_count": 80,
     "metadata": {},
     "output_type": "execute_result"
    }
   ],
   "source": [
    "model_Split_4.fit(X_train_model_4, y_train_model_4, epochs=100, batch_size=60,  verbose=1, validation_split=0.2)"
   ]
  },
  {
   "cell_type": "code",
   "execution_count": 81,
   "metadata": {},
   "outputs": [],
   "source": [
    "y_pred_model_4 = model_Split_4.predict(X_test_model_4)"
   ]
  },
  {
   "cell_type": "code",
   "execution_count": 82,
   "metadata": {},
   "outputs": [
    {
     "name": "stdout",
     "output_type": "stream",
     "text": [
      "RMSLE model 4: 0.4615666973589161\n"
     ]
    }
   ],
   "source": [
    "print('RMSLE model 4:', np.sqrt(mean_squared_log_error(y_test_model_4, y_pred_model_4)))"
   ]
  },
  {
   "cell_type": "code",
   "execution_count": null,
   "metadata": {},
   "outputs": [],
   "source": []
  },
  {
   "cell_type": "markdown",
   "metadata": {},
   "source": [
    "#### Model 5"
   ]
  },
  {
   "cell_type": "markdown",
   "metadata": {},
   "source": [
    "Take set 1,2,3,4 for train and set 5 for test:"
   ]
  },
  {
   "cell_type": "markdown",
   "metadata": {},
   "source": [
    " `concat()` train_parts which are pandas dataFrames \n",
    " \n",
    " https://pandas.pydata.org/pandas-docs/stable/user_guide/merging.html"
   ]
  },
  {
   "cell_type": "code",
   "execution_count": 83,
   "metadata": {},
   "outputs": [],
   "source": [
    "temp5 = [train_part_1, train_part_2, train_part_3, train_part_4]\n",
    "train_model_5 = pd.concat(temp5)\n",
    "\n",
    "temp5 = [train_part_5]\n",
    "test_model_5= pd.concat(temp5)"
   ]
  },
  {
   "cell_type": "code",
   "execution_count": 84,
   "metadata": {},
   "outputs": [],
   "source": [
    "y_train_model_5 = train_model_5['count']\n",
    "X_train_model_5 = train_model_5[['temp', 'humidity','season_1','season_2','season_3','season_4','year_0','year_1','month_1','month_2','month_3','month_4','month_5','month_6','month_7','month_8','month_9','month_10','month_11','month_12','hour_0','hour_1','hour_2','hour_3','hour_4','hour_5','hour_6','hour_7','hour_8','hour_9','hour_10','hour_11','hour_12','hour_13','hour_14','hour_15','hour_16','hour_17','hour_18','hour_19','hour_20','hour_21','hour_22','hour_23','weekday_0','weekday_1','weekday_2','weekday_3','weekday_4','weekday_5','weekday_6','weather_1','weather_2','weather_3','holiday_0','holiday_1']]\n",
    "\n",
    "y_test_model_5 = test_model_5['count']\n",
    "X_test_model_5 = test_model_5[['temp', 'humidity','season_1','season_2','season_3','season_4','year_0','year_1','month_1','month_2','month_3','month_4','month_5','month_6','month_7','month_8','month_9','month_10','month_11','month_12','hour_0','hour_1','hour_2','hour_3','hour_4','hour_5','hour_6','hour_7','hour_8','hour_9','hour_10','hour_11','hour_12','hour_13','hour_14','hour_15','hour_16','hour_17','hour_18','hour_19','hour_20','hour_21','hour_22','hour_23','weekday_0','weekday_1','weekday_2','weekday_3','weekday_4','weekday_5','weekday_6','weather_1','weather_2','weather_3','holiday_0','holiday_1']]"
   ]
  },
  {
   "cell_type": "code",
   "execution_count": null,
   "metadata": {},
   "outputs": [],
   "source": []
  },
  {
   "cell_type": "code",
   "execution_count": 85,
   "metadata": {},
   "outputs": [
    {
     "data": {
      "text/plain": [
       "(9588, 56)"
      ]
     },
     "execution_count": 85,
     "metadata": {},
     "output_type": "execute_result"
    }
   ],
   "source": [
    "X_train_model_5.shape"
   ]
  },
  {
   "cell_type": "markdown",
   "metadata": {},
   "source": [
    "Make neurotic shape:"
   ]
  },
  {
   "cell_type": "code",
   "execution_count": 86,
   "metadata": {},
   "outputs": [
    {
     "name": "stdout",
     "output_type": "stream",
     "text": [
      "_________________________________________________________________\n",
      "Layer (type)                 Output Shape              Param #   \n",
      "=================================================================\n",
      "dense_26 (Dense)             (None, 120)               6720      \n",
      "_________________________________________________________________\n",
      "batch_normalization_21 (Batc (None, 120)               480       \n",
      "_________________________________________________________________\n",
      "activation_21 (Activation)   (None, 120)               0         \n",
      "_________________________________________________________________\n",
      "gaussian_noise_5 (GaussianNo (None, 120)               0         \n",
      "_________________________________________________________________\n",
      "dropout_5 (Dropout)          (None, 120)               0         \n",
      "_________________________________________________________________\n",
      "dense_27 (Dense)             (None, 80)                9600      \n",
      "_________________________________________________________________\n",
      "batch_normalization_22 (Batc (None, 80)                320       \n",
      "_________________________________________________________________\n",
      "activation_22 (Activation)   (None, 80)                0         \n",
      "_________________________________________________________________\n",
      "dense_28 (Dense)             (None, 40)                3200      \n",
      "_________________________________________________________________\n",
      "batch_normalization_23 (Batc (None, 40)                160       \n",
      "_________________________________________________________________\n",
      "activation_23 (Activation)   (None, 40)                0         \n",
      "_________________________________________________________________\n",
      "dense_29 (Dense)             (None, 12)                480       \n",
      "_________________________________________________________________\n",
      "batch_normalization_24 (Batc (None, 12)                48        \n",
      "_________________________________________________________________\n",
      "activation_24 (Activation)   (None, 12)                0         \n",
      "_________________________________________________________________\n",
      "dense_30 (Dense)             (None, 1)                 13        \n",
      "=================================================================\n",
      "Total params: 21,021\n",
      "Trainable params: 20,517\n",
      "Non-trainable params: 504\n",
      "_________________________________________________________________\n"
     ]
    }
   ],
   "source": [
    "model_Split_5 = Sequential()\n",
    "#model.add(Dense(120, input_dim=35, kernel_initializer='normal', activation='relu'))\n",
    "\n",
    "#model.add(GaussianNoise(0.01, input_shape=(59,)))\n",
    "#model.add(Dense(120, activation='relu'))\n",
    "\n",
    "model_Split_5.add(Dense(120, input_dim=56, kernel_initializer=RandomNormal(mean=0.0, stddev=0.05, seed=12), use_bias = False))\n",
    "model_Split_5.add(BatchNormalization())\n",
    "model_Split_5.add(Activation('relu'))\n",
    "model_Split_5.add(GaussianNoise(0.01))\n",
    "model_Split_5.add(Dropout(0.01))\n",
    "\n",
    "model_Split_5.add(Dense(80, use_bias = False))\n",
    "model_Split_5.add(BatchNormalization())\n",
    "model_Split_5.add(Activation('relu'))\n",
    "\n",
    "#model.add(Dropout(0.1))\n",
    "\n",
    "model_Split_5.add(Dense(40, use_bias = False))\n",
    "model_Split_5.add(BatchNormalization())\n",
    "model_Split_5.add(Activation('relu'))\n",
    "\n",
    "model_Split_5.add(Dense(12, use_bias = False))\n",
    "model_Split_5.add(BatchNormalization())\n",
    "model_Split_5.add(Activation('relu'))\n",
    "\n",
    "model_Split_5.add(Dense(1, activation='relu'))\n",
    "model_Split_5.summary()"
   ]
  },
  {
   "cell_type": "code",
   "execution_count": 87,
   "metadata": {},
   "outputs": [],
   "source": [
    "model_Split_5.compile(loss='mse', optimizer=Adam(lr= 0.008), metrics=['mse','mae'])"
   ]
  },
  {
   "cell_type": "code",
   "execution_count": null,
   "metadata": {},
   "outputs": [],
   "source": []
  },
  {
   "cell_type": "code",
   "execution_count": 88,
   "metadata": {
    "scrolled": true
   },
   "outputs": [
    {
     "name": "stdout",
     "output_type": "stream",
     "text": [
      "Train on 7670 samples, validate on 1918 samples\n",
      "Epoch 1/100\n",
      "7670/7670 [==============================] - 9s 1ms/step - loss: 55671.0202 - mean_squared_error: 55671.0202 - mean_absolute_error: 174.4129 - val_loss: 50016.0535 - val_mean_squared_error: 50016.0535 - val_mean_absolute_error: 164.3538\n",
      "Epoch 2/100\n",
      "7670/7670 [==============================] - 1s 156us/step - loss: 45030.4371 - mean_squared_error: 45030.4371 - mean_absolute_error: 156.8607 - val_loss: 28187.1635 - val_mean_squared_error: 28187.1635 - val_mean_absolute_error: 127.5141\n",
      "Epoch 3/100\n",
      "7670/7670 [==============================] - 1s 154us/step - loss: 20854.4616 - mean_squared_error: 20854.4616 - mean_absolute_error: 104.7343 - val_loss: 4875.7433 - val_mean_squared_error: 4875.7433 - val_mean_absolute_error: 51.5926\n",
      "Epoch 4/100\n",
      "7670/7670 [==============================] - 1s 136us/step - loss: 5631.0115 - mean_squared_error: 5631.0115 - mean_absolute_error: 51.4603 - val_loss: 2984.9170 - val_mean_squared_error: 2984.9170 - val_mean_absolute_error: 36.3043\n",
      "Epoch 5/100\n",
      "7670/7670 [==============================] - 1s 139us/step - loss: 3013.1945 - mean_squared_error: 3013.1945 - mean_absolute_error: 36.9223 - val_loss: 2379.8186 - val_mean_squared_error: 2379.8186 - val_mean_absolute_error: 32.3052\n",
      "Epoch 6/100\n",
      "7670/7670 [==============================] - 1s 139us/step - loss: 2612.3000 - mean_squared_error: 2612.3000 - mean_absolute_error: 34.1377 - val_loss: 3614.6688 - val_mean_squared_error: 3614.6688 - val_mean_absolute_error: 40.8889\n",
      "Epoch 7/100\n",
      "7670/7670 [==============================] - 1s 130us/step - loss: 2432.2285 - mean_squared_error: 2432.2285 - mean_absolute_error: 33.3067 - val_loss: 2572.5224 - val_mean_squared_error: 2572.5224 - val_mean_absolute_error: 33.0123\n",
      "Epoch 8/100\n",
      "7670/7670 [==============================] - 1s 151us/step - loss: 2326.0744 - mean_squared_error: 2326.0744 - mean_absolute_error: 31.8035 - val_loss: 1977.0490 - val_mean_squared_error: 1977.0490 - val_mean_absolute_error: 28.8495\n",
      "Epoch 9/100\n",
      "7670/7670 [==============================] - 1s 163us/step - loss: 2252.6043 - mean_squared_error: 2252.6043 - mean_absolute_error: 31.6207 - val_loss: 2004.4002 - val_mean_squared_error: 2004.4002 - val_mean_absolute_error: 28.5919\n",
      "Epoch 10/100\n",
      "7670/7670 [==============================] - 1s 144us/step - loss: 2189.5481 - mean_squared_error: 2189.5481 - mean_absolute_error: 31.0426 - val_loss: 1893.7527 - val_mean_squared_error: 1893.7527 - val_mean_absolute_error: 27.2337\n",
      "Epoch 11/100\n",
      "7670/7670 [==============================] - 1s 144us/step - loss: 2058.9790 - mean_squared_error: 2058.9790 - mean_absolute_error: 30.2944 - val_loss: 1883.9427 - val_mean_squared_error: 1883.9427 - val_mean_absolute_error: 27.4906\n",
      "Epoch 12/100\n",
      "7670/7670 [==============================] - 1s 141us/step - loss: 1878.0390 - mean_squared_error: 1878.0390 - mean_absolute_error: 29.1203 - val_loss: 3010.9554 - val_mean_squared_error: 3010.9554 - val_mean_absolute_error: 35.6963\n",
      "Epoch 13/100\n",
      "7670/7670 [==============================] - 1s 128us/step - loss: 2090.7562 - mean_squared_error: 2090.7562 - mean_absolute_error: 30.6104 - val_loss: 1836.0358 - val_mean_squared_error: 1836.0358 - val_mean_absolute_error: 27.1271\n",
      "Epoch 14/100\n",
      "7670/7670 [==============================] - 1s 129us/step - loss: 1992.9666 - mean_squared_error: 1992.9666 - mean_absolute_error: 29.8664 - val_loss: 1978.0111 - val_mean_squared_error: 1978.0111 - val_mean_absolute_error: 28.1650\n",
      "Epoch 15/100\n",
      "7670/7670 [==============================] - 1s 129us/step - loss: 1778.2810 - mean_squared_error: 1778.2810 - mean_absolute_error: 28.2416 - val_loss: 2594.3307 - val_mean_squared_error: 2594.3307 - val_mean_absolute_error: 32.2093\n",
      "Epoch 16/100\n",
      "7670/7670 [==============================] - 1s 128us/step - loss: 1760.7861 - mean_squared_error: 1760.7861 - mean_absolute_error: 27.7955 - val_loss: 1835.2436 - val_mean_squared_error: 1835.2436 - val_mean_absolute_error: 26.8210\n",
      "Epoch 17/100\n",
      "7670/7670 [==============================] - 1s 176us/step - loss: 1696.2868 - mean_squared_error: 1696.2868 - mean_absolute_error: 27.5786 - val_loss: 1819.9819 - val_mean_squared_error: 1819.9819 - val_mean_absolute_error: 26.6857\n",
      "Epoch 18/100\n",
      "7670/7670 [==============================] - 1s 124us/step - loss: 1700.2654 - mean_squared_error: 1700.2654 - mean_absolute_error: 27.7755 - val_loss: 1880.5915 - val_mean_squared_error: 1880.5915 - val_mean_absolute_error: 27.2996\n",
      "Epoch 19/100\n",
      "7670/7670 [==============================] - 1s 129us/step - loss: 1833.8708 - mean_squared_error: 1833.8708 - mean_absolute_error: 29.0452 - val_loss: 1903.4864 - val_mean_squared_error: 1903.4864 - val_mean_absolute_error: 27.2356\n",
      "Epoch 20/100\n",
      "7670/7670 [==============================] - 1s 135us/step - loss: 1620.9196 - mean_squared_error: 1620.9196 - mean_absolute_error: 27.1627 - val_loss: 1950.2441 - val_mean_squared_error: 1950.2441 - val_mean_absolute_error: 27.0472\n",
      "Epoch 21/100\n",
      "7670/7670 [==============================] - 1s 138us/step - loss: 1627.9396 - mean_squared_error: 1627.9396 - mean_absolute_error: 27.0319 - val_loss: 2019.7653 - val_mean_squared_error: 2019.7653 - val_mean_absolute_error: 28.0466\n",
      "Epoch 22/100\n",
      "7670/7670 [==============================] - 1s 130us/step - loss: 1614.7291 - mean_squared_error: 1614.7291 - mean_absolute_error: 27.4673 - val_loss: 1810.7675 - val_mean_squared_error: 1810.7675 - val_mean_absolute_error: 26.2529\n",
      "Epoch 23/100\n",
      "7670/7670 [==============================] - 1s 135us/step - loss: 1559.2325 - mean_squared_error: 1559.2325 - mean_absolute_error: 26.4350 - val_loss: 1779.1688 - val_mean_squared_error: 1779.1688 - val_mean_absolute_error: 26.4837\n",
      "Epoch 24/100\n",
      "7670/7670 [==============================] - 1s 140us/step - loss: 1542.3677 - mean_squared_error: 1542.3677 - mean_absolute_error: 26.5272 - val_loss: 1892.3310 - val_mean_squared_error: 1892.3310 - val_mean_absolute_error: 26.9510\n",
      "Epoch 25/100\n",
      "7670/7670 [==============================] - 1s 157us/step - loss: 1570.2711 - mean_squared_error: 1570.2711 - mean_absolute_error: 26.6669 - val_loss: 2056.5366 - val_mean_squared_error: 2056.5366 - val_mean_absolute_error: 28.4660\n",
      "Epoch 26/100\n",
      "7670/7670 [==============================] - 1s 156us/step - loss: 1590.6569 - mean_squared_error: 1590.6569 - mean_absolute_error: 27.1418 - val_loss: 1758.1238 - val_mean_squared_error: 1758.1238 - val_mean_absolute_error: 26.1935\n",
      "Epoch 27/100\n",
      "7670/7670 [==============================] - 1s 163us/step - loss: 1446.5783 - mean_squared_error: 1446.5783 - mean_absolute_error: 25.8721 - val_loss: 2002.2961 - val_mean_squared_error: 2002.2961 - val_mean_absolute_error: 28.2301\n",
      "Epoch 28/100\n",
      "7670/7670 [==============================] - 1s 149us/step - loss: 1537.8329 - mean_squared_error: 1537.8329 - mean_absolute_error: 26.2193 - val_loss: 1814.0073 - val_mean_squared_error: 1814.0073 - val_mean_absolute_error: 26.5482\n",
      "Epoch 29/100\n",
      "7670/7670 [==============================] - 1s 152us/step - loss: 1535.3165 - mean_squared_error: 1535.3165 - mean_absolute_error: 27.0135 - val_loss: 1813.5805 - val_mean_squared_error: 1813.5805 - val_mean_absolute_error: 26.3804\n",
      "Epoch 30/100\n",
      "7670/7670 [==============================] - 1s 147us/step - loss: 1407.3738 - mean_squared_error: 1407.3738 - mean_absolute_error: 25.5805 - val_loss: 1822.9210 - val_mean_squared_error: 1822.9210 - val_mean_absolute_error: 26.1117\n",
      "Epoch 31/100\n",
      "7670/7670 [==============================] - 1s 154us/step - loss: 1333.4900 - mean_squared_error: 1333.4900 - mean_absolute_error: 24.5795 - val_loss: 1952.4678 - val_mean_squared_error: 1952.4678 - val_mean_absolute_error: 27.1415\n",
      "Epoch 32/100\n",
      "7670/7670 [==============================] - 1s 161us/step - loss: 1302.1830 - mean_squared_error: 1302.1830 - mean_absolute_error: 24.5437 - val_loss: 1834.8414 - val_mean_squared_error: 1834.8414 - val_mean_absolute_error: 27.1617\n",
      "Epoch 33/100\n",
      "7670/7670 [==============================] - 1s 146us/step - loss: 1339.8990 - mean_squared_error: 1339.8990 - mean_absolute_error: 24.8015 - val_loss: 1921.3116 - val_mean_squared_error: 1921.3116 - val_mean_absolute_error: 26.9595\n",
      "Epoch 34/100\n",
      "7670/7670 [==============================] - 1s 157us/step - loss: 1417.4052 - mean_squared_error: 1417.4052 - mean_absolute_error: 25.6208 - val_loss: 2500.1863 - val_mean_squared_error: 2500.1863 - val_mean_absolute_error: 31.7396\n",
      "Epoch 35/100\n",
      "7670/7670 [==============================] - 1s 159us/step - loss: 1444.4864 - mean_squared_error: 1444.4864 - mean_absolute_error: 25.8951 - val_loss: 1896.2127 - val_mean_squared_error: 1896.2127 - val_mean_absolute_error: 26.9077\n",
      "Epoch 36/100\n",
      "7670/7670 [==============================] - 1s 161us/step - loss: 1423.3911 - mean_squared_error: 1423.3911 - mean_absolute_error: 25.9232 - val_loss: 2077.9056 - val_mean_squared_error: 2077.9056 - val_mean_absolute_error: 27.9324\n",
      "Epoch 37/100\n",
      "7670/7670 [==============================] - 1s 150us/step - loss: 1331.1263 - mean_squared_error: 1331.1263 - mean_absolute_error: 24.8165 - val_loss: 1914.9237 - val_mean_squared_error: 1914.9237 - val_mean_absolute_error: 27.0932\n",
      "Epoch 38/100\n",
      "7670/7670 [==============================] - 1s 139us/step - loss: 1364.7008 - mean_squared_error: 1364.7008 - mean_absolute_error: 25.1511 - val_loss: 1966.8887 - val_mean_squared_error: 1966.8887 - val_mean_absolute_error: 27.4836\n",
      "Epoch 39/100\n",
      "7670/7670 [==============================] - 1s 137us/step - loss: 1235.0844 - mean_squared_error: 1235.0844 - mean_absolute_error: 23.7668 - val_loss: 2144.3578 - val_mean_squared_error: 2144.3578 - val_mean_absolute_error: 28.6937\n",
      "Epoch 40/100\n",
      "7670/7670 [==============================] - 1s 149us/step - loss: 1373.2299 - mean_squared_error: 1373.2299 - mean_absolute_error: 25.3168 - val_loss: 2157.7956 - val_mean_squared_error: 2157.7956 - val_mean_absolute_error: 28.9389\n",
      "Epoch 41/100\n",
      "7670/7670 [==============================] - 1s 135us/step - loss: 1214.5606 - mean_squared_error: 1214.5606 - mean_absolute_error: 23.8506 - val_loss: 1940.4663 - val_mean_squared_error: 1940.4663 - val_mean_absolute_error: 26.8275\n",
      "Epoch 42/100\n",
      "7670/7670 [==============================] - 1s 144us/step - loss: 1247.4331 - mean_squared_error: 1247.4331 - mean_absolute_error: 24.1072 - val_loss: 2276.3294 - val_mean_squared_error: 2276.3294 - val_mean_absolute_error: 29.7432\n",
      "Epoch 43/100\n",
      "7670/7670 [==============================] - 1s 154us/step - loss: 1163.8778 - mean_squared_error: 1163.8778 - mean_absolute_error: 23.2901 - val_loss: 1938.4713 - val_mean_squared_error: 1938.4713 - val_mean_absolute_error: 27.3920\n",
      "Epoch 44/100\n",
      "7670/7670 [==============================] - 1s 153us/step - loss: 1156.6495 - mean_squared_error: 1156.6495 - mean_absolute_error: 23.4936 - val_loss: 1801.0727 - val_mean_squared_error: 1801.0727 - val_mean_absolute_error: 25.9186\n",
      "Epoch 45/100\n",
      "7670/7670 [==============================] - 1s 141us/step - loss: 1216.7686 - mean_squared_error: 1216.7686 - mean_absolute_error: 24.1118 - val_loss: 2018.3999 - val_mean_squared_error: 2018.3999 - val_mean_absolute_error: 27.6140\n",
      "Epoch 46/100\n",
      "7670/7670 [==============================] - 1s 146us/step - loss: 1172.1150 - mean_squared_error: 1172.1150 - mean_absolute_error: 23.0264 - val_loss: 1840.7083 - val_mean_squared_error: 1840.7083 - val_mean_absolute_error: 25.9545\n",
      "Epoch 47/100\n",
      "7670/7670 [==============================] - 1s 131us/step - loss: 1206.1770 - mean_squared_error: 1206.1770 - mean_absolute_error: 23.9080 - val_loss: 1827.6206 - val_mean_squared_error: 1827.6206 - val_mean_absolute_error: 26.1745\n",
      "Epoch 48/100\n",
      "7670/7670 [==============================] - 1s 128us/step - loss: 1180.8368 - mean_squared_error: 1180.8368 - mean_absolute_error: 23.2678 - val_loss: 1945.9072 - val_mean_squared_error: 1945.9072 - val_mean_absolute_error: 27.4696\n",
      "Epoch 49/100\n",
      "7670/7670 [==============================] - 1s 131us/step - loss: 1269.9208 - mean_squared_error: 1269.9208 - mean_absolute_error: 24.4897 - val_loss: 2207.1309 - val_mean_squared_error: 2207.1309 - val_mean_absolute_error: 29.4631\n",
      "Epoch 50/100\n",
      "7670/7670 [==============================] - 1s 131us/step - loss: 1129.1869 - mean_squared_error: 1129.1869 - mean_absolute_error: 23.1120 - val_loss: 1843.5413 - val_mean_squared_error: 1843.5413 - val_mean_absolute_error: 25.9801\n",
      "Epoch 51/100\n",
      "7670/7670 [==============================] - 1s 127us/step - loss: 1120.8694 - mean_squared_error: 1120.8694 - mean_absolute_error: 22.9151 - val_loss: 2458.1385 - val_mean_squared_error: 2458.1385 - val_mean_absolute_error: 30.9127\n",
      "Epoch 52/100\n",
      "7670/7670 [==============================] - 1s 140us/step - loss: 1100.8151 - mean_squared_error: 1100.8151 - mean_absolute_error: 22.5637 - val_loss: 2053.6104 - val_mean_squared_error: 2053.6104 - val_mean_absolute_error: 27.9237\n",
      "Epoch 53/100\n",
      "7670/7670 [==============================] - 1s 150us/step - loss: 1133.1274 - mean_squared_error: 1133.1274 - mean_absolute_error: 22.9955 - val_loss: 1864.2420 - val_mean_squared_error: 1864.2420 - val_mean_absolute_error: 26.5541\n",
      "Epoch 54/100\n",
      "7670/7670 [==============================] - 1s 162us/step - loss: 1086.0101 - mean_squared_error: 1086.0101 - mean_absolute_error: 22.9119 - val_loss: 1870.9804 - val_mean_squared_error: 1870.9804 - val_mean_absolute_error: 26.7785\n",
      "Epoch 55/100\n",
      "7670/7670 [==============================] - 2s 286us/step - loss: 1092.4148 - mean_squared_error: 1092.4148 - mean_absolute_error: 22.4110 - val_loss: 2113.9212 - val_mean_squared_error: 2113.9212 - val_mean_absolute_error: 28.1913\n",
      "Epoch 56/100\n",
      "7670/7670 [==============================] - 2s 220us/step - loss: 1037.7431 - mean_squared_error: 1037.7431 - mean_absolute_error: 22.1123 - val_loss: 1973.2760 - val_mean_squared_error: 1973.2760 - val_mean_absolute_error: 26.9895\n",
      "Epoch 57/100\n",
      "7670/7670 [==============================] - 1s 160us/step - loss: 1028.4750 - mean_squared_error: 1028.4750 - mean_absolute_error: 21.6990 - val_loss: 2097.7030 - val_mean_squared_error: 2097.7030 - val_mean_absolute_error: 28.3315\n",
      "Epoch 58/100\n",
      "7670/7670 [==============================] - 1s 130us/step - loss: 1027.7100 - mean_squared_error: 1027.7100 - mean_absolute_error: 22.0563 - val_loss: 2593.8893 - val_mean_squared_error: 2593.8893 - val_mean_absolute_error: 31.2517\n",
      "Epoch 59/100\n",
      "7670/7670 [==============================] - 1s 138us/step - loss: 1012.1375 - mean_squared_error: 1012.1375 - mean_absolute_error: 21.8975 - val_loss: 1786.2023 - val_mean_squared_error: 1786.2023 - val_mean_absolute_error: 25.6914\n",
      "Epoch 60/100\n",
      "7670/7670 [==============================] - 1s 164us/step - loss: 968.4009 - mean_squared_error: 968.4009 - mean_absolute_error: 21.3937 - val_loss: 1764.1177 - val_mean_squared_error: 1764.1177 - val_mean_absolute_error: 25.6592\n",
      "Epoch 61/100\n",
      "7670/7670 [==============================] - 1s 176us/step - loss: 979.9968 - mean_squared_error: 979.9968 - mean_absolute_error: 21.6789 - val_loss: 2003.7806 - val_mean_squared_error: 2003.7806 - val_mean_absolute_error: 27.3592\n",
      "Epoch 62/100\n",
      "7670/7670 [==============================] - 1s 162us/step - loss: 895.1066 - mean_squared_error: 895.1066 - mean_absolute_error: 20.8783 - val_loss: 2098.6930 - val_mean_squared_error: 2098.6930 - val_mean_absolute_error: 27.9162\n",
      "Epoch 63/100\n",
      "7670/7670 [==============================] - 1s 136us/step - loss: 901.6004 - mean_squared_error: 901.6004 - mean_absolute_error: 20.5760 - val_loss: 1780.3284 - val_mean_squared_error: 1780.3284 - val_mean_absolute_error: 25.6100\n",
      "Epoch 64/100\n",
      "7670/7670 [==============================] - 1s 138us/step - loss: 993.7223 - mean_squared_error: 993.7223 - mean_absolute_error: 21.6547 - val_loss: 1878.2616 - val_mean_squared_error: 1878.2616 - val_mean_absolute_error: 26.2518\n",
      "Epoch 65/100\n",
      "7670/7670 [==============================] - 1s 133us/step - loss: 978.2103 - mean_squared_error: 978.2103 - mean_absolute_error: 21.6064 - val_loss: 2101.2305 - val_mean_squared_error: 2101.2305 - val_mean_absolute_error: 27.8027\n",
      "Epoch 66/100\n",
      "7670/7670 [==============================] - 1s 131us/step - loss: 923.6216 - mean_squared_error: 923.6216 - mean_absolute_error: 20.9204 - val_loss: 1844.2504 - val_mean_squared_error: 1844.2504 - val_mean_absolute_error: 25.9943\n",
      "Epoch 67/100\n"
     ]
    },
    {
     "name": "stdout",
     "output_type": "stream",
     "text": [
      "7670/7670 [==============================] - 1s 135us/step - loss: 983.0676 - mean_squared_error: 983.0676 - mean_absolute_error: 21.7741 - val_loss: 1782.0895 - val_mean_squared_error: 1782.0895 - val_mean_absolute_error: 25.4917\n",
      "Epoch 68/100\n",
      "7670/7670 [==============================] - 1s 134us/step - loss: 907.6869 - mean_squared_error: 907.6869 - mean_absolute_error: 20.6617 - val_loss: 1926.6739 - val_mean_squared_error: 1926.6739 - val_mean_absolute_error: 26.6793\n",
      "Epoch 69/100\n",
      "7670/7670 [==============================] - 1s 150us/step - loss: 951.4327 - mean_squared_error: 951.4327 - mean_absolute_error: 21.1889 - val_loss: 1912.8741 - val_mean_squared_error: 1912.8741 - val_mean_absolute_error: 26.6331\n",
      "Epoch 70/100\n",
      "7670/7670 [==============================] - 1s 195us/step - loss: 902.0586 - mean_squared_error: 902.0586 - mean_absolute_error: 20.5569 - val_loss: 1888.8700 - val_mean_squared_error: 1888.8700 - val_mean_absolute_error: 26.4534\n",
      "Epoch 71/100\n",
      "7670/7670 [==============================] - 1s 163us/step - loss: 906.7101 - mean_squared_error: 906.7101 - mean_absolute_error: 20.5868 - val_loss: 1869.7285 - val_mean_squared_error: 1869.7285 - val_mean_absolute_error: 26.3866\n",
      "Epoch 72/100\n",
      "7670/7670 [==============================] - 1s 171us/step - loss: 867.5573 - mean_squared_error: 867.5573 - mean_absolute_error: 20.0298 - val_loss: 1733.5248 - val_mean_squared_error: 1733.5248 - val_mean_absolute_error: 25.3075\n",
      "Epoch 73/100\n",
      "7670/7670 [==============================] - 1s 155us/step - loss: 899.2288 - mean_squared_error: 899.2288 - mean_absolute_error: 20.6778 - val_loss: 1966.8763 - val_mean_squared_error: 1966.8763 - val_mean_absolute_error: 27.2002\n",
      "Epoch 74/100\n",
      "7670/7670 [==============================] - 1s 155us/step - loss: 894.3846 - mean_squared_error: 894.3846 - mean_absolute_error: 20.6019 - val_loss: 1875.9330 - val_mean_squared_error: 1875.9330 - val_mean_absolute_error: 26.4063\n",
      "Epoch 75/100\n",
      "7670/7670 [==============================] - 1s 162us/step - loss: 865.9966 - mean_squared_error: 865.9966 - mean_absolute_error: 20.4992 - val_loss: 1896.2644 - val_mean_squared_error: 1896.2644 - val_mean_absolute_error: 27.2879\n",
      "Epoch 76/100\n",
      "7670/7670 [==============================] - 1s 189us/step - loss: 827.9326 - mean_squared_error: 827.9326 - mean_absolute_error: 19.8433 - val_loss: 1819.8545 - val_mean_squared_error: 1819.8545 - val_mean_absolute_error: 26.2947\n",
      "Epoch 77/100\n",
      "7670/7670 [==============================] - 1s 142us/step - loss: 853.4271 - mean_squared_error: 853.4271 - mean_absolute_error: 20.0366 - val_loss: 1803.2889 - val_mean_squared_error: 1803.2889 - val_mean_absolute_error: 26.2951\n",
      "Epoch 78/100\n",
      "7670/7670 [==============================] - 1s 143us/step - loss: 806.4068 - mean_squared_error: 806.4068 - mean_absolute_error: 19.6091 - val_loss: 1783.5280 - val_mean_squared_error: 1783.5280 - val_mean_absolute_error: 25.8954\n",
      "Epoch 79/100\n",
      "7670/7670 [==============================] - 1s 142us/step - loss: 858.3799 - mean_squared_error: 858.3799 - mean_absolute_error: 20.1467 - val_loss: 1839.0034 - val_mean_squared_error: 1839.0034 - val_mean_absolute_error: 26.0954\n",
      "Epoch 80/100\n",
      "7670/7670 [==============================] - 1s 179us/step - loss: 807.5642 - mean_squared_error: 807.5642 - mean_absolute_error: 19.8458 - val_loss: 1835.3672 - val_mean_squared_error: 1835.3672 - val_mean_absolute_error: 25.9881\n",
      "Epoch 81/100\n",
      "7670/7670 [==============================] - 1s 142us/step - loss: 829.1429 - mean_squared_error: 829.1429 - mean_absolute_error: 19.7852 - val_loss: 1789.6001 - val_mean_squared_error: 1789.6001 - val_mean_absolute_error: 25.6628\n",
      "Epoch 82/100\n",
      "7670/7670 [==============================] - 1s 134us/step - loss: 847.8897 - mean_squared_error: 847.8897 - mean_absolute_error: 20.2018 - val_loss: 1843.1676 - val_mean_squared_error: 1843.1676 - val_mean_absolute_error: 26.1074\n",
      "Epoch 83/100\n",
      "7670/7670 [==============================] - 1s 133us/step - loss: 806.3475 - mean_squared_error: 806.3475 - mean_absolute_error: 19.5466 - val_loss: 1760.5148 - val_mean_squared_error: 1760.5148 - val_mean_absolute_error: 25.3786\n",
      "Epoch 84/100\n",
      "7670/7670 [==============================] - 1s 134us/step - loss: 802.9962 - mean_squared_error: 802.9962 - mean_absolute_error: 19.3342 - val_loss: 1748.7887 - val_mean_squared_error: 1748.7887 - val_mean_absolute_error: 25.6796\n",
      "Epoch 85/100\n",
      "7670/7670 [==============================] - 1s 136us/step - loss: 825.1195 - mean_squared_error: 825.1195 - mean_absolute_error: 19.6576 - val_loss: 2000.1371 - val_mean_squared_error: 2000.1371 - val_mean_absolute_error: 27.6535\n",
      "Epoch 86/100\n",
      "7670/7670 [==============================] - 1s 134us/step - loss: 823.1063 - mean_squared_error: 823.1063 - mean_absolute_error: 19.9939 - val_loss: 2196.0691 - val_mean_squared_error: 2196.0691 - val_mean_absolute_error: 28.6154\n",
      "Epoch 87/100\n",
      "7670/7670 [==============================] - 1s 130us/step - loss: 854.5466 - mean_squared_error: 854.5466 - mean_absolute_error: 19.9863 - val_loss: 1831.1155 - val_mean_squared_error: 1831.1155 - val_mean_absolute_error: 25.5722\n",
      "Epoch 88/100\n",
      "7670/7670 [==============================] - 1s 130us/step - loss: 762.5149 - mean_squared_error: 762.5149 - mean_absolute_error: 19.0527 - val_loss: 2013.0262 - val_mean_squared_error: 2013.0262 - val_mean_absolute_error: 27.6684\n",
      "Epoch 89/100\n",
      "7670/7670 [==============================] - 1s 134us/step - loss: 805.9137 - mean_squared_error: 805.9137 - mean_absolute_error: 19.6284 - val_loss: 1763.5147 - val_mean_squared_error: 1763.5147 - val_mean_absolute_error: 26.0955\n",
      "Epoch 90/100\n",
      "7670/7670 [==============================] - 1s 159us/step - loss: 801.6360 - mean_squared_error: 801.6360 - mean_absolute_error: 19.4046 - val_loss: 1859.3639 - val_mean_squared_error: 1859.3639 - val_mean_absolute_error: 26.3646\n",
      "Epoch 91/100\n",
      "7670/7670 [==============================] - 2s 264us/step - loss: 773.4415 - mean_squared_error: 773.4415 - mean_absolute_error: 19.0347 - val_loss: 1897.0356 - val_mean_squared_error: 1897.0356 - val_mean_absolute_error: 26.3982\n",
      "Epoch 92/100\n",
      "7670/7670 [==============================] - 2s 216us/step - loss: 840.8062 - mean_squared_error: 840.8062 - mean_absolute_error: 20.0139 - val_loss: 1963.9257 - val_mean_squared_error: 1963.9257 - val_mean_absolute_error: 26.9031\n",
      "Epoch 93/100\n",
      "7670/7670 [==============================] - 2s 216us/step - loss: 864.1893 - mean_squared_error: 864.1893 - mean_absolute_error: 19.7600 - val_loss: 1936.2716 - val_mean_squared_error: 1936.2716 - val_mean_absolute_error: 27.0933\n",
      "Epoch 94/100\n",
      "7670/7670 [==============================] - 2s 301us/step - loss: 812.0366 - mean_squared_error: 812.0366 - mean_absolute_error: 19.6434 - val_loss: 1858.8077 - val_mean_squared_error: 1858.8077 - val_mean_absolute_error: 26.0056\n",
      "Epoch 95/100\n",
      "7670/7670 [==============================] - 2s 299us/step - loss: 766.4728 - mean_squared_error: 766.4728 - mean_absolute_error: 18.8461 - val_loss: 1930.8827 - val_mean_squared_error: 1930.8827 - val_mean_absolute_error: 26.5065\n",
      "Epoch 96/100\n",
      "7670/7670 [==============================] - 2s 199us/step - loss: 812.4494 - mean_squared_error: 812.4494 - mean_absolute_error: 19.5360 - val_loss: 1966.2599 - val_mean_squared_error: 1966.2599 - val_mean_absolute_error: 27.0349\n",
      "Epoch 97/100\n",
      "7670/7670 [==============================] - 2s 197us/step - loss: 800.7612 - mean_squared_error: 800.7612 - mean_absolute_error: 19.2537 - val_loss: 1999.1688 - val_mean_squared_error: 1999.1688 - val_mean_absolute_error: 27.1083\n",
      "Epoch 98/100\n",
      "7670/7670 [==============================] - 3s 415us/step - loss: 786.8629 - mean_squared_error: 786.8629 - mean_absolute_error: 19.2344 - val_loss: 1828.2329 - val_mean_squared_error: 1828.2329 - val_mean_absolute_error: 25.9225\n",
      "Epoch 99/100\n",
      "7670/7670 [==============================] - 2s 275us/step - loss: 718.1819 - mean_squared_error: 718.1819 - mean_absolute_error: 18.6411 - val_loss: 1867.4173 - val_mean_squared_error: 1867.4173 - val_mean_absolute_error: 26.3663\n",
      "Epoch 100/100\n",
      "7670/7670 [==============================] - 2s 223us/step - loss: 762.6248 - mean_squared_error: 762.6248 - mean_absolute_error: 18.9071 - val_loss: 1910.4043 - val_mean_squared_error: 1910.4043 - val_mean_absolute_error: 26.9759\n"
     ]
    },
    {
     "data": {
      "text/plain": [
       "<keras.callbacks.History at 0x2155f4c4188>"
      ]
     },
     "execution_count": 88,
     "metadata": {},
     "output_type": "execute_result"
    }
   ],
   "source": [
    "model_Split_5.fit(X_train_model_5, y_train_model_5, epochs=100, batch_size=60,  verbose=1, validation_split=0.2)"
   ]
  },
  {
   "cell_type": "code",
   "execution_count": 89,
   "metadata": {},
   "outputs": [],
   "source": [
    "y_pred_model_5 = model_Split_5.predict(X_test_model_5)"
   ]
  },
  {
   "cell_type": "code",
   "execution_count": 90,
   "metadata": {},
   "outputs": [
    {
     "name": "stdout",
     "output_type": "stream",
     "text": [
      "RMSLE model 5: 0.3777185020989915\n"
     ]
    }
   ],
   "source": [
    "print('RMSLE model 5:', np.sqrt(mean_squared_log_error(y_test_model_5, y_pred_model_5)))"
   ]
  },
  {
   "cell_type": "code",
   "execution_count": null,
   "metadata": {},
   "outputs": [],
   "source": []
  },
  {
   "cell_type": "markdown",
   "metadata": {},
   "source": [
    "# Predict register"
   ]
  },
  {
   "cell_type": "code",
   "execution_count": 91,
   "metadata": {},
   "outputs": [],
   "source": [
    "# df_train_registered = pd.read_csv('train.csv')"
   ]
  },
  {
   "cell_type": "code",
   "execution_count": 92,
   "metadata": {},
   "outputs": [],
   "source": [
    "# df_train_registered.rename(columns={'weathersit':'weather',\n",
    "#                      'mnth':'month',\n",
    "#                      'hr':'hour',\n",
    "#                      'yr':'year',\n",
    "#                      'hum': 'humidity',\n",
    "#                      'cnt':'count'},inplace=True)"
   ]
  },
  {
   "cell_type": "code",
   "execution_count": 93,
   "metadata": {},
   "outputs": [],
   "source": [
    "# df_train_registered = shuffle(df_train_registered, random_state=42)"
   ]
  },
  {
   "cell_type": "code",
   "execution_count": 94,
   "metadata": {},
   "outputs": [],
   "source": [
    "# df_train_registered['season'] = df_train_registered.season.astype('category')\n",
    "# df_train_registered['year'] = df_train_registered.year.astype('category')\n",
    "# df_train_registered['month'] = df_train_registered.month.astype('category')\n",
    "# df_train_registered['hour'] = df_train_registered.hour.astype('category')\n",
    "# df_train_registered['holiday'] = df_train_registered.holiday.astype('category')\n",
    "# df_train_registered['weekday'] = df_train_registered.weekday.astype('category')\n",
    "# df_train_registered['workingday'] = df_train_registered.workingday.astype('category')\n",
    "# df_train_registered['weather'] = df_train_registered.weather.astype('category')"
   ]
  },
  {
   "cell_type": "code",
   "execution_count": 95,
   "metadata": {},
   "outputs": [],
   "source": [
    "# features_r = ['season', 'year', 'month', 'hour', 'holiday', 'weekday', 'workingday', 'weather']\n",
    "# #Separating out the features\n",
    "# X_r = df_train_registered.loc[:, features_r].values\n",
    "# #Separating out the target\n",
    "# y_r = df_train_registered.loc[:,['registered']].values\n",
    "# #Standardizing the features\n",
    "# X_r = StandardScaler().fit_transform(X_r)"
   ]
  },
  {
   "cell_type": "code",
   "execution_count": 96,
   "metadata": {},
   "outputs": [],
   "source": [
    "#X_train_r, X_test_r, y_train_r, y_test_r = train_test_split(X_r, y_r, test_size=0.2, random_state=42)"
   ]
  },
  {
   "cell_type": "code",
   "execution_count": 97,
   "metadata": {},
   "outputs": [],
   "source": [
    "# model_rf = RandomForestRegressor()\n",
    "# model_rf.fit(X_train_r,y_train_r)\n",
    "\n",
    "# # Get the mean absolute error on the validation data :\n",
    "# y_pred_r = model_rf.predict(X_test_r)\n",
    "# MAE_r = mean_absolute_error(y_test_r , y_pred_r)"
   ]
  },
  {
   "cell_type": "code",
   "execution_count": 98,
   "metadata": {},
   "outputs": [],
   "source": [
    "# y_pred_r = model_rf.predict(X_test_r)"
   ]
  },
  {
   "cell_type": "code",
   "execution_count": 99,
   "metadata": {},
   "outputs": [],
   "source": [
    "# print('RMSLE pred reg:', np.sqrt(mean_squared_log_error(y_test_r, y_pred_r)))"
   ]
  },
  {
   "cell_type": "code",
   "execution_count": 100,
   "metadata": {},
   "outputs": [],
   "source": [
    "# df_train_model_r = pd.read_csv('train.csv')"
   ]
  },
  {
   "cell_type": "code",
   "execution_count": 101,
   "metadata": {},
   "outputs": [],
   "source": [
    "# df_train_model_r.rename(columns={'weathersit':'weather',\n",
    "#                      'mnth':'month',\n",
    "#                      'hr':'hour',\n",
    "#                      'yr':'year',\n",
    "#                      'hum': 'humidity',\n",
    "#                      'cnt':'count'},inplace=True)"
   ]
  },
  {
   "cell_type": "code",
   "execution_count": 102,
   "metadata": {},
   "outputs": [],
   "source": [
    "# df_train_model_r = shuffle(df_train_model_r, random_state=42)"
   ]
  },
  {
   "cell_type": "code",
   "execution_count": 103,
   "metadata": {},
   "outputs": [],
   "source": [
    "# df_train_model_r['season'] = df_train_model_r.season.astype('category')\n",
    "# df_train_model_r['year'] = df_train_model_r.year.astype('category')\n",
    "# df_train_model_r['month'] = df_train_model_r.month.astype('category')\n",
    "# df_train_model_r['hour'] = df_train_model_r.hour.astype('category')\n",
    "# df_train_model_r['holiday'] = df_train_model_r.holiday.astype('category')\n",
    "# df_train_model_r['weekday'] = df_train_model_r.weekday.astype('category')\n",
    "# df_train_model_r['workingday'] = df_train_model_r.workingday.astype('category')\n",
    "# df_train_model_r['weather'] = df_train_model_r.weather.astype('category')"
   ]
  },
  {
   "cell_type": "code",
   "execution_count": 104,
   "metadata": {},
   "outputs": [],
   "source": [
    "# df_train_model_r = df_train_model_r.drop(['windspeed','atemp'], axis=1)"
   ]
  },
  {
   "cell_type": "code",
   "execution_count": 105,
   "metadata": {},
   "outputs": [],
   "source": [
    "# df_train_model_r=pd.get_dummies(df_train_model_r)"
   ]
  },
  {
   "cell_type": "code",
   "execution_count": null,
   "metadata": {},
   "outputs": [],
   "source": []
  },
  {
   "cell_type": "code",
   "execution_count": 106,
   "metadata": {},
   "outputs": [],
   "source": [
    "# y_model_r = df_train_model_r['count']\n",
    "# X_model_r = df_train_model_r[['season_1','season_2','season_3','season_4','year_0','year_1','month_1','month_2','month_3','month_4','month_5','month_6','month_7','month_8','month_9','month_10','month_11','month_12','hour_0','hour_1','hour_2','hour_3','hour_4','hour_5','hour_6','hour_7','hour_8','hour_9','hour_10','hour_11','hour_12','hour_13','hour_14','hour_15','hour_16','hour_17','hour_18','hour_19','hour_20','hour_21','hour_22','hour_23','workingday_0','workingday_1','weather_1','weather_2','weather_3','weather_4','temp', 'humidity','weekday_0','weekday_1','weekday_2','weekday_3','weekday_4','weekday_5','weekday_6','holiday_0','holiday_1','registered' ]]\n",
    "\n",
    "# X_train_model_r, X_test_model_r, y_train_model_r, y_test_model_r = train_test_split(X_model_r, y_model_r, test_size=0.2, random_state=42)"
   ]
  },
  {
   "cell_type": "code",
   "execution_count": 107,
   "metadata": {},
   "outputs": [],
   "source": [
    "# X_test_model_r = X_test_model_r.drop([ 'registered'], axis=1)"
   ]
  },
  {
   "cell_type": "markdown",
   "metadata": {},
   "source": [
    "H `.shape[0]` επιστρέφει το πόσα row είναι στο dataFrame\n",
    "και η `.index` πέρνει τον νούμερο του row και με την `range` του λέει να το κάνει από 0 εώς .shape[0]"
   ]
  },
  {
   "cell_type": "code",
   "execution_count": 108,
   "metadata": {},
   "outputs": [],
   "source": [
    "# X_test_model_r.index = range(X_test_model_r.shape[0])"
   ]
  },
  {
   "cell_type": "markdown",
   "metadata": {},
   "source": [
    "Χρησιμοποιούμε την `pd.concat()`για να ενώσουμε columns (δηλαδή `axis=1`) από δυο πίνακες σε ένα dataframe.'Oμως, η `y_pred_c`,`y_pred_r` που προβλέπουμε πιο πάνω είναι σε μορφή np.array,ενώ `df_train` που θέλουμε να τις προσθέσουμε μέσα είναι dataFrame. Οπότε χρησιμοποιούμε την `pd.DataFrame()` για να μετατρέψουμε το array σε dataFrame.\n",
    "\n",
    "By default η pd.concat() το array που βάζει του δίνει όνομα 0,οπότε για να ξεχωρίζουμε τα feature τα κάνουμε `rename()` σε `pred_casual`,`pred_registered` αντίστοιχα,αμέσως μετά concat(για να μην μπερδεφτουν τα 0)"
   ]
  },
  {
   "cell_type": "code",
   "execution_count": 109,
   "metadata": {},
   "outputs": [],
   "source": [
    "# X_test_model_r = pd.concat([X_test_model_r, pd.DataFrame(y_pred_r)], axis=1)\n",
    "# X_test_model_r.rename(columns={0:'registered'},inplace=True)"
   ]
  },
  {
   "cell_type": "code",
   "execution_count": 110,
   "metadata": {},
   "outputs": [],
   "source": [
    "# model_r = Sequential()\n",
    "# model_r.add(Dense(120, input_dim=60, kernel_initializer=RandomNormal(mean=0.0, stddev=0.05, seed=12), activation='relu'))\n",
    "# #model.add(Dense(120, input_dim=59, kernel_initializer='normal', activation='relu'))\n",
    "# model_r.add(Dense(80, activation='relu'))\n",
    "# model_r.add(Dense(40, activation='relu'))\n",
    "# model_r.add(Dense(12, activation='relu'))\n",
    "# model_r.add(Dense(1, activation='relu'))\n",
    "# model_r.summary()"
   ]
  },
  {
   "cell_type": "code",
   "execution_count": 111,
   "metadata": {},
   "outputs": [],
   "source": [
    "# model_r.compile(loss='mse',optimizer='adam', metrics=['mse','mae'])"
   ]
  },
  {
   "cell_type": "code",
   "execution_count": 112,
   "metadata": {
    "scrolled": true
   },
   "outputs": [],
   "source": [
    "# model_r.fit(X_train_model_r, y_train_model_r, epochs=50, batch_size=50,  verbose=1, validation_split=0.2)"
   ]
  },
  {
   "cell_type": "code",
   "execution_count": 113,
   "metadata": {},
   "outputs": [],
   "source": [
    "# y_pred_model_r = model_r.predict(X_test_model_r)"
   ]
  },
  {
   "cell_type": "code",
   "execution_count": 114,
   "metadata": {},
   "outputs": [],
   "source": [
    "# print('RMSLE:', np.sqrt(mean_squared_log_error(y_test_model_r, y_pred_model_r)))"
   ]
  },
  {
   "cell_type": "code",
   "execution_count": null,
   "metadata": {},
   "outputs": [],
   "source": []
  },
  {
   "cell_type": "markdown",
   "metadata": {},
   "source": [
    "# <span style=\"color:SlateBlue\"> Code for Kaggle </span>"
   ]
  },
  {
   "cell_type": "code",
   "execution_count": 115,
   "metadata": {},
   "outputs": [],
   "source": [
    "filename = 'test.csv' \n",
    "\n",
    "df_test = pd.read_csv(filename)\n",
    "df_test_Forest = pd.read_csv(filename)"
   ]
  },
  {
   "cell_type": "code",
   "execution_count": 116,
   "metadata": {},
   "outputs": [],
   "source": [
    "df_test.rename(columns={'weathersit':'weather',\n",
    "                     'mnth':'month',\n",
    "                     'hr':'hour',\n",
    "                     'yr':'year',\n",
    "                     'hum': 'humidity',\n",
    "                     'cnt':'count'},inplace=True)\n",
    "df_test_Forest.rename(columns={'weathersit':'weather',\n",
    "                     'mnth':'month',\n",
    "                     'hr':'hour',\n",
    "                     'yr':'year',\n",
    "                     'hum': 'humidity',\n",
    "                     'cnt':'count'},inplace=True)"
   ]
  },
  {
   "cell_type": "code",
   "execution_count": 117,
   "metadata": {},
   "outputs": [],
   "source": [
    "df_test['season'] = df_test.season.astype('category')\n",
    "df_test['year'] = df_test.year.astype('category')\n",
    "df_test['month'] = df_test.month.astype('category')\n",
    "df_test['hour'] = df_test.hour.astype('category')\n",
    "df_test['holiday'] = df_test.holiday.astype('category')\n",
    "df_test['weekday'] = df_test.weekday.astype('category')\n",
    "df_test['workingday'] = df_test.workingday.astype('category')\n",
    "df_test['weather'] = df_test.weather.astype('category')\n",
    "\n",
    "df_test_Forest['season'] = df_test_Forest.season.astype('category')\n",
    "df_test_Forest['year'] = df_test_Forest.year.astype('category')\n",
    "df_test_Forest['month'] = df_test_Forest.month.astype('category')\n",
    "df_test_Forest['hour'] = df_test_Forest.hour.astype('category')\n",
    "df_test_Forest['holiday'] = df_test_Forest.holiday.astype('category')\n",
    "df_test_Forest['weekday'] = df_test_Forest.weekday.astype('category')\n",
    "df_test_Forest['workingday'] = df_test_Forest.workingday.astype('category')\n",
    "df_test_Forest['weather'] = df_test_Forest.weather.astype('category')"
   ]
  },
  {
   "cell_type": "code",
   "execution_count": null,
   "metadata": {},
   "outputs": [],
   "source": []
  },
  {
   "cell_type": "markdown",
   "metadata": {},
   "source": [
    "### Trees predict Test"
   ]
  },
  {
   "cell_type": "code",
   "execution_count": 118,
   "metadata": {},
   "outputs": [],
   "source": [
    "df_test_Forest=df_test_Forest.round({'humidity': 1,'temp':1,'windspeed':1})"
   ]
  },
  {
   "cell_type": "code",
   "execution_count": 119,
   "metadata": {},
   "outputs": [],
   "source": [
    "df_test_Forest = df_test_Forest[['humidity','temp','windspeed','season','year','month','hour','weekday','workingday','weather']]   "
   ]
  },
  {
   "cell_type": "code",
   "execution_count": null,
   "metadata": {},
   "outputs": [],
   "source": []
  },
  {
   "cell_type": "markdown",
   "metadata": {},
   "source": [
    "RandomForest:"
   ]
  },
  {
   "cell_type": "code",
   "execution_count": 120,
   "metadata": {},
   "outputs": [],
   "source": [
    "y_pred_Forest = model_Forest.predict(df_test_Forest)"
   ]
  },
  {
   "cell_type": "markdown",
   "metadata": {},
   "source": [
    "ExtraTreesRegressor:"
   ]
  },
  {
   "cell_type": "code",
   "execution_count": 121,
   "metadata": {},
   "outputs": [],
   "source": [
    "y_pred_Tree = model_Tree.predict(df_test_Forest)"
   ]
  },
  {
   "cell_type": "markdown",
   "metadata": {},
   "source": [
    "### MLP predict Test"
   ]
  },
  {
   "cell_type": "code",
   "execution_count": 122,
   "metadata": {},
   "outputs": [],
   "source": [
    "df_test=pd.get_dummies(df_test)"
   ]
  },
  {
   "cell_type": "code",
   "execution_count": 123,
   "metadata": {},
   "outputs": [],
   "source": [
    "df_test = df_test[['temp', 'humidity','season_1','season_2','season_3','season_4','year_0','year_1','month_1','month_2','month_3','month_4','month_5','month_6','month_7','month_8','month_9','month_10','month_11','month_12','hour_0','hour_1','hour_2','hour_3','hour_4','hour_5','hour_6','hour_7','hour_8','hour_9','hour_10','hour_11','hour_12','hour_13','hour_14','hour_15','hour_16','hour_17','hour_18','hour_19','hour_20','hour_21','hour_22','hour_23','weekday_0','weekday_1','weekday_2','weekday_3','weekday_4','weekday_5','weekday_6','weather_1','weather_2','weather_3','holiday_0','holiday_1']]"
   ]
  },
  {
   "cell_type": "markdown",
   "metadata": {},
   "source": [
    "Model:"
   ]
  },
  {
   "cell_type": "code",
   "execution_count": 124,
   "metadata": {},
   "outputs": [],
   "source": [
    "y_pred = model.predict(df_test)"
   ]
  },
  {
   "cell_type": "markdown",
   "metadata": {},
   "source": [
    "Model 1:"
   ]
  },
  {
   "cell_type": "code",
   "execution_count": 125,
   "metadata": {},
   "outputs": [],
   "source": [
    "y_pred_model_1 = model_Split_1.predict(df_test)"
   ]
  },
  {
   "cell_type": "markdown",
   "metadata": {},
   "source": [
    "Molel 2:"
   ]
  },
  {
   "cell_type": "code",
   "execution_count": 126,
   "metadata": {},
   "outputs": [],
   "source": [
    "y_pred_model_2 = model_Split_2.predict(df_test)"
   ]
  },
  {
   "cell_type": "markdown",
   "metadata": {},
   "source": [
    "Model 3:"
   ]
  },
  {
   "cell_type": "code",
   "execution_count": 127,
   "metadata": {},
   "outputs": [],
   "source": [
    "y_pred_model_3 = model_Split_3.predict(df_test)"
   ]
  },
  {
   "cell_type": "markdown",
   "metadata": {},
   "source": [
    "Model 4:"
   ]
  },
  {
   "cell_type": "code",
   "execution_count": 128,
   "metadata": {},
   "outputs": [],
   "source": [
    "y_pred_model_4 = model_Split_4.predict(df_test)"
   ]
  },
  {
   "cell_type": "markdown",
   "metadata": {},
   "source": [
    "Model 5:"
   ]
  },
  {
   "cell_type": "code",
   "execution_count": 129,
   "metadata": {},
   "outputs": [],
   "source": [
    "y_pred_model_5 = model_Split_5.predict(df_test)"
   ]
  },
  {
   "cell_type": "code",
   "execution_count": null,
   "metadata": {},
   "outputs": [],
   "source": []
  },
  {
   "cell_type": "markdown",
   "metadata": {},
   "source": [
    "#### Model register:"
   ]
  },
  {
   "cell_type": "code",
   "execution_count": 130,
   "metadata": {},
   "outputs": [],
   "source": [
    "# df_test_R= pd.read_csv('test.csv')"
   ]
  },
  {
   "cell_type": "code",
   "execution_count": 131,
   "metadata": {},
   "outputs": [],
   "source": [
    "# df_test_R.rename(columns={'weathersit':'weather',\n",
    "#                      'mnth':'month',\n",
    "#                      'hr':'hour',\n",
    "#                      'yr':'year',\n",
    "#                      'hum': 'humidity',\n",
    "#                      'cnt':'count'},inplace=True)"
   ]
  },
  {
   "cell_type": "code",
   "execution_count": 132,
   "metadata": {},
   "outputs": [],
   "source": [
    "# df_test_R['season'] = df_test_R.season.astype('category')\n",
    "# df_test_R['year'] = df_test_R.year.astype('category')\n",
    "# df_test_R['month'] = df_test_R.month.astype('category')\n",
    "# df_test_R['hour'] = df_test_R.hour.astype('category')\n",
    "# df_test_R['holiday'] = df_test_R.holiday.astype('category')\n",
    "# df_test_R['weekday'] = df_test_R.weekday.astype('category')\n",
    "# df_test_R['workingday'] = df_test_R.workingday.astype('category')\n",
    "# df_test_R['weather'] = df_test_R.weather.astype('category')"
   ]
  },
  {
   "cell_type": "code",
   "execution_count": 133,
   "metadata": {},
   "outputs": [],
   "source": [
    "# df_test_R=pd.get_dummies(df_test_R)"
   ]
  },
  {
   "cell_type": "code",
   "execution_count": 134,
   "metadata": {},
   "outputs": [],
   "source": [
    "# df_test_R.insert(56,'weather_4',np.uint8(0))"
   ]
  },
  {
   "cell_type": "code",
   "execution_count": 135,
   "metadata": {},
   "outputs": [],
   "source": [
    "# df_test_r= pd.read_csv('test.csv')"
   ]
  },
  {
   "cell_type": "code",
   "execution_count": 136,
   "metadata": {},
   "outputs": [],
   "source": [
    "# df_test_r.rename(columns={'weathersit':'weather',\n",
    "#                      'mnth':'month',\n",
    "#                      'hr':'hour',\n",
    "#                      'yr':'year',\n",
    "#                      'hum': 'humidity',\n",
    "#                      'cnt':'count'},inplace=True)"
   ]
  },
  {
   "cell_type": "code",
   "execution_count": 137,
   "metadata": {},
   "outputs": [],
   "source": [
    "# features_r1 = ['season', 'year', 'month', 'hour', 'holiday', 'weekday', 'workingday', 'weather']\n",
    "# #Separating out the features\n",
    "# X_r1 = df_test_r.loc[:, features_r1].values\n",
    "# #Standardizing the features\n",
    "# X_r1 = StandardScaler().fit_transform(X_r1)"
   ]
  },
  {
   "cell_type": "code",
   "execution_count": 138,
   "metadata": {},
   "outputs": [],
   "source": [
    "# y_pred_r = model_rf.predict(X_r1)"
   ]
  },
  {
   "cell_type": "code",
   "execution_count": 139,
   "metadata": {},
   "outputs": [],
   "source": [
    "# df_test_R = df_test_R[['season_1','season_2','season_3','season_4','year_0','year_1','month_1','month_2','month_3','month_4','month_5','month_6','month_7','month_8','month_9','month_10','month_11','month_12','hour_0','hour_1','hour_2','hour_3','hour_4','hour_5','hour_6','hour_7','hour_8','hour_9','hour_10','hour_11','hour_12','hour_13','hour_14','hour_15','hour_16','hour_17','hour_18','hour_19','hour_20','hour_21','hour_22','hour_23','workingday_0','workingday_1','weather_1','weather_2','weather_3','weather_4','temp', 'humidity','weekday_0','weekday_1','weekday_2','weekday_3','weekday_4','weekday_5','weekday_6','holiday_0','holiday_1' ]]"
   ]
  },
  {
   "cell_type": "code",
   "execution_count": 140,
   "metadata": {},
   "outputs": [],
   "source": [
    "# df_test_R=pd.concat([df_test_R, pd.DataFrame(y_pred_r)], axis=1)\n",
    "# df_test_R.rename(columns={0:'registered'},inplace=True)"
   ]
  },
  {
   "cell_type": "code",
   "execution_count": 141,
   "metadata": {},
   "outputs": [],
   "source": [
    "# y_pred_model_r = model_r.predict(df_test_R)"
   ]
  },
  {
   "cell_type": "markdown",
   "metadata": {},
   "source": [
    "# Ensemble learning"
   ]
  },
  {
   "cell_type": "markdown",
   "metadata": {},
   "source": [
    "From Wikipedia:\n",
    "\n",
    "Ensemble methods use multiple learning algorithms to obtain better predictive performance than could be obtained from any of the constituent learning algorithms alone."
   ]
  },
  {
   "cell_type": "code",
   "execution_count": null,
   "metadata": {},
   "outputs": [],
   "source": []
  },
  {
   "cell_type": "markdown",
   "metadata": {},
   "source": [
    "KNN"
   ]
  },
  {
   "cell_type": "code",
   "execution_count": 142,
   "metadata": {},
   "outputs": [],
   "source": [
    "from sklearn.neighbors import KNeighborsRegressor"
   ]
  },
  {
   "cell_type": "code",
   "execution_count": 143,
   "metadata": {},
   "outputs": [],
   "source": [
    "reg_knn = KNeighborsRegressor(n_jobs=-1, n_neighbors=8, weights='distance', p=1)"
   ]
  },
  {
   "cell_type": "markdown",
   "metadata": {},
   "source": [
    "#### Voting Regression:"
   ]
  },
  {
   "cell_type": "markdown",
   "metadata": {},
   "source": [
    "Every model makes a prediction (votes) for each test instance and the final output prediction is the one that receives more than half of the votes."
   ]
  },
  {
   "cell_type": "markdown",
   "metadata": {},
   "source": [
    "https://www.toptal.com/machine-learning/ensemble-methods-machine-learning?fbclid=IwAR0Sdsla0Fdxrws0Pblxmy5eIBh2cq8TnGoCXKwlX1DXkYW79UyDNIXb3Bc"
   ]
  },
  {
   "cell_type": "code",
   "execution_count": 144,
   "metadata": {},
   "outputs": [],
   "source": [
    "from sklearn.ensemble import VotingRegressor"
   ]
  },
  {
   "cell_type": "markdown",
   "metadata": {},
   "source": [
    "n_jobsint or None, optional (default=None)\n",
    "The number of jobs to run in parallel for fit. None means 1 unless in a joblib.parallel_backend context. -1 means using all processors. See Glossary for more details."
   ]
  },
  {
   "cell_type": "code",
   "execution_count": 145,
   "metadata": {},
   "outputs": [
    {
     "name": "stdout",
     "output_type": "stream",
     "text": [
      "RMSLE voting: 0.34959896499791016\n"
     ]
    }
   ],
   "source": [
    "voting = VotingRegressor(estimators=[('rf', reg_Forest), ('rt', reg_Tree), ('knn', reg_knn)], weights=[5, 3, 1], n_jobs=-1)\n",
    "voting.fit(X_train_Forest, y_train_Forest)\n",
    "y_pred_Voting = voting.predict(X_test_Forest)\n",
    "\n",
    "True in (y_pred_Voting < 0)\n",
    "for i, y  in enumerate(y_pred_Voting):\n",
    "    if y_pred_Voting[i] < 0:\n",
    "        y_pred_Voting[i] = 0\n",
    "for i, y  in enumerate(y_pred_Voting):\n",
    "    if y_pred_Voting[i] < 0:\n",
    "        y_pred_Voting[i] = 0\n",
    "\n",
    "print('RMSLE voting:', np.sqrt(mean_squared_log_error(y_test_Forest, y_pred_Voting)))\n",
    "\n",
    "y_pred_Voting = voting.predict(df_test_Forest)"
   ]
  },
  {
   "cell_type": "code",
   "execution_count": null,
   "metadata": {},
   "outputs": [],
   "source": []
  },
  {
   "cell_type": "markdown",
   "metadata": {},
   "source": [
    "#### Average:"
   ]
  },
  {
   "cell_type": "markdown",
   "metadata": {},
   "source": [
    "Average the predictions from RandomForest, Model, Model 1, Model 2, Model 3, Model 4, Model 5."
   ]
  },
  {
   "cell_type": "markdown",
   "metadata": {},
   "source": [
    "average: `y_pred_Forest`,\n",
    "`y_pred`,\n",
    "`y_pred_model_1`,\n",
    "`y_pred_model_2`,\n",
    "`y_pred_model_3`,\n",
    "`y_pred_model_4`,\n",
    "`y_pred_model_5`."
   ]
  },
  {
   "cell_type": "code",
   "execution_count": 146,
   "metadata": {},
   "outputs": [],
   "source": [
    "y_pred_average = [0]*len(y_pred_model_1)\n",
    "\n",
    "for i in range(0,len(y_pred)):\n",
    "    y_pred_average[i] = y_pred_Voting[i] + float(y_pred[i]) + float(y_pred_model_1[i]) + float(y_pred_model_2[i]) + float(y_pred_model_3[i]) + float(y_pred_model_4[i]) + float(y_pred_model_5[i])\n",
    "    y_pred_average[i] = y_pred_average[i]/7"
   ]
  },
  {
   "cell_type": "code",
   "execution_count": null,
   "metadata": {},
   "outputs": [],
   "source": []
  },
  {
   "cell_type": "markdown",
   "metadata": {},
   "source": [
    "# Submission Average"
   ]
  },
  {
   "cell_type": "code",
   "execution_count": null,
   "metadata": {},
   "outputs": [],
   "source": [
    "submission = pd.DataFrame()\n",
    "submission['Id'] = range(len(y_pred_average))\n",
    "submission['Predicted'] = y_pred_average"
   ]
  },
  {
   "cell_type": "code",
   "execution_count": null,
   "metadata": {},
   "outputs": [],
   "source": [
    "submission.to_csv(\"submission.csv\", index=False)"
   ]
  },
  {
   "cell_type": "code",
   "execution_count": null,
   "metadata": {},
   "outputs": [],
   "source": []
  },
  {
   "cell_type": "markdown",
   "metadata": {},
   "source": [
    "# If want make a submission for testing some model"
   ]
  },
  {
   "cell_type": "code",
   "execution_count": null,
   "metadata": {},
   "outputs": [],
   "source": [
    "# submission = pd.DataFrame()\n",
    "# submission['Id'] = range( y_pred_Forest.shape[0])\n",
    "# submission['Predicted'] =  y_pred_Forest"
   ]
  },
  {
   "cell_type": "code",
   "execution_count": null,
   "metadata": {},
   "outputs": [],
   "source": [
    "# submission.to_csv(\"submissionVoting.csv\", index=False)"
   ]
  },
  {
   "cell_type": "code",
   "execution_count": null,
   "metadata": {},
   "outputs": [],
   "source": []
  },
  {
   "cell_type": "markdown",
   "metadata": {},
   "source": [
    "# Try,and not work"
   ]
  },
  {
   "cell_type": "code",
   "execution_count": null,
   "metadata": {},
   "outputs": [],
   "source": [
    "#LOG\n",
    "\n",
    "# https://dev.to/rokaandy/logarithmic-transformation-in-linear-regression-models-why-when-3a7c\n",
    "\n",
    "# df_train.hist('count',figsize=(8,5))\n",
    "# df_train['count'] = np.log(df_train['count'])\n",
    "# df_train['count'].describe()\n",
    "\n",
    "\n",
    "\n",
    "# Percentile Linearization\n",
    "\n",
    "# size = len(df_train['count'])-1\n",
    "# df_train['count'] = df_train['count'].rank(method='min').apply(lambda x: (x-1)/size)\n",
    "# df_train['count'].describe()    GIVES SCORE 1.77\n",
    "\n",
    "\n",
    "\n",
    "# Log Max Root\n",
    "\n",
    "# log_max = np.log(df_train['count'].max())\n",
    "# df_train['count'] = df_train['count']**(1/log_max)\n",
    "# df_train['count'].describe()#\n",
    "\n",
    "# Log Max Root Normalized  GIVES SCORE 1.76\n",
    "\n",
    "# https://towardsdatascience.com/transforming-skewed-data-73da4c2d0d16\n",
    "\n",
    "# def normalize(column):\n",
    "#     upper = column.max()\n",
    "#     lower = column.min()\n",
    "#     y = (column - lower)/(upper-lower)\n",
    "#     return y\n",
    "\n",
    "# df_train['count'] = normalize(df_train['count'])\n",
    "\n",
    "##################################################################################################\n",
    "\n",
    "# Reversing log\n",
    "\n",
    "# y_pred = np.expm1(y_pred)\n",
    "# y_pred_model_1 = np.expm1(y_pred_model_1)\n",
    "# y_pred_model_2 = np.expm1(y_pred_model_2)\n",
    "# y_pred_model_3 = np.expm1(y_pred_model_3)\n",
    "# y_pred_model_4 = np.expm1(y_pred_model_4)\n",
    "# y_pred_model_5 = np.expm1(y_pred_model_5)"
   ]
  },
  {
   "cell_type": "markdown",
   "metadata": {},
   "source": [
    "#### Time Series Analysis(RNN):"
   ]
  },
  {
   "cell_type": "code",
   "execution_count": null,
   "metadata": {},
   "outputs": [],
   "source": [
    "# import numpy as np\n",
    "# import tensorflow as tf\n",
    "# from tensorflow import keras\n",
    "# import pandas as pd\n",
    "# import seaborn as sns\n",
    "# from pylab import rcParams\n",
    "# import matplotlib.pyplot as plt\n",
    "# from matplotlib import rc\n",
    "# from sklearn.model_selection import train_test_split\n",
    "# from pandas.plotting import register_matplotlib_converters\n",
    "\n",
    "# %matplotlib inline\n",
    "# %config InlineBackend.figure_format='retina'\n",
    "\n",
    "# register_matplotlib_converters()\n",
    "# sns.set(style='whitegrid', palette='muted', font_scale=1.5)\n",
    "\n",
    "# rcParams['figure.figsize'] = 22, 10\n",
    "\n",
    "# RANDOM_SEED = 42\n",
    "\n",
    "# np.random.seed(RANDOM_SEED)\n",
    "# tf.random.set_seed(RANDOM_SEED)"
   ]
  },
  {
   "cell_type": "code",
   "execution_count": null,
   "metadata": {},
   "outputs": [],
   "source": [
    "#df = pd.read_csv(\"train.csv\")\n",
    "\n",
    "# train_size = int(len(df) * 0.9)\n",
    "# test_size = len(df) - train_size\n",
    "# train, test = df.iloc[0:train_size], df.iloc[train_size:len(df)]\n",
    "# print(len(train), len(test))"
   ]
  },
  {
   "cell_type": "code",
   "execution_count": null,
   "metadata": {},
   "outputs": [],
   "source": [
    "# from sklearn.preprocessing import RobustScaler\n",
    "\n",
    "# f_columns = ['atemp', 'temp', 'hum', 'windspeed']\n",
    "\n",
    "# f_transformer = RobustScaler()\n",
    "# cnt_transformer = RobustScaler()\n",
    "\n",
    "# f_transformer = f_transformer.fit(train[f_columns].to_numpy())\n",
    "# cnt_transformer = cnt_transformer.fit(train[['cnt']])\n",
    "\n",
    "# train.loc[:, f_columns] = f_transformer.transform(train[f_columns].to_numpy())\n",
    "# train['cnt'] = cnt_transformer.transform(train[['cnt']])\n",
    "\n",
    "# test.loc[:, f_columns] = f_transformer.transform(test[f_columns].to_numpy())\n",
    "# test['cnt'] = cnt_transformer.transform(test[['cnt']])"
   ]
  },
  {
   "cell_type": "code",
   "execution_count": null,
   "metadata": {},
   "outputs": [],
   "source": [
    "# def create_dataset(X, y, time_steps=1):\n",
    "#     Xs, ys = [], []\n",
    "#     for i in range(len(X) - time_steps):\n",
    "#         v = X.iloc[i:(i + time_steps)].values\n",
    "#         Xs.append(v)        \n",
    "#         ys.append(y.iloc[i + time_steps])\n",
    "#     return np.array(Xs), np.array(ys)"
   ]
  },
  {
   "cell_type": "code",
   "execution_count": null,
   "metadata": {},
   "outputs": [],
   "source": [
    "# time_steps = 10\n",
    "\n",
    "# # reshape to [samples, time_steps, n_features]\n",
    "\n",
    "# X_train, y_train = create_dataset(train, train.cnt, time_steps)\n",
    "# X_test, y_test = create_dataset(test, test.cnt, time_steps)\n",
    "\n",
    "# print(X_train.shape, y_train.shape)"
   ]
  },
  {
   "cell_type": "code",
   "execution_count": null,
   "metadata": {},
   "outputs": [],
   "source": [
    "# model = keras.Sequential()\n",
    "# model.add(\n",
    "#   keras.layers.Bidirectional(\n",
    "#     keras.layers.LSTM(\n",
    "#       units=128, \n",
    "#       input_shape=(X_train.shape[1], X_train.shape[2])\n",
    "#     )\n",
    "#   )\n",
    "# )\n",
    "# model.add(keras.layers.Dropout(rate=0.2))\n",
    "# model.add(keras.layers.Dense(units=1))\n",
    "# model.compile(loss='mean_squared_error', optimizer='adam')"
   ]
  },
  {
   "cell_type": "code",
   "execution_count": null,
   "metadata": {},
   "outputs": [],
   "source": [
    "# history = model.fit(\n",
    "#     X_train, y_train, \n",
    "#     epochs=10, \n",
    "#     batch_size=32, \n",
    "#     validation_split=0.1,\n",
    "#     shuffle=False\n",
    "# )"
   ]
  },
  {
   "cell_type": "code",
   "execution_count": null,
   "metadata": {},
   "outputs": [],
   "source": [
    "# plt.plot(history.history['loss'], label='train')\n",
    "# plt.plot(history.history['val_loss'], label='test')\n",
    "# plt.legend();"
   ]
  },
  {
   "cell_type": "code",
   "execution_count": null,
   "metadata": {},
   "outputs": [],
   "source": [
    "#y_pred = model.predict(X_test)"
   ]
  },
  {
   "cell_type": "code",
   "execution_count": null,
   "metadata": {},
   "outputs": [],
   "source": [
    "# y_train_inv = cnt_transformer.inverse_transform(y_train.reshape(1, -1))\n",
    "# y_test_inv = cnt_transformer.inverse_transform(y_test.reshape(1, -1))\n",
    "# y_pred_inv = cnt_transformer.inverse_transform(y_pred)"
   ]
  },
  {
   "cell_type": "code",
   "execution_count": null,
   "metadata": {},
   "outputs": [],
   "source": [
    "# from sklearn.metrics import mean_squared_log_error, r2_score\n",
    "\n",
    "# True in (y_pred < 0)\n",
    "# for i, y  in enumerate(y_pred):\n",
    "#     if y_pred[i] < 0:\n",
    "#         y_pred[i] = 0\n",
    "# for i, y  in enumerate(y_pred):\n",
    "#     if y_pred[i] < 0:\n",
    "#         y_pred[i] = 0"
   ]
  },
  {
   "cell_type": "code",
   "execution_count": null,
   "metadata": {},
   "outputs": [],
   "source": [
    "# print('RMSLE:', np.sqrt(mean_squared_log_error(y_test_inv, y_pred_inv.T)))\n",
    "# print('R2:', r2_score(y_test_inv, y_pred_inv.T))\n",
    "\n",
    "\n",
    "\n",
    "#RMSLE: 1.599107832091222\n",
    "#R2: nan"
   ]
  },
  {
   "cell_type": "code",
   "execution_count": null,
   "metadata": {},
   "outputs": [],
   "source": []
  },
  {
   "cell_type": "markdown",
   "metadata": {},
   "source": [
    "#### Tanh estimators normalization:"
   ]
  },
  {
   "cell_type": "code",
   "execution_count": null,
   "metadata": {},
   "outputs": [],
   "source": [
    "# import pandas as pd\n",
    "# from sklearn import preprocessing\n",
    "# from sklearn.preprocessing import MinMaxScaler\n",
    "\n",
    "# count = df_train[['count']]\n",
    "# m_count = np.mean(count, axis=0) # array([16.25, 26.25])\n",
    "# std_count = np.std(count, axis=0) # array([17.45530005, 22.18529919])\n",
    "\n",
    "# mylist1 = []\n",
    "\n",
    "# for i in range(len(count)):\n",
    "#     estimator = 0.5 * (np.tanh(0.01 * ((count['count'][i] - m_count) / std_count)) + 1)\n",
    "#     mylist1.insert(i, estimator)\n",
    "\n",
    "    \n",
    "# df_train_count = pd.DataFrame(mylist1)\n",
    "# df_train.insert(60,'normalised_count',df_train_count)\n",
    "\n",
    "# temp = df_train[['temp']]\n",
    "# m_temp = np.mean(temp, axis=0) \n",
    "# std_temp = np.std(temp, axis=0) \n",
    "\n",
    "# mylist2 = []\n",
    "\n",
    "# for i in range(len(temp)):\n",
    "#     estimator = 0.5 * (np.tanh(0.01 * ((temp['temp'][i] - m_temp) / std_temp)) + 1)\n",
    "#     mylist2.insert(i, estimator)\n",
    "\n",
    "# df_train_temp = pd.DataFrame(mylist2)\n",
    "# df_train.insert(61,'normalised_temp',df_train_count)\n",
    "\n",
    "# humidity = df_train[['humidity']]\n",
    "# m_humidity = np.mean(humidity, axis=0) # array([16.25, 26.25])\n",
    "# std_humidity = np.std(humidity, axis=0) # array([17.45530005, 22.18529919])\n",
    "\n",
    "# mylist3 = []\n",
    "\n",
    "# for i in range(len(humidity)):\n",
    "#     estimator = 0.5 * (np.tanh(0.01 * ((humidity['humidity'][i] - m_humidity) / std_humidity)) + 1)\n",
    "#     mylist3.insert(i, estimator)\n",
    "    \n",
    "# df_train_humidity = pd.DataFrame(mylist3)\n",
    "# df_train.insert(62,'normalised_humidity',df_train_count)\n",
    "\n",
    "# y = df_train['normalised_count']\n",
    "# X = df_train[['temp', 'humidity','season_1','season_2','season_3','season_4','year_0','year_1','month_1','month_2','month_3','month_4','month_5','month_6','month_7','month_8','month_9','month_10','month_11','month_12','hour_0','hour_1','hour_2','hour_3','hour_4','hour_5','hour_6','hour_7','hour_8','hour_9','hour_10','hour_11','hour_12','hour_13','hour_14','hour_15','hour_16','hour_17','hour_18','hour_19','hour_20','hour_21','hour_22','hour_23','workingday_0','workingday_1','weather_1','weather_2','weather_3','weather_4','weekday_0','weekday_1','weekday_2','weekday_3','weekday_4','weekday_5','weekday_6' ]]\n",
    "\n",
    "# X_train, X_test, y_train, y_test = train_test_split(X, y, test_size=0.2, random_state=42)\n",
    "\n",
    "##################################################################################################################\n",
    "\n",
    "# Reverse tanh estimator's normalization\n",
    "# for i in range(len(y_pred)):\n",
    "#     y1 = y_pred[i] * 2\n",
    "#     y2 = y1 - 1\n",
    "#     y3 = np.arctanh(y2)\n",
    "#     y4 = y3 / 0.01\n",
    "#     y5 = y4 * std_count\n",
    "#     y6 = y5 + m_count\n",
    "#     y_pred[i] = y6.round()"
   ]
  },
  {
   "cell_type": "code",
   "execution_count": null,
   "metadata": {},
   "outputs": [],
   "source": []
  }
 ],
 "metadata": {
  "kernelspec": {
   "display_name": "Python 3",
   "language": "python",
   "name": "python3"
  },
  "language_info": {
   "codemirror_mode": {
    "name": "ipython",
    "version": 3
   },
   "file_extension": ".py",
   "mimetype": "text/x-python",
   "name": "python",
   "nbconvert_exporter": "python",
   "pygments_lexer": "ipython3",
   "version": "3.7.4"
  }
 },
 "nbformat": 4,
 "nbformat_minor": 2
}
