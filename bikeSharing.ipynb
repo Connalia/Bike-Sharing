{
 "cells": [
  {
   "cell_type": "markdown",
   "metadata": {},
   "source": [
    "# <span style=\"color:DarkRed\"> Data Challenge - Bike Sharing Demand Prediction </span>"
   ]
  },
  {
   "cell_type": "markdown",
   "metadata": {},
   "source": [
    "A dataset consisting of a few thousand records containing the hourly count of rental bikes between years 2011 and 2012 in Capital bikeshare system with the corresponding weather and seasonal information.\n",
    "\n",
    "Goal is to predict how many bikes will be rented each hour of a day, based on data including weather, time, temperature, whether or not its a workday, and much more. The dataset was taken from UCI Machine Learning Repository.\n",
    "Goal predict `count`(=`cnt`)"
   ]
  },
  {
   "cell_type": "markdown",
   "metadata": {},
   "source": [
    "# Dataset"
   ]
  },
  {
   "cell_type": "code",
   "execution_count": 1,
   "metadata": {},
   "outputs": [
    {
     "name": "stderr",
     "output_type": "stream",
     "text": [
      "Using TensorFlow backend.\n"
     ]
    }
   ],
   "source": [
    "import numpy as np\n",
    "\n",
    "#np.random.seed(1337)\n",
    "\n",
    "from keras.callbacks import ModelCheckpoint\n",
    "\n",
    "from keras.layers import Input, Conv2D, Dense, concatenate\n",
    "from keras.models import Model\n",
    "\n",
    "from keras.models import Sequential\n",
    "from keras.layers import Dense, Activation, Flatten\n",
    "\n",
    "from sklearn.model_selection import train_test_split\n",
    "from sklearn.ensemble import RandomForestRegressor\n",
    "from sklearn.metrics import mean_absolute_error \n",
    "from matplotlib import pyplot as plt\n",
    "import seaborn as sb\n",
    "import matplotlib.pyplot as plt\n",
    "import pandas as pd\n",
    "\n",
    "from sklearn.ensemble import RandomForestRegressor\n",
    "\n",
    "from sklearn.preprocessing import StandardScaler\n",
    "\n",
    "from sklearn import metrics\n",
    "\n",
    "\n",
    "import warnings \n",
    "from sklearn.metrics import mean_squared_log_error, r2_score\n",
    "warnings.filterwarnings('ignore')\n",
    "warnings.filterwarnings('ignore', category=DeprecationWarning)"
   ]
  },
  {
   "cell_type": "code",
   "execution_count": 2,
   "metadata": {},
   "outputs": [],
   "source": [
    "filename = 'train.csv' "
   ]
  },
  {
   "cell_type": "code",
   "execution_count": 3,
   "metadata": {},
   "outputs": [
    {
     "data": {
      "text/html": [
       "<div>\n",
       "<style scoped>\n",
       "    .dataframe tbody tr th:only-of-type {\n",
       "        vertical-align: middle;\n",
       "    }\n",
       "\n",
       "    .dataframe tbody tr th {\n",
       "        vertical-align: top;\n",
       "    }\n",
       "\n",
       "    .dataframe thead th {\n",
       "        text-align: right;\n",
       "    }\n",
       "</style>\n",
       "<table border=\"1\" class=\"dataframe\">\n",
       "  <thead>\n",
       "    <tr style=\"text-align: right;\">\n",
       "      <th></th>\n",
       "      <th>season</th>\n",
       "      <th>yr</th>\n",
       "      <th>mnth</th>\n",
       "      <th>hr</th>\n",
       "      <th>holiday</th>\n",
       "      <th>weekday</th>\n",
       "      <th>workingday</th>\n",
       "      <th>weathersit</th>\n",
       "      <th>temp</th>\n",
       "      <th>atemp</th>\n",
       "      <th>hum</th>\n",
       "      <th>windspeed</th>\n",
       "      <th>casual</th>\n",
       "      <th>registered</th>\n",
       "      <th>cnt</th>\n",
       "    </tr>\n",
       "  </thead>\n",
       "  <tbody>\n",
       "    <tr>\n",
       "      <td>0</td>\n",
       "      <td>4</td>\n",
       "      <td>0</td>\n",
       "      <td>11</td>\n",
       "      <td>0</td>\n",
       "      <td>0</td>\n",
       "      <td>2</td>\n",
       "      <td>1</td>\n",
       "      <td>1</td>\n",
       "      <td>0.56</td>\n",
       "      <td>0.5303</td>\n",
       "      <td>0.64</td>\n",
       "      <td>0.3582</td>\n",
       "      <td>7</td>\n",
       "      <td>15</td>\n",
       "      <td>22</td>\n",
       "    </tr>\n",
       "    <tr>\n",
       "      <td>1</td>\n",
       "      <td>1</td>\n",
       "      <td>0</td>\n",
       "      <td>2</td>\n",
       "      <td>21</td>\n",
       "      <td>0</td>\n",
       "      <td>6</td>\n",
       "      <td>0</td>\n",
       "      <td>1</td>\n",
       "      <td>0.28</td>\n",
       "      <td>0.2727</td>\n",
       "      <td>0.65</td>\n",
       "      <td>0.2537</td>\n",
       "      <td>9</td>\n",
       "      <td>59</td>\n",
       "      <td>68</td>\n",
       "    </tr>\n",
       "    <tr>\n",
       "      <td>2</td>\n",
       "      <td>4</td>\n",
       "      <td>1</td>\n",
       "      <td>11</td>\n",
       "      <td>12</td>\n",
       "      <td>0</td>\n",
       "      <td>3</td>\n",
       "      <td>1</td>\n",
       "      <td>1</td>\n",
       "      <td>0.44</td>\n",
       "      <td>0.4394</td>\n",
       "      <td>0.41</td>\n",
       "      <td>0.1940</td>\n",
       "      <td>74</td>\n",
       "      <td>270</td>\n",
       "      <td>344</td>\n",
       "    </tr>\n",
       "    <tr>\n",
       "      <td>3</td>\n",
       "      <td>1</td>\n",
       "      <td>1</td>\n",
       "      <td>1</td>\n",
       "      <td>7</td>\n",
       "      <td>0</td>\n",
       "      <td>2</td>\n",
       "      <td>1</td>\n",
       "      <td>2</td>\n",
       "      <td>0.18</td>\n",
       "      <td>0.1970</td>\n",
       "      <td>0.93</td>\n",
       "      <td>0.1642</td>\n",
       "      <td>3</td>\n",
       "      <td>219</td>\n",
       "      <td>222</td>\n",
       "    </tr>\n",
       "    <tr>\n",
       "      <td>4</td>\n",
       "      <td>1</td>\n",
       "      <td>1</td>\n",
       "      <td>3</td>\n",
       "      <td>16</td>\n",
       "      <td>0</td>\n",
       "      <td>1</td>\n",
       "      <td>1</td>\n",
       "      <td>1</td>\n",
       "      <td>0.30</td>\n",
       "      <td>0.2727</td>\n",
       "      <td>0.45</td>\n",
       "      <td>0.2985</td>\n",
       "      <td>30</td>\n",
       "      <td>180</td>\n",
       "      <td>210</td>\n",
       "    </tr>\n",
       "  </tbody>\n",
       "</table>\n",
       "</div>"
      ],
      "text/plain": [
       "   season  yr  mnth  hr  holiday  weekday  workingday  weathersit  temp  \\\n",
       "0       4   0    11   0        0        2           1           1  0.56   \n",
       "1       1   0     2  21        0        6           0           1  0.28   \n",
       "2       4   1    11  12        0        3           1           1  0.44   \n",
       "3       1   1     1   7        0        2           1           2  0.18   \n",
       "4       1   1     3  16        0        1           1           1  0.30   \n",
       "\n",
       "    atemp   hum  windspeed  casual  registered  cnt  \n",
       "0  0.5303  0.64     0.3582       7          15   22  \n",
       "1  0.2727  0.65     0.2537       9          59   68  \n",
       "2  0.4394  0.41     0.1940      74         270  344  \n",
       "3  0.1970  0.93     0.1642       3         219  222  \n",
       "4  0.2727  0.45     0.2985      30         180  210  "
      ]
     },
     "execution_count": 3,
     "metadata": {},
     "output_type": "execute_result"
    }
   ],
   "source": [
    "# Reading training data from the local storage\n",
    "df_train = pd.read_csv(filename)\n",
    "\n",
    "df_train_Forest = pd.read_csv(filename)\n",
    "\n",
    "df_train.head()"
   ]
  },
  {
   "cell_type": "code",
   "execution_count": 4,
   "metadata": {},
   "outputs": [
    {
     "data": {
      "text/plain": [
       "(12165, 15)"
      ]
     },
     "execution_count": 4,
     "metadata": {},
     "output_type": "execute_result"
    }
   ],
   "source": [
    "df_train.shape"
   ]
  },
  {
   "cell_type": "code",
   "execution_count": null,
   "metadata": {},
   "outputs": [],
   "source": []
  },
  {
   "cell_type": "code",
   "execution_count": 5,
   "metadata": {},
   "outputs": [
    {
     "data": {
      "text/html": [
       "<div>\n",
       "<style scoped>\n",
       "    .dataframe tbody tr th:only-of-type {\n",
       "        vertical-align: middle;\n",
       "    }\n",
       "\n",
       "    .dataframe tbody tr th {\n",
       "        vertical-align: top;\n",
       "    }\n",
       "\n",
       "    .dataframe thead th {\n",
       "        text-align: right;\n",
       "    }\n",
       "</style>\n",
       "<table border=\"1\" class=\"dataframe\">\n",
       "  <thead>\n",
       "    <tr style=\"text-align: right;\">\n",
       "      <th></th>\n",
       "      <th>season</th>\n",
       "      <th>yr</th>\n",
       "      <th>mnth</th>\n",
       "      <th>hr</th>\n",
       "      <th>holiday</th>\n",
       "      <th>weekday</th>\n",
       "      <th>workingday</th>\n",
       "      <th>weathersit</th>\n",
       "      <th>temp</th>\n",
       "      <th>atemp</th>\n",
       "      <th>hum</th>\n",
       "      <th>windspeed</th>\n",
       "    </tr>\n",
       "  </thead>\n",
       "  <tbody>\n",
       "    <tr>\n",
       "      <td>0</td>\n",
       "      <td>1</td>\n",
       "      <td>1</td>\n",
       "      <td>1</td>\n",
       "      <td>20</td>\n",
       "      <td>0</td>\n",
       "      <td>4</td>\n",
       "      <td>1</td>\n",
       "      <td>1</td>\n",
       "      <td>0.26</td>\n",
       "      <td>0.2121</td>\n",
       "      <td>0.52</td>\n",
       "      <td>0.4478</td>\n",
       "    </tr>\n",
       "    <tr>\n",
       "      <td>1</td>\n",
       "      <td>4</td>\n",
       "      <td>1</td>\n",
       "      <td>10</td>\n",
       "      <td>15</td>\n",
       "      <td>0</td>\n",
       "      <td>5</td>\n",
       "      <td>1</td>\n",
       "      <td>1</td>\n",
       "      <td>0.52</td>\n",
       "      <td>0.5000</td>\n",
       "      <td>0.42</td>\n",
       "      <td>0.4478</td>\n",
       "    </tr>\n",
       "    <tr>\n",
       "      <td>2</td>\n",
       "      <td>1</td>\n",
       "      <td>0</td>\n",
       "      <td>1</td>\n",
       "      <td>10</td>\n",
       "      <td>0</td>\n",
       "      <td>0</td>\n",
       "      <td>0</td>\n",
       "      <td>1</td>\n",
       "      <td>0.22</td>\n",
       "      <td>0.2121</td>\n",
       "      <td>0.51</td>\n",
       "      <td>0.2836</td>\n",
       "    </tr>\n",
       "    <tr>\n",
       "      <td>3</td>\n",
       "      <td>3</td>\n",
       "      <td>1</td>\n",
       "      <td>8</td>\n",
       "      <td>18</td>\n",
       "      <td>0</td>\n",
       "      <td>3</td>\n",
       "      <td>1</td>\n",
       "      <td>1</td>\n",
       "      <td>0.74</td>\n",
       "      <td>0.6667</td>\n",
       "      <td>0.51</td>\n",
       "      <td>0.2239</td>\n",
       "    </tr>\n",
       "    <tr>\n",
       "      <td>4</td>\n",
       "      <td>1</td>\n",
       "      <td>1</td>\n",
       "      <td>2</td>\n",
       "      <td>8</td>\n",
       "      <td>0</td>\n",
       "      <td>1</td>\n",
       "      <td>1</td>\n",
       "      <td>1</td>\n",
       "      <td>0.24</td>\n",
       "      <td>0.2424</td>\n",
       "      <td>0.60</td>\n",
       "      <td>0.0000</td>\n",
       "    </tr>\n",
       "  </tbody>\n",
       "</table>\n",
       "</div>"
      ],
      "text/plain": [
       "   season  yr  mnth  hr  holiday  weekday  workingday  weathersit  temp  \\\n",
       "0       1   1     1  20        0        4           1           1  0.26   \n",
       "1       4   1    10  15        0        5           1           1  0.52   \n",
       "2       1   0     1  10        0        0           0           1  0.22   \n",
       "3       3   1     8  18        0        3           1           1  0.74   \n",
       "4       1   1     2   8        0        1           1           1  0.24   \n",
       "\n",
       "    atemp   hum  windspeed  \n",
       "0  0.2121  0.52     0.4478  \n",
       "1  0.5000  0.42     0.4478  \n",
       "2  0.2121  0.51     0.2836  \n",
       "3  0.6667  0.51     0.2239  \n",
       "4  0.2424  0.60     0.0000  "
      ]
     },
     "execution_count": 5,
     "metadata": {},
     "output_type": "execute_result"
    }
   ],
   "source": [
    "df_test = pd.read_csv('test.csv')\n",
    "df_test.head()"
   ]
  },
  {
   "cell_type": "code",
   "execution_count": 6,
   "metadata": {},
   "outputs": [
    {
     "data": {
      "text/plain": [
       "(5214, 12)"
      ]
     },
     "execution_count": 6,
     "metadata": {},
     "output_type": "execute_result"
    }
   ],
   "source": [
    "df_test.shape"
   ]
  },
  {
   "cell_type": "code",
   "execution_count": null,
   "metadata": {},
   "outputs": [],
   "source": []
  },
  {
   "cell_type": "markdown",
   "metadata": {},
   "source": [
    "# Feature Engineering"
   ]
  },
  {
   "cell_type": "markdown",
   "metadata": {},
   "source": [
    "Change column names for a nice precise reading:"
   ]
  },
  {
   "cell_type": "code",
   "execution_count": 7,
   "metadata": {},
   "outputs": [],
   "source": [
    "df_train_Forest.rename(columns={'weathersit':'weather',\n",
    "                     'mnth':'month',\n",
    "                     'hr':'hour',\n",
    "                     'yr':'year',\n",
    "                     'hum': 'humidity',\n",
    "                     'cnt':'count'},inplace=True)"
   ]
  },
  {
   "cell_type": "code",
   "execution_count": 8,
   "metadata": {},
   "outputs": [],
   "source": [
    "df_train.rename(columns={'weathersit':'weather',\n",
    "                     'mnth':'month',\n",
    "                     'hr':'hour',\n",
    "                     'yr':'year',\n",
    "                     'hum': 'humidity',\n",
    "                     'cnt':'count'},inplace=True)"
   ]
  },
  {
   "cell_type": "markdown",
   "metadata": {},
   "source": [
    "Check existence of null values in the dataset:"
   ]
  },
  {
   "cell_type": "code",
   "execution_count": 9,
   "metadata": {},
   "outputs": [
    {
     "data": {
      "text/plain": [
       "season        0\n",
       "year          0\n",
       "month         0\n",
       "hour          0\n",
       "holiday       0\n",
       "weekday       0\n",
       "workingday    0\n",
       "weather       0\n",
       "temp          0\n",
       "atemp         0\n",
       "humidity      0\n",
       "windspeed     0\n",
       "casual        0\n",
       "registered    0\n",
       "count         0\n",
       "dtype: int64"
      ]
     },
     "execution_count": 9,
     "metadata": {},
     "output_type": "execute_result"
    }
   ],
   "source": [
    "df_train.isnull().sum()"
   ]
  },
  {
   "cell_type": "markdown",
   "metadata": {},
   "source": [
    "#### Shuffle Data: "
   ]
  },
  {
   "cell_type": "code",
   "execution_count": 10,
   "metadata": {},
   "outputs": [],
   "source": [
    "from sklearn.utils import shuffle"
   ]
  },
  {
   "cell_type": "code",
   "execution_count": 11,
   "metadata": {},
   "outputs": [],
   "source": [
    "seed = 42\n",
    "df_train = shuffle(df_train, random_state=seed)\n",
    "\n",
    "df_train_Forest = shuffle(df_train_Forest, random_state=seed)\n",
    "\n",
    "#df_train.head()"
   ]
  },
  {
   "cell_type": "markdown",
   "metadata": {},
   "source": [
    "#  <span style=\"color:SlateBlue\"> Exploring Data (with Analysis) </span>"
   ]
  },
  {
   "cell_type": "markdown",
   "metadata": {},
   "source": [
    "`sn` (seaborn as sn)for correlation(για διαγραμμα συσχέτισης)"
   ]
  },
  {
   "cell_type": "code",
   "execution_count": 12,
   "metadata": {},
   "outputs": [],
   "source": [
    "import seaborn as sn"
   ]
  },
  {
   "cell_type": "code",
   "execution_count": null,
   "metadata": {},
   "outputs": [],
   "source": []
  },
  {
   "cell_type": "markdown",
   "metadata": {},
   "source": [
    "To see how numerical(=continuous) variables are connected with each other, data correlation can be checked:\n",
    " (correlation=συσχέτιση) "
   ]
  },
  {
   "cell_type": "code",
   "execution_count": 13,
   "metadata": {},
   "outputs": [
    {
     "data": {
      "text/plain": [
       "<matplotlib.axes._subplots.AxesSubplot at 0x259946833c8>"
      ]
     },
     "execution_count": 13,
     "metadata": {},
     "output_type": "execute_result"
    },
    {
     "data": {
      "image/png": "[encoded data removed]",
      "text/plain": [
       "<Figure size 1080x720 with 2 Axes>"
      ]
     },
     "metadata": {
      "needs_background": "light"
     },
     "output_type": "display_data"
    }
   ],
   "source": [
    "data_corr = df_train[['temp', 'atemp', 'humidity', 'windspeed', 'casual', 'registered', 'count']].corr()\n",
    "mask = np.array(data_corr)\n",
    "mask[np.tril_indices_from(mask)] = False\n",
    "fig = plt.subplots(figsize=(15, 10))\n",
    "sn.heatmap(data_corr, mask=mask, vmax=1, square=True, annot=True, cmap=\"YlGnBu\")"
   ]
  },
  {
   "cell_type": "markdown",
   "metadata": {},
   "source": [
    "It can be observed that:\n",
    "- `temp` and `atemp` are strongly correlated. To reduce the dimensionality of the predictive model, the feature `atemp` is dismissed.\n",
    "\n",
    " I can see in first column, `temp` with `atemp`(in row) have `0.99`,are highly correlated. Remove atemp. \n",
    "\n",
    "\n",
    "- `casual` and `registered` contain direct information about the bike sharing `count` which we want to predict (data leakage).\n",
    "\n",
    " `casual` and `registered` is exactly what you are trying to predict,because `casual`+`registered`=`count`\n",
    "\n",
    "\n",
    "- `windspeed` has little correlation with `count`.\n",
    "\n",
    " `Windspeed` correlation with count is so low(0.097) that we won’t even consider it in our model. We can remove it too.\n",
    " \n",
    "\n",
    "- `temp` has positive correlation and `humidity` has negative correlation with `count`."
   ]
  },
  {
   "cell_type": "code",
   "execution_count": 14,
   "metadata": {},
   "outputs": [],
   "source": [
    "df_train = df_train.drop(['atemp', 'windspeed'], axis=1)"
   ]
  },
  {
   "cell_type": "code",
   "execution_count": 15,
   "metadata": {},
   "outputs": [],
   "source": [
    "#df_train = df_train.drop(['casual', 'registered'], axis=1)"
   ]
  },
  {
   "cell_type": "code",
   "execution_count": null,
   "metadata": {},
   "outputs": [],
   "source": []
  },
  {
   "cell_type": "markdown",
   "metadata": {},
   "source": [
    "Analyze the change in bike sharing pattern (`count` variable) with categorical variables:"
   ]
  },
  {
   "cell_type": "markdown",
   "metadata": {},
   "source": [
    "`sn` Correlation of two feature(`count` and categorical features).\n",
    "\n",
    "`nrows`=8, create 8 diagramas (because categorical features are 8)"
   ]
  },
  {
   "cell_type": "code",
   "execution_count": 16,
   "metadata": {},
   "outputs": [
    {
     "data": {
      "text/plain": [
       "<matplotlib.axes._subplots.AxesSubplot at 0x25994f7c5c8>"
      ]
     },
     "execution_count": 16,
     "metadata": {},
     "output_type": "execute_result"
    },
    {
     "data": {
      "image/png": "[encoded data removed]",
      "text/plain": [
       "<Figure size 1080x1800 with 8 Axes>"
      ]
     },
     "metadata": {
      "needs_background": "light"
     },
     "output_type": "display_data"
    }
   ],
   "source": [
    "fig,[ax1,ax2,ax3,ax4,ax5,ax6,ax7,ax8] = plt.subplots(nrows=8, figsize=(15,25))\n",
    "sn.barplot(x = df_train['season'], y = df_train['count'],ax = ax1)\n",
    "sn.barplot(x = df_train['year'], y = df_train['count'],ax = ax2)\n",
    "sn.barplot(x = df_train['month'], y = df_train['count'],ax = ax3)\n",
    "sn.barplot(x = df_train['hour'], y = df_train['count'],ax = ax4)\n",
    "sn.barplot(x = df_train['holiday'], y = df_train['count'],ax = ax5)\n",
    "sn.barplot(x = df_train['weekday'], y = df_train['count'],ax = ax6)\n",
    "sn.barplot(x = df_train['workingday'], y = df_train['count'],ax = ax7)\n",
    "sn.barplot(x = df_train['weather'], y = df_train['count'],ax = ax8)"
   ]
  },
  {
   "cell_type": "markdown",
   "metadata": {},
   "source": [
    "It can be observed that:\n",
    "- If we use the `weekday` attribute instead of `workingday` (binary value) then results improve a bit. Also, we observed that the workingday parameter, when not taken, does not give much change in result.\n",
    "- We remove `weather_4`(highly varience=έχει υψηλη διακυμανση, big divergence=μεγαλη αποκλιση), people usually don't take bike when weather is very bad, but it has exeption and take. This case is outliers"
   ]
  },
  {
   "cell_type": "markdown",
   "metadata": {},
   "source": [
    "Try, but there was no improvement at score:\n",
    "- We can disregard the significantly high correlation between `weather` and `huminity` since it is only natural for them to have high correlation.Because when they have high huminity is probably rain(bad weather)\n",
    "- We can disregard the significantly high correlation between `season` and `month` since it is only natural for them to have high correlation."
   ]
  },
  {
   "cell_type": "markdown",
   "metadata": {},
   "source": [
    "Analyzing Outliers:"
   ]
  },
  {
   "cell_type": "code",
   "execution_count": 17,
   "metadata": {},
   "outputs": [
    {
     "data": {
      "text/plain": [
       "[Text(0, 0.5, 'Count'),\n",
       " Text(0.5, 0, 'Hour Of The Day'),\n",
       " Text(0.5, 1.0, 'Box Plot On Count Across Hour Of The Day')]"
      ]
     },
     "execution_count": 17,
     "metadata": {},
     "output_type": "execute_result"
    },
    {
     "data": {
      "image/png": "[encoded data removed]",
      "text/plain": [
       "<Figure size 1440x720 with 1 Axes>"
      ]
     },
     "metadata": {
      "needs_background": "light"
     },
     "output_type": "display_data"
    }
   ],
   "source": [
    "fig, axes = plt.subplots(nrows=1,ncols=1)\n",
    "fig.set_size_inches(20, 10)\n",
    "sn.boxplot(data=df_train,y=\"count\",x=\"hour\",orient=\"v\",ax=axes)\n",
    "axes.set(xlabel='Hour Of The Day', ylabel='Count',title=\"Box Plot On Count Across Hour Of The Day\")"
   ]
  },
  {
   "cell_type": "markdown",
   "metadata": {},
   "source": [
    "Above, we can see that people use more bikes between 7 - 8 and 17 - 18 o'clock, which can be related to the time of day when people go or come back from work or school.\n",
    "\n",
    "The points on top are outliers."
   ]
  },
  {
   "cell_type": "code",
   "execution_count": null,
   "metadata": {},
   "outputs": [],
   "source": []
  },
  {
   "cell_type": "markdown",
   "metadata": {},
   "source": [
    "Removing Outliers in `count`:"
   ]
  },
  {
   "cell_type": "code",
   "execution_count": 18,
   "metadata": {},
   "outputs": [
    {
     "name": "stdout",
     "output_type": "stream",
     "text": [
      "Shape before delete Ouliers:  (12165, 13)\n"
     ]
    }
   ],
   "source": [
    "print (\"Shape before delete Ouliers: \",df_train.shape)"
   ]
  },
  {
   "cell_type": "code",
   "execution_count": 19,
   "metadata": {},
   "outputs": [],
   "source": [
    "df_train = df_train[np.abs(df_train[\"count\"]-df_train[\"count\"].mean())<=(3*df_train[\"count\"].std())]"
   ]
  },
  {
   "cell_type": "code",
   "execution_count": 20,
   "metadata": {},
   "outputs": [
    {
     "name": "stdout",
     "output_type": "stream",
     "text": [
      "Shape after delete Ouliers:  (11989, 13)\n"
     ]
    }
   ],
   "source": [
    "print (\"Shape after delete Ouliers: \",df_train.shape)"
   ]
  },
  {
   "cell_type": "markdown",
   "metadata": {},
   "source": [
    "#  <span style=\"color:SlateBlue\"> Predict Count Sharing Bike (Training Models) </span>"
   ]
  },
  {
   "cell_type": "markdown",
   "metadata": {},
   "source": [
    "# RMSLE Score"
   ]
  },
  {
   "cell_type": "markdown",
   "metadata": {},
   "source": [
    "In this particular competition, the metric to evaluate your model is **Root Mean Square Logarithmic Error** (RMSLE). It is particularly helpful when we want to penalize an under-predicted estimate greater than an over-predicted estimate. If $\\hat{y_i}$ is the predicted value of the $I$-th sample, and ${y_i}$ is the corresponding true value, then the RMSLE estimated over $N$ samples is defined as:\n",
    "\n",
    "$$ RMSLE = \\sqrt{\\frac{1}{N} \\sum_{i=1}^N (\\log(1+\\hat{y_i}) - \\log(1+y_i))^2 } $$"
   ]
  },
  {
   "cell_type": "markdown",
   "metadata": {},
   "source": [
    "# Model building"
   ]
  },
  {
   "cell_type": "markdown",
   "metadata": {},
   "source": [
    "# 1)Trees"
   ]
  },
  {
   "cell_type": "code",
   "execution_count": null,
   "metadata": {},
   "outputs": [],
   "source": []
  },
  {
   "cell_type": "markdown",
   "metadata": {},
   "source": [
    "## Initialize Feature"
   ]
  },
  {
   "cell_type": "markdown",
   "metadata": {},
   "source": [
    "Some data types need to be changed from numerical to categorical in order for the model to interpret better these variables:"
   ]
  },
  {
   "cell_type": "code",
   "execution_count": 21,
   "metadata": {},
   "outputs": [],
   "source": [
    "df_train_Forest['season'] = df_train_Forest.season.astype('category')\n",
    "df_train_Forest['year'] = df_train_Forest.year.astype('category')\n",
    "df_train_Forest['month'] = df_train_Forest.month.astype('category')\n",
    "df_train_Forest['hour'] = df_train_Forest.hour.astype('category')\n",
    "df_train_Forest['holiday'] = df_train_Forest.holiday.astype('category')\n",
    "df_train_Forest['weekday'] = df_train_Forest.weekday.astype('category')\n",
    "df_train_Forest['workingday'] = df_train_Forest.workingday.astype('category')\n",
    "df_train_Forest['weather'] = df_train_Forest.weather.astype('category')"
   ]
  },
  {
   "cell_type": "markdown",
   "metadata": {},
   "source": [
    "Rounding the continuous float number `temp`, `humidity`(for better `RandomForest`): \n",
    "\n",
    "(e.g. 0,34=>0,3 when round is 1)"
   ]
  },
  {
   "cell_type": "markdown",
   "metadata": {},
   "source": [
    "`RandomForest` with only categories feature(score=0.4)and with no categories(score=0.35)"
   ]
  },
  {
   "cell_type": "code",
   "execution_count": 22,
   "metadata": {},
   "outputs": [],
   "source": [
    "df_train_Forest=df_train_Forest.round({'humidity': 1,'temp':1,'windspeed':1})\n",
    "y_Forest = df_train_Forest['count']\n",
    "X_Forest = df_train_Forest[['humidity','temp','windspeed','season','year','month','hour','weekday','workingday','weather']]\n",
    "              \n",
    "X_train_Forest, X_test_Forest, y_train_Forest, y_test_Forest = train_test_split(X_Forest, y_Forest, test_size=0.2, random_state=42)"
   ]
  },
  {
   "cell_type": "markdown",
   "metadata": {},
   "source": [
    "## i)RandomForest "
   ]
  },
  {
   "cell_type": "markdown",
   "metadata": {},
   "source": [
    "GridsSearchCV:"
   ]
  },
  {
   "cell_type": "code",
   "execution_count": 23,
   "metadata": {},
   "outputs": [],
   "source": [
    "# from sklearn.model_selection import train_test_split, GridSearchCV\n",
    "\n",
    "# # Random Forest\n",
    "# rf = RandomForestRegressor(n_jobs=-1, random_state=0)\n",
    "# parameters = {'n_estimators': [100, 200, 400, 800], 'max_depth': [5, 15, 25]}\n",
    "# rf_cv = GridSearchCV(rf, parameters, cv=5, n_jobs=-1)\n",
    "# rf_cv.fit(X_train_Forest, y_train_Forest)\n",
    "\n",
    "# print (rf_cv.best_params_)\n",
    "\n",
    "# y_pred_Forest_CV = rf_cv.predict(X_test_Forest)"
   ]
  },
  {
   "cell_type": "code",
   "execution_count": 24,
   "metadata": {},
   "outputs": [],
   "source": [
    "# print('RMSLE_Forest:', np.sqrt(mean_squared_log_error(y_test_Forest, y_pred_Forest_CV)))"
   ]
  },
  {
   "cell_type": "markdown",
   "metadata": {},
   "source": [
    "GridSearchCV on RandomForestRegressor gave as best parameters:\n",
    "\n",
    "    {'max_depth': 15, 'n_estimators': 800}\n",
    "    \n",
    "and gave a score of:\n",
    "\n",
    "    0.35316109498740716"
   ]
  },
  {
   "cell_type": "code",
   "execution_count": null,
   "metadata": {},
   "outputs": [],
   "source": []
  },
  {
   "cell_type": "code",
   "execution_count": 25,
   "metadata": {},
   "outputs": [],
   "source": [
    "model_Forest = RandomForestRegressor(n_estimators = 800, max_depth = 15, random_state = 12)\n",
    "reg_Forest = model_Forest\n",
    "model_Forest.fit(X_train_Forest,y_train_Forest)\n",
    "\n",
    "# Get the mean absolute error on the validation data :\n",
    "y_pred_Forest = model_Forest.predict(X_test_Forest)\n",
    "MAE_Forest = mean_absolute_error(y_test_Forest , y_pred_Forest)"
   ]
  },
  {
   "cell_type": "code",
   "execution_count": 26,
   "metadata": {},
   "outputs": [
    {
     "name": "stdout",
     "output_type": "stream",
     "text": [
      "RMSLE_Forest: 0.35298182229774855\n"
     ]
    }
   ],
   "source": [
    "print('RMSLE_Forest:', np.sqrt(mean_squared_log_error(y_test_Forest, y_pred_Forest)))"
   ]
  },
  {
   "cell_type": "code",
   "execution_count": null,
   "metadata": {},
   "outputs": [],
   "source": []
  },
  {
   "cell_type": "markdown",
   "metadata": {},
   "source": [
    "## ii)ExtraTreesRegressor"
   ]
  },
  {
   "cell_type": "code",
   "execution_count": 27,
   "metadata": {},
   "outputs": [],
   "source": [
    "from sklearn import model_selection\n",
    "from sklearn.ensemble import ExtraTreesRegressor"
   ]
  },
  {
   "cell_type": "markdown",
   "metadata": {},
   "source": [
    "GridSearchCV:"
   ]
  },
  {
   "cell_type": "code",
   "execution_count": 28,
   "metadata": {},
   "outputs": [],
   "source": [
    "# model_Tree = ensemble.ExtraTreesRegressor(n_jobs=-1, random_state=0)\n",
    "# parameters = {'n_estimators': [100, 200, 400, 800], 'max_depth': [5, 15, 25]}\n",
    "# mt_cv = GridSearchCV(model_Tree, parameters, cv=5, n_jobs=-1)\n",
    "# mt_cv.fit(X_train_Forest, y_train_Forest)\n",
    "\n",
    "# print (rf_cv.best_params_)\n",
    "\n",
    "# y_pred_Forest = mt_cv.predict(X_test_Forest)\n",
    "\n",
    "# print('RMSLE_Forest:', np.sqrt(mean_squared_log_error(y_test_Forest, y_pred_Forest)))"
   ]
  },
  {
   "cell_type": "markdown",
   "metadata": {},
   "source": [
    "GridSearchCV on ExtraTreesRegressor gave as best parameters:\n",
    "\n",
    "    {'max_depth': 15, 'n_estimators': 800}\n",
    "    \n",
    "and gave a score of:\n",
    "\n",
    "    0.3513426035169288"
   ]
  },
  {
   "cell_type": "code",
   "execution_count": null,
   "metadata": {},
   "outputs": [],
   "source": []
  },
  {
   "cell_type": "code",
   "execution_count": 29,
   "metadata": {},
   "outputs": [
    {
     "name": "stdout",
     "output_type": "stream",
     "text": [
      "RMSLE_Forest: 0.35243829552225653\n"
     ]
    }
   ],
   "source": [
    "from sklearn import ensemble\n",
    "model_Tree = ensemble.ExtraTreesRegressor(n_estimators = 800, max_depth = 15)\n",
    "reg_Tree = model_Tree\n",
    "model_Tree.fit(X_train_Forest, y_train_Forest)\n",
    "\n",
    "y_pred_Tree_CV = model_Tree.predict(X_test_Forest)\n",
    "\n",
    "print('RMSLE_Forest:', np.sqrt(mean_squared_log_error(y_test_Forest, y_pred_Tree_CV)))"
   ]
  },
  {
   "cell_type": "code",
   "execution_count": null,
   "metadata": {},
   "outputs": [],
   "source": []
  },
  {
   "cell_type": "markdown",
   "metadata": {},
   "source": [
    "## iii) GradientB"
   ]
  },
  {
   "cell_type": "markdown",
   "metadata": {},
   "source": [
    "https://medium.com/analytics-vidhya/how-to-finish-top-10-percentile-in-bike-sharing-demand-competition-in-kaggle-part-2-29e854aaab7d?"
   ]
  },
  {
   "cell_type": "code",
   "execution_count": 30,
   "metadata": {},
   "outputs": [],
   "source": [
    "# from sklearn.ensemble import GradientBoostingRegressor\n",
    "# from sklearn.model_selection import GridSearchCV\n",
    "# # Needs 16 hours\n",
    "# gbm = GradientBoostingRegressor()\n",
    "# param_grid = { \n",
    "#     'n_estimators': [1000,3000,4000],\n",
    "#     'max_features': [\"auto\",\"sqrt\",\"log2\",0.6,0.8],\n",
    "#     'min_samples_leaf':[30,50,70],\n",
    "#     'min_samples_split':[200,300],\n",
    "#     'max_depth' : [15,25],\n",
    "#     'subsample': [0.4,0.8],\n",
    "#     'learning_rate':[0.1,0.001]\n",
    "# }\n",
    "# CV_gbm=GridSearchCV(estimator=gbm,param_grid=param_grid,cv=5, n_jobs=-1)\n",
    "# CV_gbm.fit(X = X_train_Forest,y = np.log1p(y_train_Forest))\n",
    "# print (CV_gbm.best_params_)\n",
    "# y_pred_Forest = CV_gbm.predict(X= X_test_Forest)\n",
    "# # print (\"RMSLE Value: \",rmsle(y_test_Forest,np.exp(y_pred_Forest)))\n",
    "# print('RMSLE_Forest:', np.sqrt(mean_squared_log_error(y_test_Forest, y_pred_Forest)))"
   ]
  },
  {
   "cell_type": "code",
   "execution_count": null,
   "metadata": {},
   "outputs": [],
   "source": []
  },
  {
   "cell_type": "markdown",
   "metadata": {},
   "source": [
    "# 2) MLP:"
   ]
  },
  {
   "cell_type": "markdown",
   "metadata": {},
   "source": [
    "## Initialize Feature"
   ]
  },
  {
   "cell_type": "markdown",
   "metadata": {},
   "source": [
    "Some data types need to be changed from numerical to categorical in order for the model to interpret better these variables:"
   ]
  },
  {
   "cell_type": "code",
   "execution_count": 31,
   "metadata": {},
   "outputs": [],
   "source": [
    "df_train['season'] = df_train.season.astype('category')\n",
    "df_train['year'] = df_train.year.astype('category')\n",
    "df_train['month'] = df_train.month.astype('category')\n",
    "df_train['hour'] = df_train.hour.astype('category')\n",
    "df_train['holiday'] = df_train.holiday.astype('category')\n",
    "df_train['weekday'] = df_train.weekday.astype('category')\n",
    "df_train['workingday'] = df_train.workingday.astype('category')\n",
    "df_train['weather'] = df_train.weather.astype('category')"
   ]
  },
  {
   "cell_type": "markdown",
   "metadata": {},
   "source": [
    "One hot encoding:"
   ]
  },
  {
   "cell_type": "code",
   "execution_count": 32,
   "metadata": {},
   "outputs": [],
   "source": [
    "df_train=pd.get_dummies(df_train)"
   ]
  },
  {
   "cell_type": "code",
   "execution_count": null,
   "metadata": {},
   "outputs": [],
   "source": []
  },
  {
   "cell_type": "markdown",
   "metadata": {},
   "source": [
    "## Useful Libriries:"
   ]
  },
  {
   "cell_type": "markdown",
   "metadata": {},
   "source": [
    "When a `Dropout` rate of 0.8 is suggested in a paper (retain 80%), this will, in fact, will be a dropout rate of 0.2 (set 20% of inputs to zero).\n",
    "\n",
    "Creating a dropout layer with a 50% chance of setting inputs to zero.(eg.model.add(Dropout(0.5)))"
   ]
  },
  {
   "cell_type": "code",
   "execution_count": 33,
   "metadata": {},
   "outputs": [],
   "source": [
    "from keras.layers import Dropout"
   ]
  },
  {
   "cell_type": "markdown",
   "metadata": {},
   "source": [
    "Layer `Noise`(eg. input layer => model.add(GaussianNoise(0.01, input_shape=(2,))))"
   ]
  },
  {
   "cell_type": "code",
   "execution_count": 34,
   "metadata": {},
   "outputs": [],
   "source": [
    "from keras.layers import GaussianNoise"
   ]
  },
  {
   "cell_type": "markdown",
   "metadata": {},
   "source": [
    "`Initializers` helps Initializations define the way to set the initial random weights of Keras layers."
   ]
  },
  {
   "cell_type": "code",
   "execution_count": 35,
   "metadata": {},
   "outputs": [],
   "source": [
    "from keras.initializers import RandomNormal"
   ]
  },
  {
   "cell_type": "markdown",
   "metadata": {},
   "source": [
    "`BatchNormalization`: \n",
    "\n",
    "Normalize the activations of the previous layer at each batch, i.e. applies a transformation that maintains the mean activation close to 0 and the activation standard deviation close to 1.\n",
    "\n",
    "https://keras.io/layers/normalization/?fbclid=IwAR2RTd4vyPaMXLPjh0qPyirb3fKumkw8vkUIDY-e7HjnRogCMIniLKhd__g\n",
    "\n",
    "Benefits of using BatchNormalization:\n",
    "\n",
    "- Networks train faster converge much more quickly.\n",
    "\n",
    "- Allows higher learning rates. Gradient descent usually requires small learning rates for the network to converge.\n",
    "\n",
    "- Makes weights easier to initialize\n",
    "\n",
    "- Makes more activation functions viable. Because batch normalization regulates the values going into each activation function, non-linearities that don't seem to work well in deep networks actually become viable again.\n",
    "\n",
    "- May give better results overall.\n",
    "\n",
    "https://www.dlology.com/blog/one-simple-trick-to-train-keras-model-faster-with-batch-normalization/?fbclid=IwAR2VngzpCyste4vS4qyhXuc93ZZWhTjj6svE_AXTwKZq5P6e6ur1wVnRl1E"
   ]
  },
  {
   "cell_type": "code",
   "execution_count": 36,
   "metadata": {},
   "outputs": [],
   "source": [
    "from keras.layers import BatchNormalization"
   ]
  },
  {
   "cell_type": "code",
   "execution_count": null,
   "metadata": {},
   "outputs": [],
   "source": []
  },
  {
   "cell_type": "markdown",
   "metadata": {},
   "source": [
    "`Optimizer` Adam - A Method for Stochastic Optimization\n",
    "\n",
    "e.g F(x)=((w*x)....W*X)\n",
    "\n",
    "    F'(x)=0\n",
    "    \n",
    "`learning rate`= how big is step to find minimum on gragh(=F(x)) => the solution"
   ]
  },
  {
   "cell_type": "code",
   "execution_count": 37,
   "metadata": {},
   "outputs": [],
   "source": [
    "from keras.optimizers import Adam"
   ]
  },
  {
   "cell_type": "code",
   "execution_count": 38,
   "metadata": {},
   "outputs": [],
   "source": [
    "from keras.optimizers import SGD\n",
    "from keras.regularizers import l2"
   ]
  },
  {
   "cell_type": "markdown",
   "metadata": {},
   "source": [
    "### Model"
   ]
  },
  {
   "cell_type": "code",
   "execution_count": 39,
   "metadata": {},
   "outputs": [],
   "source": [
    "y = df_train['count']\n",
    "#X = df_train[['temp', 'humidity','season_1','season_2','season_3','season_4','year_0','year_1','month_1','month_2','month_3','month_4','month_5','month_6','month_7','month_8','month_9','month_10','month_11','month_12','hour_0','hour_1','hour_2','hour_3','hour_4','hour_5','hour_6','hour_7','hour_8','hour_9','hour_10','hour_11','hour_12','hour_13','hour_14','hour_15','hour_16','hour_17','hour_18','hour_19','hour_20','hour_21','hour_22','hour_23','workingday_0','workingday_1','weather_1','weather_2','weather_3','weather_4','weekday_0','weekday_1','weekday_2','weekday_3','weekday_4','weekday_5','weekday_6','holiday_0','holiday_1' ]]\n",
    "X = df_train[['temp', 'humidity','season_1','season_2','season_3','season_4','year_0','year_1','month_1','month_2','month_3','month_4','month_5','month_6','month_7','month_8','month_9','month_10','month_11','month_12','hour_0','hour_1','hour_2','hour_3','hour_4','hour_5','hour_6','hour_7','hour_8','hour_9','hour_10','hour_11','hour_12','hour_13','hour_14','hour_15','hour_16','hour_17','hour_18','hour_19','hour_20','hour_21','hour_22','hour_23','weekday_0','weekday_1','weekday_2','weekday_3','weekday_4','weekday_5','weekday_6','weather_1','weather_2','weather_3','holiday_0','holiday_1']]\n",
    "\n",
    "\n",
    "X_train, X_test, y_train, y_test = train_test_split(X, y, test_size=0.2, random_state=42)"
   ]
  },
  {
   "cell_type": "code",
   "execution_count": null,
   "metadata": {},
   "outputs": [],
   "source": []
  },
  {
   "cell_type": "markdown",
   "metadata": {},
   "source": [
    "GridSearchCV:"
   ]
  },
  {
   "cell_type": "code",
   "execution_count": 40,
   "metadata": {},
   "outputs": [],
   "source": [
    "# # GridSearchCV for MLP \n",
    "\n",
    "# from keras.wrappers.scikit_learn import KerasRegressor\n",
    "\n",
    "# def create_model(neurons = 1, dropout_rate = 0.1, learning_rate=0.1, optimizer= 'Adam'):\n",
    "#     model = Sequential()\n",
    "#     model.add(Dense(neurons, input_dim=57, kernel_initializer=RandomNormal(mean=0.0, stddev=0.05, seed=12), use_bias = False))\n",
    "#     model.add(BatchNormalization())\n",
    "#     model.add(Activation('relu'))\n",
    "#     model.add(Dropout(dropout_rate))\n",
    "#     #model.add(Dense(80, use_bias = False))\n",
    "#     #model.add(Dense(40, use_bias = False))\n",
    "#     model.add(Dense(40, use_bias = False))\n",
    "#     model.add(Activation('relu'))\n",
    "#     model.add(Dense(1, activation='relu'))\n",
    "    \n",
    "#     model.compile(loss='mse', optimizer= 'adam', metrics=['mse','mae'])\n",
    "#     return model\n",
    "\n",
    "# batch_size = [32, 50, 60]\n",
    "# epochs = [50, 100]\n",
    "# # optimizer = ['Adam', 'Adamax', 'Nadam']\n",
    "# learning_rate = [0.008, 0.01]\n",
    "# #momentum\n",
    "# dropout_rate = [0.008, 0.01]\n",
    "# neurons = [120, 60]\n",
    "# parameters = {'batch_size': batch_size,\n",
    "#              'epochs': epochs,\n",
    "# #              'optimizer': optimizer,\n",
    "#              'dropout_rate': dropout_rate,\n",
    "#              'learning_rate': learning_rate,\n",
    "#              'neurons': neurons}\n",
    "\n",
    "\n",
    "# model_CV = KerasRegressor(create_model, verbose=0)\n",
    "\n",
    "# model_CV = GridSearchCV(model_CV, parameters, cv=5, n_jobs=-1)\n",
    "\n",
    "# model_CV.fit(X_train, y_train)\n",
    "\n",
    "# print (model_CV.best_params_)\n",
    "\n",
    "# y_pred_CV = model_CV.predict(X_test)\n",
    "\n",
    "# print('RMSLE_Forest:', np.sqrt(mean_squared_log_error(y_test, y_pred_CV)))"
   ]
  },
  {
   "cell_type": "markdown",
   "metadata": {},
   "source": [
    "GridSearchCV on modeal gave as best parameters:\n",
    "\n",
    "    {'batch_size': 60, 'dropout_rate': 0.01, 'epochs': 100, 'learning_rate': 0.008, 'neurons': 120}\n",
    "    \n",
    "and gave a score of:\n",
    "\n",
    "    0.8820762729223331"
   ]
  },
  {
   "cell_type": "code",
   "execution_count": null,
   "metadata": {},
   "outputs": [],
   "source": []
  },
  {
   "cell_type": "markdown",
   "metadata": {},
   "source": [
    "Make neurotic shape:"
   ]
  },
  {
   "cell_type": "code",
   "execution_count": 41,
   "metadata": {},
   "outputs": [
    {
     "name": "stdout",
     "output_type": "stream",
     "text": [
      "WARNING:tensorflow:From C:\\Users\\giann\\Anaconda3\\lib\\site-packages\\keras\\backend\\tensorflow_backend.py:74: The name tf.get_default_graph is deprecated. Please use tf.compat.v1.get_default_graph instead.\n",
      "\n",
      "WARNING:tensorflow:From C:\\Users\\giann\\Anaconda3\\lib\\site-packages\\keras\\backend\\tensorflow_backend.py:517: The name tf.placeholder is deprecated. Please use tf.compat.v1.placeholder instead.\n",
      "\n",
      "WARNING:tensorflow:From C:\\Users\\giann\\Anaconda3\\lib\\site-packages\\keras\\backend\\tensorflow_backend.py:4115: The name tf.random_normal is deprecated. Please use tf.random.normal instead.\n",
      "\n",
      "WARNING:tensorflow:From C:\\Users\\giann\\Anaconda3\\lib\\site-packages\\keras\\backend\\tensorflow_backend.py:133: The name tf.placeholder_with_default is deprecated. Please use tf.compat.v1.placeholder_with_default instead.\n",
      "\n",
      "WARNING:tensorflow:From C:\\Users\\giann\\Anaconda3\\lib\\site-packages\\keras\\backend\\tensorflow_backend.py:4138: The name tf.random_uniform is deprecated. Please use tf.random.uniform instead.\n",
      "\n",
      "_________________________________________________________________\n",
      "Layer (type)                 Output Shape              Param #   \n",
      "=================================================================\n",
      "dense_1 (Dense)              (None, 120)               6720      \n",
      "_________________________________________________________________\n",
      "batch_normalization_1 (Batch (None, 120)               480       \n",
      "_________________________________________________________________\n",
      "activation_1 (Activation)    (None, 120)               0         \n",
      "_________________________________________________________________\n",
      "dense_2 (Dense)              (None, 80)                9600      \n",
      "_________________________________________________________________\n",
      "batch_normalization_2 (Batch (None, 80)                320       \n",
      "_________________________________________________________________\n",
      "activation_2 (Activation)    (None, 80)                0         \n",
      "_________________________________________________________________\n",
      "dense_3 (Dense)              (None, 40)                3200      \n",
      "_________________________________________________________________\n",
      "batch_normalization_3 (Batch (None, 40)                160       \n",
      "_________________________________________________________________\n",
      "activation_3 (Activation)    (None, 40)                0         \n",
      "_________________________________________________________________\n",
      "dense_4 (Dense)              (None, 12)                480       \n",
      "_________________________________________________________________\n",
      "batch_normalization_4 (Batch (None, 12)                48        \n",
      "_________________________________________________________________\n",
      "activation_4 (Activation)    (None, 12)                0         \n",
      "_________________________________________________________________\n",
      "dense_5 (Dense)              (None, 1)                 13        \n",
      "=================================================================\n",
      "Total params: 21,021\n",
      "Trainable params: 20,517\n",
      "Non-trainable params: 504\n",
      "_________________________________________________________________\n"
     ]
    }
   ],
   "source": [
    "model = Sequential()\n",
    "\n",
    "model.add(Dense(120, input_dim=56, kernel_initializer=RandomNormal(mean=0.0, stddev=0.05, seed=12), use_bias = False))\n",
    "model.add(BatchNormalization())\n",
    "model.add(Activation(\"relu\"))\n",
    "\n",
    "model.add(Dense(80, use_bias = False))\n",
    "model.add(BatchNormalization())\n",
    "model.add(Activation(\"relu\"))\n",
    "\n",
    "model.add(Dense(40, use_bias = False))\n",
    "model.add(BatchNormalization())\n",
    "model.add(Activation(\"relu\"))\n",
    "\n",
    "model.add(Dense(12, use_bias = False))\n",
    "model.add(BatchNormalization())\n",
    "model.add(Activation(\"relu\"))\n",
    "\n",
    "model.add(Dense(1, activation='relu'))\n",
    "model.summary()"
   ]
  },
  {
   "cell_type": "markdown",
   "metadata": {},
   "source": [
    "`mse` = mean absolute error \n",
    "\n",
    "mse= $ \\frac{1}{n} \\mathbf{\\Sigma}_{x=1}^{n} (y(x)-t(x))^2$\n",
    "\n",
    "n= numerous examples (πλήθος παραδειγμάτων)"
   ]
  },
  {
   "cell_type": "markdown",
   "metadata": {},
   "source": [
    "help site:https://jupyter-notebook.readthedocs.io/en/stable/examples/Notebook/Typesetting%20Equations.html"
   ]
  },
  {
   "cell_type": "code",
   "execution_count": 42,
   "metadata": {},
   "outputs": [
    {
     "name": "stdout",
     "output_type": "stream",
     "text": [
      "WARNING:tensorflow:From C:\\Users\\giann\\Anaconda3\\lib\\site-packages\\keras\\optimizers.py:790: The name tf.train.Optimizer is deprecated. Please use tf.compat.v1.train.Optimizer instead.\n",
      "\n"
     ]
    }
   ],
   "source": [
    "model.compile(loss='mse', optimizer=Adam(lr= 0.008), metrics=['mse','mae'])"
   ]
  },
  {
   "cell_type": "code",
   "execution_count": null,
   "metadata": {},
   "outputs": [],
   "source": []
  },
  {
   "cell_type": "code",
   "execution_count": 43,
   "metadata": {
    "scrolled": true
   },
   "outputs": [
    {
     "name": "stdout",
     "output_type": "stream",
     "text": [
      "WARNING:tensorflow:From C:\\Users\\giann\\Anaconda3\\lib\\site-packages\\keras\\backend\\tensorflow_backend.py:986: The name tf.assign_add is deprecated. Please use tf.compat.v1.assign_add instead.\n",
      "\n",
      "WARNING:tensorflow:From C:\\Users\\giann\\Anaconda3\\lib\\site-packages\\keras\\backend\\tensorflow_backend.py:973: The name tf.assign is deprecated. Please use tf.compat.v1.assign instead.\n",
      "\n",
      "WARNING:tensorflow:From C:\\Users\\giann\\Anaconda3\\lib\\site-packages\\keras\\backend\\tensorflow_backend.py:2741: The name tf.Session is deprecated. Please use tf.compat.v1.Session instead.\n",
      "\n",
      "Train on 7672 samples, validate on 1919 samples\n",
      "Epoch 1/150\n",
      "WARNING:tensorflow:From C:\\Users\\giann\\Anaconda3\\lib\\site-packages\\keras\\backend\\tensorflow_backend.py:174: The name tf.get_default_session is deprecated. Please use tf.compat.v1.get_default_session instead.\n",
      "\n",
      "WARNING:tensorflow:From C:\\Users\\giann\\Anaconda3\\lib\\site-packages\\keras\\backend\\tensorflow_backend.py:181: The name tf.ConfigProto is deprecated. Please use tf.compat.v1.ConfigProto instead.\n",
      "\n",
      "WARNING:tensorflow:From C:\\Users\\giann\\Anaconda3\\lib\\site-packages\\keras\\backend\\tensorflow_backend.py:190: The name tf.global_variables is deprecated. Please use tf.compat.v1.global_variables instead.\n",
      "\n",
      "WARNING:tensorflow:From C:\\Users\\giann\\Anaconda3\\lib\\site-packages\\keras\\backend\\tensorflow_backend.py:199: The name tf.is_variable_initialized is deprecated. Please use tf.compat.v1.is_variable_initialized instead.\n",
      "\n",
      "WARNING:tensorflow:From C:\\Users\\giann\\Anaconda3\\lib\\site-packages\\keras\\backend\\tensorflow_backend.py:206: The name tf.variables_initializer is deprecated. Please use tf.compat.v1.variables_initializer instead.\n",
      "\n",
      "7672/7672 [==============================] - 4s 527us/step - loss: 52106.4681 - mean_squared_error: 52106.4681 - mean_absolute_error: 168.6052 - val_loss: 33314.4371 - val_mean_squared_error: 33314.4371 - val_mean_absolute_error: 136.9102\n",
      "Epoch 2/150\n",
      "7672/7672 [==============================] - 1s 150us/step - loss: 27189.1714 - mean_squared_error: 27189.1714 - mean_absolute_error: 120.5429 - val_loss: 6331.8826 - val_mean_squared_error: 6331.8826 - val_mean_absolute_error: 58.7050\n",
      "Epoch 3/150\n",
      "7672/7672 [==============================] - 1s 148us/step - loss: 6906.9151 - mean_squared_error: 6906.9151 - mean_absolute_error: 57.9063 - val_loss: 4761.2181 - val_mean_squared_error: 4761.2181 - val_mean_absolute_error: 46.8311\n",
      "Epoch 4/150\n",
      "7672/7672 [==============================] - 1s 125us/step - loss: 3026.5087 - mean_squared_error: 3026.5087 - mean_absolute_error: 37.5034 - val_loss: 2321.3795 - val_mean_squared_error: 2321.3795 - val_mean_absolute_error: 31.3176\n",
      "Epoch 5/150\n",
      "7672/7672 [==============================] - 1s 117us/step - loss: 2576.6037 - mean_squared_error: 2576.6037 - mean_absolute_error: 33.9300 - val_loss: 2450.1183 - val_mean_squared_error: 2450.1183 - val_mean_absolute_error: 32.3615\n",
      "Epoch 6/150\n",
      "7672/7672 [==============================] - 1s 110us/step - loss: 2643.0425 - mean_squared_error: 2643.0425 - mean_absolute_error: 34.5867 - val_loss: 2226.5143 - val_mean_squared_error: 2226.5143 - val_mean_absolute_error: 29.1719\n",
      "Epoch 7/150\n",
      "7672/7672 [==============================] - 1s 122us/step - loss: 2382.4376 - mean_squared_error: 2382.4376 - mean_absolute_error: 32.7892 - val_loss: 2390.9396 - val_mean_squared_error: 2390.9396 - val_mean_absolute_error: 31.3228\n",
      "Epoch 8/150\n",
      "7672/7672 [==============================] - 1s 115us/step - loss: 2557.8616 - mean_squared_error: 2557.8616 - mean_absolute_error: 33.8134 - val_loss: 2409.3045 - val_mean_squared_error: 2409.3045 - val_mean_absolute_error: 31.0121\n",
      "Epoch 9/150\n",
      "7672/7672 [==============================] - 1s 113us/step - loss: 2256.4828 - mean_squared_error: 2256.4828 - mean_absolute_error: 31.0779 - val_loss: 2776.7694 - val_mean_squared_error: 2776.7694 - val_mean_absolute_error: 32.8517\n",
      "Epoch 10/150\n",
      "7672/7672 [==============================] - 1s 114us/step - loss: 1999.0393 - mean_squared_error: 1999.0393 - mean_absolute_error: 29.7534 - val_loss: 2138.1903 - val_mean_squared_error: 2138.1903 - val_mean_absolute_error: 27.3829\n",
      "Epoch 11/150\n",
      "7672/7672 [==============================] - 1s 110us/step - loss: 1993.2809 - mean_squared_error: 1993.2809 - mean_absolute_error: 29.4575 - val_loss: 2326.5455 - val_mean_squared_error: 2326.5455 - val_mean_absolute_error: 29.1110\n",
      "Epoch 12/150\n",
      "7672/7672 [==============================] - 1s 115us/step - loss: 1999.3601 - mean_squared_error: 1999.3601 - mean_absolute_error: 29.5036 - val_loss: 2019.0039 - val_mean_squared_error: 2019.0039 - val_mean_absolute_error: 27.4466\n",
      "Epoch 13/150\n",
      "7672/7672 [==============================] - 1s 119us/step - loss: 2023.6404 - mean_squared_error: 2023.6404 - mean_absolute_error: 30.1139 - val_loss: 2047.8214 - val_mean_squared_error: 2047.8214 - val_mean_absolute_error: 28.4028\n",
      "Epoch 14/150\n",
      "7672/7672 [==============================] - 1s 115us/step - loss: 2140.6526 - mean_squared_error: 2140.6526 - mean_absolute_error: 30.6924 - val_loss: 2070.9736 - val_mean_squared_error: 2070.9736 - val_mean_absolute_error: 27.4217\n",
      "Epoch 15/150\n",
      "7672/7672 [==============================] - 1s 116us/step - loss: 1912.8854 - mean_squared_error: 1912.8854 - mean_absolute_error: 29.2990 - val_loss: 2073.6390 - val_mean_squared_error: 2073.6390 - val_mean_absolute_error: 28.0125\n",
      "Epoch 16/150\n",
      "7672/7672 [==============================] - 1s 122us/step - loss: 1919.5845 - mean_squared_error: 1919.5845 - mean_absolute_error: 29.0914 - val_loss: 1919.1880 - val_mean_squared_error: 1919.1880 - val_mean_absolute_error: 27.5647\n",
      "Epoch 17/150\n",
      "7672/7672 [==============================] - 1s 122us/step - loss: 1727.0354 - mean_squared_error: 1727.0354 - mean_absolute_error: 27.6023 - val_loss: 1949.6123 - val_mean_squared_error: 1949.6123 - val_mean_absolute_error: 27.1984\n",
      "Epoch 18/150\n",
      "7672/7672 [==============================] - 1s 123us/step - loss: 1859.5388 - mean_squared_error: 1859.5388 - mean_absolute_error: 28.4593 - val_loss: 1816.1226 - val_mean_squared_error: 1816.1226 - val_mean_absolute_error: 25.8815\n",
      "Epoch 19/150\n",
      "7672/7672 [==============================] - 1s 120us/step - loss: 1849.5822 - mean_squared_error: 1849.5822 - mean_absolute_error: 29.0310 - val_loss: 1840.8784 - val_mean_squared_error: 1840.8784 - val_mean_absolute_error: 26.8455\n",
      "Epoch 20/150\n",
      "7672/7672 [==============================] - 1s 117us/step - loss: 1766.8103 - mean_squared_error: 1766.8103 - mean_absolute_error: 28.1919 - val_loss: 1820.2357 - val_mean_squared_error: 1820.2357 - val_mean_absolute_error: 25.8420\n",
      "Epoch 21/150\n",
      "7672/7672 [==============================] - 1s 121us/step - loss: 1684.3703 - mean_squared_error: 1684.3703 - mean_absolute_error: 27.3293 - val_loss: 1861.3989 - val_mean_squared_error: 1861.3989 - val_mean_absolute_error: 26.4320\n",
      "Epoch 22/150\n",
      "7672/7672 [==============================] - 1s 117us/step - loss: 1699.0285 - mean_squared_error: 1699.0285 - mean_absolute_error: 27.5063 - val_loss: 1999.4866 - val_mean_squared_error: 1999.4866 - val_mean_absolute_error: 27.7256\n",
      "Epoch 23/150\n",
      "7672/7672 [==============================] - 1s 123us/step - loss: 1885.5807 - mean_squared_error: 1885.5807 - mean_absolute_error: 28.9319 - val_loss: 1940.2993 - val_mean_squared_error: 1940.2993 - val_mean_absolute_error: 27.3894\n",
      "Epoch 24/150\n",
      "7672/7672 [==============================] - 1s 131us/step - loss: 1788.3386 - mean_squared_error: 1788.3386 - mean_absolute_error: 28.2729 - val_loss: 1934.1058 - val_mean_squared_error: 1934.1058 - val_mean_absolute_error: 26.6783\n",
      "Epoch 25/150\n",
      "7672/7672 [==============================] - 1s 136us/step - loss: 1641.4539 - mean_squared_error: 1641.4539 - mean_absolute_error: 27.6667 - val_loss: 1860.9433 - val_mean_squared_error: 1860.9433 - val_mean_absolute_error: 26.8488\n",
      "Epoch 26/150\n",
      "7672/7672 [==============================] - 1s 122us/step - loss: 1603.6338 - mean_squared_error: 1603.6338 - mean_absolute_error: 26.5808 - val_loss: 1805.1341 - val_mean_squared_error: 1805.1341 - val_mean_absolute_error: 25.9947\n",
      "Epoch 27/150\n",
      "7672/7672 [==============================] - 1s 173us/step - loss: 1676.4550 - mean_squared_error: 1676.4550 - mean_absolute_error: 27.8429 - val_loss: 2116.8588 - val_mean_squared_error: 2116.8588 - val_mean_absolute_error: 28.3152\n"
     ]
    },
    {
     "name": "stdout",
     "output_type": "stream",
     "text": [
      "Epoch 28/150\n",
      "7672/7672 [==============================] - 1s 148us/step - loss: 1582.2117 - mean_squared_error: 1582.2117 - mean_absolute_error: 27.0937 - val_loss: 1896.0642 - val_mean_squared_error: 1896.0642 - val_mean_absolute_error: 26.3485\n",
      "Epoch 29/150\n",
      "7672/7672 [==============================] - 1s 126us/step - loss: 1550.2440 - mean_squared_error: 1550.2440 - mean_absolute_error: 26.3642 - val_loss: 1802.3461 - val_mean_squared_error: 1802.3461 - val_mean_absolute_error: 25.7053\n",
      "Epoch 30/150\n",
      "7672/7672 [==============================] - 1s 160us/step - loss: 1712.5192 - mean_squared_error: 1712.5192 - mean_absolute_error: 27.6878 - val_loss: 2057.5645 - val_mean_squared_error: 2057.5645 - val_mean_absolute_error: 28.0900\n",
      "Epoch 31/150\n",
      "7672/7672 [==============================] - 1s 132us/step - loss: 1541.0526 - mean_squared_error: 1541.0526 - mean_absolute_error: 26.5928 - val_loss: 1916.5443 - val_mean_squared_error: 1916.5443 - val_mean_absolute_error: 27.3034\n",
      "Epoch 32/150\n",
      "7672/7672 [==============================] - 1s 111us/step - loss: 1632.6721 - mean_squared_error: 1632.6721 - mean_absolute_error: 27.6219 - val_loss: 1937.3902 - val_mean_squared_error: 1937.3902 - val_mean_absolute_error: 26.3542\n",
      "Epoch 33/150\n",
      "7672/7672 [==============================] - 1s 111us/step - loss: 1467.2793 - mean_squared_error: 1467.2793 - mean_absolute_error: 25.8352 - val_loss: 1903.0994 - val_mean_squared_error: 1903.0994 - val_mean_absolute_error: 27.1045\n",
      "Epoch 34/150\n",
      "7672/7672 [==============================] - 1s 112us/step - loss: 1379.4511 - mean_squared_error: 1379.4511 - mean_absolute_error: 25.4594 - val_loss: 2313.2321 - val_mean_squared_error: 2313.2321 - val_mean_absolute_error: 29.4627\n",
      "Epoch 35/150\n",
      "7672/7672 [==============================] - 1s 114us/step - loss: 1424.2128 - mean_squared_error: 1424.2128 - mean_absolute_error: 25.7943 - val_loss: 1802.0822 - val_mean_squared_error: 1802.0822 - val_mean_absolute_error: 25.6851\n",
      "Epoch 36/150\n",
      "7672/7672 [==============================] - 1s 116us/step - loss: 1368.1179 - mean_squared_error: 1368.1179 - mean_absolute_error: 25.4620 - val_loss: 1869.4520 - val_mean_squared_error: 1869.4520 - val_mean_absolute_error: 26.6222\n",
      "Epoch 37/150\n",
      "7672/7672 [==============================] - 1s 121us/step - loss: 1312.7948 - mean_squared_error: 1312.7948 - mean_absolute_error: 24.9236 - val_loss: 1884.2712 - val_mean_squared_error: 1884.2712 - val_mean_absolute_error: 26.4142\n",
      "Epoch 38/150\n",
      "7672/7672 [==============================] - 1s 114us/step - loss: 1554.9252 - mean_squared_error: 1554.9252 - mean_absolute_error: 27.0440 - val_loss: 1863.9274 - val_mean_squared_error: 1863.9274 - val_mean_absolute_error: 26.2634\n",
      "Epoch 39/150\n",
      "7672/7672 [==============================] - 1s 129us/step - loss: 1476.9398 - mean_squared_error: 1476.9398 - mean_absolute_error: 26.6112 - val_loss: 1853.7535 - val_mean_squared_error: 1853.7535 - val_mean_absolute_error: 26.4330\n",
      "Epoch 40/150\n",
      "7672/7672 [==============================] - 1s 164us/step - loss: 1263.8273 - mean_squared_error: 1263.8273 - mean_absolute_error: 24.7972 - val_loss: 2063.9377 - val_mean_squared_error: 2063.9377 - val_mean_absolute_error: 28.1416\n",
      "Epoch 41/150\n",
      "7672/7672 [==============================] - 1s 152us/step - loss: 1521.1189 - mean_squared_error: 1521.1189 - mean_absolute_error: 26.7916 - val_loss: 2297.2738 - val_mean_squared_error: 2297.2738 - val_mean_absolute_error: 28.8418\n",
      "Epoch 42/150\n",
      "7672/7672 [==============================] - 1s 131us/step - loss: 1271.9446 - mean_squared_error: 1271.9446 - mean_absolute_error: 24.6843 - val_loss: 2060.1574 - val_mean_squared_error: 2060.1574 - val_mean_absolute_error: 28.0459\n",
      "Epoch 43/150\n",
      "7672/7672 [==============================] - 1s 129us/step - loss: 1403.6993 - mean_squared_error: 1403.6993 - mean_absolute_error: 25.6314 - val_loss: 1808.6656 - val_mean_squared_error: 1808.6656 - val_mean_absolute_error: 25.6255\n",
      "Epoch 44/150\n",
      "7672/7672 [==============================] - 1s 114us/step - loss: 1309.1783 - mean_squared_error: 1309.1783 - mean_absolute_error: 24.9610 - val_loss: 1928.3144 - val_mean_squared_error: 1928.3144 - val_mean_absolute_error: 27.0187\n",
      "Epoch 45/150\n",
      "7672/7672 [==============================] - 1s 119us/step - loss: 1364.4784 - mean_squared_error: 1364.4784 - mean_absolute_error: 25.1120 - val_loss: 1787.1073 - val_mean_squared_error: 1787.1073 - val_mean_absolute_error: 25.6874\n",
      "Epoch 46/150\n",
      "7672/7672 [==============================] - 1s 122us/step - loss: 1302.1781 - mean_squared_error: 1302.1781 - mean_absolute_error: 24.9201 - val_loss: 1975.7523 - val_mean_squared_error: 1975.7523 - val_mean_absolute_error: 26.7731\n",
      "Epoch 47/150\n",
      "7672/7672 [==============================] - 1s 120us/step - loss: 1153.7439 - mean_squared_error: 1153.7439 - mean_absolute_error: 23.4690 - val_loss: 2047.0622 - val_mean_squared_error: 2047.0622 - val_mean_absolute_error: 27.4870\n",
      "Epoch 48/150\n",
      "7672/7672 [==============================] - 1s 122us/step - loss: 1249.4001 - mean_squared_error: 1249.4001 - mean_absolute_error: 24.1201 - val_loss: 1869.5116 - val_mean_squared_error: 1869.5116 - val_mean_absolute_error: 26.1151\n",
      "Epoch 49/150\n",
      "7672/7672 [==============================] - 1s 122us/step - loss: 1195.5860 - mean_squared_error: 1195.5860 - mean_absolute_error: 23.9682 - val_loss: 1940.4643 - val_mean_squared_error: 1940.4643 - val_mean_absolute_error: 26.8475\n",
      "Epoch 50/150\n",
      "7672/7672 [==============================] - 1s 122us/step - loss: 1103.4106 - mean_squared_error: 1103.4106 - mean_absolute_error: 23.0278 - val_loss: 2309.2594 - val_mean_squared_error: 2309.2594 - val_mean_absolute_error: 30.2092\n",
      "Epoch 51/150\n",
      "7672/7672 [==============================] - 1s 120us/step - loss: 1174.8526 - mean_squared_error: 1174.8526 - mean_absolute_error: 23.7996 - val_loss: 1937.3354 - val_mean_squared_error: 1937.3354 - val_mean_absolute_error: 26.6915\n",
      "Epoch 52/150\n",
      "7672/7672 [==============================] - 1s 129us/step - loss: 1156.0686 - mean_squared_error: 1156.0686 - mean_absolute_error: 23.7177 - val_loss: 1842.8808 - val_mean_squared_error: 1842.8808 - val_mean_absolute_error: 25.9539\n",
      "Epoch 53/150\n",
      "7672/7672 [==============================] - 1s 122us/step - loss: 1102.9173 - mean_squared_error: 1102.9173 - mean_absolute_error: 23.0611 - val_loss: 2326.9616 - val_mean_squared_error: 2326.9616 - val_mean_absolute_error: 29.7649\n",
      "Epoch 54/150\n",
      "7672/7672 [==============================] - 1s 115us/step - loss: 1147.8028 - mean_squared_error: 1147.8028 - mean_absolute_error: 23.6580 - val_loss: 1848.5896 - val_mean_squared_error: 1848.5896 - val_mean_absolute_error: 26.9601\n",
      "Epoch 55/150\n",
      "7672/7672 [==============================] - 1s 124us/step - loss: 1222.6284 - mean_squared_error: 1222.6284 - mean_absolute_error: 24.2966 - val_loss: 1826.1221 - val_mean_squared_error: 1826.1221 - val_mean_absolute_error: 25.6917\n",
      "Epoch 56/150\n",
      "7672/7672 [==============================] - 1s 118us/step - loss: 1220.1781 - mean_squared_error: 1220.1781 - mean_absolute_error: 24.1025 - val_loss: 1801.3118 - val_mean_squared_error: 1801.3118 - val_mean_absolute_error: 26.1161\n",
      "Epoch 57/150\n",
      "7672/7672 [==============================] - 1s 148us/step - loss: 1062.4241 - mean_squared_error: 1062.4241 - mean_absolute_error: 22.3485 - val_loss: 2091.4347 - val_mean_squared_error: 2091.4347 - val_mean_absolute_error: 27.8197\n",
      "Epoch 58/150\n",
      "7672/7672 [==============================] - 1s 122us/step - loss: 935.7930 - mean_squared_error: 935.7930 - mean_absolute_error: 21.1789 - val_loss: 1868.5793 - val_mean_squared_error: 1868.5793 - val_mean_absolute_error: 26.7314\n",
      "Epoch 59/150\n",
      "7672/7672 [==============================] - 1s 138us/step - loss: 1030.5408 - mean_squared_error: 1030.5408 - mean_absolute_error: 21.9434 - val_loss: 1821.7896 - val_mean_squared_error: 1821.7896 - val_mean_absolute_error: 25.8262\n",
      "Epoch 60/150\n",
      "7672/7672 [==============================] - 1s 114us/step - loss: 1080.0908 - mean_squared_error: 1080.0908 - mean_absolute_error: 22.9862 - val_loss: 2058.3132 - val_mean_squared_error: 2058.3132 - val_mean_absolute_error: 27.6816\n",
      "Epoch 61/150\n"
     ]
    },
    {
     "name": "stdout",
     "output_type": "stream",
     "text": [
      "7672/7672 [==============================] - 1s 122us/step - loss: 1132.0830 - mean_squared_error: 1132.0830 - mean_absolute_error: 22.9133 - val_loss: 1766.9303 - val_mean_squared_error: 1766.9303 - val_mean_absolute_error: 25.5872\n",
      "Epoch 62/150\n",
      "7672/7672 [==============================] - 1s 112us/step - loss: 1090.1610 - mean_squared_error: 1090.1610 - mean_absolute_error: 22.8119 - val_loss: 2113.4425 - val_mean_squared_error: 2113.4425 - val_mean_absolute_error: 28.1549\n",
      "Epoch 63/150\n",
      "7672/7672 [==============================] - 1s 113us/step - loss: 1102.5003 - mean_squared_error: 1102.5003 - mean_absolute_error: 22.9310 - val_loss: 1865.5995 - val_mean_squared_error: 1865.5995 - val_mean_absolute_error: 26.6860\n",
      "Epoch 64/150\n",
      "7672/7672 [==============================] - 1s 115us/step - loss: 1073.6777 - mean_squared_error: 1073.6777 - mean_absolute_error: 22.6073 - val_loss: 2210.1488 - val_mean_squared_error: 2210.1488 - val_mean_absolute_error: 30.2231\n",
      "Epoch 65/150\n",
      "7672/7672 [==============================] - 1s 114us/step - loss: 1175.9364 - mean_squared_error: 1175.9364 - mean_absolute_error: 23.6715 - val_loss: 2134.5645 - val_mean_squared_error: 2134.5645 - val_mean_absolute_error: 28.2179\n",
      "Epoch 66/150\n",
      "7672/7672 [==============================] - 1s 119us/step - loss: 984.0534 - mean_squared_error: 984.0534 - mean_absolute_error: 21.7886 - val_loss: 1863.0031 - val_mean_squared_error: 1863.0031 - val_mean_absolute_error: 26.5802\n",
      "Epoch 67/150\n",
      "7672/7672 [==============================] - 1s 115us/step - loss: 1081.3740 - mean_squared_error: 1081.3740 - mean_absolute_error: 22.7470 - val_loss: 1946.4335 - val_mean_squared_error: 1946.4335 - val_mean_absolute_error: 26.9251\n",
      "Epoch 68/150\n",
      "7672/7672 [==============================] - 1s 147us/step - loss: 973.7870 - mean_squared_error: 973.7870 - mean_absolute_error: 21.2917 - val_loss: 1848.9225 - val_mean_squared_error: 1848.9225 - val_mean_absolute_error: 25.9851\n",
      "Epoch 69/150\n",
      "7672/7672 [==============================] - 1s 170us/step - loss: 982.2725 - mean_squared_error: 982.2725 - mean_absolute_error: 21.8314 - val_loss: 1718.0012 - val_mean_squared_error: 1718.0012 - val_mean_absolute_error: 25.1054\n",
      "Epoch 70/150\n",
      "7672/7672 [==============================] - 1s 157us/step - loss: 940.4700 - mean_squared_error: 940.4700 - mean_absolute_error: 21.3138 - val_loss: 1846.2240 - val_mean_squared_error: 1846.2240 - val_mean_absolute_error: 25.9465\n",
      "Epoch 71/150\n",
      "7672/7672 [==============================] - 1s 164us/step - loss: 1054.9426 - mean_squared_error: 1054.9426 - mean_absolute_error: 22.2825 - val_loss: 1896.7098 - val_mean_squared_error: 1896.7098 - val_mean_absolute_error: 26.3246\n",
      "Epoch 72/150\n",
      "7672/7672 [==============================] - 1s 150us/step - loss: 1046.8488 - mean_squared_error: 1046.8488 - mean_absolute_error: 22.3497 - val_loss: 1791.4249 - val_mean_squared_error: 1791.4249 - val_mean_absolute_error: 25.9914\n",
      "Epoch 73/150\n",
      "7672/7672 [==============================] - 1s 118us/step - loss: 949.8902 - mean_squared_error: 949.8902 - mean_absolute_error: 21.2216 - val_loss: 1903.3570 - val_mean_squared_error: 1903.3570 - val_mean_absolute_error: 26.4886\n",
      "Epoch 74/150\n",
      "7672/7672 [==============================] - 1s 122us/step - loss: 1047.0767 - mean_squared_error: 1047.0767 - mean_absolute_error: 22.4432 - val_loss: 1882.9406 - val_mean_squared_error: 1882.9406 - val_mean_absolute_error: 26.4193\n",
      "Epoch 75/150\n",
      "7672/7672 [==============================] - 1s 123us/step - loss: 953.2483 - mean_squared_error: 953.2483 - mean_absolute_error: 21.5659 - val_loss: 1849.6287 - val_mean_squared_error: 1849.6287 - val_mean_absolute_error: 26.2567\n",
      "Epoch 76/150\n",
      "7672/7672 [==============================] - 1s 116us/step - loss: 1018.4875 - mean_squared_error: 1018.4875 - mean_absolute_error: 21.9985 - val_loss: 2151.3995 - val_mean_squared_error: 2151.3995 - val_mean_absolute_error: 29.7238\n",
      "Epoch 77/150\n",
      "7672/7672 [==============================] - 1s 115us/step - loss: 861.4316 - mean_squared_error: 861.4316 - mean_absolute_error: 20.4902 - val_loss: 1985.1678 - val_mean_squared_error: 1985.1678 - val_mean_absolute_error: 27.0316\n",
      "Epoch 78/150\n",
      "7672/7672 [==============================] - 1s 114us/step - loss: 911.8694 - mean_squared_error: 911.8694 - mean_absolute_error: 20.9685 - val_loss: 2034.4492 - val_mean_squared_error: 2034.4492 - val_mean_absolute_error: 27.4988\n",
      "Epoch 79/150\n",
      "7672/7672 [==============================] - 1s 111us/step - loss: 917.9155 - mean_squared_error: 917.9155 - mean_absolute_error: 20.8701 - val_loss: 1893.6219 - val_mean_squared_error: 1893.6219 - val_mean_absolute_error: 26.6077\n",
      "Epoch 80/150\n",
      "7672/7672 [==============================] - 1s 116us/step - loss: 949.7892 - mean_squared_error: 949.7892 - mean_absolute_error: 21.2792 - val_loss: 1936.3136 - val_mean_squared_error: 1936.3136 - val_mean_absolute_error: 26.5215\n",
      "Epoch 81/150\n",
      "7672/7672 [==============================] - 1s 115us/step - loss: 881.5398 - mean_squared_error: 881.5398 - mean_absolute_error: 20.5741 - val_loss: 1869.7996 - val_mean_squared_error: 1869.7996 - val_mean_absolute_error: 26.5079\n",
      "Epoch 82/150\n",
      "7672/7672 [==============================] - 1s 126us/step - loss: 842.5401 - mean_squared_error: 842.5401 - mean_absolute_error: 20.2702 - val_loss: 1901.5218 - val_mean_squared_error: 1901.5218 - val_mean_absolute_error: 26.4378\n",
      "Epoch 83/150\n",
      "7672/7672 [==============================] - 1s 115us/step - loss: 937.6941 - mean_squared_error: 937.6941 - mean_absolute_error: 21.2388 - val_loss: 1947.2940 - val_mean_squared_error: 1947.2940 - val_mean_absolute_error: 27.3569\n",
      "Epoch 84/150\n",
      "7672/7672 [==============================] - 1s 119us/step - loss: 830.1504 - mean_squared_error: 830.1504 - mean_absolute_error: 19.9658 - val_loss: 1851.1934 - val_mean_squared_error: 1851.1934 - val_mean_absolute_error: 25.8694\n",
      "Epoch 85/150\n",
      "7672/7672 [==============================] - 1s 117us/step - loss: 907.1707 - mean_squared_error: 907.1707 - mean_absolute_error: 21.0794 - val_loss: 1901.2702 - val_mean_squared_error: 1901.2702 - val_mean_absolute_error: 26.2183\n",
      "Epoch 86/150\n",
      "7672/7672 [==============================] - 1s 113us/step - loss: 961.5154 - mean_squared_error: 961.5154 - mean_absolute_error: 21.6939 - val_loss: 1937.0823 - val_mean_squared_error: 1937.0823 - val_mean_absolute_error: 27.2021\n",
      "Epoch 87/150\n",
      "7672/7672 [==============================] - 1s 123us/step - loss: 867.8919 - mean_squared_error: 867.8919 - mean_absolute_error: 20.5410 - val_loss: 1822.0826 - val_mean_squared_error: 1822.0826 - val_mean_absolute_error: 26.7876\n",
      "Epoch 88/150\n",
      "7672/7672 [==============================] - 1s 116us/step - loss: 826.7972 - mean_squared_error: 826.7972 - mean_absolute_error: 19.9628 - val_loss: 2004.9986 - val_mean_squared_error: 2004.9986 - val_mean_absolute_error: 27.3740\n",
      "Epoch 89/150\n",
      "7672/7672 [==============================] - 1s 128us/step - loss: 858.2901 - mean_squared_error: 858.2901 - mean_absolute_error: 20.3381 - val_loss: 1990.7187 - val_mean_squared_error: 1990.7187 - val_mean_absolute_error: 27.2902\n",
      "Epoch 90/150\n",
      "7672/7672 [==============================] - 1s 125us/step - loss: 800.3945 - mean_squared_error: 800.3945 - mean_absolute_error: 19.7992 - val_loss: 2092.8705 - val_mean_squared_error: 2092.8705 - val_mean_absolute_error: 27.6473\n",
      "Epoch 91/150\n",
      "7672/7672 [==============================] - 1s 120us/step - loss: 817.5256 - mean_squared_error: 817.5256 - mean_absolute_error: 19.7877 - val_loss: 2225.8814 - val_mean_squared_error: 2225.8814 - val_mean_absolute_error: 28.5308\n",
      "Epoch 92/150\n",
      "7672/7672 [==============================] - 1s 116us/step - loss: 850.4673 - mean_squared_error: 850.4673 - mean_absolute_error: 19.9997 - val_loss: 1819.6696 - val_mean_squared_error: 1819.6696 - val_mean_absolute_error: 26.2459\n",
      "Epoch 93/150\n",
      "7672/7672 [==============================] - 1s 123us/step - loss: 888.5060 - mean_squared_error: 888.5060 - mean_absolute_error: 20.7744 - val_loss: 1938.8554 - val_mean_squared_error: 1938.8554 - val_mean_absolute_error: 27.3417\n",
      "Epoch 94/150\n"
     ]
    },
    {
     "name": "stdout",
     "output_type": "stream",
     "text": [
      "7672/7672 [==============================] - 1s 121us/step - loss: 884.7833 - mean_squared_error: 884.7833 - mean_absolute_error: 20.1886 - val_loss: 1782.5276 - val_mean_squared_error: 1782.5276 - val_mean_absolute_error: 25.7405\n",
      "Epoch 95/150\n",
      "7672/7672 [==============================] - 1s 167us/step - loss: 827.1580 - mean_squared_error: 827.1580 - mean_absolute_error: 19.8986 - val_loss: 1918.3897 - val_mean_squared_error: 1918.3897 - val_mean_absolute_error: 26.7587\n",
      "Epoch 96/150\n",
      "7672/7672 [==============================] - 1s 147us/step - loss: 873.9438 - mean_squared_error: 873.9438 - mean_absolute_error: 20.6005 - val_loss: 1954.9687 - val_mean_squared_error: 1954.9687 - val_mean_absolute_error: 27.3181\n",
      "Epoch 97/150\n",
      "7672/7672 [==============================] - 1s 128us/step - loss: 845.3615 - mean_squared_error: 845.3615 - mean_absolute_error: 19.8818 - val_loss: 1821.2146 - val_mean_squared_error: 1821.2146 - val_mean_absolute_error: 26.1950\n",
      "Epoch 98/150\n",
      "7672/7672 [==============================] - 1s 148us/step - loss: 844.1620 - mean_squared_error: 844.1620 - mean_absolute_error: 20.1480 - val_loss: 1905.6767 - val_mean_squared_error: 1905.6767 - val_mean_absolute_error: 26.7520\n",
      "Epoch 99/150\n",
      "7672/7672 [==============================] - 1s 122us/step - loss: 835.0305 - mean_squared_error: 835.0305 - mean_absolute_error: 20.1803 - val_loss: 2098.8427 - val_mean_squared_error: 2098.8427 - val_mean_absolute_error: 28.0796\n",
      "Epoch 100/150\n",
      "7672/7672 [==============================] - 1s 114us/step - loss: 801.3089 - mean_squared_error: 801.3089 - mean_absolute_error: 19.6517 - val_loss: 1909.6752 - val_mean_squared_error: 1909.6752 - val_mean_absolute_error: 26.8586\n",
      "Epoch 101/150\n",
      "7672/7672 [==============================] - 1s 121us/step - loss: 868.7534 - mean_squared_error: 868.7534 - mean_absolute_error: 20.4564 - val_loss: 1983.9633 - val_mean_squared_error: 1983.9633 - val_mean_absolute_error: 26.9194\n",
      "Epoch 102/150\n",
      "7672/7672 [==============================] - 1s 130us/step - loss: 805.1001 - mean_squared_error: 805.1001 - mean_absolute_error: 19.8370 - val_loss: 1929.5969 - val_mean_squared_error: 1929.5969 - val_mean_absolute_error: 26.3531\n",
      "Epoch 103/150\n",
      "7672/7672 [==============================] - 1s 120us/step - loss: 763.6139 - mean_squared_error: 763.6139 - mean_absolute_error: 19.3157 - val_loss: 1815.0148 - val_mean_squared_error: 1815.0148 - val_mean_absolute_error: 26.0115\n",
      "Epoch 104/150\n",
      "7672/7672 [==============================] - 1s 111us/step - loss: 902.8411 - mean_squared_error: 902.8411 - mean_absolute_error: 20.8530 - val_loss: 1824.7759 - val_mean_squared_error: 1824.7759 - val_mean_absolute_error: 25.9807\n",
      "Epoch 105/150\n",
      "7672/7672 [==============================] - 1s 129us/step - loss: 963.8406 - mean_squared_error: 963.8406 - mean_absolute_error: 21.3211 - val_loss: 1810.6363 - val_mean_squared_error: 1810.6363 - val_mean_absolute_error: 25.5369\n",
      "Epoch 106/150\n",
      "7672/7672 [==============================] - 1s 118us/step - loss: 767.1732 - mean_squared_error: 767.1732 - mean_absolute_error: 19.3279 - val_loss: 1842.3603 - val_mean_squared_error: 1842.3603 - val_mean_absolute_error: 25.9974\n",
      "Epoch 107/150\n",
      "7672/7672 [==============================] - 1s 144us/step - loss: 808.6574 - mean_squared_error: 808.6574 - mean_absolute_error: 19.6611 - val_loss: 1998.7466 - val_mean_squared_error: 1998.7466 - val_mean_absolute_error: 27.7521\n",
      "Epoch 108/150\n",
      "7672/7672 [==============================] - 1s 150us/step - loss: 862.2534 - mean_squared_error: 862.2534 - mean_absolute_error: 20.1092 - val_loss: 1738.6599 - val_mean_squared_error: 1738.6599 - val_mean_absolute_error: 25.5460\n",
      "Epoch 109/150\n",
      "7672/7672 [==============================] - 1s 150us/step - loss: 782.0206 - mean_squared_error: 782.0206 - mean_absolute_error: 19.2639 - val_loss: 1901.4533 - val_mean_squared_error: 1901.4533 - val_mean_absolute_error: 26.4974\n",
      "Epoch 110/150\n",
      "7672/7672 [==============================] - 1s 163us/step - loss: 818.0665 - mean_squared_error: 818.0665 - mean_absolute_error: 19.5381 - val_loss: 1870.2397 - val_mean_squared_error: 1870.2397 - val_mean_absolute_error: 26.0808\n",
      "Epoch 111/150\n",
      "7672/7672 [==============================] - 1s 137us/step - loss: 855.8354 - mean_squared_error: 855.8354 - mean_absolute_error: 20.3536 - val_loss: 1873.0435 - val_mean_squared_error: 1873.0435 - val_mean_absolute_error: 26.3581\n",
      "Epoch 112/150\n",
      "7672/7672 [==============================] - 1s 120us/step - loss: 715.0782 - mean_squared_error: 715.0782 - mean_absolute_error: 18.5415 - val_loss: 1765.8713 - val_mean_squared_error: 1765.8713 - val_mean_absolute_error: 25.3554\n",
      "Epoch 113/150\n",
      "7672/7672 [==============================] - 1s 121us/step - loss: 805.1709 - mean_squared_error: 805.1709 - mean_absolute_error: 19.5788 - val_loss: 1769.3618 - val_mean_squared_error: 1769.3618 - val_mean_absolute_error: 25.5486\n",
      "Epoch 114/150\n",
      "7672/7672 [==============================] - 1s 121us/step - loss: 813.2818 - mean_squared_error: 813.2818 - mean_absolute_error: 19.9277 - val_loss: 1959.1995 - val_mean_squared_error: 1959.1995 - val_mean_absolute_error: 27.2457\n",
      "Epoch 115/150\n",
      "7672/7672 [==============================] - 1s 123us/step - loss: 788.7049 - mean_squared_error: 788.7049 - mean_absolute_error: 19.5888 - val_loss: 1996.3718 - val_mean_squared_error: 1996.3718 - val_mean_absolute_error: 27.4784\n",
      "Epoch 116/150\n",
      "7672/7672 [==============================] - 1s 124us/step - loss: 787.6059 - mean_squared_error: 787.6059 - mean_absolute_error: 19.5307 - val_loss: 1898.0747 - val_mean_squared_error: 1898.0747 - val_mean_absolute_error: 26.1932\n",
      "Epoch 117/150\n",
      "7672/7672 [==============================] - 1s 158us/step - loss: 762.2667 - mean_squared_error: 762.2667 - mean_absolute_error: 19.2345 - val_loss: 1836.2794 - val_mean_squared_error: 1836.2794 - val_mean_absolute_error: 26.1314\n",
      "Epoch 118/150\n",
      "7672/7672 [==============================] - 1s 133us/step - loss: 827.9095 - mean_squared_error: 827.9095 - mean_absolute_error: 19.8876 - val_loss: 1840.7589 - val_mean_squared_error: 1840.7589 - val_mean_absolute_error: 26.2704\n",
      "Epoch 119/150\n",
      "7672/7672 [==============================] - 1s 130us/step - loss: 804.2832 - mean_squared_error: 804.2832 - mean_absolute_error: 19.4836 - val_loss: 1979.3896 - val_mean_squared_error: 1979.3896 - val_mean_absolute_error: 27.0208\n",
      "Epoch 120/150\n",
      "7672/7672 [==============================] - 1s 129us/step - loss: 766.3348 - mean_squared_error: 766.3348 - mean_absolute_error: 19.2820 - val_loss: 1878.2074 - val_mean_squared_error: 1878.2074 - val_mean_absolute_error: 26.4591\n",
      "Epoch 121/150\n",
      "7672/7672 [==============================] - 1s 123us/step - loss: 786.9226 - mean_squared_error: 786.9226 - mean_absolute_error: 19.7528 - val_loss: 1736.3079 - val_mean_squared_error: 1736.3079 - val_mean_absolute_error: 26.1146\n",
      "Epoch 122/150\n",
      "7672/7672 [==============================] - 1s 115us/step - loss: 706.8231 - mean_squared_error: 706.8231 - mean_absolute_error: 18.8424 - val_loss: 1762.4860 - val_mean_squared_error: 1762.4860 - val_mean_absolute_error: 25.5296\n",
      "Epoch 123/150\n",
      "7672/7672 [==============================] - 1s 122us/step - loss: 697.3909 - mean_squared_error: 697.3909 - mean_absolute_error: 18.3590 - val_loss: 2228.6290 - val_mean_squared_error: 2228.6290 - val_mean_absolute_error: 29.2994\n",
      "Epoch 124/150\n",
      "7672/7672 [==============================] - 1s 126us/step - loss: 773.4945 - mean_squared_error: 773.4945 - mean_absolute_error: 19.2161 - val_loss: 1898.5269 - val_mean_squared_error: 1898.5269 - val_mean_absolute_error: 26.4034\n",
      "Epoch 125/150\n",
      "7672/7672 [==============================] - 1s 130us/step - loss: 792.9433 - mean_squared_error: 792.9433 - mean_absolute_error: 19.3717 - val_loss: 1888.3094 - val_mean_squared_error: 1888.3094 - val_mean_absolute_error: 26.3407\n",
      "Epoch 126/150\n",
      "7672/7672 [==============================] - 1s 121us/step - loss: 720.2408 - mean_squared_error: 720.2408 - mean_absolute_error: 18.8332 - val_loss: 1910.5326 - val_mean_squared_error: 1910.5326 - val_mean_absolute_error: 26.8050\n",
      "Epoch 127/150\n"
     ]
    },
    {
     "name": "stdout",
     "output_type": "stream",
     "text": [
      "7672/7672 [==============================] - 1s 115us/step - loss: 795.9129 - mean_squared_error: 795.9129 - mean_absolute_error: 19.4787 - val_loss: 1835.1176 - val_mean_squared_error: 1835.1176 - val_mean_absolute_error: 26.1453\n",
      "Epoch 128/150\n",
      "7672/7672 [==============================] - 1s 115us/step - loss: 746.8230 - mean_squared_error: 746.8230 - mean_absolute_error: 19.0601 - val_loss: 1874.5178 - val_mean_squared_error: 1874.5178 - val_mean_absolute_error: 26.2098\n",
      "Epoch 129/150\n",
      "7672/7672 [==============================] - 1s 114us/step - loss: 749.9381 - mean_squared_error: 749.9381 - mean_absolute_error: 18.9629 - val_loss: 1956.1346 - val_mean_squared_error: 1956.1346 - val_mean_absolute_error: 26.9700\n",
      "Epoch 130/150\n",
      "7672/7672 [==============================] - 1s 110us/step - loss: 787.4742 - mean_squared_error: 787.4742 - mean_absolute_error: 19.3295 - val_loss: 2482.3860 - val_mean_squared_error: 2482.3860 - val_mean_absolute_error: 30.8608\n",
      "Epoch 131/150\n",
      "7672/7672 [==============================] - 1s 115us/step - loss: 781.9254 - mean_squared_error: 781.9254 - mean_absolute_error: 19.3528 - val_loss: 2001.2943 - val_mean_squared_error: 2001.2943 - val_mean_absolute_error: 27.8898\n",
      "Epoch 132/150\n",
      "7672/7672 [==============================] - 1s 117us/step - loss: 705.0558 - mean_squared_error: 705.0558 - mean_absolute_error: 18.6749 - val_loss: 2104.6767 - val_mean_squared_error: 2104.6767 - val_mean_absolute_error: 28.3705\n",
      "Epoch 133/150\n",
      "7672/7672 [==============================] - 1s 126us/step - loss: 678.2014 - mean_squared_error: 678.2014 - mean_absolute_error: 18.2951 - val_loss: 1970.6700 - val_mean_squared_error: 1970.6700 - val_mean_absolute_error: 27.3218\n",
      "Epoch 134/150\n",
      "7672/7672 [==============================] - 1s 120us/step - loss: 826.4970 - mean_squared_error: 826.4970 - mean_absolute_error: 19.7889 - val_loss: 1753.7698 - val_mean_squared_error: 1753.7698 - val_mean_absolute_error: 25.9968\n",
      "Epoch 135/150\n",
      "7672/7672 [==============================] - 1s 128us/step - loss: 784.3719 - mean_squared_error: 784.3719 - mean_absolute_error: 19.4412 - val_loss: 1890.1433 - val_mean_squared_error: 1890.1433 - val_mean_absolute_error: 26.2893\n",
      "Epoch 136/150\n",
      "7672/7672 [==============================] - 1s 181us/step - loss: 735.1282 - mean_squared_error: 735.1282 - mean_absolute_error: 18.6843 - val_loss: 1780.5254 - val_mean_squared_error: 1780.5254 - val_mean_absolute_error: 25.7265\n",
      "Epoch 137/150\n",
      "7672/7672 [==============================] - 2s 197us/step - loss: 728.2922 - mean_squared_error: 728.2922 - mean_absolute_error: 19.0015 - val_loss: 1748.3281 - val_mean_squared_error: 1748.3281 - val_mean_absolute_error: 25.4628\n",
      "Epoch 138/150\n",
      "7672/7672 [==============================] - 1s 177us/step - loss: 750.1683 - mean_squared_error: 750.1683 - mean_absolute_error: 19.0949 - val_loss: 1889.2021 - val_mean_squared_error: 1889.2021 - val_mean_absolute_error: 26.3731\n",
      "Epoch 139/150\n",
      "7672/7672 [==============================] - 1s 146us/step - loss: 760.7462 - mean_squared_error: 760.7462 - mean_absolute_error: 19.2387 - val_loss: 1875.0324 - val_mean_squared_error: 1875.0324 - val_mean_absolute_error: 26.5522\n",
      "Epoch 140/150\n",
      "7672/7672 [==============================] - 1s 122us/step - loss: 767.0826 - mean_squared_error: 767.0826 - mean_absolute_error: 19.3612 - val_loss: 2044.8678 - val_mean_squared_error: 2044.8678 - val_mean_absolute_error: 28.0487\n",
      "Epoch 141/150\n",
      "7672/7672 [==============================] - 1s 115us/step - loss: 762.5917 - mean_squared_error: 762.5917 - mean_absolute_error: 18.9743 - val_loss: 1862.3787 - val_mean_squared_error: 1862.3787 - val_mean_absolute_error: 26.8316\n",
      "Epoch 142/150\n",
      "7672/7672 [==============================] - 1s 119us/step - loss: 681.8586 - mean_squared_error: 681.8586 - mean_absolute_error: 18.1676 - val_loss: 1851.2368 - val_mean_squared_error: 1851.2368 - val_mean_absolute_error: 26.5987\n",
      "Epoch 143/150\n",
      "7672/7672 [==============================] - 1s 123us/step - loss: 771.8449 - mean_squared_error: 771.8449 - mean_absolute_error: 19.3584 - val_loss: 1909.7624 - val_mean_squared_error: 1909.7624 - val_mean_absolute_error: 26.9279\n",
      "Epoch 144/150\n",
      "7672/7672 [==============================] - 1s 119us/step - loss: 652.6423 - mean_squared_error: 652.6423 - mean_absolute_error: 17.9021 - val_loss: 1893.0044 - val_mean_squared_error: 1893.0044 - val_mean_absolute_error: 26.7601\n",
      "Epoch 145/150\n",
      "7672/7672 [==============================] - 1s 120us/step - loss: 757.5713 - mean_squared_error: 757.5713 - mean_absolute_error: 19.0672 - val_loss: 1806.9054 - val_mean_squared_error: 1806.9054 - val_mean_absolute_error: 26.2838\n",
      "Epoch 146/150\n",
      "7672/7672 [==============================] - 1s 127us/step - loss: 704.6087 - mean_squared_error: 704.6087 - mean_absolute_error: 18.3203 - val_loss: 1806.6859 - val_mean_squared_error: 1806.6859 - val_mean_absolute_error: 26.1288\n",
      "Epoch 147/150\n",
      "7672/7672 [==============================] - 1s 129us/step - loss: 701.0352 - mean_squared_error: 701.0352 - mean_absolute_error: 18.4756 - val_loss: 1708.3714 - val_mean_squared_error: 1708.3714 - val_mean_absolute_error: 25.4640\n",
      "Epoch 148/150\n",
      "7672/7672 [==============================] - 1s 122us/step - loss: 670.2593 - mean_squared_error: 670.2593 - mean_absolute_error: 18.1099 - val_loss: 2133.1363 - val_mean_squared_error: 2133.1363 - val_mean_absolute_error: 28.7698\n",
      "Epoch 149/150\n",
      "7672/7672 [==============================] - 1s 122us/step - loss: 714.8475 - mean_squared_error: 714.8475 - mean_absolute_error: 18.8176 - val_loss: 1786.8628 - val_mean_squared_error: 1786.8628 - val_mean_absolute_error: 25.7037\n",
      "Epoch 150/150\n",
      "7672/7672 [==============================] - 1s 126us/step - loss: 728.8638 - mean_squared_error: 728.8638 - mean_absolute_error: 18.6657 - val_loss: 1985.4253 - val_mean_squared_error: 1985.4253 - val_mean_absolute_error: 27.3046\n"
     ]
    }
   ],
   "source": [
    "history = model.fit(X_train, y_train, epochs=100, batch_size=60,  verbose=1, validation_split=0.2)"
   ]
  },
  {
   "cell_type": "code",
   "execution_count": 44,
   "metadata": {},
   "outputs": [
    {
     "name": "stdout",
     "output_type": "stream",
     "text": [
      "dict_keys(['val_loss', 'val_mean_squared_error', 'val_mean_absolute_error', 'loss', 'mean_squared_error', 'mean_absolute_error'])\n"
     ]
    },
    {
     "data": {
      "image/png": "[encoded data removed]",
      "text/plain": [
       "<Figure size 432x288 with 1 Axes>"
      ]
     },
     "metadata": {
      "needs_background": "light"
     },
     "output_type": "display_data"
    }
   ],
   "source": [
    "print(history.history.keys())\n",
    "# \"Loss\"\n",
    "plt.plot(history.history['loss'])\n",
    "plt.plot(history.history['val_loss'])\n",
    "plt.title('model loss')\n",
    "plt.ylabel('loss')\n",
    "plt.xlabel('epoch')\n",
    "plt.legend(['train', 'validation'], loc='upper left')\n",
    "plt.show()"
   ]
  },
  {
   "cell_type": "code",
   "execution_count": 45,
   "metadata": {},
   "outputs": [],
   "source": [
    "y_pred = model.predict(X_test)"
   ]
  },
  {
   "cell_type": "code",
   "execution_count": 46,
   "metadata": {},
   "outputs": [
    {
     "name": "stdout",
     "output_type": "stream",
     "text": [
      "RMSLE: 0.44105771851164943\n"
     ]
    }
   ],
   "source": [
    "print('RMSLE:', np.sqrt(mean_squared_log_error(y_test, y_pred)))"
   ]
  },
  {
   "cell_type": "code",
   "execution_count": null,
   "metadata": {},
   "outputs": [],
   "source": []
  },
  {
   "cell_type": "markdown",
   "metadata": {},
   "source": [
    "### Split Dataset and make multiple Models:"
   ]
  },
  {
   "cell_type": "markdown",
   "metadata": {},
   "source": [
    "#### K-Fold\n",
    "\n",
    "https://towardsdatascience.com/why-and-how-to-cross-validate-a-model-d6424b45261f"
   ]
  },
  {
   "cell_type": "markdown",
   "metadata": {},
   "source": [
    "![title](K-fold.png)"
   ]
  },
  {
   "cell_type": "markdown",
   "metadata": {},
   "source": [
    "It has method `sklearn.model_selection.KFold`, but we do hardcode."
   ]
  },
  {
   "cell_type": "code",
   "execution_count": null,
   "metadata": {},
   "outputs": [],
   "source": []
  },
  {
   "cell_type": "markdown",
   "metadata": {},
   "source": [
    "Split all df_train in 5 sets which a set has 20% of data(tuples):"
   ]
  },
  {
   "cell_type": "code",
   "execution_count": 47,
   "metadata": {},
   "outputs": [],
   "source": [
    "start=0\n",
    "temp                = int(2*(df_train.shape[0]/10))\n",
    "to=temp\n",
    "#print(to)\n",
    "train_part_1    = df_train[start:to][:]\n",
    "#print(train_part_1) \n",
    "\n",
    "start=to\n",
    "to+=temp\n",
    "train_part_2    = df_train[start:to][:] \n",
    "\n",
    "start=to\n",
    "to+=temp\n",
    "train_part_3    = df_train[start:to][:]\n",
    "start=to\n",
    "to+=temp\n",
    "train_part_4    = df_train[start:to][:] \n",
    "\n",
    "start=to\n",
    "to+=temp\n",
    "train_part_5    = df_train[start:to][:]\n",
    " "
   ]
  },
  {
   "cell_type": "code",
   "execution_count": null,
   "metadata": {},
   "outputs": [],
   "source": []
  },
  {
   "cell_type": "markdown",
   "metadata": {},
   "source": [
    "#### Model 1"
   ]
  },
  {
   "cell_type": "markdown",
   "metadata": {},
   "source": [
    "Take set 2,3,4,5 for train and set 1 for test:"
   ]
  },
  {
   "cell_type": "markdown",
   "metadata": {},
   "source": [
    " `concat()` train_parts which are pandas dataFrames \n",
    " \n",
    " https://pandas.pydata.org/pandas-docs/stable/user_guide/merging.html\n",
    " "
   ]
  },
  {
   "cell_type": "code",
   "execution_count": 48,
   "metadata": {},
   "outputs": [],
   "source": [
    "temp1 = [train_part_2, train_part_3, train_part_4, train_part_5]\n",
    "train_model_1 = pd.concat(temp1)\n",
    "\n",
    "temp1 = [train_part_1]\n",
    "test_model_1 = pd.concat(temp1)"
   ]
  },
  {
   "cell_type": "code",
   "execution_count": null,
   "metadata": {},
   "outputs": [],
   "source": []
  },
  {
   "cell_type": "code",
   "execution_count": 49,
   "metadata": {},
   "outputs": [],
   "source": [
    "y_train_model_1 = train_model_1['count']\n",
    "X_train_model_1 = train_model_1[['temp', 'humidity','season_1','season_2','season_3','season_4','year_0','year_1','month_1','month_2','month_3','month_4','month_5','month_6','month_7','month_8','month_9','month_10','month_11','month_12','hour_0','hour_1','hour_2','hour_3','hour_4','hour_5','hour_6','hour_7','hour_8','hour_9','hour_10','hour_11','hour_12','hour_13','hour_14','hour_15','hour_16','hour_17','hour_18','hour_19','hour_20','hour_21','hour_22','hour_23','weekday_0','weekday_1','weekday_2','weekday_3','weekday_4','weekday_5','weekday_6','weather_1','weather_2','weather_3','holiday_0','holiday_1']]"
   ]
  },
  {
   "cell_type": "code",
   "execution_count": 50,
   "metadata": {},
   "outputs": [],
   "source": [
    "y_test_model_1 = test_model_1['count']\n",
    "X_test_model_1 = test_model_1[['temp', 'humidity','season_1','season_2','season_3','season_4','year_0','year_1','month_1','month_2','month_3','month_4','month_5','month_6','month_7','month_8','month_9','month_10','month_11','month_12','hour_0','hour_1','hour_2','hour_3','hour_4','hour_5','hour_6','hour_7','hour_8','hour_9','hour_10','hour_11','hour_12','hour_13','hour_14','hour_15','hour_16','hour_17','hour_18','hour_19','hour_20','hour_21','hour_22','hour_23','weekday_0','weekday_1','weekday_2','weekday_3','weekday_4','weekday_5','weekday_6','weather_1','weather_2','weather_3','holiday_0','holiday_1']]"
   ]
  },
  {
   "cell_type": "code",
   "execution_count": null,
   "metadata": {},
   "outputs": [],
   "source": []
  },
  {
   "cell_type": "code",
   "execution_count": 51,
   "metadata": {},
   "outputs": [
    {
     "data": {
      "text/plain": [
       "(9588, 56)"
      ]
     },
     "execution_count": 51,
     "metadata": {},
     "output_type": "execute_result"
    }
   ],
   "source": [
    "X_train_model_1.shape"
   ]
  },
  {
   "cell_type": "code",
   "execution_count": 52,
   "metadata": {},
   "outputs": [
    {
     "data": {
      "text/plain": [
       "(2397, 56)"
      ]
     },
     "execution_count": 52,
     "metadata": {},
     "output_type": "execute_result"
    }
   ],
   "source": [
    "X_test_model_1.shape"
   ]
  },
  {
   "cell_type": "code",
   "execution_count": null,
   "metadata": {},
   "outputs": [],
   "source": []
  },
  {
   "cell_type": "markdown",
   "metadata": {},
   "source": [
    "Make neurotic shape:"
   ]
  },
  {
   "cell_type": "code",
   "execution_count": 53,
   "metadata": {},
   "outputs": [
    {
     "name": "stdout",
     "output_type": "stream",
     "text": [
      "WARNING:tensorflow:From C:\\Users\\giann\\Anaconda3\\lib\\site-packages\\keras\\backend\\tensorflow_backend.py:3445: calling dropout (from tensorflow.python.ops.nn_ops) with keep_prob is deprecated and will be removed in a future version.\n",
      "Instructions for updating:\n",
      "Please use `rate` instead of `keep_prob`. Rate should be set to `rate = 1 - keep_prob`.\n",
      "_________________________________________________________________\n",
      "Layer (type)                 Output Shape              Param #   \n",
      "=================================================================\n",
      "dense_6 (Dense)              (None, 120)               6720      \n",
      "_________________________________________________________________\n",
      "batch_normalization_5 (Batch (None, 120)               480       \n",
      "_________________________________________________________________\n",
      "activation_5 (Activation)    (None, 120)               0         \n",
      "_________________________________________________________________\n",
      "gaussian_noise_1 (GaussianNo (None, 120)               0         \n",
      "_________________________________________________________________\n",
      "dropout_1 (Dropout)          (None, 120)               0         \n",
      "_________________________________________________________________\n",
      "dense_7 (Dense)              (None, 80)                9600      \n",
      "_________________________________________________________________\n",
      "batch_normalization_6 (Batch (None, 80)                320       \n",
      "_________________________________________________________________\n",
      "activation_6 (Activation)    (None, 80)                0         \n",
      "_________________________________________________________________\n",
      "dense_8 (Dense)              (None, 40)                3200      \n",
      "_________________________________________________________________\n",
      "batch_normalization_7 (Batch (None, 40)                160       \n",
      "_________________________________________________________________\n",
      "activation_7 (Activation)    (None, 40)                0         \n",
      "_________________________________________________________________\n",
      "dense_9 (Dense)              (None, 12)                480       \n",
      "_________________________________________________________________\n",
      "batch_normalization_8 (Batch (None, 12)                48        \n",
      "_________________________________________________________________\n",
      "activation_8 (Activation)    (None, 12)                0         \n",
      "_________________________________________________________________\n",
      "dense_10 (Dense)             (None, 1)                 13        \n",
      "=================================================================\n",
      "Total params: 21,021\n",
      "Trainable params: 20,517\n",
      "Non-trainable params: 504\n",
      "_________________________________________________________________\n"
     ]
    }
   ],
   "source": [
    "model_Split_1 = Sequential()\n",
    "#model.add(Dense(120, input_dim=35, kernel_initializer='normal', activation='relu'))\n",
    "\n",
    "#model.add(GaussianNoise(0.01, input_shape=(59,)))\n",
    "#model.add(Dense(120, activation='relu'))\n",
    "\n",
    "model_Split_1.add(Dense(120, input_dim=56, kernel_initializer=RandomNormal(mean=0.0, stddev=0.05, seed=12), use_bias = False))\n",
    "model_Split_1.add(BatchNormalization())\n",
    "model_Split_1.add(Activation('relu'))\n",
    "model_Split_1.add(GaussianNoise(0.01))\n",
    "model_Split_1.add(Dropout(0.01))\n",
    "\n",
    "model_Split_1.add(Dense(80, use_bias = False))\n",
    "model_Split_1.add(BatchNormalization())\n",
    "model_Split_1.add(Activation('relu'))\n",
    "\n",
    "#model.add(Dropout(0.1))\n",
    "\n",
    "model_Split_1.add(Dense(40, use_bias = False))\n",
    "model_Split_1.add(BatchNormalization())\n",
    "model_Split_1.add(Activation('relu'))\n",
    "\n",
    "model_Split_1.add(Dense(12, use_bias = False))\n",
    "model_Split_1.add(BatchNormalization())\n",
    "model_Split_1.add(Activation('relu'))\n",
    "\n",
    "model_Split_1.add(Dense(1, activation='relu'))\n",
    "model_Split_1.summary()"
   ]
  },
  {
   "cell_type": "code",
   "execution_count": 54,
   "metadata": {},
   "outputs": [],
   "source": [
    "model_Split_1.compile(loss='mse', optimizer=Adam(lr= 0.008), metrics=['mse','mae'])"
   ]
  },
  {
   "cell_type": "code",
   "execution_count": null,
   "metadata": {},
   "outputs": [],
   "source": []
  },
  {
   "cell_type": "code",
   "execution_count": 55,
   "metadata": {
    "scrolled": true
   },
   "outputs": [
    {
     "name": "stdout",
     "output_type": "stream",
     "text": [
      "Train on 7670 samples, validate on 1918 samples\n",
      "Epoch 1/150\n",
      "7670/7670 [==============================] - 4s 502us/step - loss: 53813.1298 - mean_squared_error: 53813.1298 - mean_absolute_error: 170.9444 - val_loss: 23549.2026 - val_mean_squared_error: 23549.2026 - val_mean_absolute_error: 113.1601\n",
      "Epoch 2/150\n",
      "7670/7670 [==============================] - 1s 143us/step - loss: 27897.1836 - mean_squared_error: 27897.1836 - mean_absolute_error: 122.1963 - val_loss: 6772.7065 - val_mean_squared_error: 6772.7065 - val_mean_absolute_error: 58.4780\n",
      "Epoch 3/150\n",
      "7670/7670 [==============================] - 1s 144us/step - loss: 6561.3529 - mean_squared_error: 6561.3529 - mean_absolute_error: 56.2452 - val_loss: 5467.8852 - val_mean_squared_error: 5467.8852 - val_mean_absolute_error: 48.4477\n",
      "Epoch 4/150\n",
      "7670/7670 [==============================] - 1s 139us/step - loss: 3181.5031 - mean_squared_error: 3181.5031 - mean_absolute_error: 38.4631 - val_loss: 3030.9484 - val_mean_squared_error: 3030.9484 - val_mean_absolute_error: 36.1281\n",
      "Epoch 5/150\n",
      "7670/7670 [==============================] - 2s 200us/step - loss: 2715.7201 - mean_squared_error: 2715.7201 - mean_absolute_error: 34.9190 - val_loss: 2334.4260 - val_mean_squared_error: 2334.4260 - val_mean_absolute_error: 31.3732\n",
      "Epoch 6/150\n",
      "7670/7670 [==============================] - 1s 177us/step - loss: 2675.5333 - mean_squared_error: 2675.5333 - mean_absolute_error: 34.7245 - val_loss: 2203.3285 - val_mean_squared_error: 2203.3285 - val_mean_absolute_error: 29.0614\n",
      "Epoch 7/150\n",
      "7670/7670 [==============================] - 1s 148us/step - loss: 2451.5450 - mean_squared_error: 2451.5450 - mean_absolute_error: 33.2973 - val_loss: 2188.0992 - val_mean_squared_error: 2188.0992 - val_mean_absolute_error: 29.1748\n",
      "Epoch 8/150\n",
      "7670/7670 [==============================] - 1s 152us/step - loss: 2330.6219 - mean_squared_error: 2330.6219 - mean_absolute_error: 32.2586 - val_loss: 2114.7795 - val_mean_squared_error: 2114.7795 - val_mean_absolute_error: 28.1506\n",
      "Epoch 9/150\n",
      "7670/7670 [==============================] - 1s 137us/step - loss: 2241.5016 - mean_squared_error: 2241.5016 - mean_absolute_error: 31.3800 - val_loss: 2082.4115 - val_mean_squared_error: 2082.4115 - val_mean_absolute_error: 28.5785\n",
      "Epoch 10/150\n",
      "7670/7670 [==============================] - 1s 138us/step - loss: 2213.0173 - mean_squared_error: 2213.0173 - mean_absolute_error: 31.1952 - val_loss: 2183.1056 - val_mean_squared_error: 2183.1056 - val_mean_absolute_error: 29.4274\n",
      "Epoch 11/150\n",
      "7670/7670 [==============================] - 1s 133us/step - loss: 2201.6987 - mean_squared_error: 2201.6987 - mean_absolute_error: 31.4137 - val_loss: 2233.2609 - val_mean_squared_error: 2233.2609 - val_mean_absolute_error: 29.8096\n",
      "Epoch 12/150\n",
      "7670/7670 [==============================] - 1s 135us/step - loss: 1992.7049 - mean_squared_error: 1992.7049 - mean_absolute_error: 29.7690 - val_loss: 2106.9030 - val_mean_squared_error: 2106.9030 - val_mean_absolute_error: 28.0762\n",
      "Epoch 13/150\n",
      "7670/7670 [==============================] - 1s 138us/step - loss: 2012.7850 - mean_squared_error: 2012.7850 - mean_absolute_error: 29.9148 - val_loss: 2081.2514 - val_mean_squared_error: 2081.2514 - val_mean_absolute_error: 28.1409\n",
      "Epoch 14/150\n",
      "7670/7670 [==============================] - 1s 137us/step - loss: 2027.7469 - mean_squared_error: 2027.7469 - mean_absolute_error: 29.9679 - val_loss: 1971.5911 - val_mean_squared_error: 1971.5911 - val_mean_absolute_error: 27.2566\n",
      "Epoch 15/150\n",
      "7670/7670 [==============================] - 1s 177us/step - loss: 2017.6632 - mean_squared_error: 2017.6632 - mean_absolute_error: 30.0110 - val_loss: 2009.4139 - val_mean_squared_error: 2009.4139 - val_mean_absolute_error: 27.2183\n",
      "Epoch 16/150\n",
      "7670/7670 [==============================] - 1s 174us/step - loss: 1860.2409 - mean_squared_error: 1860.2409 - mean_absolute_error: 29.0901 - val_loss: 1985.3757 - val_mean_squared_error: 1985.3757 - val_mean_absolute_error: 27.2481\n",
      "Epoch 17/150\n",
      "7670/7670 [==============================] - 1s 179us/step - loss: 1786.7153 - mean_squared_error: 1786.7153 - mean_absolute_error: 28.6004 - val_loss: 2351.3009 - val_mean_squared_error: 2351.3009 - val_mean_absolute_error: 30.2779\n",
      "Epoch 18/150\n",
      "7670/7670 [==============================] - 2s 215us/step - loss: 1880.4761 - mean_squared_error: 1880.4761 - mean_absolute_error: 29.4820 - val_loss: 2523.0133 - val_mean_squared_error: 2523.0133 - val_mean_absolute_error: 30.6425\n",
      "Epoch 19/150\n",
      "7670/7670 [==============================] - 1s 140us/step - loss: 1830.3465 - mean_squared_error: 1830.3465 - mean_absolute_error: 29.1053 - val_loss: 2057.2966 - val_mean_squared_error: 2057.2966 - val_mean_absolute_error: 28.1028\n",
      "Epoch 20/150\n",
      "7670/7670 [==============================] - 1s 141us/step - loss: 1890.0479 - mean_squared_error: 1890.0479 - mean_absolute_error: 29.0340 - val_loss: 2422.2675 - val_mean_squared_error: 2422.2675 - val_mean_absolute_error: 31.0681\n",
      "Epoch 21/150\n",
      "7670/7670 [==============================] - 1s 150us/step - loss: 1776.4510 - mean_squared_error: 1776.4510 - mean_absolute_error: 28.3927 - val_loss: 1975.9099 - val_mean_squared_error: 1975.9099 - val_mean_absolute_error: 26.5515\n",
      "Epoch 22/150\n",
      "7670/7670 [==============================] - 1s 155us/step - loss: 1616.0863 - mean_squared_error: 1616.0863 - mean_absolute_error: 27.2575 - val_loss: 1949.9987 - val_mean_squared_error: 1949.9987 - val_mean_absolute_error: 26.6962\n",
      "Epoch 23/150\n",
      "7670/7670 [==============================] - 1s 151us/step - loss: 1778.2817 - mean_squared_error: 1778.2817 - mean_absolute_error: 28.2619 - val_loss: 1957.4100 - val_mean_squared_error: 1957.4100 - val_mean_absolute_error: 27.4393\n",
      "Epoch 24/150\n",
      "7670/7670 [==============================] - 1s 144us/step - loss: 1692.5228 - mean_squared_error: 1692.5228 - mean_absolute_error: 27.7208 - val_loss: 2381.3335 - val_mean_squared_error: 2381.3335 - val_mean_absolute_error: 30.7358\n",
      "Epoch 25/150\n",
      "7670/7670 [==============================] - 1s 138us/step - loss: 1624.7449 - mean_squared_error: 1624.7449 - mean_absolute_error: 27.0433 - val_loss: 2016.4452 - val_mean_squared_error: 2016.4452 - val_mean_absolute_error: 27.5607\n",
      "Epoch 26/150\n",
      "7670/7670 [==============================] - 1s 146us/step - loss: 1509.8587 - mean_squared_error: 1509.8587 - mean_absolute_error: 26.2871 - val_loss: 2106.5859 - val_mean_squared_error: 2106.5859 - val_mean_absolute_error: 28.0942\n",
      "Epoch 27/150\n",
      "7670/7670 [==============================] - 1s 138us/step - loss: 1762.4325 - mean_squared_error: 1762.4325 - mean_absolute_error: 28.6831 - val_loss: 1872.8637 - val_mean_squared_error: 1872.8637 - val_mean_absolute_error: 26.2906\n",
      "Epoch 28/150\n",
      "7670/7670 [==============================] - 1s 145us/step - loss: 1404.8409 - mean_squared_error: 1404.8409 - mean_absolute_error: 25.6305 - val_loss: 1818.7387 - val_mean_squared_error: 1818.7387 - val_mean_absolute_error: 25.6913\n",
      "Epoch 29/150\n",
      "7670/7670 [==============================] - 1s 145us/step - loss: 1575.9624 - mean_squared_error: 1575.9624 - mean_absolute_error: 27.1611 - val_loss: 2114.8211 - val_mean_squared_error: 2114.8211 - val_mean_absolute_error: 27.7962\n",
      "Epoch 30/150\n",
      "7670/7670 [==============================] - 1s 141us/step - loss: 1613.0942 - mean_squared_error: 1613.0942 - mean_absolute_error: 27.4188 - val_loss: 2247.5138 - val_mean_squared_error: 2247.5138 - val_mean_absolute_error: 29.2501\n",
      "Epoch 31/150\n",
      "7670/7670 [==============================] - 1s 141us/step - loss: 1491.9206 - mean_squared_error: 1491.9206 - mean_absolute_error: 26.0740 - val_loss: 2046.2578 - val_mean_squared_error: 2046.2578 - val_mean_absolute_error: 27.3855\n",
      "Epoch 32/150\n",
      "7670/7670 [==============================] - 1s 140us/step - loss: 1644.4823 - mean_squared_error: 1644.4823 - mean_absolute_error: 27.7882 - val_loss: 1969.2262 - val_mean_squared_error: 1969.2262 - val_mean_absolute_error: 26.8115\n",
      "Epoch 33/150\n",
      "7670/7670 [==============================] - 1s 147us/step - loss: 1366.9057 - mean_squared_error: 1366.9057 - mean_absolute_error: 25.3584 - val_loss: 1941.4600 - val_mean_squared_error: 1941.4600 - val_mean_absolute_error: 26.8165\n",
      "Epoch 34/150\n"
     ]
    },
    {
     "name": "stdout",
     "output_type": "stream",
     "text": [
      "7670/7670 [==============================] - 1s 147us/step - loss: 1557.9431 - mean_squared_error: 1557.9431 - mean_absolute_error: 26.8683 - val_loss: 1853.9161 - val_mean_squared_error: 1853.9161 - val_mean_absolute_error: 25.9245\n",
      "Epoch 35/150\n",
      "7670/7670 [==============================] - 1s 137us/step - loss: 1464.9317 - mean_squared_error: 1464.9317 - mean_absolute_error: 26.2443 - val_loss: 1915.8637 - val_mean_squared_error: 1915.8637 - val_mean_absolute_error: 26.5064\n",
      "Epoch 36/150\n",
      "7670/7670 [==============================] - 1s 131us/step - loss: 1428.5270 - mean_squared_error: 1428.5270 - mean_absolute_error: 25.8505 - val_loss: 1980.2440 - val_mean_squared_error: 1980.2440 - val_mean_absolute_error: 26.9248\n",
      "Epoch 37/150\n",
      "7670/7670 [==============================] - 1s 142us/step - loss: 1413.5901 - mean_squared_error: 1413.5901 - mean_absolute_error: 25.7031 - val_loss: 1823.5894 - val_mean_squared_error: 1823.5894 - val_mean_absolute_error: 25.4480\n",
      "Epoch 38/150\n",
      "7670/7670 [==============================] - 1s 136us/step - loss: 1356.2733 - mean_squared_error: 1356.2733 - mean_absolute_error: 25.3223 - val_loss: 1808.8106 - val_mean_squared_error: 1808.8106 - val_mean_absolute_error: 25.8585\n",
      "Epoch 39/150\n",
      "7670/7670 [==============================] - 1s 153us/step - loss: 1236.3223 - mean_squared_error: 1236.3223 - mean_absolute_error: 23.9820 - val_loss: 1881.7387 - val_mean_squared_error: 1881.7387 - val_mean_absolute_error: 26.1144\n",
      "Epoch 40/150\n",
      "7670/7670 [==============================] - 1s 166us/step - loss: 1312.2241 - mean_squared_error: 1312.2241 - mean_absolute_error: 24.8385 - val_loss: 1821.1602 - val_mean_squared_error: 1821.1602 - val_mean_absolute_error: 25.7480\n",
      "Epoch 41/150\n",
      "7670/7670 [==============================] - 2s 237us/step - loss: 1295.2617 - mean_squared_error: 1295.2617 - mean_absolute_error: 24.6431 - val_loss: 1963.3604 - val_mean_squared_error: 1963.3604 - val_mean_absolute_error: 26.6451\n",
      "Epoch 42/150\n",
      "7670/7670 [==============================] - 1s 169us/step - loss: 1409.4446 - mean_squared_error: 1409.4446 - mean_absolute_error: 25.4251 - val_loss: 1870.6000 - val_mean_squared_error: 1870.6000 - val_mean_absolute_error: 26.6764\n",
      "Epoch 43/150\n",
      "7670/7670 [==============================] - 1s 147us/step - loss: 1259.6460 - mean_squared_error: 1259.6460 - mean_absolute_error: 24.6361 - val_loss: 2202.1336 - val_mean_squared_error: 2202.1336 - val_mean_absolute_error: 28.3174\n",
      "Epoch 44/150\n",
      "7670/7670 [==============================] - 1s 136us/step - loss: 1319.6198 - mean_squared_error: 1319.6198 - mean_absolute_error: 25.0155 - val_loss: 1997.4372 - val_mean_squared_error: 1997.4372 - val_mean_absolute_error: 26.8751\n",
      "Epoch 45/150\n",
      "7670/7670 [==============================] - 1s 156us/step - loss: 1213.4132 - mean_squared_error: 1213.4132 - mean_absolute_error: 24.0498 - val_loss: 1895.2402 - val_mean_squared_error: 1895.2402 - val_mean_absolute_error: 26.2315\n",
      "Epoch 46/150\n",
      "7670/7670 [==============================] - 1s 140us/step - loss: 1331.9958 - mean_squared_error: 1331.9958 - mean_absolute_error: 25.1531 - val_loss: 2369.2559 - val_mean_squared_error: 2369.2559 - val_mean_absolute_error: 28.9603\n",
      "Epoch 47/150\n",
      "7670/7670 [==============================] - 1s 136us/step - loss: 1246.4827 - mean_squared_error: 1246.4827 - mean_absolute_error: 24.0367 - val_loss: 1853.6402 - val_mean_squared_error: 1853.6402 - val_mean_absolute_error: 25.6545\n",
      "Epoch 48/150\n",
      "7670/7670 [==============================] - 1s 142us/step - loss: 1149.6049 - mean_squared_error: 1149.6049 - mean_absolute_error: 23.4118 - val_loss: 1884.5498 - val_mean_squared_error: 1884.5498 - val_mean_absolute_error: 26.3222\n",
      "Epoch 49/150\n",
      "7670/7670 [==============================] - 2s 254us/step - loss: 1205.0379 - mean_squared_error: 1205.0379 - mean_absolute_error: 24.1598 - val_loss: 2005.7473 - val_mean_squared_error: 2005.7473 - val_mean_absolute_error: 26.9714\n",
      "Epoch 50/150\n",
      "7670/7670 [==============================] - 1s 187us/step - loss: 1167.9683 - mean_squared_error: 1167.9683 - mean_absolute_error: 23.4887 - val_loss: 2003.9809 - val_mean_squared_error: 2003.9809 - val_mean_absolute_error: 27.6285\n",
      "Epoch 51/150\n",
      "7670/7670 [==============================] - 1s 140us/step - loss: 1246.4814 - mean_squared_error: 1246.4814 - mean_absolute_error: 24.4733 - val_loss: 2000.6823 - val_mean_squared_error: 2000.6823 - val_mean_absolute_error: 26.6514\n",
      "Epoch 52/150\n",
      "7670/7670 [==============================] - 1s 139us/step - loss: 1205.1698 - mean_squared_error: 1205.1698 - mean_absolute_error: 24.0046 - val_loss: 2087.0618 - val_mean_squared_error: 2087.0618 - val_mean_absolute_error: 27.6428\n",
      "Epoch 53/150\n",
      "7670/7670 [==============================] - 1s 151us/step - loss: 1250.8413 - mean_squared_error: 1250.8413 - mean_absolute_error: 24.1250 - val_loss: 2129.3165 - val_mean_squared_error: 2129.3165 - val_mean_absolute_error: 27.4575\n",
      "Epoch 54/150\n",
      "7670/7670 [==============================] - 1s 140us/step - loss: 1106.1982 - mean_squared_error: 1106.1982 - mean_absolute_error: 22.8695 - val_loss: 1886.9927 - val_mean_squared_error: 1886.9927 - val_mean_absolute_error: 26.4321\n",
      "Epoch 55/150\n",
      "7670/7670 [==============================] - 1s 143us/step - loss: 1166.8863 - mean_squared_error: 1166.8863 - mean_absolute_error: 23.7478 - val_loss: 1955.3142 - val_mean_squared_error: 1955.3142 - val_mean_absolute_error: 26.7452\n",
      "Epoch 56/150\n",
      "7670/7670 [==============================] - 1s 145us/step - loss: 1169.8174 - mean_squared_error: 1169.8174 - mean_absolute_error: 23.4097 - val_loss: 2095.8088 - val_mean_squared_error: 2095.8088 - val_mean_absolute_error: 27.8381\n",
      "Epoch 57/150\n",
      "7670/7670 [==============================] - 1s 160us/step - loss: 1155.2975 - mean_squared_error: 1155.2975 - mean_absolute_error: 23.2618 - val_loss: 1911.6731 - val_mean_squared_error: 1911.6731 - val_mean_absolute_error: 26.6126\n",
      "Epoch 58/150\n",
      "7670/7670 [==============================] - 1s 150us/step - loss: 1081.9680 - mean_squared_error: 1081.9680 - mean_absolute_error: 22.9477 - val_loss: 1967.3311 - val_mean_squared_error: 1967.3311 - val_mean_absolute_error: 26.5016\n",
      "Epoch 59/150\n",
      "7670/7670 [==============================] - 1s 147us/step - loss: 1152.4958 - mean_squared_error: 1152.4958 - mean_absolute_error: 23.5860 - val_loss: 1939.4049 - val_mean_squared_error: 1939.4049 - val_mean_absolute_error: 26.6748\n",
      "Epoch 60/150\n",
      "7670/7670 [==============================] - 1s 163us/step - loss: 1082.0857 - mean_squared_error: 1082.0857 - mean_absolute_error: 22.6145 - val_loss: 1885.9344 - val_mean_squared_error: 1885.9344 - val_mean_absolute_error: 26.1783\n",
      "Epoch 61/150\n",
      "7670/7670 [==============================] - 1s 176us/step - loss: 1092.8293 - mean_squared_error: 1092.8293 - mean_absolute_error: 22.8366 - val_loss: 1887.2143 - val_mean_squared_error: 1887.2143 - val_mean_absolute_error: 26.2003\n",
      "Epoch 62/150\n",
      "7670/7670 [==============================] - 1s 167us/step - loss: 1095.9331 - mean_squared_error: 1095.9331 - mean_absolute_error: 22.4733 - val_loss: 1969.5737 - val_mean_squared_error: 1969.5737 - val_mean_absolute_error: 26.9127\n",
      "Epoch 63/150\n",
      "7670/7670 [==============================] - 1s 164us/step - loss: 1039.4264 - mean_squared_error: 1039.4264 - mean_absolute_error: 22.3766 - val_loss: 2256.4093 - val_mean_squared_error: 2256.4093 - val_mean_absolute_error: 28.5470\n",
      "Epoch 64/150\n",
      "7670/7670 [==============================] - 1s 159us/step - loss: 1054.0250 - mean_squared_error: 1054.0250 - mean_absolute_error: 22.6524 - val_loss: 1909.9190 - val_mean_squared_error: 1909.9190 - val_mean_absolute_error: 26.2648\n",
      "Epoch 65/150\n",
      "7670/7670 [==============================] - 1s 146us/step - loss: 1055.5618 - mean_squared_error: 1055.5618 - mean_absolute_error: 22.8295 - val_loss: 2121.7395 - val_mean_squared_error: 2121.7395 - val_mean_absolute_error: 28.2664\n",
      "Epoch 66/150\n",
      "7670/7670 [==============================] - 1s 149us/step - loss: 1053.4066 - mean_squared_error: 1053.4066 - mean_absolute_error: 22.5881 - val_loss: 1941.1493 - val_mean_squared_error: 1941.1493 - val_mean_absolute_error: 26.6001\n",
      "Epoch 67/150\n"
     ]
    },
    {
     "name": "stdout",
     "output_type": "stream",
     "text": [
      "7670/7670 [==============================] - 1s 145us/step - loss: 933.9992 - mean_squared_error: 933.9992 - mean_absolute_error: 21.2995 - val_loss: 1937.4102 - val_mean_squared_error: 1937.4102 - val_mean_absolute_error: 26.0926\n",
      "Epoch 68/150\n",
      "7670/7670 [==============================] - 1s 131us/step - loss: 1036.7043 - mean_squared_error: 1036.7043 - mean_absolute_error: 22.0762 - val_loss: 2300.1205 - val_mean_squared_error: 2300.1205 - val_mean_absolute_error: 28.6683\n",
      "Epoch 69/150\n",
      "7670/7670 [==============================] - 1s 177us/step - loss: 962.8633 - mean_squared_error: 962.8633 - mean_absolute_error: 21.6576 - val_loss: 1989.4094 - val_mean_squared_error: 1989.4094 - val_mean_absolute_error: 26.7256\n",
      "Epoch 70/150\n",
      "7670/7670 [==============================] - 2s 218us/step - loss: 1052.8373 - mean_squared_error: 1052.8373 - mean_absolute_error: 22.4139 - val_loss: 1950.8993 - val_mean_squared_error: 1950.8993 - val_mean_absolute_error: 26.5806\n",
      "Epoch 71/150\n",
      "7670/7670 [==============================] - 1s 172us/step - loss: 1014.0776 - mean_squared_error: 1014.0776 - mean_absolute_error: 22.1478 - val_loss: 1941.2592 - val_mean_squared_error: 1941.2592 - val_mean_absolute_error: 26.5129\n",
      "Epoch 72/150\n",
      "7670/7670 [==============================] - 1s 167us/step - loss: 943.3284 - mean_squared_error: 943.3284 - mean_absolute_error: 21.2847 - val_loss: 2189.1637 - val_mean_squared_error: 2189.1637 - val_mean_absolute_error: 28.5855\n",
      "Epoch 73/150\n",
      "7670/7670 [==============================] - 1s 159us/step - loss: 1027.8073 - mean_squared_error: 1027.8073 - mean_absolute_error: 22.2741 - val_loss: 1866.4504 - val_mean_squared_error: 1866.4504 - val_mean_absolute_error: 26.2466\n",
      "Epoch 74/150\n",
      "7670/7670 [==============================] - 1s 157us/step - loss: 992.3339 - mean_squared_error: 992.3339 - mean_absolute_error: 21.8561 - val_loss: 1970.0766 - val_mean_squared_error: 1970.0766 - val_mean_absolute_error: 26.7142\n",
      "Epoch 75/150\n",
      "7670/7670 [==============================] - 1s 145us/step - loss: 871.8806 - mean_squared_error: 871.8806 - mean_absolute_error: 20.7511 - val_loss: 1961.4275 - val_mean_squared_error: 1961.4275 - val_mean_absolute_error: 26.7754\n",
      "Epoch 76/150\n",
      "7670/7670 [==============================] - 1s 136us/step - loss: 957.5229 - mean_squared_error: 957.5229 - mean_absolute_error: 21.6754 - val_loss: 1954.4079 - val_mean_squared_error: 1954.4079 - val_mean_absolute_error: 26.4491\n",
      "Epoch 77/150\n",
      "7670/7670 [==============================] - 1s 151us/step - loss: 1047.6064 - mean_squared_error: 1047.6064 - mean_absolute_error: 22.1928 - val_loss: 2358.5088 - val_mean_squared_error: 2358.5088 - val_mean_absolute_error: 30.4590\n",
      "Epoch 78/150\n",
      "7670/7670 [==============================] - 1s 143us/step - loss: 990.0624 - mean_squared_error: 990.0624 - mean_absolute_error: 21.5751 - val_loss: 1969.2211 - val_mean_squared_error: 1969.2211 - val_mean_absolute_error: 26.3881\n",
      "Epoch 79/150\n",
      "7670/7670 [==============================] - 1s 140us/step - loss: 890.5259 - mean_squared_error: 890.5259 - mean_absolute_error: 21.0176 - val_loss: 1883.5260 - val_mean_squared_error: 1883.5260 - val_mean_absolute_error: 26.0319\n",
      "Epoch 80/150\n",
      "7670/7670 [==============================] - 1s 142us/step - loss: 1020.1493 - mean_squared_error: 1020.1493 - mean_absolute_error: 22.2427 - val_loss: 2117.1672 - val_mean_squared_error: 2117.1672 - val_mean_absolute_error: 27.4430\n",
      "Epoch 81/150\n",
      "7670/7670 [==============================] - 1s 135us/step - loss: 916.5808 - mean_squared_error: 916.5808 - mean_absolute_error: 21.1983 - val_loss: 2050.7429 - val_mean_squared_error: 2050.7429 - val_mean_absolute_error: 27.5673\n",
      "Epoch 82/150\n",
      "7670/7670 [==============================] - 1s 150us/step - loss: 912.9336 - mean_squared_error: 912.9336 - mean_absolute_error: 20.9831 - val_loss: 1966.6681 - val_mean_squared_error: 1966.6681 - val_mean_absolute_error: 26.8240\n",
      "Epoch 83/150\n",
      "7670/7670 [==============================] - 1s 141us/step - loss: 1026.0513 - mean_squared_error: 1026.0513 - mean_absolute_error: 22.0238 - val_loss: 2016.6582 - val_mean_squared_error: 2016.6582 - val_mean_absolute_error: 27.0055\n",
      "Epoch 84/150\n",
      "7670/7670 [==============================] - 1s 138us/step - loss: 923.5427 - mean_squared_error: 923.5427 - mean_absolute_error: 20.9004 - val_loss: 1968.2434 - val_mean_squared_error: 1968.2434 - val_mean_absolute_error: 26.7134\n",
      "Epoch 85/150\n",
      "7670/7670 [==============================] - 1s 142us/step - loss: 868.4332 - mean_squared_error: 868.4332 - mean_absolute_error: 20.6198 - val_loss: 1915.6174 - val_mean_squared_error: 1915.6174 - val_mean_absolute_error: 26.0858\n",
      "Epoch 86/150\n",
      "7670/7670 [==============================] - 1s 150us/step - loss: 878.1595 - mean_squared_error: 878.1595 - mean_absolute_error: 20.5447 - val_loss: 1995.7832 - val_mean_squared_error: 1995.7832 - val_mean_absolute_error: 26.4852\n",
      "Epoch 87/150\n",
      "7670/7670 [==============================] - 1s 147us/step - loss: 921.8388 - mean_squared_error: 921.8388 - mean_absolute_error: 21.2184 - val_loss: 1933.3634 - val_mean_squared_error: 1933.3634 - val_mean_absolute_error: 26.1763\n",
      "Epoch 88/150\n",
      "7670/7670 [==============================] - 1s 140us/step - loss: 1016.4408 - mean_squared_error: 1016.4408 - mean_absolute_error: 22.1693 - val_loss: 1970.2343 - val_mean_squared_error: 1970.2343 - val_mean_absolute_error: 26.5923\n",
      "Epoch 89/150\n",
      "7670/7670 [==============================] - 1s 152us/step - loss: 877.3837 - mean_squared_error: 877.3837 - mean_absolute_error: 20.7728 - val_loss: 1870.8071 - val_mean_squared_error: 1870.8071 - val_mean_absolute_error: 25.5313\n",
      "Epoch 90/150\n",
      "7670/7670 [==============================] - 1s 147us/step - loss: 874.7804 - mean_squared_error: 874.7804 - mean_absolute_error: 20.8725 - val_loss: 1941.7123 - val_mean_squared_error: 1941.7123 - val_mean_absolute_error: 26.4767\n",
      "Epoch 91/150\n",
      "7670/7670 [==============================] - 1s 149us/step - loss: 945.6518 - mean_squared_error: 945.6518 - mean_absolute_error: 21.4089 - val_loss: 1836.3564 - val_mean_squared_error: 1836.3564 - val_mean_absolute_error: 25.6575\n",
      "Epoch 92/150\n",
      "7670/7670 [==============================] - 1s 139us/step - loss: 968.8072 - mean_squared_error: 968.8072 - mean_absolute_error: 21.6311 - val_loss: 1894.3375 - val_mean_squared_error: 1894.3375 - val_mean_absolute_error: 26.0613\n",
      "Epoch 93/150\n",
      "7670/7670 [==============================] - 1s 145us/step - loss: 874.4956 - mean_squared_error: 874.4956 - mean_absolute_error: 20.8336 - val_loss: 2014.8871 - val_mean_squared_error: 2014.8871 - val_mean_absolute_error: 27.0912\n",
      "Epoch 94/150\n",
      "7670/7670 [==============================] - 1s 148us/step - loss: 882.1561 - mean_squared_error: 882.1561 - mean_absolute_error: 20.4916 - val_loss: 1957.4974 - val_mean_squared_error: 1957.4974 - val_mean_absolute_error: 26.6249\n",
      "Epoch 95/150\n",
      "7670/7670 [==============================] - 1s 177us/step - loss: 886.6761 - mean_squared_error: 886.6761 - mean_absolute_error: 20.7732 - val_loss: 1920.5820 - val_mean_squared_error: 1920.5820 - val_mean_absolute_error: 26.6658\n",
      "Epoch 96/150\n",
      "7670/7670 [==============================] - 2s 216us/step - loss: 857.7662 - mean_squared_error: 857.7662 - mean_absolute_error: 20.1396 - val_loss: 1966.5358 - val_mean_squared_error: 1966.5358 - val_mean_absolute_error: 26.5543\n",
      "Epoch 97/150\n",
      "7670/7670 [==============================] - 2s 201us/step - loss: 895.1440 - mean_squared_error: 895.1440 - mean_absolute_error: 20.6647 - val_loss: 2003.6557 - val_mean_squared_error: 2003.6557 - val_mean_absolute_error: 26.8676\n",
      "Epoch 98/150\n",
      "7670/7670 [==============================] - 1s 167us/step - loss: 880.6078 - mean_squared_error: 880.6078 - mean_absolute_error: 20.5386 - val_loss: 1836.7434 - val_mean_squared_error: 1836.7434 - val_mean_absolute_error: 25.6033\n",
      "Epoch 99/150\n",
      "7670/7670 [==============================] - 1s 151us/step - loss: 871.7262 - mean_squared_error: 871.7262 - mean_absolute_error: 20.8022 - val_loss: 1990.8311 - val_mean_squared_error: 1990.8311 - val_mean_absolute_error: 27.1210\n",
      "Epoch 100/150\n"
     ]
    },
    {
     "name": "stdout",
     "output_type": "stream",
     "text": [
      "7670/7670 [==============================] - 1s 138us/step - loss: 889.9709 - mean_squared_error: 889.9709 - mean_absolute_error: 20.9805 - val_loss: 2075.7986 - val_mean_squared_error: 2075.7986 - val_mean_absolute_error: 27.1815\n",
      "Epoch 101/150\n",
      "7670/7670 [==============================] - 1s 141us/step - loss: 789.4877 - mean_squared_error: 789.4877 - mean_absolute_error: 19.7743 - val_loss: 1879.7259 - val_mean_squared_error: 1879.7259 - val_mean_absolute_error: 26.0684\n",
      "Epoch 102/150\n",
      "7670/7670 [==============================] - 1s 139us/step - loss: 830.3838 - mean_squared_error: 830.3838 - mean_absolute_error: 19.9512 - val_loss: 2034.0195 - val_mean_squared_error: 2034.0195 - val_mean_absolute_error: 26.8014\n",
      "Epoch 103/150\n",
      "7670/7670 [==============================] - 1s 139us/step - loss: 857.4288 - mean_squared_error: 857.4288 - mean_absolute_error: 20.4680 - val_loss: 1879.3008 - val_mean_squared_error: 1879.3008 - val_mean_absolute_error: 26.0588\n",
      "Epoch 104/150\n",
      "7670/7670 [==============================] - 1s 140us/step - loss: 850.0682 - mean_squared_error: 850.0682 - mean_absolute_error: 20.4951 - val_loss: 1927.6576 - val_mean_squared_error: 1927.6576 - val_mean_absolute_error: 26.2411\n",
      "Epoch 105/150\n",
      "7670/7670 [==============================] - 1s 138us/step - loss: 869.2165 - mean_squared_error: 869.2165 - mean_absolute_error: 20.6725 - val_loss: 1923.1129 - val_mean_squared_error: 1923.1129 - val_mean_absolute_error: 26.2565\n",
      "Epoch 106/150\n",
      "7670/7670 [==============================] - 1s 139us/step - loss: 805.6221 - mean_squared_error: 805.6221 - mean_absolute_error: 20.0948 - val_loss: 1922.9460 - val_mean_squared_error: 1922.9460 - val_mean_absolute_error: 26.0048\n",
      "Epoch 107/150\n",
      "7670/7670 [==============================] - 1s 138us/step - loss: 817.5852 - mean_squared_error: 817.5852 - mean_absolute_error: 19.7425 - val_loss: 2052.1376 - val_mean_squared_error: 2052.1376 - val_mean_absolute_error: 26.9897\n",
      "Epoch 108/150\n",
      "7670/7670 [==============================] - 1s 145us/step - loss: 953.4749 - mean_squared_error: 953.4749 - mean_absolute_error: 21.1405 - val_loss: 1984.0140 - val_mean_squared_error: 1984.0140 - val_mean_absolute_error: 26.2881\n",
      "Epoch 109/150\n",
      "7670/7670 [==============================] - 1s 126us/step - loss: 967.3778 - mean_squared_error: 967.3778 - mean_absolute_error: 21.5027 - val_loss: 1953.5717 - val_mean_squared_error: 1953.5717 - val_mean_absolute_error: 26.5578\n",
      "Epoch 110/150\n",
      "7670/7670 [==============================] - 1s 138us/step - loss: 844.4263 - mean_squared_error: 844.4263 - mean_absolute_error: 20.3577 - val_loss: 2015.8228 - val_mean_squared_error: 2015.8228 - val_mean_absolute_error: 26.7034\n",
      "Epoch 111/150\n",
      "7670/7670 [==============================] - 1s 142us/step - loss: 776.5632 - mean_squared_error: 776.5632 - mean_absolute_error: 19.4641 - val_loss: 1947.0957 - val_mean_squared_error: 1947.0957 - val_mean_absolute_error: 26.0967\n",
      "Epoch 112/150\n",
      "7670/7670 [==============================] - 1s 145us/step - loss: 875.2123 - mean_squared_error: 875.2123 - mean_absolute_error: 20.6931 - val_loss: 1934.8821 - val_mean_squared_error: 1934.8821 - val_mean_absolute_error: 26.2523\n",
      "Epoch 113/150\n",
      "7670/7670 [==============================] - 1s 146us/step - loss: 846.5908 - mean_squared_error: 846.5908 - mean_absolute_error: 20.3710 - val_loss: 1984.3971 - val_mean_squared_error: 1984.3971 - val_mean_absolute_error: 26.5312\n",
      "Epoch 114/150\n",
      "7670/7670 [==============================] - 1s 151us/step - loss: 797.8511 - mean_squared_error: 797.8511 - mean_absolute_error: 19.7062 - val_loss: 1984.7088 - val_mean_squared_error: 1984.7088 - val_mean_absolute_error: 26.3184\n",
      "Epoch 115/150\n",
      "7670/7670 [==============================] - 1s 146us/step - loss: 785.0843 - mean_squared_error: 785.0843 - mean_absolute_error: 19.7164 - val_loss: 1923.3081 - val_mean_squared_error: 1923.3081 - val_mean_absolute_error: 25.9926\n",
      "Epoch 116/150\n",
      "7670/7670 [==============================] - 1s 142us/step - loss: 817.3799 - mean_squared_error: 817.3799 - mean_absolute_error: 20.0427 - val_loss: 1887.0512 - val_mean_squared_error: 1887.0512 - val_mean_absolute_error: 26.1626\n",
      "Epoch 117/150\n",
      "7670/7670 [==============================] - 1s 191us/step - loss: 847.8074 - mean_squared_error: 847.8074 - mean_absolute_error: 20.4574 - val_loss: 1923.5581 - val_mean_squared_error: 1923.5581 - val_mean_absolute_error: 26.5154\n",
      "Epoch 118/150\n",
      "7670/7670 [==============================] - 1s 190us/step - loss: 866.7603 - mean_squared_error: 866.7603 - mean_absolute_error: 20.5211 - val_loss: 1975.9183 - val_mean_squared_error: 1975.9183 - val_mean_absolute_error: 26.1710\n",
      "Epoch 119/150\n",
      "7670/7670 [==============================] - 1s 163us/step - loss: 777.4113 - mean_squared_error: 777.4113 - mean_absolute_error: 19.4954 - val_loss: 2053.7182 - val_mean_squared_error: 2053.7182 - val_mean_absolute_error: 27.0633\n",
      "Epoch 120/150\n",
      "7670/7670 [==============================] - 1s 180us/step - loss: 822.8524 - mean_squared_error: 822.8524 - mean_absolute_error: 19.9647 - val_loss: 2029.5156 - val_mean_squared_error: 2029.5156 - val_mean_absolute_error: 26.9272\n",
      "Epoch 121/150\n",
      "7670/7670 [==============================] - 1s 152us/step - loss: 776.4608 - mean_squared_error: 776.4608 - mean_absolute_error: 19.5850 - val_loss: 1909.2817 - val_mean_squared_error: 1909.2817 - val_mean_absolute_error: 25.8450\n",
      "Epoch 122/150\n",
      "7670/7670 [==============================] - 1s 157us/step - loss: 713.6381 - mean_squared_error: 713.6381 - mean_absolute_error: 18.6776 - val_loss: 1843.5653 - val_mean_squared_error: 1843.5653 - val_mean_absolute_error: 25.5528\n",
      "Epoch 123/150\n",
      "7670/7670 [==============================] - 1s 140us/step - loss: 756.1296 - mean_squared_error: 756.1296 - mean_absolute_error: 19.3301 - val_loss: 2041.9763 - val_mean_squared_error: 2041.9763 - val_mean_absolute_error: 26.3297\n",
      "Epoch 124/150\n",
      "7670/7670 [==============================] - 1s 148us/step - loss: 821.5469 - mean_squared_error: 821.5469 - mean_absolute_error: 20.0426 - val_loss: 1943.2529 - val_mean_squared_error: 1943.2529 - val_mean_absolute_error: 26.3417\n",
      "Epoch 125/150\n",
      "7670/7670 [==============================] - 1s 167us/step - loss: 805.2139 - mean_squared_error: 805.2139 - mean_absolute_error: 19.6003 - val_loss: 1919.4832 - val_mean_squared_error: 1919.4832 - val_mean_absolute_error: 25.6411\n",
      "Epoch 126/150\n",
      "7670/7670 [==============================] - 1s 147us/step - loss: 765.1342 - mean_squared_error: 765.1342 - mean_absolute_error: 19.3306 - val_loss: 1938.2164 - val_mean_squared_error: 1938.2164 - val_mean_absolute_error: 26.0499\n",
      "Epoch 127/150\n",
      "7670/7670 [==============================] - 2s 213us/step - loss: 781.7021 - mean_squared_error: 781.7021 - mean_absolute_error: 19.4370 - val_loss: 2171.2701 - val_mean_squared_error: 2171.2701 - val_mean_absolute_error: 27.7577\n",
      "Epoch 128/150\n",
      "7670/7670 [==============================] - 1s 167us/step - loss: 871.6139 - mean_squared_error: 871.6139 - mean_absolute_error: 20.1011 - val_loss: 1973.3368 - val_mean_squared_error: 1973.3368 - val_mean_absolute_error: 26.3397\n",
      "Epoch 129/150\n",
      "7670/7670 [==============================] - 1s 179us/step - loss: 825.4905 - mean_squared_error: 825.4905 - mean_absolute_error: 19.9295 - val_loss: 1956.8219 - val_mean_squared_error: 1956.8219 - val_mean_absolute_error: 26.2859\n",
      "Epoch 130/150\n",
      "7670/7670 [==============================] - 1s 170us/step - loss: 840.2360 - mean_squared_error: 840.2360 - mean_absolute_error: 20.1321 - val_loss: 2030.7238 - val_mean_squared_error: 2030.7238 - val_mean_absolute_error: 26.6024\n",
      "Epoch 131/150\n",
      "7670/7670 [==============================] - 1s 145us/step - loss: 770.4531 - mean_squared_error: 770.4531 - mean_absolute_error: 19.3793 - val_loss: 1915.5464 - val_mean_squared_error: 1915.5464 - val_mean_absolute_error: 25.7587\n",
      "Epoch 132/150\n",
      "7670/7670 [==============================] - 1s 151us/step - loss: 742.5987 - mean_squared_error: 742.5987 - mean_absolute_error: 19.0426 - val_loss: 1903.5734 - val_mean_squared_error: 1903.5734 - val_mean_absolute_error: 25.9426\n",
      "Epoch 133/150\n"
     ]
    },
    {
     "name": "stdout",
     "output_type": "stream",
     "text": [
      "7670/7670 [==============================] - 1s 146us/step - loss: 838.7252 - mean_squared_error: 838.7252 - mean_absolute_error: 19.9108 - val_loss: 1837.2226 - val_mean_squared_error: 1837.2226 - val_mean_absolute_error: 25.6839\n",
      "Epoch 134/150\n",
      "7670/7670 [==============================] - 1s 142us/step - loss: 815.2297 - mean_squared_error: 815.2297 - mean_absolute_error: 19.9386 - val_loss: 1821.8889 - val_mean_squared_error: 1821.8889 - val_mean_absolute_error: 25.3513\n",
      "Epoch 135/150\n",
      "7670/7670 [==============================] - 1s 150us/step - loss: 738.7435 - mean_squared_error: 738.7435 - mean_absolute_error: 19.0431 - val_loss: 2016.1973 - val_mean_squared_error: 2016.1973 - val_mean_absolute_error: 26.6945\n",
      "Epoch 136/150\n",
      "7670/7670 [==============================] - 1s 137us/step - loss: 768.2502 - mean_squared_error: 768.2502 - mean_absolute_error: 19.3778 - val_loss: 1956.4939 - val_mean_squared_error: 1956.4939 - val_mean_absolute_error: 26.5488\n",
      "Epoch 137/150\n",
      "7670/7670 [==============================] - 1s 140us/step - loss: 856.9679 - mean_squared_error: 856.9679 - mean_absolute_error: 20.3534 - val_loss: 1945.0965 - val_mean_squared_error: 1945.0965 - val_mean_absolute_error: 26.0338\n",
      "Epoch 138/150\n",
      "7670/7670 [==============================] - 1s 142us/step - loss: 737.2298 - mean_squared_error: 737.2298 - mean_absolute_error: 18.9864 - val_loss: 1932.8714 - val_mean_squared_error: 1932.8714 - val_mean_absolute_error: 26.1113\n",
      "Epoch 139/150\n",
      "7670/7670 [==============================] - 1s 137us/step - loss: 771.3328 - mean_squared_error: 771.3328 - mean_absolute_error: 19.4957 - val_loss: 1869.7122 - val_mean_squared_error: 1869.7122 - val_mean_absolute_error: 25.5582\n",
      "Epoch 140/150\n",
      "7670/7670 [==============================] - 1s 141us/step - loss: 758.9903 - mean_squared_error: 758.9903 - mean_absolute_error: 19.2173 - val_loss: 1831.0041 - val_mean_squared_error: 1831.0041 - val_mean_absolute_error: 25.5866\n",
      "Epoch 141/150\n",
      "7670/7670 [==============================] - 1s 140us/step - loss: 752.1728 - mean_squared_error: 752.1728 - mean_absolute_error: 19.3430 - val_loss: 1976.3046 - val_mean_squared_error: 1976.3046 - val_mean_absolute_error: 26.4817\n",
      "Epoch 142/150\n",
      "7670/7670 [==============================] - 1s 139us/step - loss: 741.1234 - mean_squared_error: 741.1234 - mean_absolute_error: 19.2625 - val_loss: 1823.5043 - val_mean_squared_error: 1823.5043 - val_mean_absolute_error: 25.5580\n",
      "Epoch 143/150\n",
      "7670/7670 [==============================] - 1s 137us/step - loss: 725.1566 - mean_squared_error: 725.1566 - mean_absolute_error: 18.7926 - val_loss: 1974.3201 - val_mean_squared_error: 1974.3201 - val_mean_absolute_error: 26.2192\n",
      "Epoch 144/150\n",
      "7670/7670 [==============================] - 1s 144us/step - loss: 689.1047 - mean_squared_error: 689.1047 - mean_absolute_error: 18.3854 - val_loss: 1928.6730 - val_mean_squared_error: 1928.6730 - val_mean_absolute_error: 25.8804\n",
      "Epoch 145/150\n",
      "7670/7670 [==============================] - 1s 141us/step - loss: 784.8192 - mean_squared_error: 784.8192 - mean_absolute_error: 19.4723 - val_loss: 2201.5993 - val_mean_squared_error: 2201.5993 - val_mean_absolute_error: 28.0901\n",
      "Epoch 146/150\n",
      "7670/7670 [==============================] - 1s 149us/step - loss: 735.9998 - mean_squared_error: 735.9998 - mean_absolute_error: 19.0880 - val_loss: 1953.6513 - val_mean_squared_error: 1953.6513 - val_mean_absolute_error: 26.2600\n",
      "Epoch 147/150\n",
      "7670/7670 [==============================] - 1s 155us/step - loss: 796.8775 - mean_squared_error: 796.8775 - mean_absolute_error: 19.5721 - val_loss: 2104.6454 - val_mean_squared_error: 2104.6454 - val_mean_absolute_error: 27.2398\n",
      "Epoch 148/150\n",
      "7670/7670 [==============================] - 1s 144us/step - loss: 704.8779 - mean_squared_error: 704.8779 - mean_absolute_error: 18.5783 - val_loss: 1879.1030 - val_mean_squared_error: 1879.1030 - val_mean_absolute_error: 25.6316\n",
      "Epoch 149/150\n",
      "7670/7670 [==============================] - 1s 139us/step - loss: 719.8201 - mean_squared_error: 719.8201 - mean_absolute_error: 18.8276 - val_loss: 1936.7189 - val_mean_squared_error: 1936.7189 - val_mean_absolute_error: 26.3839\n",
      "Epoch 150/150\n",
      "7670/7670 [==============================] - 1s 153us/step - loss: 775.6690 - mean_squared_error: 775.6690 - mean_absolute_error: 19.3353 - val_loss: 1936.6913 - val_mean_squared_error: 1936.6913 - val_mean_absolute_error: 26.0942\n"
     ]
    }
   ],
   "source": [
    "history_model_1 = model_Split_1.fit(X_train_model_1, y_train_model_1, epochs=100, batch_size=60,  verbose=1, validation_split=0.2)"
   ]
  },
  {
   "cell_type": "code",
   "execution_count": 56,
   "metadata": {},
   "outputs": [],
   "source": [
    "y_pred_model_1 = model_Split_1.predict(X_test_model_1)"
   ]
  },
  {
   "cell_type": "code",
   "execution_count": 57,
   "metadata": {},
   "outputs": [
    {
     "name": "stdout",
     "output_type": "stream",
     "text": [
      "RMSLE model 1: 0.397551309436881\n"
     ]
    }
   ],
   "source": [
    "print('RMSLE model 1:', np.sqrt(mean_squared_log_error(y_test_model_1, y_pred_model_1)))"
   ]
  },
  {
   "cell_type": "code",
   "execution_count": null,
   "metadata": {},
   "outputs": [],
   "source": []
  },
  {
   "cell_type": "markdown",
   "metadata": {},
   "source": [
    "#### Model 2"
   ]
  },
  {
   "cell_type": "markdown",
   "metadata": {},
   "source": [
    "Take set 1,3,4,5 for train and set 2 for test:"
   ]
  },
  {
   "cell_type": "markdown",
   "metadata": {},
   "source": [
    " `concat()` train_parts which are pandas dataFrames \n",
    " \n",
    " https://pandas.pydata.org/pandas-docs/stable/user_guide/merging.html"
   ]
  },
  {
   "cell_type": "code",
   "execution_count": 58,
   "metadata": {},
   "outputs": [],
   "source": [
    "temp2 = [train_part_1, train_part_3, train_part_4, train_part_5]\n",
    "train_model_2 = pd.concat(temp2)\n",
    "\n",
    "temp2 = [train_part_2]\n",
    "test_model_2 = pd.concat(temp2)"
   ]
  },
  {
   "cell_type": "code",
   "execution_count": 59,
   "metadata": {},
   "outputs": [],
   "source": [
    "y_train_model_2 = train_model_2['count']\n",
    "X_train_model_2 = train_model_2[['temp', 'humidity','season_1','season_2','season_3','season_4','year_0','year_1','month_1','month_2','month_3','month_4','month_5','month_6','month_7','month_8','month_9','month_10','month_11','month_12','hour_0','hour_1','hour_2','hour_3','hour_4','hour_5','hour_6','hour_7','hour_8','hour_9','hour_10','hour_11','hour_12','hour_13','hour_14','hour_15','hour_16','hour_17','hour_18','hour_19','hour_20','hour_21','hour_22','hour_23','weekday_0','weekday_1','weekday_2','weekday_3','weekday_4','weekday_5','weekday_6','weather_1','weather_2','weather_3','holiday_0','holiday_1']]"
   ]
  },
  {
   "cell_type": "code",
   "execution_count": 60,
   "metadata": {},
   "outputs": [],
   "source": [
    "y_test_model_2 = test_model_2['count']\n",
    "X_test_model_2 = test_model_2[['temp', 'humidity','season_1','season_2','season_3','season_4','year_0','year_1','month_1','month_2','month_3','month_4','month_5','month_6','month_7','month_8','month_9','month_10','month_11','month_12','hour_0','hour_1','hour_2','hour_3','hour_4','hour_5','hour_6','hour_7','hour_8','hour_9','hour_10','hour_11','hour_12','hour_13','hour_14','hour_15','hour_16','hour_17','hour_18','hour_19','hour_20','hour_21','hour_22','hour_23','weekday_0','weekday_1','weekday_2','weekday_3','weekday_4','weekday_5','weekday_6','weather_1','weather_2','weather_3','holiday_0','holiday_1']]"
   ]
  },
  {
   "cell_type": "code",
   "execution_count": null,
   "metadata": {},
   "outputs": [],
   "source": []
  },
  {
   "cell_type": "code",
   "execution_count": 61,
   "metadata": {},
   "outputs": [
    {
     "data": {
      "text/plain": [
       "(9588, 56)"
      ]
     },
     "execution_count": 61,
     "metadata": {},
     "output_type": "execute_result"
    }
   ],
   "source": [
    "X_train_model_2.shape"
   ]
  },
  {
   "cell_type": "markdown",
   "metadata": {},
   "source": [
    "Make neurotic shape:"
   ]
  },
  {
   "cell_type": "code",
   "execution_count": 62,
   "metadata": {},
   "outputs": [
    {
     "name": "stdout",
     "output_type": "stream",
     "text": [
      "_________________________________________________________________\n",
      "Layer (type)                 Output Shape              Param #   \n",
      "=================================================================\n",
      "dense_11 (Dense)             (None, 120)               6720      \n",
      "_________________________________________________________________\n",
      "batch_normalization_9 (Batch (None, 120)               480       \n",
      "_________________________________________________________________\n",
      "activation_9 (Activation)    (None, 120)               0         \n",
      "_________________________________________________________________\n",
      "gaussian_noise_2 (GaussianNo (None, 120)               0         \n",
      "_________________________________________________________________\n",
      "dropout_2 (Dropout)          (None, 120)               0         \n",
      "_________________________________________________________________\n",
      "dense_12 (Dense)             (None, 80)                9600      \n",
      "_________________________________________________________________\n",
      "batch_normalization_10 (Batc (None, 80)                320       \n",
      "_________________________________________________________________\n",
      "activation_10 (Activation)   (None, 80)                0         \n",
      "_________________________________________________________________\n",
      "dense_13 (Dense)             (None, 40)                3200      \n",
      "_________________________________________________________________\n",
      "batch_normalization_11 (Batc (None, 40)                160       \n",
      "_________________________________________________________________\n",
      "activation_11 (Activation)   (None, 40)                0         \n",
      "_________________________________________________________________\n",
      "dense_14 (Dense)             (None, 12)                480       \n",
      "_________________________________________________________________\n",
      "batch_normalization_12 (Batc (None, 12)                48        \n",
      "_________________________________________________________________\n",
      "activation_12 (Activation)   (None, 12)                0         \n",
      "_________________________________________________________________\n",
      "dense_15 (Dense)             (None, 1)                 13        \n",
      "=================================================================\n",
      "Total params: 21,021\n",
      "Trainable params: 20,517\n",
      "Non-trainable params: 504\n",
      "_________________________________________________________________\n"
     ]
    }
   ],
   "source": [
    "model_Split_2 = Sequential()\n",
    "#model.add(Dense(120, input_dim=35, kernel_initializer='normal', activation='relu'))\n",
    "\n",
    "#model.add(GaussianNoise(0.01, input_shape=(59,)))\n",
    "#model.add(Dense(120, activation='relu'))\n",
    "\n",
    "model_Split_2.add(Dense(120, input_dim=56, kernel_initializer=RandomNormal(mean=0.0, stddev=0.05, seed=12), use_bias = False))\n",
    "model_Split_2.add(BatchNormalization())\n",
    "model_Split_2.add(Activation('relu'))\n",
    "model_Split_2.add(GaussianNoise(0.01))\n",
    "model_Split_2.add(Dropout(0.01))\n",
    "\n",
    "model_Split_2.add(Dense(80, use_bias = False))\n",
    "model_Split_2.add(BatchNormalization())\n",
    "model_Split_2.add(Activation('relu'))\n",
    "\n",
    "#model.add(Dropout(0.1))\n",
    "\n",
    "model_Split_2.add(Dense(40, use_bias = False))\n",
    "model_Split_2.add(BatchNormalization())\n",
    "model_Split_2.add(Activation('relu'))\n",
    "\n",
    "model_Split_2.add(Dense(12, use_bias = False))\n",
    "model_Split_2.add(BatchNormalization())\n",
    "model_Split_2.add(Activation('relu'))\n",
    "\n",
    "model_Split_2.add(Dense(1, activation='relu'))\n",
    "model_Split_2.summary()"
   ]
  },
  {
   "cell_type": "code",
   "execution_count": 63,
   "metadata": {},
   "outputs": [],
   "source": [
    "model_Split_2.compile(loss='mse', optimizer=Adam(lr= 0.008), metrics=['mse','mae'])"
   ]
  },
  {
   "cell_type": "code",
   "execution_count": null,
   "metadata": {},
   "outputs": [],
   "source": []
  },
  {
   "cell_type": "code",
   "execution_count": 64,
   "metadata": {
    "scrolled": true
   },
   "outputs": [
    {
     "name": "stdout",
     "output_type": "stream",
     "text": [
      "Train on 7670 samples, validate on 1918 samples\n",
      "Epoch 1/150\n",
      "7670/7670 [==============================] - 4s 576us/step - loss: 53616.4107 - mean_squared_error: 53616.4107 - mean_absolute_error: 171.3133 - val_loss: 29092.8613 - val_mean_squared_error: 29092.8613 - val_mean_absolute_error: 129.3838\n",
      "Epoch 2/150\n",
      "7670/7670 [==============================] - 1s 146us/step - loss: 27728.0367 - mean_squared_error: 27728.0367 - mean_absolute_error: 122.5367 - val_loss: 5714.9381 - val_mean_squared_error: 5714.9381 - val_mean_absolute_error: 55.0134\n",
      "Epoch 3/150\n",
      "7670/7670 [==============================] - 1s 141us/step - loss: 6977.0180 - mean_squared_error: 6977.0180 - mean_absolute_error: 59.0544 - val_loss: 5444.8009 - val_mean_squared_error: 5444.8009 - val_mean_absolute_error: 48.4722\n",
      "Epoch 4/150\n",
      "7670/7670 [==============================] - 1s 142us/step - loss: 3117.7950 - mean_squared_error: 3117.7950 - mean_absolute_error: 38.1369 - val_loss: 2898.2022 - val_mean_squared_error: 2898.2022 - val_mean_absolute_error: 36.2939\n",
      "Epoch 5/150\n",
      "7670/7670 [==============================] - 1s 142us/step - loss: 2770.1939 - mean_squared_error: 2770.1939 - mean_absolute_error: 35.3476 - val_loss: 2316.1380 - val_mean_squared_error: 2316.1380 - val_mean_absolute_error: 31.0223\n",
      "Epoch 6/150\n",
      "7670/7670 [==============================] - 1s 141us/step - loss: 2456.6335 - mean_squared_error: 2456.6335 - mean_absolute_error: 33.3547 - val_loss: 2147.1012 - val_mean_squared_error: 2147.1012 - val_mean_absolute_error: 29.5321\n",
      "Epoch 7/150\n",
      "7670/7670 [==============================] - 1s 135us/step - loss: 2537.8161 - mean_squared_error: 2537.8161 - mean_absolute_error: 33.9042 - val_loss: 1941.7070 - val_mean_squared_error: 1941.7070 - val_mean_absolute_error: 27.5531\n",
      "Epoch 8/150\n",
      "7670/7670 [==============================] - 1s 153us/step - loss: 2167.6074 - mean_squared_error: 2167.6074 - mean_absolute_error: 31.0951 - val_loss: 1986.9500 - val_mean_squared_error: 1986.9500 - val_mean_absolute_error: 27.8033\n",
      "Epoch 9/150\n",
      "7670/7670 [==============================] - 1s 143us/step - loss: 2255.1160 - mean_squared_error: 2255.1160 - mean_absolute_error: 31.5351 - val_loss: 2157.9391 - val_mean_squared_error: 2157.9391 - val_mean_absolute_error: 28.2952\n",
      "Epoch 10/150\n",
      "7670/7670 [==============================] - 1s 144us/step - loss: 2090.6339 - mean_squared_error: 2090.6339 - mean_absolute_error: 30.8279 - val_loss: 2245.8383 - val_mean_squared_error: 2245.8383 - val_mean_absolute_error: 29.2887\n",
      "Epoch 11/150\n",
      "7670/7670 [==============================] - 1s 147us/step - loss: 1931.3787 - mean_squared_error: 1931.3787 - mean_absolute_error: 29.1438 - val_loss: 2003.1388 - val_mean_squared_error: 2003.1388 - val_mean_absolute_error: 27.9172\n",
      "Epoch 12/150\n",
      "7670/7670 [==============================] - 1s 165us/step - loss: 2017.0116 - mean_squared_error: 2017.0116 - mean_absolute_error: 30.0330 - val_loss: 2951.1040 - val_mean_squared_error: 2951.1040 - val_mean_absolute_error: 33.9654\n",
      "Epoch 13/150\n",
      "7670/7670 [==============================] - 1s 143us/step - loss: 1900.4383 - mean_squared_error: 1900.4383 - mean_absolute_error: 29.5690 - val_loss: 1959.3791 - val_mean_squared_error: 1959.3791 - val_mean_absolute_error: 27.1459\n",
      "Epoch 14/150\n",
      "7670/7670 [==============================] - 1s 142us/step - loss: 1915.6504 - mean_squared_error: 1915.6504 - mean_absolute_error: 29.5722 - val_loss: 2093.0821 - val_mean_squared_error: 2093.0821 - val_mean_absolute_error: 28.1899\n",
      "Epoch 15/150\n",
      "7670/7670 [==============================] - 1s 143us/step - loss: 1892.5106 - mean_squared_error: 1892.5106 - mean_absolute_error: 29.0632 - val_loss: 2046.5397 - val_mean_squared_error: 2046.5397 - val_mean_absolute_error: 27.8992\n",
      "Epoch 16/150\n",
      "7670/7670 [==============================] - 1s 143us/step - loss: 1710.5111 - mean_squared_error: 1710.5111 - mean_absolute_error: 27.9450 - val_loss: 1859.9648 - val_mean_squared_error: 1859.9648 - val_mean_absolute_error: 26.5600\n",
      "Epoch 17/150\n",
      "7670/7670 [==============================] - 1s 174us/step - loss: 1787.0162 - mean_squared_error: 1787.0162 - mean_absolute_error: 28.4948 - val_loss: 2427.3476 - val_mean_squared_error: 2427.3476 - val_mean_absolute_error: 30.3413\n",
      "Epoch 18/150\n",
      "7670/7670 [==============================] - 2s 231us/step - loss: 1845.5857 - mean_squared_error: 1845.5857 - mean_absolute_error: 28.8761 - val_loss: 1929.5343 - val_mean_squared_error: 1929.5343 - val_mean_absolute_error: 27.4944\n",
      "Epoch 19/150\n",
      "7670/7670 [==============================] - 1s 181us/step - loss: 1718.8942 - mean_squared_error: 1718.8942 - mean_absolute_error: 27.9428 - val_loss: 1828.1264 - val_mean_squared_error: 1828.1264 - val_mean_absolute_error: 25.9576\n",
      "Epoch 20/150\n",
      "7670/7670 [==============================] - 1s 173us/step - loss: 1781.5960 - mean_squared_error: 1781.5960 - mean_absolute_error: 28.4358 - val_loss: 1976.0118 - val_mean_squared_error: 1976.0118 - val_mean_absolute_error: 27.2981\n",
      "Epoch 21/150\n",
      "7670/7670 [==============================] - 1s 181us/step - loss: 1566.4542 - mean_squared_error: 1566.4542 - mean_absolute_error: 26.8077 - val_loss: 1854.9206 - val_mean_squared_error: 1854.9206 - val_mean_absolute_error: 25.8441\n",
      "Epoch 22/150\n",
      "7670/7670 [==============================] - 1s 149us/step - loss: 1696.1617 - mean_squared_error: 1696.1617 - mean_absolute_error: 27.7492 - val_loss: 2032.6963 - val_mean_squared_error: 2032.6963 - val_mean_absolute_error: 27.5688\n",
      "Epoch 23/150\n",
      "7670/7670 [==============================] - 1s 148us/step - loss: 1535.0135 - mean_squared_error: 1535.0135 - mean_absolute_error: 26.2902 - val_loss: 1848.9187 - val_mean_squared_error: 1848.9187 - val_mean_absolute_error: 26.7443\n",
      "Epoch 24/150\n",
      "7670/7670 [==============================] - 1s 146us/step - loss: 1709.5743 - mean_squared_error: 1709.5743 - mean_absolute_error: 27.8568 - val_loss: 1922.8249 - val_mean_squared_error: 1922.8249 - val_mean_absolute_error: 26.3595\n",
      "Epoch 25/150\n",
      "7670/7670 [==============================] - 1s 152us/step - loss: 1557.7191 - mean_squared_error: 1557.7191 - mean_absolute_error: 26.7728 - val_loss: 1990.7401 - val_mean_squared_error: 1990.7401 - val_mean_absolute_error: 27.5863\n",
      "Epoch 26/150\n",
      "7670/7670 [==============================] - 1s 145us/step - loss: 1647.7749 - mean_squared_error: 1647.7749 - mean_absolute_error: 27.5697 - val_loss: 1726.5634 - val_mean_squared_error: 1726.5634 - val_mean_absolute_error: 25.0506\n",
      "Epoch 27/150\n",
      "7670/7670 [==============================] - 1s 145us/step - loss: 1503.2743 - mean_squared_error: 1503.2743 - mean_absolute_error: 25.9257 - val_loss: 1870.4130 - val_mean_squared_error: 1870.4130 - val_mean_absolute_error: 26.3976\n",
      "Epoch 28/150\n",
      "7670/7670 [==============================] - 1s 189us/step - loss: 1464.3077 - mean_squared_error: 1464.3077 - mean_absolute_error: 26.0509 - val_loss: 1802.9850 - val_mean_squared_error: 1802.9850 - val_mean_absolute_error: 25.3321\n",
      "Epoch 29/150\n",
      "7670/7670 [==============================] - 1s 172us/step - loss: 1499.9396 - mean_squared_error: 1499.9396 - mean_absolute_error: 26.2418 - val_loss: 2496.9243 - val_mean_squared_error: 2496.9243 - val_mean_absolute_error: 31.1734\n",
      "Epoch 30/150\n",
      "7670/7670 [==============================] - 1s 178us/step - loss: 1618.4713 - mean_squared_error: 1618.4713 - mean_absolute_error: 27.6362 - val_loss: 2112.7148 - val_mean_squared_error: 2112.7148 - val_mean_absolute_error: 28.2656\n",
      "Epoch 31/150\n",
      "7670/7670 [==============================] - 1s 169us/step - loss: 1507.3201 - mean_squared_error: 1507.3201 - mean_absolute_error: 26.5539 - val_loss: 2231.6544 - val_mean_squared_error: 2231.6544 - val_mean_absolute_error: 28.8356\n",
      "Epoch 32/150\n",
      "7670/7670 [==============================] - 1s 153us/step - loss: 1460.8596 - mean_squared_error: 1460.8596 - mean_absolute_error: 26.0325 - val_loss: 1776.3143 - val_mean_squared_error: 1776.3143 - val_mean_absolute_error: 25.7721\n",
      "Epoch 33/150\n",
      "7670/7670 [==============================] - 1s 149us/step - loss: 1634.7407 - mean_squared_error: 1634.7407 - mean_absolute_error: 27.9509 - val_loss: 1787.3983 - val_mean_squared_error: 1787.3983 - val_mean_absolute_error: 25.9226\n",
      "Epoch 34/150\n"
     ]
    },
    {
     "name": "stdout",
     "output_type": "stream",
     "text": [
      "7670/7670 [==============================] - 1s 145us/step - loss: 1381.2984 - mean_squared_error: 1381.2984 - mean_absolute_error: 25.6564 - val_loss: 1946.4919 - val_mean_squared_error: 1946.4919 - val_mean_absolute_error: 26.2812\n",
      "Epoch 35/150\n",
      "7670/7670 [==============================] - 1s 144us/step - loss: 1354.5435 - mean_squared_error: 1354.5435 - mean_absolute_error: 25.1614 - val_loss: 1898.1650 - val_mean_squared_error: 1898.1650 - val_mean_absolute_error: 26.2368\n",
      "Epoch 36/150\n",
      "7670/7670 [==============================] - 1s 143us/step - loss: 1450.0407 - mean_squared_error: 1450.0407 - mean_absolute_error: 26.2546 - val_loss: 1819.8653 - val_mean_squared_error: 1819.8653 - val_mean_absolute_error: 25.1085\n",
      "Epoch 37/150\n",
      "7670/7670 [==============================] - 1s 143us/step - loss: 1464.9307 - mean_squared_error: 1464.9307 - mean_absolute_error: 26.0554 - val_loss: 1850.4502 - val_mean_squared_error: 1850.4502 - val_mean_absolute_error: 27.0297\n",
      "Epoch 38/150\n",
      "7670/7670 [==============================] - 2s 234us/step - loss: 1270.4572 - mean_squared_error: 1270.4572 - mean_absolute_error: 24.2854 - val_loss: 2518.2773 - val_mean_squared_error: 2518.2773 - val_mean_absolute_error: 30.6837\n",
      "Epoch 39/150\n",
      "7670/7670 [==============================] - 2s 227us/step - loss: 1315.3868 - mean_squared_error: 1315.3868 - mean_absolute_error: 24.9263 - val_loss: 2176.9252 - val_mean_squared_error: 2176.9252 - val_mean_absolute_error: 28.4850\n",
      "Epoch 40/150\n",
      "7670/7670 [==============================] - 1s 167us/step - loss: 1327.1557 - mean_squared_error: 1327.1557 - mean_absolute_error: 24.9422 - val_loss: 1824.7741 - val_mean_squared_error: 1824.7741 - val_mean_absolute_error: 25.7246\n",
      "Epoch 41/150\n",
      "7670/7670 [==============================] - 1s 148us/step - loss: 1200.4274 - mean_squared_error: 1200.4274 - mean_absolute_error: 23.6024 - val_loss: 2120.5287 - val_mean_squared_error: 2120.5287 - val_mean_absolute_error: 28.1703\n",
      "Epoch 42/150\n",
      "7670/7670 [==============================] - 1s 143us/step - loss: 1234.2599 - mean_squared_error: 1234.2599 - mean_absolute_error: 24.0977 - val_loss: 1811.9277 - val_mean_squared_error: 1811.9277 - val_mean_absolute_error: 25.8875\n",
      "Epoch 43/150\n",
      "7670/7670 [==============================] - 1s 147us/step - loss: 1208.9578 - mean_squared_error: 1208.9578 - mean_absolute_error: 23.8863 - val_loss: 1938.6491 - val_mean_squared_error: 1938.6491 - val_mean_absolute_error: 26.5225\n",
      "Epoch 44/150\n",
      "7670/7670 [==============================] - 1s 145us/step - loss: 1272.5650 - mean_squared_error: 1272.5650 - mean_absolute_error: 24.5355 - val_loss: 1930.5710 - val_mean_squared_error: 1930.5710 - val_mean_absolute_error: 26.4442\n",
      "Epoch 45/150\n",
      "7670/7670 [==============================] - 1s 141us/step - loss: 1128.3702 - mean_squared_error: 1128.3702 - mean_absolute_error: 23.1878 - val_loss: 1872.8567 - val_mean_squared_error: 1872.8567 - val_mean_absolute_error: 26.0849\n",
      "Epoch 46/150\n",
      "7670/7670 [==============================] - 1s 143us/step - loss: 1221.0060 - mean_squared_error: 1221.0060 - mean_absolute_error: 24.2890 - val_loss: 2380.8214 - val_mean_squared_error: 2380.8214 - val_mean_absolute_error: 30.2975\n",
      "Epoch 47/150\n",
      "7670/7670 [==============================] - 1s 142us/step - loss: 1309.9862 - mean_squared_error: 1309.9862 - mean_absolute_error: 24.9054 - val_loss: 1819.2196 - val_mean_squared_error: 1819.2196 - val_mean_absolute_error: 25.3698\n",
      "Epoch 48/150\n",
      "7670/7670 [==============================] - 1s 142us/step - loss: 1335.0661 - mean_squared_error: 1335.0661 - mean_absolute_error: 25.1307 - val_loss: 1953.5299 - val_mean_squared_error: 1953.5299 - val_mean_absolute_error: 26.2243\n",
      "Epoch 49/150\n",
      "7670/7670 [==============================] - 1s 145us/step - loss: 1151.1897 - mean_squared_error: 1151.1897 - mean_absolute_error: 23.3548 - val_loss: 1881.3518 - val_mean_squared_error: 1881.3518 - val_mean_absolute_error: 25.9269\n",
      "Epoch 50/150\n",
      "7670/7670 [==============================] - 1s 147us/step - loss: 1137.8629 - mean_squared_error: 1137.8629 - mean_absolute_error: 23.0572 - val_loss: 1765.0180 - val_mean_squared_error: 1765.0180 - val_mean_absolute_error: 24.9911\n",
      "Epoch 51/150\n",
      "7670/7670 [==============================] - 1s 144us/step - loss: 1197.0621 - mean_squared_error: 1197.0621 - mean_absolute_error: 23.9440 - val_loss: 1853.0975 - val_mean_squared_error: 1853.0975 - val_mean_absolute_error: 25.8313\n",
      "Epoch 52/150\n",
      "7670/7670 [==============================] - 1s 146us/step - loss: 1068.7686 - mean_squared_error: 1068.7686 - mean_absolute_error: 22.3843 - val_loss: 1801.0775 - val_mean_squared_error: 1801.0775 - val_mean_absolute_error: 25.2718\n",
      "Epoch 53/150\n",
      "7670/7670 [==============================] - 1s 184us/step - loss: 1147.0876 - mean_squared_error: 1147.0876 - mean_absolute_error: 23.1799 - val_loss: 2666.6090 - val_mean_squared_error: 2666.6090 - val_mean_absolute_error: 31.9333\n",
      "Epoch 54/150\n",
      "7670/7670 [==============================] - 2s 247us/step - loss: 1151.7758 - mean_squared_error: 1151.7758 - mean_absolute_error: 23.6609 - val_loss: 1846.6622 - val_mean_squared_error: 1846.6622 - val_mean_absolute_error: 25.5794\n",
      "Epoch 55/150\n",
      "7670/7670 [==============================] - 2s 256us/step - loss: 1140.4428 - mean_squared_error: 1140.4428 - mean_absolute_error: 23.3116 - val_loss: 1769.7012 - val_mean_squared_error: 1769.7012 - val_mean_absolute_error: 25.1267\n",
      "Epoch 56/150\n",
      "7670/7670 [==============================] - 2s 201us/step - loss: 1234.1929 - mean_squared_error: 1234.1929 - mean_absolute_error: 24.4643 - val_loss: 2094.0671 - val_mean_squared_error: 2094.0671 - val_mean_absolute_error: 27.7213\n",
      "Epoch 57/150\n",
      "7670/7670 [==============================] - 1s 178us/step - loss: 1060.0062 - mean_squared_error: 1060.0062 - mean_absolute_error: 22.5507 - val_loss: 1770.7429 - val_mean_squared_error: 1770.7429 - val_mean_absolute_error: 25.3605\n",
      "Epoch 58/150\n",
      "7670/7670 [==============================] - 1s 193us/step - loss: 1127.9567 - mean_squared_error: 1127.9567 - mean_absolute_error: 23.1549 - val_loss: 1824.3685 - val_mean_squared_error: 1824.3685 - val_mean_absolute_error: 25.8454\n",
      "Epoch 59/150\n",
      "7670/7670 [==============================] - 1s 164us/step - loss: 1084.0051 - mean_squared_error: 1084.0051 - mean_absolute_error: 22.7273 - val_loss: 1763.2583 - val_mean_squared_error: 1763.2583 - val_mean_absolute_error: 25.2917\n",
      "Epoch 60/150\n",
      "7670/7670 [==============================] - 1s 185us/step - loss: 1153.1274 - mean_squared_error: 1153.1274 - mean_absolute_error: 23.2487 - val_loss: 1782.6872 - val_mean_squared_error: 1782.6872 - val_mean_absolute_error: 25.2319\n",
      "Epoch 61/150\n",
      "7670/7670 [==============================] - 2s 206us/step - loss: 1119.4247 - mean_squared_error: 1119.4247 - mean_absolute_error: 23.0912 - val_loss: 1817.1285 - val_mean_squared_error: 1817.1285 - val_mean_absolute_error: 25.7094\n",
      "Epoch 62/150\n",
      "7670/7670 [==============================] - 2s 203us/step - loss: 1060.7722 - mean_squared_error: 1060.7722 - mean_absolute_error: 22.3944 - val_loss: 1815.2536 - val_mean_squared_error: 1815.2536 - val_mean_absolute_error: 25.1130\n",
      "Epoch 63/150\n",
      "7670/7670 [==============================] - 1s 173us/step - loss: 1018.9718 - mean_squared_error: 1018.9718 - mean_absolute_error: 21.8480 - val_loss: 1927.7248 - val_mean_squared_error: 1927.7248 - val_mean_absolute_error: 26.1838\n",
      "Epoch 64/150\n",
      "7670/7670 [==============================] - 1s 187us/step - loss: 1098.4286 - mean_squared_error: 1098.4286 - mean_absolute_error: 22.7466 - val_loss: 2110.7991 - val_mean_squared_error: 2110.7991 - val_mean_absolute_error: 27.7283\n",
      "Epoch 65/150\n",
      "7670/7670 [==============================] - 1s 182us/step - loss: 1203.6563 - mean_squared_error: 1203.6563 - mean_absolute_error: 23.5818 - val_loss: 1934.2156 - val_mean_squared_error: 1934.2156 - val_mean_absolute_error: 26.3659\n",
      "Epoch 66/150\n",
      "7670/7670 [==============================] - 1s 178us/step - loss: 1039.3649 - mean_squared_error: 1039.3649 - mean_absolute_error: 22.1825 - val_loss: 1850.2177 - val_mean_squared_error: 1850.2177 - val_mean_absolute_error: 25.8332\n",
      "Epoch 67/150\n"
     ]
    },
    {
     "name": "stdout",
     "output_type": "stream",
     "text": [
      "7670/7670 [==============================] - 2s 237us/step - loss: 1063.0652 - mean_squared_error: 1063.0652 - mean_absolute_error: 22.3117 - val_loss: 1995.0578 - val_mean_squared_error: 1995.0578 - val_mean_absolute_error: 27.3148\n",
      "Epoch 68/150\n",
      "7670/7670 [==============================] - 2s 211us/step - loss: 1044.1875 - mean_squared_error: 1044.1875 - mean_absolute_error: 22.1983 - val_loss: 1862.5345 - val_mean_squared_error: 1862.5345 - val_mean_absolute_error: 25.9134\n",
      "Epoch 69/150\n",
      "7670/7670 [==============================] - 2s 226us/step - loss: 951.3464 - mean_squared_error: 951.3464 - mean_absolute_error: 21.3305 - val_loss: 1750.8109 - val_mean_squared_error: 1750.8109 - val_mean_absolute_error: 24.8425\n",
      "Epoch 70/150\n",
      "7670/7670 [==============================] - 2s 201us/step - loss: 1172.6642 - mean_squared_error: 1172.6642 - mean_absolute_error: 23.7784 - val_loss: 1796.3364 - val_mean_squared_error: 1796.3364 - val_mean_absolute_error: 25.3295\n",
      "Epoch 71/150\n",
      "7670/7670 [==============================] - 1s 182us/step - loss: 1022.2007 - mean_squared_error: 1022.2007 - mean_absolute_error: 21.9357 - val_loss: 2207.9213 - val_mean_squared_error: 2207.9213 - val_mean_absolute_error: 28.7520\n",
      "Epoch 72/150\n",
      "7670/7670 [==============================] - 1s 167us/step - loss: 1022.5327 - mean_squared_error: 1022.5327 - mean_absolute_error: 21.8925 - val_loss: 1831.0870 - val_mean_squared_error: 1831.0870 - val_mean_absolute_error: 25.7003\n",
      "Epoch 73/150\n",
      "7670/7670 [==============================] - 1s 164us/step - loss: 1028.2639 - mean_squared_error: 1028.2639 - mean_absolute_error: 22.1767 - val_loss: 1996.9776 - val_mean_squared_error: 1996.9776 - val_mean_absolute_error: 26.9476\n",
      "Epoch 74/150\n",
      "7670/7670 [==============================] - 1s 162us/step - loss: 1078.1029 - mean_squared_error: 1078.1029 - mean_absolute_error: 22.6365 - val_loss: 2026.7663 - val_mean_squared_error: 2026.7663 - val_mean_absolute_error: 26.8266\n",
      "Epoch 75/150\n",
      "7670/7670 [==============================] - 2s 213us/step - loss: 1007.3229 - mean_squared_error: 1007.3229 - mean_absolute_error: 21.8164 - val_loss: 1863.6958 - val_mean_squared_error: 1863.6958 - val_mean_absolute_error: 25.8021\n",
      "Epoch 76/150\n",
      "7670/7670 [==============================] - 1s 186us/step - loss: 1016.6548 - mean_squared_error: 1016.6548 - mean_absolute_error: 21.9493 - val_loss: 1777.0011 - val_mean_squared_error: 1777.0011 - val_mean_absolute_error: 25.1440\n",
      "Epoch 77/150\n",
      "7670/7670 [==============================] - 1s 189us/step - loss: 951.2310 - mean_squared_error: 951.2310 - mean_absolute_error: 21.1939 - val_loss: 1764.0010 - val_mean_squared_error: 1764.0010 - val_mean_absolute_error: 25.0951\n",
      "Epoch 78/150\n",
      "7670/7670 [==============================] - 1s 188us/step - loss: 955.4506 - mean_squared_error: 955.4506 - mean_absolute_error: 21.3974 - val_loss: 1765.9407 - val_mean_squared_error: 1765.9407 - val_mean_absolute_error: 25.2358\n",
      "Epoch 79/150\n",
      "7670/7670 [==============================] - 2s 199us/step - loss: 982.2211 - mean_squared_error: 982.2211 - mean_absolute_error: 21.5382 - val_loss: 1807.2360 - val_mean_squared_error: 1807.2360 - val_mean_absolute_error: 25.6264\n",
      "Epoch 80/150\n",
      "7670/7670 [==============================] - 1s 172us/step - loss: 1044.1571 - mean_squared_error: 1044.1571 - mean_absolute_error: 22.0895 - val_loss: 2016.5501 - val_mean_squared_error: 2016.5501 - val_mean_absolute_error: 26.9749\n",
      "Epoch 81/150\n",
      "7670/7670 [==============================] - 1s 194us/step - loss: 946.2860 - mean_squared_error: 946.2860 - mean_absolute_error: 21.0951 - val_loss: 2120.0786 - val_mean_squared_error: 2120.0786 - val_mean_absolute_error: 27.4454\n",
      "Epoch 82/150\n",
      "7670/7670 [==============================] - 1s 167us/step - loss: 917.5384 - mean_squared_error: 917.5384 - mean_absolute_error: 20.6013 - val_loss: 1880.0062 - val_mean_squared_error: 1880.0062 - val_mean_absolute_error: 25.5137\n",
      "Epoch 83/150\n",
      "7670/7670 [==============================] - 1s 182us/step - loss: 986.5527 - mean_squared_error: 986.5527 - mean_absolute_error: 21.5907 - val_loss: 1881.3966 - val_mean_squared_error: 1881.3966 - val_mean_absolute_error: 26.0334\n",
      "Epoch 84/150\n",
      "7670/7670 [==============================] - 1s 182us/step - loss: 963.3291 - mean_squared_error: 963.3291 - mean_absolute_error: 21.6305 - val_loss: 1900.7844 - val_mean_squared_error: 1900.7844 - val_mean_absolute_error: 26.3739\n",
      "Epoch 85/150\n",
      "7670/7670 [==============================] - 1s 170us/step - loss: 953.4911 - mean_squared_error: 953.4911 - mean_absolute_error: 21.0988 - val_loss: 1969.2421 - val_mean_squared_error: 1969.2421 - val_mean_absolute_error: 26.5051\n",
      "Epoch 86/150\n",
      "7670/7670 [==============================] - 1s 190us/step - loss: 951.7057 - mean_squared_error: 951.7057 - mean_absolute_error: 21.2560 - val_loss: 2227.1331 - val_mean_squared_error: 2227.1331 - val_mean_absolute_error: 29.1219\n",
      "Epoch 87/150\n",
      "7670/7670 [==============================] - 1s 186us/step - loss: 1078.2865 - mean_squared_error: 1078.2865 - mean_absolute_error: 22.6026 - val_loss: 1917.4994 - val_mean_squared_error: 1917.4994 - val_mean_absolute_error: 26.9241\n",
      "Epoch 88/150\n",
      "7670/7670 [==============================] - 1s 183us/step - loss: 919.5175 - mean_squared_error: 919.5175 - mean_absolute_error: 20.8769 - val_loss: 1952.7743 - val_mean_squared_error: 1952.7743 - val_mean_absolute_error: 26.4793\n",
      "Epoch 89/150\n",
      "7670/7670 [==============================] - 1s 195us/step - loss: 955.4992 - mean_squared_error: 955.4992 - mean_absolute_error: 21.3355 - val_loss: 2377.2854 - val_mean_squared_error: 2377.2854 - val_mean_absolute_error: 30.4887\n",
      "Epoch 90/150\n",
      "7670/7670 [==============================] - 1s 188us/step - loss: 1001.7226 - mean_squared_error: 1001.7226 - mean_absolute_error: 21.6185 - val_loss: 1930.5255 - val_mean_squared_error: 1930.5255 - val_mean_absolute_error: 26.4325\n",
      "Epoch 91/150\n",
      "7670/7670 [==============================] - 2s 196us/step - loss: 1039.0524 - mean_squared_error: 1039.0524 - mean_absolute_error: 22.1600 - val_loss: 1891.8747 - val_mean_squared_error: 1891.8747 - val_mean_absolute_error: 26.1901\n",
      "Epoch 92/150\n",
      "7670/7670 [==============================] - 1s 182us/step - loss: 918.2512 - mean_squared_error: 918.2512 - mean_absolute_error: 21.0493 - val_loss: 1914.8382 - val_mean_squared_error: 1914.8382 - val_mean_absolute_error: 26.0303\n",
      "Epoch 93/150\n",
      "7670/7670 [==============================] - 2s 198us/step - loss: 904.3984 - mean_squared_error: 904.3984 - mean_absolute_error: 20.7255 - val_loss: 1824.9738 - val_mean_squared_error: 1824.9738 - val_mean_absolute_error: 25.4709\n",
      "Epoch 94/150\n",
      "7670/7670 [==============================] - 1s 177us/step - loss: 954.7132 - mean_squared_error: 954.7132 - mean_absolute_error: 21.4854 - val_loss: 2231.8769 - val_mean_squared_error: 2231.8769 - val_mean_absolute_error: 28.3469\n",
      "Epoch 95/150\n",
      "7670/7670 [==============================] - 1s 187us/step - loss: 928.2953 - mean_squared_error: 928.2953 - mean_absolute_error: 20.8831 - val_loss: 1824.8458 - val_mean_squared_error: 1824.8458 - val_mean_absolute_error: 25.6797\n",
      "Epoch 96/150\n",
      "7670/7670 [==============================] - 1s 170us/step - loss: 908.6359 - mean_squared_error: 908.6359 - mean_absolute_error: 21.0144 - val_loss: 1962.6773 - val_mean_squared_error: 1962.6773 - val_mean_absolute_error: 26.5368\n",
      "Epoch 97/150\n",
      "7670/7670 [==============================] - 2s 218us/step - loss: 953.4673 - mean_squared_error: 953.4673 - mean_absolute_error: 21.0945 - val_loss: 1977.6408 - val_mean_squared_error: 1977.6408 - val_mean_absolute_error: 26.8586\n",
      "Epoch 98/150\n",
      "7670/7670 [==============================] - 1s 195us/step - loss: 946.5862 - mean_squared_error: 946.5862 - mean_absolute_error: 21.3322 - val_loss: 1885.8983 - val_mean_squared_error: 1885.8983 - val_mean_absolute_error: 26.3568\n",
      "Epoch 99/150\n",
      "7670/7670 [==============================] - 2s 218us/step - loss: 1047.5692 - mean_squared_error: 1047.5692 - mean_absolute_error: 22.1830 - val_loss: 1961.6574 - val_mean_squared_error: 1961.6574 - val_mean_absolute_error: 26.5885\n",
      "Epoch 100/150\n"
     ]
    },
    {
     "name": "stdout",
     "output_type": "stream",
     "text": [
      "7670/7670 [==============================] - 2s 199us/step - loss: 1075.1957 - mean_squared_error: 1075.1957 - mean_absolute_error: 22.4850 - val_loss: 2179.8378 - val_mean_squared_error: 2179.8378 - val_mean_absolute_error: 28.0377\n",
      "Epoch 101/150\n",
      "7670/7670 [==============================] - 1s 194us/step - loss: 919.6018 - mean_squared_error: 919.6018 - mean_absolute_error: 21.0527 - val_loss: 1886.4141 - val_mean_squared_error: 1886.4141 - val_mean_absolute_error: 25.8939\n",
      "Epoch 102/150\n",
      "7670/7670 [==============================] - 1s 186us/step - loss: 962.7369 - mean_squared_error: 962.7369 - mean_absolute_error: 21.4248 - val_loss: 1812.0666 - val_mean_squared_error: 1812.0666 - val_mean_absolute_error: 25.4165\n",
      "Epoch 103/150\n",
      "7670/7670 [==============================] - 1s 171us/step - loss: 947.0406 - mean_squared_error: 947.0406 - mean_absolute_error: 21.0760 - val_loss: 2197.8999 - val_mean_squared_error: 2197.8999 - val_mean_absolute_error: 28.3064\n",
      "Epoch 104/150\n",
      "7670/7670 [==============================] - 1s 185us/step - loss: 939.0480 - mean_squared_error: 939.0480 - mean_absolute_error: 21.0511 - val_loss: 2076.7293 - val_mean_squared_error: 2076.7293 - val_mean_absolute_error: 27.2662\n",
      "Epoch 105/150\n",
      "7670/7670 [==============================] - 2s 298us/step - loss: 883.8623 - mean_squared_error: 883.8623 - mean_absolute_error: 20.4962 - val_loss: 1790.4996 - val_mean_squared_error: 1790.4996 - val_mean_absolute_error: 25.0735\n",
      "Epoch 106/150\n",
      "7670/7670 [==============================] - 2s 223us/step - loss: 956.5174 - mean_squared_error: 956.5174 - mean_absolute_error: 20.9842 - val_loss: 1914.6874 - val_mean_squared_error: 1914.6874 - val_mean_absolute_error: 26.0487\n",
      "Epoch 107/150\n",
      "7670/7670 [==============================] - 2s 247us/step - loss: 870.0937 - mean_squared_error: 870.0937 - mean_absolute_error: 20.3730 - val_loss: 2088.6381 - val_mean_squared_error: 2088.6381 - val_mean_absolute_error: 28.0064\n",
      "Epoch 108/150\n",
      "7670/7670 [==============================] - 2s 236us/step - loss: 901.1841 - mean_squared_error: 901.1841 - mean_absolute_error: 20.9680 - val_loss: 1962.1656 - val_mean_squared_error: 1962.1656 - val_mean_absolute_error: 26.9879\n",
      "Epoch 109/150\n",
      "7670/7670 [==============================] - 2s 219us/step - loss: 853.0333 - mean_squared_error: 853.0333 - mean_absolute_error: 20.1873 - val_loss: 1834.7564 - val_mean_squared_error: 1834.7564 - val_mean_absolute_error: 25.5078\n",
      "Epoch 110/150\n",
      "7670/7670 [==============================] - 1s 171us/step - loss: 924.5097 - mean_squared_error: 924.5097 - mean_absolute_error: 20.9112 - val_loss: 1890.5324 - val_mean_squared_error: 1890.5324 - val_mean_absolute_error: 25.8739\n",
      "Epoch 111/150\n",
      "7670/7670 [==============================] - 2s 256us/step - loss: 936.9419 - mean_squared_error: 936.9419 - mean_absolute_error: 21.2883 - val_loss: 2016.2724 - val_mean_squared_error: 2016.2724 - val_mean_absolute_error: 26.6054\n",
      "Epoch 112/150\n",
      "7670/7670 [==============================] - 2s 225us/step - loss: 806.6468 - mean_squared_error: 806.6468 - mean_absolute_error: 19.9316 - val_loss: 1816.6813 - val_mean_squared_error: 1816.6813 - val_mean_absolute_error: 25.1621\n",
      "Epoch 113/150\n",
      "7670/7670 [==============================] - 2s 229us/step - loss: 876.0787 - mean_squared_error: 876.0787 - mean_absolute_error: 20.3428 - val_loss: 1802.7614 - val_mean_squared_error: 1802.7614 - val_mean_absolute_error: 25.7472\n",
      "Epoch 114/150\n",
      "7670/7670 [==============================] - 2s 228us/step - loss: 876.5556 - mean_squared_error: 876.5556 - mean_absolute_error: 20.6097 - val_loss: 1796.5352 - val_mean_squared_error: 1796.5352 - val_mean_absolute_error: 25.5829\n",
      "Epoch 115/150\n",
      "7670/7670 [==============================] - 2s 234us/step - loss: 888.7978 - mean_squared_error: 888.7978 - mean_absolute_error: 20.5772 - val_loss: 1835.1806 - val_mean_squared_error: 1835.1806 - val_mean_absolute_error: 25.6479\n",
      "Epoch 116/150\n",
      "7670/7670 [==============================] - 2s 225us/step - loss: 861.8554 - mean_squared_error: 861.8554 - mean_absolute_error: 20.1920 - val_loss: 1868.3670 - val_mean_squared_error: 1868.3670 - val_mean_absolute_error: 26.3147\n",
      "Epoch 117/150\n",
      "7670/7670 [==============================] - 2s 238us/step - loss: 953.8879 - mean_squared_error: 953.8879 - mean_absolute_error: 21.2789 - val_loss: 1781.6706 - val_mean_squared_error: 1781.6706 - val_mean_absolute_error: 25.6097\n",
      "Epoch 118/150\n",
      "7670/7670 [==============================] - 2s 226us/step - loss: 792.7178 - mean_squared_error: 792.7178 - mean_absolute_error: 19.4808 - val_loss: 1842.9284 - val_mean_squared_error: 1842.9284 - val_mean_absolute_error: 25.6407\n",
      "Epoch 119/150\n",
      "7670/7670 [==============================] - 2s 220us/step - loss: 817.2594 - mean_squared_error: 817.2594 - mean_absolute_error: 19.9193 - val_loss: 1978.6461 - val_mean_squared_error: 1978.6461 - val_mean_absolute_error: 26.2857\n",
      "Epoch 120/150\n",
      "7670/7670 [==============================] - 2s 201us/step - loss: 835.8162 - mean_squared_error: 835.8162 - mean_absolute_error: 20.0483 - val_loss: 1872.9613 - val_mean_squared_error: 1872.9613 - val_mean_absolute_error: 25.8508\n",
      "Epoch 121/150\n",
      "7670/7670 [==============================] - 2s 217us/step - loss: 899.7990 - mean_squared_error: 899.7990 - mean_absolute_error: 20.4888 - val_loss: 1996.2638 - val_mean_squared_error: 1996.2638 - val_mean_absolute_error: 26.6158\n",
      "Epoch 122/150\n",
      "7670/7670 [==============================] - 2s 205us/step - loss: 808.2047 - mean_squared_error: 808.2047 - mean_absolute_error: 19.8328 - val_loss: 2018.8244 - val_mean_squared_error: 2018.8244 - val_mean_absolute_error: 26.8942\n",
      "Epoch 123/150\n",
      "7670/7670 [==============================] - 2s 223us/step - loss: 789.0556 - mean_squared_error: 789.0556 - mean_absolute_error: 19.6849 - val_loss: 1811.3815 - val_mean_squared_error: 1811.3815 - val_mean_absolute_error: 25.2235\n",
      "Epoch 124/150\n",
      "7670/7670 [==============================] - 2s 222us/step - loss: 864.4477 - mean_squared_error: 864.4477 - mean_absolute_error: 20.0021 - val_loss: 1937.6937 - val_mean_squared_error: 1937.6937 - val_mean_absolute_error: 26.7813\n",
      "Epoch 125/150\n",
      "7670/7670 [==============================] - 2s 208us/step - loss: 819.2489 - mean_squared_error: 819.2489 - mean_absolute_error: 20.2346 - val_loss: 1914.7059 - val_mean_squared_error: 1914.7059 - val_mean_absolute_error: 26.1939\n",
      "Epoch 126/150\n",
      "7670/7670 [==============================] - 2s 234us/step - loss: 834.2944 - mean_squared_error: 834.2944 - mean_absolute_error: 19.8539 - val_loss: 1715.7585 - val_mean_squared_error: 1715.7585 - val_mean_absolute_error: 24.7712\n",
      "Epoch 127/150\n",
      "7670/7670 [==============================] - 2s 196us/step - loss: 805.3895 - mean_squared_error: 805.3895 - mean_absolute_error: 19.5165 - val_loss: 1785.4961 - val_mean_squared_error: 1785.4961 - val_mean_absolute_error: 25.1636\n",
      "Epoch 128/150\n",
      "7670/7670 [==============================] - 2s 241us/step - loss: 898.2367 - mean_squared_error: 898.2367 - mean_absolute_error: 20.6171 - val_loss: 1920.4025 - val_mean_squared_error: 1920.4025 - val_mean_absolute_error: 26.0773\n",
      "Epoch 129/150\n",
      "7670/7670 [==============================] - 2s 220us/step - loss: 905.0545 - mean_squared_error: 905.0545 - mean_absolute_error: 20.6766 - val_loss: 1865.6139 - val_mean_squared_error: 1865.6139 - val_mean_absolute_error: 26.0128\n",
      "Epoch 130/150\n",
      "7670/7670 [==============================] - 2s 249us/step - loss: 864.6435 - mean_squared_error: 864.6435 - mean_absolute_error: 20.2666 - val_loss: 1904.0164 - val_mean_squared_error: 1904.0164 - val_mean_absolute_error: 26.1894\n",
      "Epoch 131/150\n",
      "7670/7670 [==============================] - 2s 220us/step - loss: 804.2016 - mean_squared_error: 804.2016 - mean_absolute_error: 19.5059 - val_loss: 1941.3967 - val_mean_squared_error: 1941.3967 - val_mean_absolute_error: 26.1727\n",
      "Epoch 132/150\n",
      "7670/7670 [==============================] - 2s 232us/step - loss: 825.2208 - mean_squared_error: 825.2208 - mean_absolute_error: 19.7546 - val_loss: 1914.3447 - val_mean_squared_error: 1914.3447 - val_mean_absolute_error: 26.2487\n",
      "Epoch 133/150\n"
     ]
    },
    {
     "name": "stdout",
     "output_type": "stream",
     "text": [
      "7670/7670 [==============================] - 2s 198us/step - loss: 813.2498 - mean_squared_error: 813.2498 - mean_absolute_error: 19.6383 - val_loss: 1952.1581 - val_mean_squared_error: 1952.1581 - val_mean_absolute_error: 26.4275\n",
      "Epoch 134/150\n",
      "7670/7670 [==============================] - 1s 185us/step - loss: 821.7444 - mean_squared_error: 821.7444 - mean_absolute_error: 19.8965 - val_loss: 1920.3325 - val_mean_squared_error: 1920.3325 - val_mean_absolute_error: 26.5508\n",
      "Epoch 135/150\n",
      "7670/7670 [==============================] - 1s 179us/step - loss: 851.1453 - mean_squared_error: 851.1453 - mean_absolute_error: 20.3785 - val_loss: 1965.2370 - val_mean_squared_error: 1965.2370 - val_mean_absolute_error: 26.2569\n",
      "Epoch 136/150\n",
      "7670/7670 [==============================] - 2s 200us/step - loss: 796.1836 - mean_squared_error: 796.1836 - mean_absolute_error: 19.6432 - val_loss: 1935.4613 - val_mean_squared_error: 1935.4613 - val_mean_absolute_error: 26.2824\n",
      "Epoch 137/150\n",
      "7670/7670 [==============================] - 2s 201us/step - loss: 761.9541 - mean_squared_error: 761.9541 - mean_absolute_error: 19.3264 - val_loss: 1821.8407 - val_mean_squared_error: 1821.8407 - val_mean_absolute_error: 25.2643\n",
      "Epoch 138/150\n",
      "7670/7670 [==============================] - 1s 179us/step - loss: 819.8850 - mean_squared_error: 819.8850 - mean_absolute_error: 20.0094 - val_loss: 1832.0052 - val_mean_squared_error: 1832.0052 - val_mean_absolute_error: 25.4368\n",
      "Epoch 139/150\n",
      "7670/7670 [==============================] - 1s 176us/step - loss: 828.7433 - mean_squared_error: 828.7433 - mean_absolute_error: 19.9484 - val_loss: 2260.9693 - val_mean_squared_error: 2260.9693 - val_mean_absolute_error: 28.6400\n",
      "Epoch 140/150\n",
      "7670/7670 [==============================] - 2s 209us/step - loss: 878.0261 - mean_squared_error: 878.0261 - mean_absolute_error: 20.5449 - val_loss: 1793.3988 - val_mean_squared_error: 1793.3988 - val_mean_absolute_error: 25.2775\n",
      "Epoch 141/150\n",
      "7670/7670 [==============================] - 2s 201us/step - loss: 718.2152 - mean_squared_error: 718.2152 - mean_absolute_error: 18.7244 - val_loss: 1791.1688 - val_mean_squared_error: 1791.1688 - val_mean_absolute_error: 25.3170\n",
      "Epoch 142/150\n",
      "7670/7670 [==============================] - 1s 191us/step - loss: 839.9824 - mean_squared_error: 839.9824 - mean_absolute_error: 20.3711 - val_loss: 1844.3324 - val_mean_squared_error: 1844.3324 - val_mean_absolute_error: 25.4729\n",
      "Epoch 143/150\n",
      "7670/7670 [==============================] - 2s 205us/step - loss: 747.8469 - mean_squared_error: 747.8469 - mean_absolute_error: 19.1187 - val_loss: 1982.2536 - val_mean_squared_error: 1982.2536 - val_mean_absolute_error: 27.0028\n",
      "Epoch 144/150\n",
      "7670/7670 [==============================] - 2s 222us/step - loss: 824.8634 - mean_squared_error: 824.8634 - mean_absolute_error: 19.8795 - val_loss: 1832.2792 - val_mean_squared_error: 1832.2792 - val_mean_absolute_error: 25.4948\n",
      "Epoch 145/150\n",
      "7670/7670 [==============================] - 2s 200us/step - loss: 785.0073 - mean_squared_error: 785.0073 - mean_absolute_error: 19.5987 - val_loss: 1922.3031 - val_mean_squared_error: 1922.3031 - val_mean_absolute_error: 26.7689\n",
      "Epoch 146/150\n",
      "7670/7670 [==============================] - 2s 285us/step - loss: 741.4175 - mean_squared_error: 741.4175 - mean_absolute_error: 18.9380 - val_loss: 1852.7370 - val_mean_squared_error: 1852.7370 - val_mean_absolute_error: 26.0595\n",
      "Epoch 147/150\n",
      "7670/7670 [==============================] - 2s 260us/step - loss: 862.4665 - mean_squared_error: 862.4665 - mean_absolute_error: 20.1045 - val_loss: 1728.1532 - val_mean_squared_error: 1728.1532 - val_mean_absolute_error: 24.9480\n",
      "Epoch 148/150\n",
      "7670/7670 [==============================] - 2s 202us/step - loss: 810.9172 - mean_squared_error: 810.9172 - mean_absolute_error: 19.9238 - val_loss: 1907.9806 - val_mean_squared_error: 1907.9806 - val_mean_absolute_error: 26.6415\n",
      "Epoch 149/150\n",
      "7670/7670 [==============================] - 2s 237us/step - loss: 825.4816 - mean_squared_error: 825.4816 - mean_absolute_error: 19.6834 - val_loss: 1847.2689 - val_mean_squared_error: 1847.2689 - val_mean_absolute_error: 25.7417\n",
      "Epoch 150/150\n",
      "7670/7670 [==============================] - 1s 184us/step - loss: 785.3687 - mean_squared_error: 785.3687 - mean_absolute_error: 19.6003 - val_loss: 1944.9871 - val_mean_squared_error: 1944.9871 - val_mean_absolute_error: 26.3500\n"
     ]
    }
   ],
   "source": [
    "history_model_2 = model_Split_2.fit(X_train_model_2, y_train_model_2, epochs=100, batch_size=60,  verbose=1, validation_split=0.2)"
   ]
  },
  {
   "cell_type": "code",
   "execution_count": 65,
   "metadata": {},
   "outputs": [],
   "source": [
    "y_pred_model_2 = model_Split_2.predict(X_test_model_2)"
   ]
  },
  {
   "cell_type": "code",
   "execution_count": 66,
   "metadata": {},
   "outputs": [
    {
     "name": "stdout",
     "output_type": "stream",
     "text": [
      "RMSLE model 2: 0.39800747859593033\n"
     ]
    }
   ],
   "source": [
    "print('RMSLE model 2:', np.sqrt(mean_squared_log_error(y_test_model_2, y_pred_model_2)))"
   ]
  },
  {
   "cell_type": "code",
   "execution_count": null,
   "metadata": {},
   "outputs": [],
   "source": []
  },
  {
   "cell_type": "markdown",
   "metadata": {},
   "source": [
    "#### Model 3"
   ]
  },
  {
   "cell_type": "markdown",
   "metadata": {},
   "source": [
    "Take set 1,2,4,5 for train and set 3 for test:"
   ]
  },
  {
   "cell_type": "markdown",
   "metadata": {},
   "source": [
    " `concat()` train_parts which are pandas dataFrames \n",
    " \n",
    " https://pandas.pydata.org/pandas-docs/stable/user_guide/merging.html"
   ]
  },
  {
   "cell_type": "code",
   "execution_count": 67,
   "metadata": {},
   "outputs": [],
   "source": [
    "temp3 = [train_part_1, train_part_2, train_part_4, train_part_5]\n",
    "train_model_3 = pd.concat(temp3)\n",
    "\n",
    "temp3 = [train_part_3]\n",
    "test_model_3= pd.concat(temp3)"
   ]
  },
  {
   "cell_type": "code",
   "execution_count": 68,
   "metadata": {},
   "outputs": [],
   "source": [
    "y_train_model_3 = train_model_3['count']\n",
    "X_train_model_3 = train_model_3[['temp', 'humidity','season_1','season_2','season_3','season_4','year_0','year_1','month_1','month_2','month_3','month_4','month_5','month_6','month_7','month_8','month_9','month_10','month_11','month_12','hour_0','hour_1','hour_2','hour_3','hour_4','hour_5','hour_6','hour_7','hour_8','hour_9','hour_10','hour_11','hour_12','hour_13','hour_14','hour_15','hour_16','hour_17','hour_18','hour_19','hour_20','hour_21','hour_22','hour_23','weekday_0','weekday_1','weekday_2','weekday_3','weekday_4','weekday_5','weekday_6','weather_1','weather_2','weather_3','holiday_0','holiday_1']]\n",
    "\n",
    "y_test_model_3 = test_model_3['count']\n",
    "X_test_model_3 = test_model_3[['temp', 'humidity','season_1','season_2','season_3','season_4','year_0','year_1','month_1','month_2','month_3','month_4','month_5','month_6','month_7','month_8','month_9','month_10','month_11','month_12','hour_0','hour_1','hour_2','hour_3','hour_4','hour_5','hour_6','hour_7','hour_8','hour_9','hour_10','hour_11','hour_12','hour_13','hour_14','hour_15','hour_16','hour_17','hour_18','hour_19','hour_20','hour_21','hour_22','hour_23','weekday_0','weekday_1','weekday_2','weekday_3','weekday_4','weekday_5','weekday_6','weather_1','weather_2','weather_3','holiday_0','holiday_1']]"
   ]
  },
  {
   "cell_type": "code",
   "execution_count": null,
   "metadata": {},
   "outputs": [],
   "source": []
  },
  {
   "cell_type": "code",
   "execution_count": 69,
   "metadata": {},
   "outputs": [
    {
     "data": {
      "text/plain": [
       "(9588, 56)"
      ]
     },
     "execution_count": 69,
     "metadata": {},
     "output_type": "execute_result"
    }
   ],
   "source": [
    "X_train_model_3.shape"
   ]
  },
  {
   "cell_type": "markdown",
   "metadata": {},
   "source": [
    "Make neurotic shape:"
   ]
  },
  {
   "cell_type": "code",
   "execution_count": 70,
   "metadata": {},
   "outputs": [
    {
     "name": "stdout",
     "output_type": "stream",
     "text": [
      "_________________________________________________________________\n",
      "Layer (type)                 Output Shape              Param #   \n",
      "=================================================================\n",
      "dense_16 (Dense)             (None, 120)               6720      \n",
      "_________________________________________________________________\n",
      "batch_normalization_13 (Batc (None, 120)               480       \n",
      "_________________________________________________________________\n",
      "activation_13 (Activation)   (None, 120)               0         \n",
      "_________________________________________________________________\n",
      "gaussian_noise_3 (GaussianNo (None, 120)               0         \n",
      "_________________________________________________________________\n",
      "dropout_3 (Dropout)          (None, 120)               0         \n",
      "_________________________________________________________________\n",
      "dense_17 (Dense)             (None, 80)                9600      \n",
      "_________________________________________________________________\n",
      "batch_normalization_14 (Batc (None, 80)                320       \n",
      "_________________________________________________________________\n",
      "activation_14 (Activation)   (None, 80)                0         \n",
      "_________________________________________________________________\n",
      "dense_18 (Dense)             (None, 40)                3200      \n",
      "_________________________________________________________________\n",
      "batch_normalization_15 (Batc (None, 40)                160       \n",
      "_________________________________________________________________\n",
      "activation_15 (Activation)   (None, 40)                0         \n",
      "_________________________________________________________________\n",
      "dense_19 (Dense)             (None, 12)                480       \n",
      "_________________________________________________________________\n",
      "batch_normalization_16 (Batc (None, 12)                48        \n",
      "_________________________________________________________________\n",
      "activation_16 (Activation)   (None, 12)                0         \n",
      "_________________________________________________________________\n",
      "dense_20 (Dense)             (None, 1)                 13        \n",
      "=================================================================\n",
      "Total params: 21,021\n",
      "Trainable params: 20,517\n",
      "Non-trainable params: 504\n",
      "_________________________________________________________________\n"
     ]
    }
   ],
   "source": [
    "model_Split_3 = Sequential()\n",
    "#model.add(Dense(120, input_dim=35, kernel_initializer='normal', activation='relu'))\n",
    "\n",
    "#model.add(GaussianNoise(0.01, input_shape=(59,)))\n",
    "#model.add(Dense(120, activation='relu'))\n",
    "\n",
    "model_Split_3.add(Dense(120, input_dim=56, kernel_initializer=RandomNormal(mean=0.0, stddev=0.05, seed=12), use_bias = False))\n",
    "model_Split_3.add(BatchNormalization())\n",
    "model_Split_3.add(Activation('relu'))\n",
    "model_Split_3.add(GaussianNoise(0.01))\n",
    "model_Split_3.add(Dropout(0.01))\n",
    "\n",
    "model_Split_3.add(Dense(80, use_bias = False))\n",
    "model_Split_3.add(BatchNormalization())\n",
    "model_Split_3.add(Activation('relu'))\n",
    "\n",
    "#model.add(Dropout(0.1))\n",
    "\n",
    "model_Split_3.add(Dense(40, use_bias = False))\n",
    "model_Split_3.add(BatchNormalization())\n",
    "model_Split_3.add(Activation('relu'))\n",
    "\n",
    "model_Split_3.add(Dense(12, use_bias = False))\n",
    "model_Split_3.add(BatchNormalization())\n",
    "model_Split_3.add(Activation('relu'))\n",
    "\n",
    "model_Split_3.add(Dense(1, activation='relu'))\n",
    "model_Split_3.summary()"
   ]
  },
  {
   "cell_type": "code",
   "execution_count": 71,
   "metadata": {},
   "outputs": [],
   "source": [
    "model_Split_3.compile(loss='mse', optimizer=Adam(lr= 0.008), metrics=['mse','mae'])"
   ]
  },
  {
   "cell_type": "code",
   "execution_count": null,
   "metadata": {},
   "outputs": [],
   "source": []
  },
  {
   "cell_type": "code",
   "execution_count": 72,
   "metadata": {
    "scrolled": true
   },
   "outputs": [
    {
     "name": "stdout",
     "output_type": "stream",
     "text": [
      "Train on 7670 samples, validate on 1918 samples\n",
      "Epoch 1/150\n",
      "7670/7670 [==============================] - 6s 757us/step - loss: 55281.6278 - mean_squared_error: 55281.6278 - mean_absolute_error: 173.5048 - val_loss: 36187.0072 - val_mean_squared_error: 36187.0072 - val_mean_absolute_error: 141.7636\n",
      "Epoch 2/150\n",
      "7670/7670 [==============================] - 2s 209us/step - loss: 35159.4891 - mean_squared_error: 35159.4891 - mean_absolute_error: 138.0014 - val_loss: 5874.6905 - val_mean_squared_error: 5874.6905 - val_mean_absolute_error: 57.0694\n",
      "Epoch 3/150\n",
      "7670/7670 [==============================] - 2s 248us/step - loss: 10552.0678 - mean_squared_error: 10552.0678 - mean_absolute_error: 72.1326 - val_loss: 4549.9020 - val_mean_squared_error: 4549.9020 - val_mean_absolute_error: 47.2254\n",
      "Epoch 4/150\n",
      "7670/7670 [==============================] - 2s 219us/step - loss: 3201.2534 - mean_squared_error: 3201.2534 - mean_absolute_error: 38.6327 - val_loss: 5095.9686 - val_mean_squared_error: 5095.9686 - val_mean_absolute_error: 45.1676\n",
      "Epoch 5/150\n",
      "7670/7670 [==============================] - 2s 221us/step - loss: 2767.3353 - mean_squared_error: 2767.3353 - mean_absolute_error: 35.4327 - val_loss: 2378.0522 - val_mean_squared_error: 2378.0522 - val_mean_absolute_error: 30.9429\n",
      "Epoch 6/150\n",
      "7670/7670 [==============================] - 2s 240us/step - loss: 2570.3223 - mean_squared_error: 2570.3223 - mean_absolute_error: 34.1792 - val_loss: 3164.8725 - val_mean_squared_error: 3164.8725 - val_mean_absolute_error: 35.9838\n",
      "Epoch 7/150\n",
      "7670/7670 [==============================] - 2s 243us/step - loss: 2443.8059 - mean_squared_error: 2443.8059 - mean_absolute_error: 33.2284 - val_loss: 2333.0242 - val_mean_squared_error: 2333.0242 - val_mean_absolute_error: 30.7666\n",
      "Epoch 8/150\n",
      "7670/7670 [==============================] - 2s 224us/step - loss: 2295.2948 - mean_squared_error: 2295.2948 - mean_absolute_error: 32.0178 - val_loss: 2789.0841 - val_mean_squared_error: 2789.0841 - val_mean_absolute_error: 33.0166\n",
      "Epoch 9/150\n",
      "7670/7670 [==============================] - 2s 216us/step - loss: 2328.4210 - mean_squared_error: 2328.4210 - mean_absolute_error: 32.0519 - val_loss: 2367.3820 - val_mean_squared_error: 2367.3820 - val_mean_absolute_error: 30.5059\n",
      "Epoch 10/150\n",
      "7670/7670 [==============================] - 2s 232us/step - loss: 2027.5077 - mean_squared_error: 2027.5077 - mean_absolute_error: 30.0484 - val_loss: 2088.3326 - val_mean_squared_error: 2088.3326 - val_mean_absolute_error: 27.4896\n",
      "Epoch 11/150\n",
      "7670/7670 [==============================] - 2s 220us/step - loss: 2031.6041 - mean_squared_error: 2031.6041 - mean_absolute_error: 30.2659 - val_loss: 2101.2263 - val_mean_squared_error: 2101.2263 - val_mean_absolute_error: 27.8371\n",
      "Epoch 12/150\n",
      "7670/7670 [==============================] - 2s 201us/step - loss: 2066.9463 - mean_squared_error: 2066.9463 - mean_absolute_error: 29.8536 - val_loss: 2156.0263 - val_mean_squared_error: 2156.0263 - val_mean_absolute_error: 28.6342\n",
      "Epoch 13/150\n",
      "7670/7670 [==============================] - 2s 276us/step - loss: 2101.1112 - mean_squared_error: 2101.1112 - mean_absolute_error: 30.9592 - val_loss: 2051.9363 - val_mean_squared_error: 2051.9363 - val_mean_absolute_error: 27.7832\n",
      "Epoch 14/150\n",
      "7670/7670 [==============================] - 2s 219us/step - loss: 2173.1718 - mean_squared_error: 2173.1718 - mean_absolute_error: 31.0694 - val_loss: 1953.7399 - val_mean_squared_error: 1953.7399 - val_mean_absolute_error: 26.9418\n",
      "Epoch 15/150\n",
      "7670/7670 [==============================] - 2s 220us/step - loss: 1863.1023 - mean_squared_error: 1863.1023 - mean_absolute_error: 29.0050 - val_loss: 2576.1093 - val_mean_squared_error: 2576.1093 - val_mean_absolute_error: 30.9592\n",
      "Epoch 16/150\n",
      "7670/7670 [==============================] - 2s 220us/step - loss: 1857.8035 - mean_squared_error: 1857.8035 - mean_absolute_error: 29.0716 - val_loss: 1797.9614 - val_mean_squared_error: 1797.9614 - val_mean_absolute_error: 26.1207\n",
      "Epoch 17/150\n",
      "7670/7670 [==============================] - 2s 233us/step - loss: 1839.6657 - mean_squared_error: 1839.6657 - mean_absolute_error: 28.8504 - val_loss: 2002.7832 - val_mean_squared_error: 2002.7832 - val_mean_absolute_error: 26.9561\n",
      "Epoch 18/150\n",
      "7670/7670 [==============================] - 2s 222us/step - loss: 1780.4636 - mean_squared_error: 1780.4636 - mean_absolute_error: 28.4120 - val_loss: 2010.6472 - val_mean_squared_error: 2010.6472 - val_mean_absolute_error: 27.2958\n",
      "Epoch 19/150\n",
      "7670/7670 [==============================] - 2s 205us/step - loss: 1734.3485 - mean_squared_error: 1734.3485 - mean_absolute_error: 28.1529 - val_loss: 1966.6332 - val_mean_squared_error: 1966.6332 - val_mean_absolute_error: 26.3537\n",
      "Epoch 20/150\n",
      "7670/7670 [==============================] - 2s 221us/step - loss: 1734.8326 - mean_squared_error: 1734.8326 - mean_absolute_error: 28.2066 - val_loss: 2541.9646 - val_mean_squared_error: 2541.9646 - val_mean_absolute_error: 30.6955\n",
      "Epoch 21/150\n",
      "7670/7670 [==============================] - 2s 285us/step - loss: 1661.2855 - mean_squared_error: 1661.2855 - mean_absolute_error: 27.4936 - val_loss: 2194.2097 - val_mean_squared_error: 2194.2097 - val_mean_absolute_error: 28.4781\n",
      "Epoch 22/150\n",
      "7670/7670 [==============================] - 2s 249us/step - loss: 1545.5971 - mean_squared_error: 1545.5971 - mean_absolute_error: 26.6178 - val_loss: 2048.2973 - val_mean_squared_error: 2048.2973 - val_mean_absolute_error: 27.2197\n",
      "Epoch 23/150\n",
      "7670/7670 [==============================] - 2s 230us/step - loss: 1586.3292 - mean_squared_error: 1586.3292 - mean_absolute_error: 27.0436 - val_loss: 1952.7434 - val_mean_squared_error: 1952.7434 - val_mean_absolute_error: 26.3973\n",
      "Epoch 24/150\n",
      "7670/7670 [==============================] - 2s 271us/step - loss: 1724.1297 - mean_squared_error: 1724.1297 - mean_absolute_error: 28.2593 - val_loss: 2151.6513 - val_mean_squared_error: 2151.6513 - val_mean_absolute_error: 27.8384\n",
      "Epoch 25/150\n",
      "7670/7670 [==============================] - 2s 317us/step - loss: 1496.5808 - mean_squared_error: 1496.5808 - mean_absolute_error: 26.3026 - val_loss: 1908.8198 - val_mean_squared_error: 1908.8198 - val_mean_absolute_error: 25.7955\n",
      "Epoch 26/150\n",
      "7670/7670 [==============================] - 2s 197us/step - loss: 1508.6408 - mean_squared_error: 1508.6408 - mean_absolute_error: 26.2869 - val_loss: 1940.9650 - val_mean_squared_error: 1940.9650 - val_mean_absolute_error: 26.4694\n",
      "Epoch 27/150\n",
      "7670/7670 [==============================] - 2s 263us/step - loss: 1517.9955 - mean_squared_error: 1517.9955 - mean_absolute_error: 26.7700 - val_loss: 2049.6333 - val_mean_squared_error: 2049.6333 - val_mean_absolute_error: 26.8563\n",
      "Epoch 28/150\n",
      "7670/7670 [==============================] - 1s 194us/step - loss: 1526.7706 - mean_squared_error: 1526.7706 - mean_absolute_error: 26.6305 - val_loss: 2046.7949 - val_mean_squared_error: 2046.7949 - val_mean_absolute_error: 26.8934\n",
      "Epoch 29/150\n",
      "7670/7670 [==============================] - 2s 251us/step - loss: 1589.8104 - mean_squared_error: 1589.8104 - mean_absolute_error: 26.9261 - val_loss: 1847.6078 - val_mean_squared_error: 1847.6078 - val_mean_absolute_error: 25.9265\n",
      "Epoch 30/150\n",
      "7670/7670 [==============================] - 2s 229us/step - loss: 1492.7415 - mean_squared_error: 1492.7415 - mean_absolute_error: 26.3165 - val_loss: 1920.8953 - val_mean_squared_error: 1920.8953 - val_mean_absolute_error: 25.9706\n",
      "Epoch 31/150\n",
      "7670/7670 [==============================] - 2s 254us/step - loss: 1584.2552 - mean_squared_error: 1584.2552 - mean_absolute_error: 27.3898 - val_loss: 2020.5198 - val_mean_squared_error: 2020.5198 - val_mean_absolute_error: 27.1176\n",
      "Epoch 32/150\n",
      "7670/7670 [==============================] - 2s 267us/step - loss: 1425.7304 - mean_squared_error: 1425.7304 - mean_absolute_error: 25.3836 - val_loss: 1954.4287 - val_mean_squared_error: 1954.4287 - val_mean_absolute_error: 26.9962\n",
      "Epoch 33/150\n",
      "7670/7670 [==============================] - 2s 221us/step - loss: 1484.5497 - mean_squared_error: 1484.5497 - mean_absolute_error: 26.3244 - val_loss: 1979.1636 - val_mean_squared_error: 1979.1636 - val_mean_absolute_error: 27.0314\n",
      "Epoch 34/150\n"
     ]
    },
    {
     "name": "stdout",
     "output_type": "stream",
     "text": [
      "7670/7670 [==============================] - 2s 218us/step - loss: 1489.1666 - mean_squared_error: 1489.1666 - mean_absolute_error: 26.4955 - val_loss: 1993.7571 - val_mean_squared_error: 1993.7571 - val_mean_absolute_error: 27.1908\n",
      "Epoch 35/150\n",
      "7670/7670 [==============================] - 2s 245us/step - loss: 1475.6724 - mean_squared_error: 1475.6724 - mean_absolute_error: 26.6205 - val_loss: 2243.2727 - val_mean_squared_error: 2243.2727 - val_mean_absolute_error: 29.4794\n",
      "Epoch 36/150\n",
      "7670/7670 [==============================] - 2s 273us/step - loss: 1407.4044 - mean_squared_error: 1407.4044 - mean_absolute_error: 25.8683 - val_loss: 1957.5635 - val_mean_squared_error: 1957.5635 - val_mean_absolute_error: 26.4098\n",
      "Epoch 37/150\n",
      "7670/7670 [==============================] - 2s 255us/step - loss: 1522.2193 - mean_squared_error: 1522.2193 - mean_absolute_error: 26.9655 - val_loss: 1984.2580 - val_mean_squared_error: 1984.2580 - val_mean_absolute_error: 27.2013\n",
      "Epoch 38/150\n",
      "7670/7670 [==============================] - 2s 225us/step - loss: 1343.2590 - mean_squared_error: 1343.2590 - mean_absolute_error: 25.3629 - val_loss: 1997.7064 - val_mean_squared_error: 1997.7064 - val_mean_absolute_error: 26.6610\n",
      "Epoch 39/150\n",
      "7670/7670 [==============================] - 2s 262us/step - loss: 1515.1567 - mean_squared_error: 1515.1567 - mean_absolute_error: 26.7492 - val_loss: 1979.5073 - val_mean_squared_error: 1979.5073 - val_mean_absolute_error: 27.0152\n",
      "Epoch 40/150\n",
      "7670/7670 [==============================] - 2s 261us/step - loss: 1301.9499 - mean_squared_error: 1301.9499 - mean_absolute_error: 24.7362 - val_loss: 2277.5631 - val_mean_squared_error: 2277.5631 - val_mean_absolute_error: 30.2337\n",
      "Epoch 41/150\n",
      "7670/7670 [==============================] - 2s 216us/step - loss: 1356.9775 - mean_squared_error: 1356.9775 - mean_absolute_error: 25.2897 - val_loss: 2271.2643 - val_mean_squared_error: 2271.2643 - val_mean_absolute_error: 29.5184\n",
      "Epoch 42/150\n",
      "7670/7670 [==============================] - 2s 251us/step - loss: 1282.9362 - mean_squared_error: 1282.9362 - mean_absolute_error: 24.8456 - val_loss: 2035.9836 - val_mean_squared_error: 2035.9836 - val_mean_absolute_error: 27.2574\n",
      "Epoch 43/150\n",
      "7670/7670 [==============================] - 2s 228us/step - loss: 1227.2446 - mean_squared_error: 1227.2446 - mean_absolute_error: 24.1600 - val_loss: 1956.6245 - val_mean_squared_error: 1956.6245 - val_mean_absolute_error: 26.3730\n",
      "Epoch 44/150\n",
      "7670/7670 [==============================] - 2s 230us/step - loss: 1231.9104 - mean_squared_error: 1231.9104 - mean_absolute_error: 24.4150 - val_loss: 1939.0606 - val_mean_squared_error: 1939.0606 - val_mean_absolute_error: 26.5627\n",
      "Epoch 45/150\n",
      "7670/7670 [==============================] - 2s 215us/step - loss: 1287.2947 - mean_squared_error: 1287.2947 - mean_absolute_error: 25.0044 - val_loss: 2102.4639 - val_mean_squared_error: 2102.4639 - val_mean_absolute_error: 28.3302\n",
      "Epoch 46/150\n",
      "7670/7670 [==============================] - 2s 231us/step - loss: 1227.1264 - mean_squared_error: 1227.1264 - mean_absolute_error: 24.5715 - val_loss: 1994.8793 - val_mean_squared_error: 1994.8793 - val_mean_absolute_error: 27.1638\n",
      "Epoch 47/150\n",
      "7670/7670 [==============================] - 2s 224us/step - loss: 1271.2703 - mean_squared_error: 1271.2703 - mean_absolute_error: 24.7041 - val_loss: 1959.2399 - val_mean_squared_error: 1959.2399 - val_mean_absolute_error: 26.9999\n",
      "Epoch 48/150\n",
      "7670/7670 [==============================] - 2s 257us/step - loss: 1157.4413 - mean_squared_error: 1157.4413 - mean_absolute_error: 23.6944 - val_loss: 2400.7799 - val_mean_squared_error: 2400.7799 - val_mean_absolute_error: 29.4223\n",
      "Epoch 49/150\n",
      "7670/7670 [==============================] - 2s 228us/step - loss: 1271.7132 - mean_squared_error: 1271.7132 - mean_absolute_error: 24.7469 - val_loss: 1920.1618 - val_mean_squared_error: 1920.1618 - val_mean_absolute_error: 26.3499\n",
      "Epoch 50/150\n",
      "7670/7670 [==============================] - 2s 238us/step - loss: 1327.7372 - mean_squared_error: 1327.7372 - mean_absolute_error: 25.0294 - val_loss: 2349.3806 - val_mean_squared_error: 2349.3806 - val_mean_absolute_error: 30.4143\n",
      "Epoch 51/150\n",
      "7670/7670 [==============================] - 4s 469us/step - loss: 1168.4415 - mean_squared_error: 1168.4415 - mean_absolute_error: 23.7640 - val_loss: 1949.6760 - val_mean_squared_error: 1949.6760 - val_mean_absolute_error: 26.7169\n",
      "Epoch 52/150\n",
      "7670/7670 [==============================] - 1s 154us/step - loss: 1186.8721 - mean_squared_error: 1186.8721 - mean_absolute_error: 24.0960 - val_loss: 2257.5310 - val_mean_squared_error: 2257.5310 - val_mean_absolute_error: 28.8958\n",
      "Epoch 53/150\n",
      "7670/7670 [==============================] - 1s 158us/step - loss: 1219.4175 - mean_squared_error: 1219.4175 - mean_absolute_error: 24.1623 - val_loss: 1892.7407 - val_mean_squared_error: 1892.7407 - val_mean_absolute_error: 26.1768\n",
      "Epoch 54/150\n",
      "7670/7670 [==============================] - 1s 168us/step - loss: 1150.5902 - mean_squared_error: 1150.5902 - mean_absolute_error: 23.6367 - val_loss: 2074.4974 - val_mean_squared_error: 2074.4974 - val_mean_absolute_error: 27.4361\n",
      "Epoch 55/150\n",
      "7670/7670 [==============================] - 1s 160us/step - loss: 1133.6210 - mean_squared_error: 1133.6210 - mean_absolute_error: 23.4322 - val_loss: 1972.1809 - val_mean_squared_error: 1972.1809 - val_mean_absolute_error: 27.1808\n",
      "Epoch 56/150\n",
      "7670/7670 [==============================] - 1s 150us/step - loss: 1122.8862 - mean_squared_error: 1122.8862 - mean_absolute_error: 23.3996 - val_loss: 1959.1090 - val_mean_squared_error: 1959.1090 - val_mean_absolute_error: 26.3612\n",
      "Epoch 57/150\n",
      "7670/7670 [==============================] - 1s 161us/step - loss: 1248.5297 - mean_squared_error: 1248.5297 - mean_absolute_error: 24.4354 - val_loss: 2015.8598 - val_mean_squared_error: 2015.8598 - val_mean_absolute_error: 26.8476\n",
      "Epoch 58/150\n",
      "7670/7670 [==============================] - 1s 161us/step - loss: 1104.2202 - mean_squared_error: 1104.2202 - mean_absolute_error: 22.9976 - val_loss: 2079.0502 - val_mean_squared_error: 2079.0502 - val_mean_absolute_error: 27.3873\n",
      "Epoch 59/150\n",
      "7670/7670 [==============================] - 1s 157us/step - loss: 1056.8600 - mean_squared_error: 1056.8600 - mean_absolute_error: 22.4349 - val_loss: 1966.8549 - val_mean_squared_error: 1966.8549 - val_mean_absolute_error: 26.4512\n",
      "Epoch 60/150\n",
      "7670/7670 [==============================] - 1s 159us/step - loss: 1028.0254 - mean_squared_error: 1028.0254 - mean_absolute_error: 22.4354 - val_loss: 1930.8815 - val_mean_squared_error: 1930.8815 - val_mean_absolute_error: 26.4357\n",
      "Epoch 61/150\n",
      "7670/7670 [==============================] - 2s 206us/step - loss: 1021.3956 - mean_squared_error: 1021.3956 - mean_absolute_error: 22.1678 - val_loss: 1874.3308 - val_mean_squared_error: 1874.3308 - val_mean_absolute_error: 25.6036\n",
      "Epoch 62/150\n",
      "7670/7670 [==============================] - 1s 182us/step - loss: 1008.1270 - mean_squared_error: 1008.1270 - mean_absolute_error: 22.1797 - val_loss: 2030.2974 - val_mean_squared_error: 2030.2974 - val_mean_absolute_error: 26.7772\n",
      "Epoch 63/150\n",
      "7670/7670 [==============================] - 2s 199us/step - loss: 990.2337 - mean_squared_error: 990.2337 - mean_absolute_error: 21.7602 - val_loss: 2285.2069 - val_mean_squared_error: 2285.2069 - val_mean_absolute_error: 29.1750\n",
      "Epoch 64/150\n",
      "7670/7670 [==============================] - 1s 167us/step - loss: 1063.7745 - mean_squared_error: 1063.7745 - mean_absolute_error: 22.7097 - val_loss: 1959.9120 - val_mean_squared_error: 1959.9120 - val_mean_absolute_error: 26.4533\n",
      "Epoch 65/150\n",
      "7670/7670 [==============================] - 1s 174us/step - loss: 996.9349 - mean_squared_error: 996.9349 - mean_absolute_error: 22.0931 - val_loss: 1986.6279 - val_mean_squared_error: 1986.6279 - val_mean_absolute_error: 27.4017\n",
      "Epoch 66/150\n",
      "7670/7670 [==============================] - 1s 170us/step - loss: 1036.3264 - mean_squared_error: 1036.3264 - mean_absolute_error: 22.0679 - val_loss: 1948.6469 - val_mean_squared_error: 1948.6469 - val_mean_absolute_error: 26.5854\n",
      "Epoch 67/150\n"
     ]
    },
    {
     "name": "stdout",
     "output_type": "stream",
     "text": [
      "7670/7670 [==============================] - 1s 158us/step - loss: 945.5672 - mean_squared_error: 945.5672 - mean_absolute_error: 21.4312 - val_loss: 2145.3398 - val_mean_squared_error: 2145.3398 - val_mean_absolute_error: 28.0665\n",
      "Epoch 68/150\n",
      "7670/7670 [==============================] - 1s 162us/step - loss: 928.8180 - mean_squared_error: 928.8180 - mean_absolute_error: 21.4646 - val_loss: 1993.8921 - val_mean_squared_error: 1993.8921 - val_mean_absolute_error: 27.2410\n",
      "Epoch 69/150\n",
      "7670/7670 [==============================] - 1s 154us/step - loss: 961.1023 - mean_squared_error: 961.1023 - mean_absolute_error: 21.8854 - val_loss: 2039.7627 - val_mean_squared_error: 2039.7627 - val_mean_absolute_error: 27.1968\n",
      "Epoch 70/150\n",
      "7670/7670 [==============================] - 1s 161us/step - loss: 1042.4801 - mean_squared_error: 1042.4801 - mean_absolute_error: 22.1997 - val_loss: 2255.6027 - val_mean_squared_error: 2255.6027 - val_mean_absolute_error: 28.9331\n",
      "Epoch 71/150\n",
      "7670/7670 [==============================] - 1s 158us/step - loss: 994.5619 - mean_squared_error: 994.5619 - mean_absolute_error: 22.1581 - val_loss: 2019.5595 - val_mean_squared_error: 2019.5595 - val_mean_absolute_error: 26.6583\n",
      "Epoch 72/150\n",
      "7670/7670 [==============================] - 1s 156us/step - loss: 949.2797 - mean_squared_error: 949.2797 - mean_absolute_error: 21.3323 - val_loss: 1878.9184 - val_mean_squared_error: 1878.9184 - val_mean_absolute_error: 26.0718\n",
      "Epoch 73/150\n",
      "7670/7670 [==============================] - 1s 159us/step - loss: 986.1419 - mean_squared_error: 986.1419 - mean_absolute_error: 21.8506 - val_loss: 2301.9314 - val_mean_squared_error: 2301.9314 - val_mean_absolute_error: 29.0984\n",
      "Epoch 74/150\n",
      "7670/7670 [==============================] - 1s 158us/step - loss: 937.5668 - mean_squared_error: 937.5668 - mean_absolute_error: 21.3080 - val_loss: 1970.6423 - val_mean_squared_error: 1970.6423 - val_mean_absolute_error: 26.4198\n",
      "Epoch 75/150\n",
      "7670/7670 [==============================] - 1s 161us/step - loss: 981.1787 - mean_squared_error: 981.1787 - mean_absolute_error: 21.8252 - val_loss: 2064.2374 - val_mean_squared_error: 2064.2374 - val_mean_absolute_error: 27.3845\n",
      "Epoch 76/150\n",
      "7670/7670 [==============================] - 2s 205us/step - loss: 962.3277 - mean_squared_error: 962.3277 - mean_absolute_error: 21.6909 - val_loss: 2048.1619 - val_mean_squared_error: 2048.1619 - val_mean_absolute_error: 27.2718\n",
      "Epoch 77/150\n",
      "7670/7670 [==============================] - 1s 193us/step - loss: 958.6404 - mean_squared_error: 958.6404 - mean_absolute_error: 21.4735 - val_loss: 1991.8919 - val_mean_squared_error: 1991.8919 - val_mean_absolute_error: 26.7151\n",
      "Epoch 78/150\n",
      "7670/7670 [==============================] - 1s 182us/step - loss: 929.0183 - mean_squared_error: 929.0183 - mean_absolute_error: 21.3636 - val_loss: 2207.0476 - val_mean_squared_error: 2207.0476 - val_mean_absolute_error: 28.6357\n",
      "Epoch 79/150\n",
      "7670/7670 [==============================] - 1s 175us/step - loss: 866.2972 - mean_squared_error: 866.2972 - mean_absolute_error: 20.6291 - val_loss: 1945.4731 - val_mean_squared_error: 1945.4731 - val_mean_absolute_error: 26.6513\n",
      "Epoch 80/150\n",
      "7670/7670 [==============================] - 1s 156us/step - loss: 926.0473 - mean_squared_error: 926.0473 - mean_absolute_error: 20.9608 - val_loss: 1960.7919 - val_mean_squared_error: 1960.7919 - val_mean_absolute_error: 26.7814\n",
      "Epoch 81/150\n",
      "7670/7670 [==============================] - 1s 157us/step - loss: 842.6948 - mean_squared_error: 842.6948 - mean_absolute_error: 20.5121 - val_loss: 2220.6017 - val_mean_squared_error: 2220.6017 - val_mean_absolute_error: 28.5668\n",
      "Epoch 82/150\n",
      "7670/7670 [==============================] - 1s 155us/step - loss: 818.7840 - mean_squared_error: 818.7840 - mean_absolute_error: 19.8030 - val_loss: 1977.4951 - val_mean_squared_error: 1977.4951 - val_mean_absolute_error: 26.4697\n",
      "Epoch 83/150\n",
      "7670/7670 [==============================] - 1s 155us/step - loss: 825.7597 - mean_squared_error: 825.7597 - mean_absolute_error: 20.1108 - val_loss: 2217.9486 - val_mean_squared_error: 2217.9486 - val_mean_absolute_error: 28.3944\n",
      "Epoch 84/150\n",
      "7670/7670 [==============================] - 1s 163us/step - loss: 885.6091 - mean_squared_error: 885.6091 - mean_absolute_error: 20.6854 - val_loss: 1997.5201 - val_mean_squared_error: 1997.5201 - val_mean_absolute_error: 26.6267\n",
      "Epoch 85/150\n",
      "7670/7670 [==============================] - 1s 158us/step - loss: 945.4954 - mean_squared_error: 945.4954 - mean_absolute_error: 21.5730 - val_loss: 2099.6838 - val_mean_squared_error: 2099.6838 - val_mean_absolute_error: 27.6099\n",
      "Epoch 86/150\n",
      "7670/7670 [==============================] - 1s 184us/step - loss: 920.9724 - mean_squared_error: 920.9724 - mean_absolute_error: 21.1243 - val_loss: 1912.4013 - val_mean_squared_error: 1912.4013 - val_mean_absolute_error: 25.7967\n",
      "Epoch 87/150\n",
      "7670/7670 [==============================] - 2s 208us/step - loss: 969.6457 - mean_squared_error: 969.6457 - mean_absolute_error: 21.8144 - val_loss: 1896.3822 - val_mean_squared_error: 1896.3822 - val_mean_absolute_error: 25.8580\n",
      "Epoch 88/150\n",
      "7670/7670 [==============================] - 2s 203us/step - loss: 883.3164 - mean_squared_error: 883.3164 - mean_absolute_error: 20.8105 - val_loss: 1940.2524 - val_mean_squared_error: 1940.2524 - val_mean_absolute_error: 26.0745\n",
      "Epoch 89/150\n",
      "7670/7670 [==============================] - 1s 173us/step - loss: 839.9117 - mean_squared_error: 839.9117 - mean_absolute_error: 20.0205 - val_loss: 2171.5798 - val_mean_squared_error: 2171.5798 - val_mean_absolute_error: 27.9800\n",
      "Epoch 90/150\n",
      "7670/7670 [==============================] - 1s 158us/step - loss: 834.2140 - mean_squared_error: 834.2140 - mean_absolute_error: 20.2795 - val_loss: 1925.1240 - val_mean_squared_error: 1925.1240 - val_mean_absolute_error: 26.1119\n",
      "Epoch 91/150\n",
      "7670/7670 [==============================] - 1s 189us/step - loss: 815.0508 - mean_squared_error: 815.0508 - mean_absolute_error: 20.0889 - val_loss: 1898.9791 - val_mean_squared_error: 1898.9791 - val_mean_absolute_error: 25.8485\n",
      "Epoch 92/150\n",
      "7670/7670 [==============================] - 2s 251us/step - loss: 845.0475 - mean_squared_error: 845.0475 - mean_absolute_error: 20.0617 - val_loss: 2151.4538 - val_mean_squared_error: 2151.4538 - val_mean_absolute_error: 28.4591\n",
      "Epoch 93/150\n",
      "7670/7670 [==============================] - 1s 190us/step - loss: 829.4891 - mean_squared_error: 829.4891 - mean_absolute_error: 19.9739 - val_loss: 2040.9846 - val_mean_squared_error: 2040.9846 - val_mean_absolute_error: 27.0914\n",
      "Epoch 94/150\n",
      "7670/7670 [==============================] - 1s 158us/step - loss: 815.3530 - mean_squared_error: 815.3530 - mean_absolute_error: 20.1986 - val_loss: 2018.4605 - val_mean_squared_error: 2018.4605 - val_mean_absolute_error: 26.7973\n",
      "Epoch 95/150\n",
      "7670/7670 [==============================] - 1s 180us/step - loss: 780.5606 - mean_squared_error: 780.5606 - mean_absolute_error: 19.6186 - val_loss: 1969.5350 - val_mean_squared_error: 1969.5350 - val_mean_absolute_error: 26.4516\n",
      "Epoch 96/150\n",
      "7670/7670 [==============================] - 1s 165us/step - loss: 811.6725 - mean_squared_error: 811.6725 - mean_absolute_error: 19.8245 - val_loss: 1946.1499 - val_mean_squared_error: 1946.1499 - val_mean_absolute_error: 26.2618\n",
      "Epoch 97/150\n",
      "7670/7670 [==============================] - 1s 161us/step - loss: 809.5497 - mean_squared_error: 809.5497 - mean_absolute_error: 19.7540 - val_loss: 2082.0835 - val_mean_squared_error: 2082.0835 - val_mean_absolute_error: 27.5483\n",
      "Epoch 98/150\n",
      "7670/7670 [==============================] - 2s 207us/step - loss: 784.2652 - mean_squared_error: 784.2652 - mean_absolute_error: 19.4808 - val_loss: 1975.9507 - val_mean_squared_error: 1975.9507 - val_mean_absolute_error: 26.0094\n",
      "Epoch 99/150\n",
      "7670/7670 [==============================] - 1s 177us/step - loss: 825.9096 - mean_squared_error: 825.9096 - mean_absolute_error: 19.9266 - val_loss: 1873.0102 - val_mean_squared_error: 1873.0102 - val_mean_absolute_error: 25.7604\n",
      "Epoch 100/150\n",
      "7670/7670 [==============================] - 1s 157us/step - loss: 779.8307 - mean_squared_error: 779.8307 - mean_absolute_error: 19.4857 - val_loss: 1943.3536 - val_mean_squared_error: 1943.3536 - val_mean_absolute_error: 26.1578\n"
     ]
    },
    {
     "name": "stdout",
     "output_type": "stream",
     "text": [
      "Epoch 101/150\n",
      "7670/7670 [==============================] - 1s 164us/step - loss: 801.5839 - mean_squared_error: 801.5839 - mean_absolute_error: 19.8416 - val_loss: 1959.8585 - val_mean_squared_error: 1959.8585 - val_mean_absolute_error: 26.0382\n",
      "Epoch 102/150\n",
      "7670/7670 [==============================] - 1s 155us/step - loss: 840.1344 - mean_squared_error: 840.1344 - mean_absolute_error: 19.9452 - val_loss: 2057.7797 - val_mean_squared_error: 2057.7797 - val_mean_absolute_error: 27.4042\n",
      "Epoch 103/150\n",
      "7670/7670 [==============================] - 1s 156us/step - loss: 824.2970 - mean_squared_error: 824.2970 - mean_absolute_error: 19.8806 - val_loss: 2010.3224 - val_mean_squared_error: 2010.3224 - val_mean_absolute_error: 26.7413\n",
      "Epoch 104/150\n",
      "7670/7670 [==============================] - 1s 160us/step - loss: 738.3668 - mean_squared_error: 738.3668 - mean_absolute_error: 18.7919 - val_loss: 2016.5627 - val_mean_squared_error: 2016.5627 - val_mean_absolute_error: 26.8617\n",
      "Epoch 105/150\n",
      "7670/7670 [==============================] - 1s 158us/step - loss: 776.8199 - mean_squared_error: 776.8199 - mean_absolute_error: 19.4255 - val_loss: 1936.9033 - val_mean_squared_error: 1936.9033 - val_mean_absolute_error: 26.2587\n",
      "Epoch 106/150\n",
      "7670/7670 [==============================] - 1s 151us/step - loss: 781.8693 - mean_squared_error: 781.8693 - mean_absolute_error: 19.5154 - val_loss: 1884.7089 - val_mean_squared_error: 1884.7089 - val_mean_absolute_error: 25.6428\n",
      "Epoch 107/150\n",
      "7670/7670 [==============================] - 1s 164us/step - loss: 793.6732 - mean_squared_error: 793.6732 - mean_absolute_error: 19.7316 - val_loss: 2015.1749 - val_mean_squared_error: 2015.1749 - val_mean_absolute_error: 26.7376\n",
      "Epoch 108/150\n",
      "7670/7670 [==============================] - 1s 157us/step - loss: 812.0692 - mean_squared_error: 812.0692 - mean_absolute_error: 19.8416 - val_loss: 1927.6115 - val_mean_squared_error: 1927.6115 - val_mean_absolute_error: 26.0927\n",
      "Epoch 109/150\n",
      "7670/7670 [==============================] - 1s 156us/step - loss: 801.8643 - mean_squared_error: 801.8643 - mean_absolute_error: 19.5390 - val_loss: 1968.7318 - val_mean_squared_error: 1968.7318 - val_mean_absolute_error: 26.6709\n",
      "Epoch 110/150\n",
      "7670/7670 [==============================] - 1s 161us/step - loss: 775.3701 - mean_squared_error: 775.3701 - mean_absolute_error: 19.5074 - val_loss: 2280.8696 - val_mean_squared_error: 2280.8696 - val_mean_absolute_error: 28.5285\n",
      "Epoch 111/150\n",
      "7670/7670 [==============================] - 1s 158us/step - loss: 754.6929 - mean_squared_error: 754.6929 - mean_absolute_error: 19.0769 - val_loss: 2322.6359 - val_mean_squared_error: 2322.6359 - val_mean_absolute_error: 29.3125\n",
      "Epoch 112/150\n",
      "7670/7670 [==============================] - 1s 158us/step - loss: 806.3269 - mean_squared_error: 806.3269 - mean_absolute_error: 19.5661 - val_loss: 2065.6918 - val_mean_squared_error: 2065.6918 - val_mean_absolute_error: 27.5243\n",
      "Epoch 113/150\n",
      "7670/7670 [==============================] - 1s 156us/step - loss: 752.6272 - mean_squared_error: 752.6272 - mean_absolute_error: 19.3378 - val_loss: 2187.2830 - val_mean_squared_error: 2187.2830 - val_mean_absolute_error: 28.4514\n",
      "Epoch 114/150\n",
      "7670/7670 [==============================] - 2s 235us/step - loss: 763.8935 - mean_squared_error: 763.8935 - mean_absolute_error: 19.2343 - val_loss: 2014.2160 - val_mean_squared_error: 2014.2160 - val_mean_absolute_error: 26.7244\n",
      "Epoch 115/150\n",
      "7670/7670 [==============================] - 2s 253us/step - loss: 747.1378 - mean_squared_error: 747.1378 - mean_absolute_error: 19.0483 - val_loss: 1922.4517 - val_mean_squared_error: 1922.4517 - val_mean_absolute_error: 26.4593\n",
      "Epoch 116/150\n",
      "7670/7670 [==============================] - 2s 232us/step - loss: 790.8260 - mean_squared_error: 790.8260 - mean_absolute_error: 19.4349 - val_loss: 1978.6360 - val_mean_squared_error: 1978.6360 - val_mean_absolute_error: 26.5575\n",
      "Epoch 117/150\n",
      "7670/7670 [==============================] - 2s 227us/step - loss: 790.4293 - mean_squared_error: 790.4293 - mean_absolute_error: 19.7557 - val_loss: 1873.9496 - val_mean_squared_error: 1873.9496 - val_mean_absolute_error: 25.9797\n",
      "Epoch 118/150\n",
      "7670/7670 [==============================] - 1s 187us/step - loss: 729.8423 - mean_squared_error: 729.8423 - mean_absolute_error: 19.1393 - val_loss: 1969.3647 - val_mean_squared_error: 1969.3647 - val_mean_absolute_error: 26.7681\n",
      "Epoch 119/150\n",
      "7670/7670 [==============================] - 2s 198us/step - loss: 765.0083 - mean_squared_error: 765.0083 - mean_absolute_error: 19.2947 - val_loss: 1888.6800 - val_mean_squared_error: 1888.6800 - val_mean_absolute_error: 25.9272\n",
      "Epoch 120/150\n",
      "7670/7670 [==============================] - 2s 200us/step - loss: 724.8155 - mean_squared_error: 724.8155 - mean_absolute_error: 18.9490 - val_loss: 1858.8585 - val_mean_squared_error: 1858.8585 - val_mean_absolute_error: 25.7385\n",
      "Epoch 121/150\n",
      "7670/7670 [==============================] - 1s 194us/step - loss: 679.1971 - mean_squared_error: 679.1971 - mean_absolute_error: 18.2016 - val_loss: 1886.9861 - val_mean_squared_error: 1886.9861 - val_mean_absolute_error: 25.8723\n",
      "Epoch 122/150\n",
      "7670/7670 [==============================] - 2s 214us/step - loss: 726.0704 - mean_squared_error: 726.0704 - mean_absolute_error: 18.8826 - val_loss: 2590.0029 - val_mean_squared_error: 2590.0029 - val_mean_absolute_error: 31.6281\n",
      "Epoch 123/150\n",
      "7670/7670 [==============================] - 2s 203us/step - loss: 721.2810 - mean_squared_error: 721.2810 - mean_absolute_error: 18.7972 - val_loss: 2171.4111 - val_mean_squared_error: 2171.4111 - val_mean_absolute_error: 28.4379\n",
      "Epoch 124/150\n",
      "7670/7670 [==============================] - 2s 252us/step - loss: 711.7918 - mean_squared_error: 711.7918 - mean_absolute_error: 18.8038 - val_loss: 1883.2311 - val_mean_squared_error: 1883.2311 - val_mean_absolute_error: 25.7196\n",
      "Epoch 125/150\n",
      "7670/7670 [==============================] - 2s 196us/step - loss: 666.8698 - mean_squared_error: 666.8698 - mean_absolute_error: 17.9554 - val_loss: 1942.4492 - val_mean_squared_error: 1942.4492 - val_mean_absolute_error: 26.5454\n",
      "Epoch 126/150\n",
      "7670/7670 [==============================] - 2s 206us/step - loss: 717.1346 - mean_squared_error: 717.1346 - mean_absolute_error: 18.7392 - val_loss: 2123.1296 - val_mean_squared_error: 2123.1296 - val_mean_absolute_error: 27.9594\n",
      "Epoch 127/150\n",
      "7670/7670 [==============================] - 2s 238us/step - loss: 751.5269 - mean_squared_error: 751.5269 - mean_absolute_error: 19.0876 - val_loss: 1877.7756 - val_mean_squared_error: 1877.7756 - val_mean_absolute_error: 25.7527\n",
      "Epoch 128/150\n",
      "7670/7670 [==============================] - 2s 210us/step - loss: 744.2150 - mean_squared_error: 744.2150 - mean_absolute_error: 19.1875 - val_loss: 1968.5670 - val_mean_squared_error: 1968.5670 - val_mean_absolute_error: 26.5835\n",
      "Epoch 129/150\n",
      "7670/7670 [==============================] - 2s 204us/step - loss: 760.3719 - mean_squared_error: 760.3719 - mean_absolute_error: 19.2734 - val_loss: 1883.1031 - val_mean_squared_error: 1883.1031 - val_mean_absolute_error: 25.8302\n",
      "Epoch 130/150\n",
      "7670/7670 [==============================] - 2s 210us/step - loss: 769.0674 - mean_squared_error: 769.0674 - mean_absolute_error: 19.4793 - val_loss: 1939.7582 - val_mean_squared_error: 1939.7582 - val_mean_absolute_error: 26.2130\n",
      "Epoch 131/150\n",
      "7670/7670 [==============================] - 2s 223us/step - loss: 789.6099 - mean_squared_error: 789.6099 - mean_absolute_error: 19.6371 - val_loss: 1845.0198 - val_mean_squared_error: 1845.0198 - val_mean_absolute_error: 25.8057\n",
      "Epoch 132/150\n",
      "7670/7670 [==============================] - 2s 207us/step - loss: 719.5458 - mean_squared_error: 719.5458 - mean_absolute_error: 18.7788 - val_loss: 2006.4510 - val_mean_squared_error: 2006.4510 - val_mean_absolute_error: 26.7314\n",
      "Epoch 133/150\n",
      "7670/7670 [==============================] - 2s 198us/step - loss: 718.2548 - mean_squared_error: 718.2548 - mean_absolute_error: 18.8748 - val_loss: 1975.1439 - val_mean_squared_error: 1975.1439 - val_mean_absolute_error: 26.5222\n",
      "Epoch 134/150\n"
     ]
    },
    {
     "name": "stdout",
     "output_type": "stream",
     "text": [
      "7670/7670 [==============================] - 2s 204us/step - loss: 721.7187 - mean_squared_error: 721.7187 - mean_absolute_error: 18.7621 - val_loss: 1891.5531 - val_mean_squared_error: 1891.5531 - val_mean_absolute_error: 25.9398\n",
      "Epoch 135/150\n",
      "7670/7670 [==============================] - 2s 198us/step - loss: 708.7227 - mean_squared_error: 708.7227 - mean_absolute_error: 18.7565 - val_loss: 2245.5997 - val_mean_squared_error: 2245.5997 - val_mean_absolute_error: 28.9330\n",
      "Epoch 136/150\n",
      "7670/7670 [==============================] - 1s 187us/step - loss: 751.4679 - mean_squared_error: 751.4679 - mean_absolute_error: 19.0642 - val_loss: 1956.9614 - val_mean_squared_error: 1956.9614 - val_mean_absolute_error: 26.6835\n",
      "Epoch 137/150\n",
      "7670/7670 [==============================] - 1s 186us/step - loss: 725.1336 - mean_squared_error: 725.1336 - mean_absolute_error: 18.5457 - val_loss: 1961.5751 - val_mean_squared_error: 1961.5751 - val_mean_absolute_error: 26.3760\n",
      "Epoch 138/150\n",
      "7670/7670 [==============================] - 1s 192us/step - loss: 632.6475 - mean_squared_error: 632.6475 - mean_absolute_error: 17.5463 - val_loss: 1879.9335 - val_mean_squared_error: 1879.9335 - val_mean_absolute_error: 25.8046\n",
      "Epoch 139/150\n",
      "7670/7670 [==============================] - 2s 240us/step - loss: 665.1720 - mean_squared_error: 665.1720 - mean_absolute_error: 17.9600 - val_loss: 1877.6871 - val_mean_squared_error: 1877.6871 - val_mean_absolute_error: 25.7147\n",
      "Epoch 140/150\n",
      "7670/7670 [==============================] - 2s 225us/step - loss: 676.6279 - mean_squared_error: 676.6279 - mean_absolute_error: 18.2888 - val_loss: 1890.9713 - val_mean_squared_error: 1890.9713 - val_mean_absolute_error: 25.9819\n",
      "Epoch 141/150\n",
      "7670/7670 [==============================] - 2s 207us/step - loss: 697.3154 - mean_squared_error: 697.3154 - mean_absolute_error: 18.4302 - val_loss: 1887.1214 - val_mean_squared_error: 1887.1214 - val_mean_absolute_error: 25.7846\n",
      "Epoch 142/150\n",
      "7670/7670 [==============================] - 2s 255us/step - loss: 709.2893 - mean_squared_error: 709.2893 - mean_absolute_error: 18.5183 - val_loss: 1986.3321 - val_mean_squared_error: 1986.3321 - val_mean_absolute_error: 26.9041\n",
      "Epoch 143/150\n",
      "7670/7670 [==============================] - 2s 254us/step - loss: 705.7616 - mean_squared_error: 705.7616 - mean_absolute_error: 18.6156 - val_loss: 2091.9722 - val_mean_squared_error: 2091.9722 - val_mean_absolute_error: 27.7961\n",
      "Epoch 144/150\n",
      "7670/7670 [==============================] - 2s 232us/step - loss: 655.2735 - mean_squared_error: 655.2735 - mean_absolute_error: 18.0351 - val_loss: 2027.1949 - val_mean_squared_error: 2027.1949 - val_mean_absolute_error: 26.9089\n",
      "Epoch 145/150\n",
      "7670/7670 [==============================] - 2s 202us/step - loss: 680.9414 - mean_squared_error: 680.9414 - mean_absolute_error: 18.2520 - val_loss: 2041.1119 - val_mean_squared_error: 2041.1119 - val_mean_absolute_error: 27.2472\n",
      "Epoch 146/150\n",
      "7670/7670 [==============================] - 2s 208us/step - loss: 721.0083 - mean_squared_error: 721.0083 - mean_absolute_error: 18.7278 - val_loss: 1894.7062 - val_mean_squared_error: 1894.7062 - val_mean_absolute_error: 26.3269\n",
      "Epoch 147/150\n",
      "7670/7670 [==============================] - 2s 227us/step - loss: 691.0039 - mean_squared_error: 691.0039 - mean_absolute_error: 18.4166 - val_loss: 1937.9722 - val_mean_squared_error: 1937.9722 - val_mean_absolute_error: 26.1117\n",
      "Epoch 148/150\n",
      "7670/7670 [==============================] - 2s 235us/step - loss: 721.3277 - mean_squared_error: 721.3277 - mean_absolute_error: 18.6639 - val_loss: 2036.3094 - val_mean_squared_error: 2036.3094 - val_mean_absolute_error: 27.5580\n",
      "Epoch 149/150\n",
      "7670/7670 [==============================] - 2s 229us/step - loss: 729.8914 - mean_squared_error: 729.8914 - mean_absolute_error: 18.8594 - val_loss: 2059.5089 - val_mean_squared_error: 2059.5089 - val_mean_absolute_error: 27.2472\n",
      "Epoch 150/150\n",
      "7670/7670 [==============================] - 2s 209us/step - loss: 718.0175 - mean_squared_error: 718.0175 - mean_absolute_error: 18.8506 - val_loss: 1931.0649 - val_mean_squared_error: 1931.0649 - val_mean_absolute_error: 26.5648\n"
     ]
    }
   ],
   "source": [
    "history_model_3 = model_Split_3.fit(X_train_model_3, y_train_model_3, epochs=100, batch_size=60,  verbose=1, validation_split=0.2)"
   ]
  },
  {
   "cell_type": "code",
   "execution_count": 73,
   "metadata": {},
   "outputs": [],
   "source": [
    "y_pred_model_3 = model_Split_3.predict(X_test_model_3)"
   ]
  },
  {
   "cell_type": "code",
   "execution_count": 74,
   "metadata": {},
   "outputs": [
    {
     "name": "stdout",
     "output_type": "stream",
     "text": [
      "RMSLE model 3: 0.3984451612412788\n"
     ]
    }
   ],
   "source": [
    "print('RMSLE model 3:', np.sqrt(mean_squared_log_error(y_test_model_3, y_pred_model_3)))"
   ]
  },
  {
   "cell_type": "code",
   "execution_count": null,
   "metadata": {},
   "outputs": [],
   "source": []
  },
  {
   "cell_type": "markdown",
   "metadata": {},
   "source": [
    "#### Model 4"
   ]
  },
  {
   "cell_type": "markdown",
   "metadata": {},
   "source": [
    "Take set 1,2,3,5 for train and set 4 for test:"
   ]
  },
  {
   "cell_type": "markdown",
   "metadata": {},
   "source": [
    " `concat()` train_parts which are pandas dataFrames \n",
    " \n",
    " https://pandas.pydata.org/pandas-docs/stable/user_guide/merging.html"
   ]
  },
  {
   "cell_type": "code",
   "execution_count": 75,
   "metadata": {},
   "outputs": [],
   "source": [
    "temp4 = [train_part_1, train_part_2, train_part_3, train_part_5]\n",
    "train_model_4 = pd.concat(temp4)\n",
    "\n",
    "temp4 = [train_part_4]\n",
    "test_model_4= pd.concat(temp4)"
   ]
  },
  {
   "cell_type": "code",
   "execution_count": 76,
   "metadata": {},
   "outputs": [],
   "source": [
    "y_train_model_4 = train_model_4['count']\n",
    "X_train_model_4 = train_model_4[['temp', 'humidity','season_1','season_2','season_3','season_4','year_0','year_1','month_1','month_2','month_3','month_4','month_5','month_6','month_7','month_8','month_9','month_10','month_11','month_12','hour_0','hour_1','hour_2','hour_3','hour_4','hour_5','hour_6','hour_7','hour_8','hour_9','hour_10','hour_11','hour_12','hour_13','hour_14','hour_15','hour_16','hour_17','hour_18','hour_19','hour_20','hour_21','hour_22','hour_23','weekday_0','weekday_1','weekday_2','weekday_3','weekday_4','weekday_5','weekday_6','weather_1','weather_2','weather_3','holiday_0','holiday_1']]\n",
    "\n",
    "y_test_model_4 = test_model_4['count']\n",
    "X_test_model_4 = test_model_4[['temp', 'humidity','season_1','season_2','season_3','season_4','year_0','year_1','month_1','month_2','month_3','month_4','month_5','month_6','month_7','month_8','month_9','month_10','month_11','month_12','hour_0','hour_1','hour_2','hour_3','hour_4','hour_5','hour_6','hour_7','hour_8','hour_9','hour_10','hour_11','hour_12','hour_13','hour_14','hour_15','hour_16','hour_17','hour_18','hour_19','hour_20','hour_21','hour_22','hour_23','weekday_0','weekday_1','weekday_2','weekday_3','weekday_4','weekday_5','weekday_6','weather_1','weather_2','weather_3','holiday_0','holiday_1']]"
   ]
  },
  {
   "cell_type": "code",
   "execution_count": null,
   "metadata": {},
   "outputs": [],
   "source": []
  },
  {
   "cell_type": "code",
   "execution_count": 77,
   "metadata": {},
   "outputs": [
    {
     "data": {
      "text/plain": [
       "(9588, 56)"
      ]
     },
     "execution_count": 77,
     "metadata": {},
     "output_type": "execute_result"
    }
   ],
   "source": [
    "X_train_model_4.shape"
   ]
  },
  {
   "cell_type": "markdown",
   "metadata": {},
   "source": [
    "Make neurotic shape:"
   ]
  },
  {
   "cell_type": "code",
   "execution_count": 78,
   "metadata": {},
   "outputs": [
    {
     "name": "stdout",
     "output_type": "stream",
     "text": [
      "_________________________________________________________________\n",
      "Layer (type)                 Output Shape              Param #   \n",
      "=================================================================\n",
      "dense_21 (Dense)             (None, 120)               6720      \n",
      "_________________________________________________________________\n",
      "batch_normalization_17 (Batc (None, 120)               480       \n",
      "_________________________________________________________________\n",
      "activation_17 (Activation)   (None, 120)               0         \n",
      "_________________________________________________________________\n",
      "gaussian_noise_4 (GaussianNo (None, 120)               0         \n",
      "_________________________________________________________________\n",
      "dropout_4 (Dropout)          (None, 120)               0         \n",
      "_________________________________________________________________\n",
      "dense_22 (Dense)             (None, 80)                9600      \n",
      "_________________________________________________________________\n",
      "batch_normalization_18 (Batc (None, 80)                320       \n",
      "_________________________________________________________________\n",
      "activation_18 (Activation)   (None, 80)                0         \n",
      "_________________________________________________________________\n",
      "dense_23 (Dense)             (None, 40)                3200      \n",
      "_________________________________________________________________\n",
      "batch_normalization_19 (Batc (None, 40)                160       \n",
      "_________________________________________________________________\n",
      "activation_19 (Activation)   (None, 40)                0         \n",
      "_________________________________________________________________\n",
      "dense_24 (Dense)             (None, 12)                480       \n",
      "_________________________________________________________________\n",
      "batch_normalization_20 (Batc (None, 12)                48        \n",
      "_________________________________________________________________\n",
      "activation_20 (Activation)   (None, 12)                0         \n",
      "_________________________________________________________________\n",
      "dense_25 (Dense)             (None, 1)                 13        \n",
      "=================================================================\n",
      "Total params: 21,021\n",
      "Trainable params: 20,517\n",
      "Non-trainable params: 504\n",
      "_________________________________________________________________\n"
     ]
    }
   ],
   "source": [
    "model_Split_4 = Sequential()\n",
    "#model.add(Dense(120, input_dim=35, kernel_initializer='normal', activation='relu'))\n",
    "\n",
    "#model.add(GaussianNoise(0.01, input_shape=(59,)))\n",
    "#model.add(Dense(120, activation='relu'))\n",
    "\n",
    "model_Split_4.add(Dense(120, input_dim=56, kernel_initializer=RandomNormal(mean=0.0, stddev=0.05, seed=12), use_bias = False))\n",
    "model_Split_4.add(BatchNormalization())\n",
    "model_Split_4.add(Activation('relu'))\n",
    "model_Split_4.add(GaussianNoise(0.01))\n",
    "model_Split_4.add(Dropout(0.01))\n",
    "\n",
    "model_Split_4.add(Dense(80, use_bias = False))\n",
    "model_Split_4.add(BatchNormalization())\n",
    "model_Split_4.add(Activation('relu'))\n",
    "\n",
    "#model.add(Dropout(0.1))\n",
    "\n",
    "model_Split_4.add(Dense(40, use_bias = False))\n",
    "model_Split_4.add(BatchNormalization())\n",
    "model_Split_4.add(Activation('relu'))\n",
    "\n",
    "model_Split_4.add(Dense(12, use_bias = False))\n",
    "model_Split_4.add(BatchNormalization())\n",
    "model_Split_4.add(Activation('relu'))\n",
    "\n",
    "model_Split_4.add(Dense(1, activation='relu'))\n",
    "model_Split_4.summary()"
   ]
  },
  {
   "cell_type": "code",
   "execution_count": 79,
   "metadata": {},
   "outputs": [],
   "source": [
    "model_Split_4.compile(loss='mse', optimizer=Adam(lr= 0.008), metrics=['mse','mae'])"
   ]
  },
  {
   "cell_type": "code",
   "execution_count": null,
   "metadata": {},
   "outputs": [],
   "source": []
  },
  {
   "cell_type": "code",
   "execution_count": 80,
   "metadata": {
    "scrolled": true
   },
   "outputs": [
    {
     "name": "stdout",
     "output_type": "stream",
     "text": [
      "Train on 7670 samples, validate on 1918 samples\n",
      "Epoch 1/150\n",
      "7670/7670 [==============================] - 6s 774us/step - loss: 52863.0197 - mean_squared_error: 52863.0197 - mean_absolute_error: 170.6779 - val_loss: 32874.3889 - val_mean_squared_error: 32874.3889 - val_mean_absolute_error: 136.3329\n",
      "Epoch 2/150\n",
      "7670/7670 [==============================] - 2s 209us/step - loss: 29770.0837 - mean_squared_error: 29770.0837 - mean_absolute_error: 127.4532 - val_loss: 8333.1399 - val_mean_squared_error: 8333.1399 - val_mean_absolute_error: 69.4990\n",
      "Epoch 3/150\n",
      "7670/7670 [==============================] - 1s 193us/step - loss: 8449.1740 - mean_squared_error: 8449.1740 - mean_absolute_error: 64.1317 - val_loss: 6522.3644 - val_mean_squared_error: 6522.3644 - val_mean_absolute_error: 52.9545\n",
      "Epoch 4/150\n",
      "7670/7670 [==============================] - 2s 205us/step - loss: 3198.2255 - mean_squared_error: 3198.2255 - mean_absolute_error: 38.8442 - val_loss: 4206.5761 - val_mean_squared_error: 4206.5761 - val_mean_absolute_error: 40.8166\n",
      "Epoch 5/150\n",
      "7670/7670 [==============================] - 2s 231us/step - loss: 2719.8471 - mean_squared_error: 2719.8471 - mean_absolute_error: 35.6242 - val_loss: 2734.0217 - val_mean_squared_error: 2734.0217 - val_mean_absolute_error: 33.8092\n",
      "Epoch 6/150\n",
      "7670/7670 [==============================] - 2s 226us/step - loss: 2620.2218 - mean_squared_error: 2620.2218 - mean_absolute_error: 33.9518 - val_loss: 2325.0667 - val_mean_squared_error: 2325.0667 - val_mean_absolute_error: 30.9886\n",
      "Epoch 7/150\n",
      "7670/7670 [==============================] - 1s 192us/step - loss: 2427.4123 - mean_squared_error: 2427.4123 - mean_absolute_error: 33.2340 - val_loss: 2303.2484 - val_mean_squared_error: 2303.2484 - val_mean_absolute_error: 30.5130\n",
      "Epoch 8/150\n",
      "7670/7670 [==============================] - 1s 180us/step - loss: 2353.2746 - mean_squared_error: 2353.2746 - mean_absolute_error: 32.4435 - val_loss: 2033.8067 - val_mean_squared_error: 2033.8067 - val_mean_absolute_error: 27.9090\n",
      "Epoch 9/150\n",
      "7670/7670 [==============================] - 2s 245us/step - loss: 2199.9206 - mean_squared_error: 2199.9206 - mean_absolute_error: 31.4112 - val_loss: 2000.7409 - val_mean_squared_error: 2000.7409 - val_mean_absolute_error: 27.5420\n",
      "Epoch 10/150\n",
      "7670/7670 [==============================] - 1s 194us/step - loss: 2082.0754 - mean_squared_error: 2082.0754 - mean_absolute_error: 30.4725 - val_loss: 2063.7199 - val_mean_squared_error: 2063.7199 - val_mean_absolute_error: 27.9417\n",
      "Epoch 11/150\n",
      "7670/7670 [==============================] - 2s 205us/step - loss: 2131.9202 - mean_squared_error: 2131.9202 - mean_absolute_error: 31.0306 - val_loss: 2049.9087 - val_mean_squared_error: 2049.9087 - val_mean_absolute_error: 27.4022\n",
      "Epoch 12/150\n",
      "7670/7670 [==============================] - 1s 189us/step - loss: 1872.2749 - mean_squared_error: 1872.2749 - mean_absolute_error: 28.9753 - val_loss: 2149.4538 - val_mean_squared_error: 2149.4538 - val_mean_absolute_error: 28.5824\n",
      "Epoch 13/150\n",
      "7670/7670 [==============================] - 2s 204us/step - loss: 2067.1780 - mean_squared_error: 2067.1780 - mean_absolute_error: 30.3381 - val_loss: 2039.4436 - val_mean_squared_error: 2039.4436 - val_mean_absolute_error: 27.6442\n",
      "Epoch 14/150\n",
      "7670/7670 [==============================] - 1s 183us/step - loss: 2016.0980 - mean_squared_error: 2016.0980 - mean_absolute_error: 29.9586 - val_loss: 1973.6496 - val_mean_squared_error: 1973.6496 - val_mean_absolute_error: 27.3215\n",
      "Epoch 15/150\n",
      "7670/7670 [==============================] - 1s 180us/step - loss: 1870.3843 - mean_squared_error: 1870.3843 - mean_absolute_error: 29.0424 - val_loss: 2107.8744 - val_mean_squared_error: 2107.8744 - val_mean_absolute_error: 28.1529\n",
      "Epoch 16/150\n",
      "7670/7670 [==============================] - 2s 222us/step - loss: 1849.3549 - mean_squared_error: 1849.3549 - mean_absolute_error: 28.9197 - val_loss: 2231.1234 - val_mean_squared_error: 2231.1234 - val_mean_absolute_error: 28.8324\n",
      "Epoch 17/150\n",
      "7670/7670 [==============================] - 1s 179us/step - loss: 1841.2409 - mean_squared_error: 1841.2409 - mean_absolute_error: 28.6138 - val_loss: 3163.0602 - val_mean_squared_error: 3163.0602 - val_mean_absolute_error: 34.7539\n",
      "Epoch 18/150\n",
      "7670/7670 [==============================] - 2s 218us/step - loss: 1689.1329 - mean_squared_error: 1689.1329 - mean_absolute_error: 27.8689 - val_loss: 2058.2298 - val_mean_squared_error: 2058.2298 - val_mean_absolute_error: 27.3325\n",
      "Epoch 19/150\n",
      "7670/7670 [==============================] - 2s 222us/step - loss: 1870.1585 - mean_squared_error: 1870.1585 - mean_absolute_error: 29.2239 - val_loss: 1959.1938 - val_mean_squared_error: 1959.1938 - val_mean_absolute_error: 26.7117\n",
      "Epoch 20/150\n",
      "7670/7670 [==============================] - 2s 203us/step - loss: 1594.8153 - mean_squared_error: 1594.8153 - mean_absolute_error: 26.7825 - val_loss: 1922.8125 - val_mean_squared_error: 1922.8125 - val_mean_absolute_error: 26.8594\n",
      "Epoch 21/150\n",
      "7670/7670 [==============================] - 2s 290us/step - loss: 1797.9861 - mean_squared_error: 1797.9861 - mean_absolute_error: 28.4539 - val_loss: 2298.0353 - val_mean_squared_error: 2298.0353 - val_mean_absolute_error: 29.9630\n",
      "Epoch 22/150\n",
      "7670/7670 [==============================] - 2s 275us/step - loss: 1721.8864 - mean_squared_error: 1721.8864 - mean_absolute_error: 28.1042 - val_loss: 1996.4826 - val_mean_squared_error: 1996.4826 - val_mean_absolute_error: 27.2374\n",
      "Epoch 23/150\n",
      "7670/7670 [==============================] - 2s 271us/step - loss: 1569.7618 - mean_squared_error: 1569.7618 - mean_absolute_error: 27.1715 - val_loss: 2622.1236 - val_mean_squared_error: 2622.1236 - val_mean_absolute_error: 31.4937\n",
      "Epoch 24/150\n",
      "7670/7670 [==============================] - 2s 249us/step - loss: 1696.4585 - mean_squared_error: 1696.4585 - mean_absolute_error: 27.9178 - val_loss: 2119.5114 - val_mean_squared_error: 2119.5114 - val_mean_absolute_error: 28.7616\n",
      "Epoch 25/150\n",
      "7670/7670 [==============================] - 2s 272us/step - loss: 1628.7050 - mean_squared_error: 1628.7050 - mean_absolute_error: 27.1968 - val_loss: 1923.8498 - val_mean_squared_error: 1923.8498 - val_mean_absolute_error: 25.9680\n",
      "Epoch 26/150\n",
      "7670/7670 [==============================] - 2s 228us/step - loss: 1525.9514 - mean_squared_error: 1525.9514 - mean_absolute_error: 26.3227 - val_loss: 1986.9953 - val_mean_squared_error: 1986.9953 - val_mean_absolute_error: 27.2526\n",
      "Epoch 27/150\n",
      "7670/7670 [==============================] - 2s 206us/step - loss: 1697.1673 - mean_squared_error: 1697.1673 - mean_absolute_error: 28.1806 - val_loss: 2010.4885 - val_mean_squared_error: 2010.4885 - val_mean_absolute_error: 26.9150\n",
      "Epoch 28/150\n",
      "7670/7670 [==============================] - 2s 213us/step - loss: 1669.9892 - mean_squared_error: 1669.9892 - mean_absolute_error: 28.3797 - val_loss: 2049.5907 - val_mean_squared_error: 2049.5907 - val_mean_absolute_error: 27.1406\n",
      "Epoch 29/150\n",
      "7670/7670 [==============================] - 2s 247us/step - loss: 1353.4666 - mean_squared_error: 1353.4666 - mean_absolute_error: 25.2990 - val_loss: 2127.8996 - val_mean_squared_error: 2127.8996 - val_mean_absolute_error: 28.3600\n",
      "Epoch 30/150\n",
      "7670/7670 [==============================] - 2s 256us/step - loss: 1531.7356 - mean_squared_error: 1531.7356 - mean_absolute_error: 26.6902 - val_loss: 2264.2694 - val_mean_squared_error: 2264.2694 - val_mean_absolute_error: 29.3665\n",
      "Epoch 31/150\n",
      "7670/7670 [==============================] - 2s 241us/step - loss: 1457.2155 - mean_squared_error: 1457.2155 - mean_absolute_error: 26.2456 - val_loss: 2012.3444 - val_mean_squared_error: 2012.3444 - val_mean_absolute_error: 27.4734\n",
      "Epoch 32/150\n",
      "7670/7670 [==============================] - 2s 251us/step - loss: 1401.7803 - mean_squared_error: 1401.7803 - mean_absolute_error: 25.8069 - val_loss: 2004.1258 - val_mean_squared_error: 2004.1258 - val_mean_absolute_error: 27.0411\n",
      "Epoch 33/150\n",
      "7670/7670 [==============================] - 2s 257us/step - loss: 1434.8173 - mean_squared_error: 1434.8173 - mean_absolute_error: 25.6652 - val_loss: 1935.9275 - val_mean_squared_error: 1935.9275 - val_mean_absolute_error: 26.7915\n",
      "Epoch 34/150\n"
     ]
    },
    {
     "name": "stdout",
     "output_type": "stream",
     "text": [
      "7670/7670 [==============================] - 1s 191us/step - loss: 1452.8643 - mean_squared_error: 1452.8643 - mean_absolute_error: 26.2037 - val_loss: 1959.2666 - val_mean_squared_error: 1959.2666 - val_mean_absolute_error: 26.8896\n",
      "Epoch 35/150\n",
      "7670/7670 [==============================] - 2s 223us/step - loss: 1526.7191 - mean_squared_error: 1526.7191 - mean_absolute_error: 27.0182 - val_loss: 2279.7249 - val_mean_squared_error: 2279.7249 - val_mean_absolute_error: 29.3420\n",
      "Epoch 36/150\n",
      "7670/7670 [==============================] - 2s 212us/step - loss: 1452.7964 - mean_squared_error: 1452.7964 - mean_absolute_error: 26.5286 - val_loss: 2343.5529 - val_mean_squared_error: 2343.5529 - val_mean_absolute_error: 29.9468\n",
      "Epoch 37/150\n",
      "7670/7670 [==============================] - 2s 237us/step - loss: 1428.9294 - mean_squared_error: 1428.9294 - mean_absolute_error: 25.9422 - val_loss: 2027.7904 - val_mean_squared_error: 2027.7904 - val_mean_absolute_error: 27.3422\n",
      "Epoch 38/150\n",
      "7670/7670 [==============================] - 2s 243us/step - loss: 1342.5371 - mean_squared_error: 1342.5371 - mean_absolute_error: 25.3167 - val_loss: 1946.3994 - val_mean_squared_error: 1946.3994 - val_mean_absolute_error: 26.9139\n",
      "Epoch 39/150\n",
      "7670/7670 [==============================] - 2s 265us/step - loss: 1381.0005 - mean_squared_error: 1381.0005 - mean_absolute_error: 26.0641 - val_loss: 2082.8624 - val_mean_squared_error: 2082.8624 - val_mean_absolute_error: 28.6999\n",
      "Epoch 40/150\n",
      "7670/7670 [==============================] - 2s 258us/step - loss: 1408.6802 - mean_squared_error: 1408.6802 - mean_absolute_error: 26.0410 - val_loss: 2019.6117 - val_mean_squared_error: 2019.6117 - val_mean_absolute_error: 26.9828\n",
      "Epoch 41/150\n",
      "7670/7670 [==============================] - 2s 231us/step - loss: 1295.5886 - mean_squared_error: 1295.5886 - mean_absolute_error: 24.9183 - val_loss: 2116.4754 - val_mean_squared_error: 2116.4754 - val_mean_absolute_error: 27.5778\n",
      "Epoch 42/150\n",
      "7670/7670 [==============================] - 2s 217us/step - loss: 1270.8317 - mean_squared_error: 1270.8317 - mean_absolute_error: 24.7171 - val_loss: 1984.0592 - val_mean_squared_error: 1984.0592 - val_mean_absolute_error: 26.8436\n",
      "Epoch 43/150\n",
      "7670/7670 [==============================] - 2s 226us/step - loss: 1306.0288 - mean_squared_error: 1306.0288 - mean_absolute_error: 24.9812 - val_loss: 2062.6438 - val_mean_squared_error: 2062.6438 - val_mean_absolute_error: 27.7780\n",
      "Epoch 44/150\n",
      "7670/7670 [==============================] - 2s 197us/step - loss: 1256.9604 - mean_squared_error: 1256.9604 - mean_absolute_error: 24.4268 - val_loss: 2280.3295 - val_mean_squared_error: 2280.3295 - val_mean_absolute_error: 28.7541\n",
      "Epoch 45/150\n",
      "7670/7670 [==============================] - 2s 212us/step - loss: 1358.6656 - mean_squared_error: 1358.6656 - mean_absolute_error: 25.4251 - val_loss: 2149.8413 - val_mean_squared_error: 2149.8413 - val_mean_absolute_error: 28.4035\n",
      "Epoch 46/150\n",
      "7670/7670 [==============================] - 2s 213us/step - loss: 1233.1542 - mean_squared_error: 1233.1542 - mean_absolute_error: 24.3505 - val_loss: 1913.2887 - val_mean_squared_error: 1913.2887 - val_mean_absolute_error: 26.5516\n",
      "Epoch 47/150\n",
      "7670/7670 [==============================] - 2s 202us/step - loss: 1217.8316 - mean_squared_error: 1217.8316 - mean_absolute_error: 24.0155 - val_loss: 2029.6719 - val_mean_squared_error: 2029.6719 - val_mean_absolute_error: 27.1530\n",
      "Epoch 48/150\n",
      "7670/7670 [==============================] - 2s 237us/step - loss: 1217.3355 - mean_squared_error: 1217.3355 - mean_absolute_error: 24.0400 - val_loss: 2015.1146 - val_mean_squared_error: 2015.1146 - val_mean_absolute_error: 26.9770\n",
      "Epoch 49/150\n",
      "7670/7670 [==============================] - 2s 205us/step - loss: 1219.7890 - mean_squared_error: 1219.7890 - mean_absolute_error: 24.3103 - val_loss: 2022.8326 - val_mean_squared_error: 2022.8326 - val_mean_absolute_error: 27.0380\n",
      "Epoch 50/150\n",
      "7670/7670 [==============================] - 2s 206us/step - loss: 1158.3980 - mean_squared_error: 1158.3980 - mean_absolute_error: 23.6121 - val_loss: 2332.3254 - val_mean_squared_error: 2332.3254 - val_mean_absolute_error: 29.8244\n",
      "Epoch 51/150\n",
      "7670/7670 [==============================] - 2s 247us/step - loss: 1264.7807 - mean_squared_error: 1264.7807 - mean_absolute_error: 24.3940 - val_loss: 2022.3080 - val_mean_squared_error: 2022.3080 - val_mean_absolute_error: 26.8024\n",
      "Epoch 52/150\n",
      "7670/7670 [==============================] - 2s 209us/step - loss: 1128.2858 - mean_squared_error: 1128.2858 - mean_absolute_error: 23.4060 - val_loss: 1979.0944 - val_mean_squared_error: 1979.0944 - val_mean_absolute_error: 26.8843\n",
      "Epoch 53/150\n",
      "7670/7670 [==============================] - 2s 262us/step - loss: 1196.8213 - mean_squared_error: 1196.8213 - mean_absolute_error: 23.9616 - val_loss: 2085.2268 - val_mean_squared_error: 2085.2268 - val_mean_absolute_error: 27.1561\n",
      "Epoch 54/150\n",
      "7670/7670 [==============================] - 2s 206us/step - loss: 1178.7894 - mean_squared_error: 1178.7894 - mean_absolute_error: 23.5745 - val_loss: 2151.6127 - val_mean_squared_error: 2151.6127 - val_mean_absolute_error: 28.3567\n",
      "Epoch 55/150\n",
      "7670/7670 [==============================] - 2s 237us/step - loss: 1187.0869 - mean_squared_error: 1187.0869 - mean_absolute_error: 24.1307 - val_loss: 2071.0824 - val_mean_squared_error: 2071.0824 - val_mean_absolute_error: 27.3144\n",
      "Epoch 56/150\n",
      "7670/7670 [==============================] - 2s 217us/step - loss: 1254.9050 - mean_squared_error: 1254.9050 - mean_absolute_error: 24.8431 - val_loss: 2068.0729 - val_mean_squared_error: 2068.0729 - val_mean_absolute_error: 27.0127\n",
      "Epoch 57/150\n",
      "7670/7670 [==============================] - 2s 245us/step - loss: 1140.0009 - mean_squared_error: 1140.0009 - mean_absolute_error: 23.4994 - val_loss: 2357.3152 - val_mean_squared_error: 2357.3152 - val_mean_absolute_error: 29.6903\n",
      "Epoch 58/150\n",
      "7670/7670 [==============================] - 2s 251us/step - loss: 1154.5860 - mean_squared_error: 1154.5860 - mean_absolute_error: 23.4683 - val_loss: 2055.7655 - val_mean_squared_error: 2055.7655 - val_mean_absolute_error: 27.4428\n",
      "Epoch 59/150\n",
      "7670/7670 [==============================] - 3s 339us/step - loss: 1028.0971 - mean_squared_error: 1028.0971 - mean_absolute_error: 22.3058 - val_loss: 2291.6416 - val_mean_squared_error: 2291.6416 - val_mean_absolute_error: 28.6990\n",
      "Epoch 60/150\n",
      "7670/7670 [==============================] - 2s 268us/step - loss: 1157.3415 - mean_squared_error: 1157.3415 - mean_absolute_error: 23.5555 - val_loss: 2112.5426 - val_mean_squared_error: 2112.5426 - val_mean_absolute_error: 27.3303\n",
      "Epoch 61/150\n",
      "7670/7670 [==============================] - 2s 259us/step - loss: 1196.9681 - mean_squared_error: 1196.9681 - mean_absolute_error: 24.1671 - val_loss: 2100.3158 - val_mean_squared_error: 2100.3158 - val_mean_absolute_error: 27.4537\n",
      "Epoch 62/150\n",
      "7670/7670 [==============================] - 2s 248us/step - loss: 1016.7068 - mean_squared_error: 1016.7068 - mean_absolute_error: 22.0825 - val_loss: 2065.4113 - val_mean_squared_error: 2065.4113 - val_mean_absolute_error: 27.1063\n",
      "Epoch 63/150\n",
      "7670/7670 [==============================] - 2s 316us/step - loss: 1134.3434 - mean_squared_error: 1134.3434 - mean_absolute_error: 23.4656 - val_loss: 2077.1827 - val_mean_squared_error: 2077.1827 - val_mean_absolute_error: 27.3565\n",
      "Epoch 64/150\n",
      "7670/7670 [==============================] - 2s 281us/step - loss: 1105.0082 - mean_squared_error: 1105.0082 - mean_absolute_error: 23.1114 - val_loss: 2088.6006 - val_mean_squared_error: 2088.6006 - val_mean_absolute_error: 27.4035\n",
      "Epoch 65/150\n",
      "7670/7670 [==============================] - 2s 262us/step - loss: 1017.7925 - mean_squared_error: 1017.7925 - mean_absolute_error: 21.8401 - val_loss: 2320.2637 - val_mean_squared_error: 2320.2637 - val_mean_absolute_error: 29.0406\n",
      "Epoch 66/150\n",
      "7670/7670 [==============================] - 2s 234us/step - loss: 1015.9190 - mean_squared_error: 1015.9190 - mean_absolute_error: 22.3507 - val_loss: 2327.1297 - val_mean_squared_error: 2327.1297 - val_mean_absolute_error: 29.0025\n",
      "Epoch 67/150\n"
     ]
    },
    {
     "name": "stdout",
     "output_type": "stream",
     "text": [
      "7670/7670 [==============================] - 2s 225us/step - loss: 1005.3214 - mean_squared_error: 1005.3214 - mean_absolute_error: 22.1226 - val_loss: 2041.4931 - val_mean_squared_error: 2041.4931 - val_mean_absolute_error: 26.6038\n",
      "Epoch 68/150\n",
      "7670/7670 [==============================] - 2s 236us/step - loss: 1011.3497 - mean_squared_error: 1011.3497 - mean_absolute_error: 22.4891 - val_loss: 1967.8091 - val_mean_squared_error: 1967.8091 - val_mean_absolute_error: 26.9406\n",
      "Epoch 69/150\n",
      "7670/7670 [==============================] - 2s 233us/step - loss: 1030.4966 - mean_squared_error: 1030.4966 - mean_absolute_error: 22.3020 - val_loss: 2138.0385 - val_mean_squared_error: 2138.0385 - val_mean_absolute_error: 27.6518\n",
      "Epoch 70/150\n",
      "7670/7670 [==============================] - 2s 264us/step - loss: 1105.0334 - mean_squared_error: 1105.0334 - mean_absolute_error: 22.9421 - val_loss: 2214.6353 - val_mean_squared_error: 2214.6353 - val_mean_absolute_error: 28.28927 - mean_squared_error: 1084.7677 - mean_absolute_e\n",
      "Epoch 71/150\n",
      "7670/7670 [==============================] - 2s 235us/step - loss: 937.0799 - mean_squared_error: 937.0799 - mean_absolute_error: 21.4931 - val_loss: 2048.6167 - val_mean_squared_error: 2048.6167 - val_mean_absolute_error: 26.6662\n",
      "Epoch 72/150\n",
      "7670/7670 [==============================] - 2s 227us/step - loss: 1052.8350 - mean_squared_error: 1052.8350 - mean_absolute_error: 22.8009 - val_loss: 2279.9281 - val_mean_squared_error: 2279.9281 - val_mean_absolute_error: 28.5914\n",
      "Epoch 73/150\n",
      "7670/7670 [==============================] - 2s 254us/step - loss: 1062.4722 - mean_squared_error: 1062.4722 - mean_absolute_error: 22.5829 - val_loss: 1969.3506 - val_mean_squared_error: 1969.3506 - val_mean_absolute_error: 26.5821\n",
      "Epoch 74/150\n",
      "7670/7670 [==============================] - 2s 245us/step - loss: 1029.4690 - mean_squared_error: 1029.4690 - mean_absolute_error: 22.1101 - val_loss: 2354.3004 - val_mean_squared_error: 2354.3004 - val_mean_absolute_error: 29.5577\n",
      "Epoch 75/150\n",
      "7670/7670 [==============================] - 2s 203us/step - loss: 1042.8102 - mean_squared_error: 1042.8102 - mean_absolute_error: 22.6541 - val_loss: 1997.4239 - val_mean_squared_error: 1997.4239 - val_mean_absolute_error: 26.5414\n",
      "Epoch 76/150\n",
      "7670/7670 [==============================] - 2s 240us/step - loss: 977.1610 - mean_squared_error: 977.1610 - mean_absolute_error: 21.7164 - val_loss: 2070.9516 - val_mean_squared_error: 2070.9516 - val_mean_absolute_error: 27.1310\n",
      "Epoch 77/150\n",
      "7670/7670 [==============================] - 2s 204us/step - loss: 948.7535 - mean_squared_error: 948.7535 - mean_absolute_error: 21.6176 - val_loss: 2106.7472 - val_mean_squared_error: 2106.7472 - val_mean_absolute_error: 27.1837\n",
      "Epoch 78/150\n",
      "7670/7670 [==============================] - 2s 241us/step - loss: 923.5130 - mean_squared_error: 923.5130 - mean_absolute_error: 21.1574 - val_loss: 2120.9507 - val_mean_squared_error: 2120.9507 - val_mean_absolute_error: 27.5840\n",
      "Epoch 79/150\n",
      "7670/7670 [==============================] - 2s 205us/step - loss: 910.1944 - mean_squared_error: 910.1944 - mean_absolute_error: 21.1852 - val_loss: 2357.5517 - val_mean_squared_error: 2357.5517 - val_mean_absolute_error: 29.3187\n",
      "Epoch 80/150\n",
      "7670/7670 [==============================] - 2s 231us/step - loss: 896.1027 - mean_squared_error: 896.1027 - mean_absolute_error: 20.7498 - val_loss: 1915.6305 - val_mean_squared_error: 1915.6305 - val_mean_absolute_error: 26.3326\n",
      "Epoch 81/150\n",
      "7670/7670 [==============================] - 1s 194us/step - loss: 928.9352 - mean_squared_error: 928.9352 - mean_absolute_error: 21.1622 - val_loss: 2380.1966 - val_mean_squared_error: 2380.1966 - val_mean_absolute_error: 29.7216\n",
      "Epoch 82/150\n",
      "7670/7670 [==============================] - 2s 227us/step - loss: 910.5619 - mean_squared_error: 910.5619 - mean_absolute_error: 21.0921 - val_loss: 2071.4529 - val_mean_squared_error: 2071.4529 - val_mean_absolute_error: 27.2208\n",
      "Epoch 83/150\n",
      "7670/7670 [==============================] - 2s 217us/step - loss: 938.9322 - mean_squared_error: 938.9322 - mean_absolute_error: 21.1933 - val_loss: 2119.2762 - val_mean_squared_error: 2119.2762 - val_mean_absolute_error: 27.6064\n",
      "Epoch 84/150\n",
      "7670/7670 [==============================] - 2s 198us/step - loss: 897.1469 - mean_squared_error: 897.1469 - mean_absolute_error: 20.7892 - val_loss: 2147.9443 - val_mean_squared_error: 2147.9443 - val_mean_absolute_error: 27.5128\n",
      "Epoch 85/150\n",
      "7670/7670 [==============================] - 2s 274us/step - loss: 860.5469 - mean_squared_error: 860.5469 - mean_absolute_error: 20.3598 - val_loss: 2090.7177 - val_mean_squared_error: 2090.7177 - val_mean_absolute_error: 27.3023\n",
      "Epoch 86/150\n",
      "7670/7670 [==============================] - 2s 228us/step - loss: 891.7092 - mean_squared_error: 891.7092 - mean_absolute_error: 20.7049 - val_loss: 2148.2714 - val_mean_squared_error: 2148.2714 - val_mean_absolute_error: 27.5183\n",
      "Epoch 87/150\n",
      "7670/7670 [==============================] - 2s 279us/step - loss: 912.6463 - mean_squared_error: 912.6463 - mean_absolute_error: 21.0664 - val_loss: 2179.4442 - val_mean_squared_error: 2179.4442 - val_mean_absolute_error: 27.9346\n",
      "Epoch 88/150\n",
      "7670/7670 [==============================] - 3s 331us/step - loss: 943.9117 - mean_squared_error: 943.9117 - mean_absolute_error: 21.5992 - val_loss: 2006.7835 - val_mean_squared_error: 2006.7835 - val_mean_absolute_error: 26.8005\n",
      "Epoch 89/150\n",
      "7670/7670 [==============================] - 2s 271us/step - loss: 915.4522 - mean_squared_error: 915.4522 - mean_absolute_error: 21.2113 - val_loss: 2048.3973 - val_mean_squared_error: 2048.3973 - val_mean_absolute_error: 26.6709\n",
      "Epoch 90/150\n",
      "7670/7670 [==============================] - 2s 268us/step - loss: 889.9887 - mean_squared_error: 889.9887 - mean_absolute_error: 21.0993 - val_loss: 2110.0943 - val_mean_squared_error: 2110.0943 - val_mean_absolute_error: 27.6903\n",
      "Epoch 91/150\n",
      "7670/7670 [==============================] - 2s 273us/step - loss: 936.4690 - mean_squared_error: 936.4690 - mean_absolute_error: 21.1744 - val_loss: 1959.4270 - val_mean_squared_error: 1959.4270 - val_mean_absolute_error: 25.6478\n",
      "Epoch 92/150\n",
      "7670/7670 [==============================] - 2s 243us/step - loss: 913.4051 - mean_squared_error: 913.4051 - mean_absolute_error: 20.9728 - val_loss: 2084.0781 - val_mean_squared_error: 2084.0781 - val_mean_absolute_error: 26.7667\n",
      "Epoch 93/150\n",
      "7670/7670 [==============================] - 2s 247us/step - loss: 912.9008 - mean_squared_error: 912.9008 - mean_absolute_error: 20.9931 - val_loss: 2034.8085 - val_mean_squared_error: 2034.8085 - val_mean_absolute_error: 26.8462\n",
      "Epoch 94/150\n",
      "7670/7670 [==============================] - 2s 277us/step - loss: 863.8997 - mean_squared_error: 863.8997 - mean_absolute_error: 20.5083 - val_loss: 2081.7050 - val_mean_squared_error: 2081.7050 - val_mean_absolute_error: 26.9456\n",
      "Epoch 95/150\n",
      "7670/7670 [==============================] - 2s 209us/step - loss: 880.6429 - mean_squared_error: 880.6429 - mean_absolute_error: 20.5064 - val_loss: 2044.3539 - val_mean_squared_error: 2044.3539 - val_mean_absolute_error: 26.9233\n",
      "Epoch 96/150\n",
      "7670/7670 [==============================] - 2s 264us/step - loss: 907.0369 - mean_squared_error: 907.0369 - mean_absolute_error: 21.1060 - val_loss: 2118.2142 - val_mean_squared_error: 2118.2142 - val_mean_absolute_error: 27.0040\n",
      "Epoch 97/150\n",
      "7670/7670 [==============================] - 2s 285us/step - loss: 880.5848 - mean_squared_error: 880.5848 - mean_absolute_error: 20.7294 - val_loss: 2224.3183 - val_mean_squared_error: 2224.3183 - val_mean_absolute_error: 27.9714\n",
      "Epoch 98/150\n",
      "7670/7670 [==============================] - 2s 220us/step - loss: 816.3469 - mean_squared_error: 816.3469 - mean_absolute_error: 20.0996 - val_loss: 2068.3647 - val_mean_squared_error: 2068.3647 - val_mean_absolute_error: 27.0709\n",
      "Epoch 99/150\n",
      "7670/7670 [==============================] - 2s 267us/step - loss: 820.5768 - mean_squared_error: 820.5768 - mean_absolute_error: 19.9233 - val_loss: 1997.0906 - val_mean_squared_error: 1997.0906 - val_mean_absolute_error: 26.1937.0936 - mean_squared_error: 806.0936 - mean_absolute_er\n",
      "Epoch 100/150\n"
     ]
    },
    {
     "name": "stdout",
     "output_type": "stream",
     "text": [
      "7670/7670 [==============================] - 2s 211us/step - loss: 828.9107 - mean_squared_error: 828.9107 - mean_absolute_error: 19.8583 - val_loss: 2239.4884 - val_mean_squared_error: 2239.4884 - val_mean_absolute_error: 28.9160\n",
      "Epoch 101/150\n",
      "7670/7670 [==============================] - 2s 239us/step - loss: 832.5840 - mean_squared_error: 832.5840 - mean_absolute_error: 20.0552 - val_loss: 2011.6280 - val_mean_squared_error: 2011.6280 - val_mean_absolute_error: 26.8018\n",
      "Epoch 102/150\n",
      "7670/7670 [==============================] - 2s 207us/step - loss: 834.8954 - mean_squared_error: 834.8954 - mean_absolute_error: 20.2231 - val_loss: 1993.5668 - val_mean_squared_error: 1993.5668 - val_mean_absolute_error: 26.4605\n",
      "Epoch 103/150\n",
      "7670/7670 [==============================] - 2s 224us/step - loss: 801.7206 - mean_squared_error: 801.7206 - mean_absolute_error: 19.7413 - val_loss: 2134.8015 - val_mean_squared_error: 2134.8015 - val_mean_absolute_error: 27.4799\n",
      "Epoch 104/150\n",
      "7670/7670 [==============================] - 2s 217us/step - loss: 847.6361 - mean_squared_error: 847.6361 - mean_absolute_error: 20.3009 - val_loss: 2106.4650 - val_mean_squared_error: 2106.4650 - val_mean_absolute_error: 27.5095\n",
      "Epoch 105/150\n",
      "7670/7670 [==============================] - 2s 242us/step - loss: 865.3112 - mean_squared_error: 865.3112 - mean_absolute_error: 20.4950 - val_loss: 2052.5762 - val_mean_squared_error: 2052.5762 - val_mean_absolute_error: 26.7776\n",
      "Epoch 106/150\n",
      "7670/7670 [==============================] - 2s 213us/step - loss: 860.1756 - mean_squared_error: 860.1756 - mean_absolute_error: 20.4932 - val_loss: 1978.3202 - val_mean_squared_error: 1978.3202 - val_mean_absolute_error: 26.2436\n",
      "Epoch 107/150\n",
      "7670/7670 [==============================] - 3s 347us/step - loss: 912.3521 - mean_squared_error: 912.3521 - mean_absolute_error: 21.0246 - val_loss: 2205.8070 - val_mean_squared_error: 2205.8070 - val_mean_absolute_error: 27.8038\n",
      "Epoch 108/150\n",
      "7670/7670 [==============================] - 3s 361us/step - loss: 857.4621 - mean_squared_error: 857.4621 - mean_absolute_error: 20.4719 - val_loss: 2024.9139 - val_mean_squared_error: 2024.9139 - val_mean_absolute_error: 26.8963\n",
      "Epoch 109/150\n",
      "7670/7670 [==============================] - 3s 387us/step - loss: 878.6514 - mean_squared_error: 878.6514 - mean_absolute_error: 20.5904 - val_loss: 1956.7561 - val_mean_squared_error: 1956.7561 - val_mean_absolute_error: 26.2173\n",
      "Epoch 110/150\n",
      "7670/7670 [==============================] - 3s 386us/step - loss: 791.3258 - mean_squared_error: 791.3258 - mean_absolute_error: 19.7499 - val_loss: 2093.9494 - val_mean_squared_error: 2093.9494 - val_mean_absolute_error: 27.0568\n",
      "Epoch 111/150\n",
      "7670/7670 [==============================] - 3s 343us/step - loss: 795.1607 - mean_squared_error: 795.1607 - mean_absolute_error: 19.7225 - val_loss: 2055.2119 - val_mean_squared_error: 2055.2119 - val_mean_absolute_error: 26.9507\n",
      "Epoch 112/150\n",
      "7670/7670 [==============================] - 2s 307us/step - loss: 806.4130 - mean_squared_error: 806.4130 - mean_absolute_error: 19.7876 - val_loss: 2723.3717 - val_mean_squared_error: 2723.3717 - val_mean_absolute_error: 32.0619\n",
      "Epoch 113/150\n",
      "7670/7670 [==============================] - 2s 311us/step - loss: 893.2944 - mean_squared_error: 893.2944 - mean_absolute_error: 20.7854 - val_loss: 2181.8482 - val_mean_squared_error: 2181.8482 - val_mean_absolute_error: 27.5017\n",
      "Epoch 114/150\n",
      "7670/7670 [==============================] - 2s 318us/step - loss: 825.2117 - mean_squared_error: 825.2117 - mean_absolute_error: 20.2864 - val_loss: 2567.8840 - val_mean_squared_error: 2567.8840 - val_mean_absolute_error: 30.8772\n",
      "Epoch 115/150\n",
      "7670/7670 [==============================] - 2s 306us/step - loss: 833.5357 - mean_squared_error: 833.5357 - mean_absolute_error: 20.0408 - val_loss: 2199.9697 - val_mean_squared_error: 2199.9697 - val_mean_absolute_error: 27.8335\n",
      "Epoch 116/150\n",
      "7670/7670 [==============================] - 3s 330us/step - loss: 846.5121 - mean_squared_error: 846.5121 - mean_absolute_error: 20.3832 - val_loss: 2064.1833 - val_mean_squared_error: 2064.1833 - val_mean_absolute_error: 27.0354\n",
      "Epoch 117/150\n",
      "7670/7670 [==============================] - 3s 337us/step - loss: 772.2044 - mean_squared_error: 772.2044 - mean_absolute_error: 19.3195 - val_loss: 2091.5772 - val_mean_squared_error: 2091.5772 - val_mean_absolute_error: 27.3805\n",
      "Epoch 118/150\n",
      "7670/7670 [==============================] - 2s 283us/step - loss: 774.9475 - mean_squared_error: 774.9475 - mean_absolute_error: 19.5139 - val_loss: 2254.5562 - val_mean_squared_error: 2254.5562 - val_mean_absolute_error: 28.5060\n",
      "Epoch 119/150\n",
      "7670/7670 [==============================] - 2s 308us/step - loss: 835.8940 - mean_squared_error: 835.8940 - mean_absolute_error: 20.1009 - val_loss: 2201.7131 - val_mean_squared_error: 2201.7131 - val_mean_absolute_error: 27.8782\n",
      "Epoch 120/150\n",
      "7670/7670 [==============================] - 2s 282us/step - loss: 853.1663 - mean_squared_error: 853.1663 - mean_absolute_error: 20.2665 - val_loss: 2238.8218 - val_mean_squared_error: 2238.8218 - val_mean_absolute_error: 28.2632\n",
      "Epoch 121/150\n",
      "7670/7670 [==============================] - 2s 273us/step - loss: 776.0351 - mean_squared_error: 776.0351 - mean_absolute_error: 19.6871 - val_loss: 2012.0850 - val_mean_squared_error: 2012.0850 - val_mean_absolute_error: 26.5912\n",
      "Epoch 122/150\n",
      "7670/7670 [==============================] - 2s 247us/step - loss: 784.7486 - mean_squared_error: 784.7486 - mean_absolute_error: 19.6994 - val_loss: 2326.1487 - val_mean_squared_error: 2326.1487 - val_mean_absolute_error: 29.2845\n",
      "Epoch 123/150\n",
      "7670/7670 [==============================] - 2s 258us/step - loss: 756.4776 - mean_squared_error: 756.4776 - mean_absolute_error: 19.3847 - val_loss: 2428.9655 - val_mean_squared_error: 2428.9655 - val_mean_absolute_error: 29.7524\n",
      "Epoch 124/150\n",
      "7670/7670 [==============================] - 3s 334us/step - loss: 848.4182 - mean_squared_error: 848.4182 - mean_absolute_error: 20.0416 - val_loss: 2177.8206 - val_mean_squared_error: 2177.8206 - val_mean_absolute_error: 27.4163\n",
      "Epoch 125/150\n",
      "7670/7670 [==============================] - 2s 246us/step - loss: 757.1352 - mean_squared_error: 757.1352 - mean_absolute_error: 19.1192 - val_loss: 2179.7605 - val_mean_squared_error: 2179.7605 - val_mean_absolute_error: 27.6023\n",
      "Epoch 126/150\n",
      "7670/7670 [==============================] - 2s 264us/step - loss: 782.5239 - mean_squared_error: 782.5239 - mean_absolute_error: 19.6297 - val_loss: 2237.6443 - val_mean_squared_error: 2237.6443 - val_mean_absolute_error: 28.3800\n",
      "Epoch 127/150\n",
      "7670/7670 [==============================] - 3s 345us/step - loss: 752.3021 - mean_squared_error: 752.3021 - mean_absolute_error: 18.9915 - val_loss: 2204.5007 - val_mean_squared_error: 2204.5007 - val_mean_absolute_error: 28.0162\n",
      "Epoch 128/150\n",
      "7670/7670 [==============================] - 2s 260us/step - loss: 808.0203 - mean_squared_error: 808.0203 - mean_absolute_error: 19.7694 - val_loss: 2180.0544 - val_mean_squared_error: 2180.0544 - val_mean_absolute_error: 27.7284\n",
      "Epoch 129/150\n",
      "7670/7670 [==============================] - 2s 281us/step - loss: 759.9440 - mean_squared_error: 759.9440 - mean_absolute_error: 19.1877 - val_loss: 2009.6623 - val_mean_squared_error: 2009.6623 - val_mean_absolute_error: 26.5526\n",
      "Epoch 130/150\n",
      "7670/7670 [==============================] - 2s 248us/step - loss: 728.3008 - mean_squared_error: 728.3008 - mean_absolute_error: 18.9399 - val_loss: 1978.7034 - val_mean_squared_error: 1978.7034 - val_mean_absolute_error: 26.0310\n",
      "Epoch 131/150\n",
      "7670/7670 [==============================] - 2s 280us/step - loss: 712.0489 - mean_squared_error: 712.0489 - mean_absolute_error: 18.5781 - val_loss: 1979.9194 - val_mean_squared_error: 1979.9194 - val_mean_absolute_error: 26.2999\n",
      "Epoch 132/150\n",
      "7670/7670 [==============================] - 2s 274us/step - loss: 793.3705 - mean_squared_error: 793.3705 - mean_absolute_error: 19.7196 - val_loss: 2284.3230 - val_mean_squared_error: 2284.3230 - val_mean_absolute_error: 28.6890\n",
      "Epoch 133/150\n"
     ]
    },
    {
     "name": "stdout",
     "output_type": "stream",
     "text": [
      "7670/7670 [==============================] - 2s 265us/step - loss: 750.4245 - mean_squared_error: 750.4245 - mean_absolute_error: 19.1428 - val_loss: 2030.5063 - val_mean_squared_error: 2030.5063 - val_mean_absolute_error: 26.7359\n",
      "Epoch 134/150\n",
      "7670/7670 [==============================] - 2s 231us/step - loss: 793.4828 - mean_squared_error: 793.4828 - mean_absolute_error: 19.3709 - val_loss: 2040.9574 - val_mean_squared_error: 2040.9574 - val_mean_absolute_error: 26.7963\n",
      "Epoch 135/150\n",
      "7670/7670 [==============================] - 2s 273us/step - loss: 708.1098 - mean_squared_error: 708.1098 - mean_absolute_error: 18.6867 - val_loss: 1963.1557 - val_mean_squared_error: 1963.1557 - val_mean_absolute_error: 26.2022\n",
      "Epoch 136/150\n",
      "7670/7670 [==============================] - 2s 262us/step - loss: 802.7416 - mean_squared_error: 802.7416 - mean_absolute_error: 19.5468 - val_loss: 2111.1987 - val_mean_squared_error: 2111.1987 - val_mean_absolute_error: 27.3220\n",
      "Epoch 137/150\n",
      "7670/7670 [==============================] - 2s 284us/step - loss: 735.7790 - mean_squared_error: 735.7790 - mean_absolute_error: 18.7762 - val_loss: 2113.7650 - val_mean_squared_error: 2113.7650 - val_mean_absolute_error: 27.5252\n",
      "Epoch 138/150\n",
      "7670/7670 [==============================] - 2s 247us/step - loss: 703.3053 - mean_squared_error: 703.3053 - mean_absolute_error: 18.5051 - val_loss: 2386.7170 - val_mean_squared_error: 2386.7170 - val_mean_absolute_error: 29.5378\n",
      "Epoch 139/150\n",
      "7670/7670 [==============================] - 2s 243us/step - loss: 708.8716 - mean_squared_error: 708.8716 - mean_absolute_error: 18.5227 - val_loss: 2166.4508 - val_mean_squared_error: 2166.4508 - val_mean_absolute_error: 28.0133\n",
      "Epoch 140/150\n",
      "7670/7670 [==============================] - 2s 228us/step - loss: 740.8608 - mean_squared_error: 740.8608 - mean_absolute_error: 19.1688 - val_loss: 2034.7477 - val_mean_squared_error: 2034.7477 - val_mean_absolute_error: 26.4835\n",
      "Epoch 141/150\n",
      "7670/7670 [==============================] - 2s 256us/step - loss: 752.7973 - mean_squared_error: 752.7973 - mean_absolute_error: 18.8803 - val_loss: 2027.0056 - val_mean_squared_error: 2027.0056 - val_mean_absolute_error: 26.6397\n",
      "Epoch 142/150\n",
      "7670/7670 [==============================] - 2s 262us/step - loss: 699.8458 - mean_squared_error: 699.8458 - mean_absolute_error: 18.5593 - val_loss: 2079.3369 - val_mean_squared_error: 2079.3369 - val_mean_absolute_error: 27.0281\n",
      "Epoch 143/150\n",
      "7670/7670 [==============================] - 2s 300us/step - loss: 763.8041 - mean_squared_error: 763.8041 - mean_absolute_error: 19.1072 - val_loss: 2234.3620 - val_mean_squared_error: 2234.3620 - val_mean_absolute_error: 28.1496\n",
      "Epoch 144/150\n",
      "7670/7670 [==============================] - 2s 317us/step - loss: 744.5030 - mean_squared_error: 744.5030 - mean_absolute_error: 19.1217 - val_loss: 2116.9861 - val_mean_squared_error: 2116.9861 - val_mean_absolute_error: 27.0075\n",
      "Epoch 145/150\n",
      "7670/7670 [==============================] - 2s 289us/step - loss: 729.1851 - mean_squared_error: 729.1851 - mean_absolute_error: 18.6516 - val_loss: 2362.8369 - val_mean_squared_error: 2362.8369 - val_mean_absolute_error: 29.4170\n",
      "Epoch 146/150\n",
      "7670/7670 [==============================] - 2s 317us/step - loss: 733.9108 - mean_squared_error: 733.9108 - mean_absolute_error: 18.8189 - val_loss: 2239.4784 - val_mean_squared_error: 2239.4784 - val_mean_absolute_error: 27.9971\n",
      "Epoch 147/150\n",
      "7670/7670 [==============================] - 2s 306us/step - loss: 678.6621 - mean_squared_error: 678.6621 - mean_absolute_error: 18.2408 - val_loss: 2184.3842 - val_mean_squared_error: 2184.3842 - val_mean_absolute_error: 28.0727\n",
      "Epoch 148/150\n",
      "7670/7670 [==============================] - 2s 276us/step - loss: 710.5415 - mean_squared_error: 710.5415 - mean_absolute_error: 18.7280 - val_loss: 2098.1353 - val_mean_squared_error: 2098.1353 - val_mean_absolute_error: 26.8228\n",
      "Epoch 149/150\n",
      "7670/7670 [==============================] - 2s 215us/step - loss: 704.4193 - mean_squared_error: 704.4193 - mean_absolute_error: 18.6232 - val_loss: 2232.1622 - val_mean_squared_error: 2232.1622 - val_mean_absolute_error: 27.7861\n",
      "Epoch 150/150\n",
      "7670/7670 [==============================] - 2s 280us/step - loss: 702.6064 - mean_squared_error: 702.6064 - mean_absolute_error: 18.5695 - val_loss: 1999.4195 - val_mean_squared_error: 1999.4195 - val_mean_absolute_error: 26.0922\n"
     ]
    },
    {
     "data": {
      "text/plain": [
       "<keras.callbacks.History at 0x25b0c2a0248>"
      ]
     },
     "execution_count": 80,
     "metadata": {},
     "output_type": "execute_result"
    }
   ],
   "source": [
    "model_Split_4.fit(X_train_model_4, y_train_model_4, epochs=100, batch_size=60,  verbose=1, validation_split=0.2)"
   ]
  },
  {
   "cell_type": "code",
   "execution_count": 81,
   "metadata": {},
   "outputs": [],
   "source": [
    "y_pred_model_4 = model_Split_4.predict(X_test_model_4)"
   ]
  },
  {
   "cell_type": "code",
   "execution_count": 82,
   "metadata": {},
   "outputs": [
    {
     "name": "stdout",
     "output_type": "stream",
     "text": [
      "RMSLE model 4: 0.4117507093835228\n"
     ]
    }
   ],
   "source": [
    "print('RMSLE model 4:', np.sqrt(mean_squared_log_error(y_test_model_4, y_pred_model_4)))"
   ]
  },
  {
   "cell_type": "code",
   "execution_count": null,
   "metadata": {},
   "outputs": [],
   "source": []
  },
  {
   "cell_type": "markdown",
   "metadata": {},
   "source": [
    "#### Model 5"
   ]
  },
  {
   "cell_type": "markdown",
   "metadata": {},
   "source": [
    "Take set 1,2,3,4 for train and set 5 for test:"
   ]
  },
  {
   "cell_type": "markdown",
   "metadata": {},
   "source": [
    " `concat()` train_parts which are pandas dataFrames \n",
    " \n",
    " https://pandas.pydata.org/pandas-docs/stable/user_guide/merging.html"
   ]
  },
  {
   "cell_type": "code",
   "execution_count": 83,
   "metadata": {},
   "outputs": [],
   "source": [
    "temp5 = [train_part_1, train_part_2, train_part_3, train_part_4]\n",
    "train_model_5 = pd.concat(temp5)\n",
    "\n",
    "temp5 = [train_part_5]\n",
    "test_model_5= pd.concat(temp5)"
   ]
  },
  {
   "cell_type": "code",
   "execution_count": 84,
   "metadata": {},
   "outputs": [],
   "source": [
    "y_train_model_5 = train_model_5['count']\n",
    "X_train_model_5 = train_model_5[['temp', 'humidity','season_1','season_2','season_3','season_4','year_0','year_1','month_1','month_2','month_3','month_4','month_5','month_6','month_7','month_8','month_9','month_10','month_11','month_12','hour_0','hour_1','hour_2','hour_3','hour_4','hour_5','hour_6','hour_7','hour_8','hour_9','hour_10','hour_11','hour_12','hour_13','hour_14','hour_15','hour_16','hour_17','hour_18','hour_19','hour_20','hour_21','hour_22','hour_23','weekday_0','weekday_1','weekday_2','weekday_3','weekday_4','weekday_5','weekday_6','weather_1','weather_2','weather_3','holiday_0','holiday_1']]\n",
    "\n",
    "y_test_model_5 = test_model_5['count']\n",
    "X_test_model_5 = test_model_5[['temp', 'humidity','season_1','season_2','season_3','season_4','year_0','year_1','month_1','month_2','month_3','month_4','month_5','month_6','month_7','month_8','month_9','month_10','month_11','month_12','hour_0','hour_1','hour_2','hour_3','hour_4','hour_5','hour_6','hour_7','hour_8','hour_9','hour_10','hour_11','hour_12','hour_13','hour_14','hour_15','hour_16','hour_17','hour_18','hour_19','hour_20','hour_21','hour_22','hour_23','weekday_0','weekday_1','weekday_2','weekday_3','weekday_4','weekday_5','weekday_6','weather_1','weather_2','weather_3','holiday_0','holiday_1']]"
   ]
  },
  {
   "cell_type": "code",
   "execution_count": null,
   "metadata": {},
   "outputs": [],
   "source": []
  },
  {
   "cell_type": "code",
   "execution_count": 85,
   "metadata": {},
   "outputs": [
    {
     "data": {
      "text/plain": [
       "(9588, 56)"
      ]
     },
     "execution_count": 85,
     "metadata": {},
     "output_type": "execute_result"
    }
   ],
   "source": [
    "X_train_model_5.shape"
   ]
  },
  {
   "cell_type": "markdown",
   "metadata": {},
   "source": [
    "Make neurotic shape:"
   ]
  },
  {
   "cell_type": "code",
   "execution_count": 86,
   "metadata": {},
   "outputs": [
    {
     "name": "stdout",
     "output_type": "stream",
     "text": [
      "_________________________________________________________________\n",
      "Layer (type)                 Output Shape              Param #   \n",
      "=================================================================\n",
      "dense_26 (Dense)             (None, 120)               6720      \n",
      "_________________________________________________________________\n",
      "batch_normalization_21 (Batc (None, 120)               480       \n",
      "_________________________________________________________________\n",
      "activation_21 (Activation)   (None, 120)               0         \n",
      "_________________________________________________________________\n",
      "gaussian_noise_5 (GaussianNo (None, 120)               0         \n",
      "_________________________________________________________________\n",
      "dropout_5 (Dropout)          (None, 120)               0         \n",
      "_________________________________________________________________\n",
      "dense_27 (Dense)             (None, 80)                9600      \n",
      "_________________________________________________________________\n",
      "batch_normalization_22 (Batc (None, 80)                320       \n",
      "_________________________________________________________________\n",
      "activation_22 (Activation)   (None, 80)                0         \n",
      "_________________________________________________________________\n",
      "dense_28 (Dense)             (None, 40)                3200      \n",
      "_________________________________________________________________\n",
      "batch_normalization_23 (Batc (None, 40)                160       \n",
      "_________________________________________________________________\n",
      "activation_23 (Activation)   (None, 40)                0         \n",
      "_________________________________________________________________\n",
      "dense_29 (Dense)             (None, 12)                480       \n",
      "_________________________________________________________________\n",
      "batch_normalization_24 (Batc (None, 12)                48        \n",
      "_________________________________________________________________\n",
      "activation_24 (Activation)   (None, 12)                0         \n",
      "_________________________________________________________________\n",
      "dense_30 (Dense)             (None, 1)                 13        \n",
      "=================================================================\n",
      "Total params: 21,021\n",
      "Trainable params: 20,517\n",
      "Non-trainable params: 504\n",
      "_________________________________________________________________\n"
     ]
    }
   ],
   "source": [
    "model_Split_5 = Sequential()\n",
    "#model.add(Dense(120, input_dim=35, kernel_initializer='normal', activation='relu'))\n",
    "\n",
    "#model.add(GaussianNoise(0.01, input_shape=(59,)))\n",
    "#model.add(Dense(120, activation='relu'))\n",
    "\n",
    "model_Split_5.add(Dense(120, input_dim=56, kernel_initializer=RandomNormal(mean=0.0, stddev=0.05, seed=12), use_bias = False))\n",
    "model_Split_5.add(BatchNormalization())\n",
    "model_Split_5.add(Activation('relu'))\n",
    "model_Split_5.add(GaussianNoise(0.01))\n",
    "model_Split_5.add(Dropout(0.01))\n",
    "\n",
    "model_Split_5.add(Dense(80, use_bias = False))\n",
    "model_Split_5.add(BatchNormalization())\n",
    "model_Split_5.add(Activation('relu'))\n",
    "\n",
    "#model.add(Dropout(0.1))\n",
    "\n",
    "model_Split_5.add(Dense(40, use_bias = False))\n",
    "model_Split_5.add(BatchNormalization())\n",
    "model_Split_5.add(Activation('relu'))\n",
    "\n",
    "model_Split_5.add(Dense(12, use_bias = False))\n",
    "model_Split_5.add(BatchNormalization())\n",
    "model_Split_5.add(Activation('relu'))\n",
    "\n",
    "model_Split_5.add(Dense(1, activation='relu'))\n",
    "model_Split_5.summary()"
   ]
  },
  {
   "cell_type": "code",
   "execution_count": 87,
   "metadata": {},
   "outputs": [],
   "source": [
    "model_Split_5.compile(loss='mse', optimizer=Adam(lr= 0.008), metrics=['mse','mae'])"
   ]
  },
  {
   "cell_type": "code",
   "execution_count": null,
   "metadata": {},
   "outputs": [],
   "source": []
  },
  {
   "cell_type": "code",
   "execution_count": 88,
   "metadata": {
    "scrolled": true
   },
   "outputs": [
    {
     "name": "stdout",
     "output_type": "stream",
     "text": [
      "Train on 7670 samples, validate on 1918 samples\n",
      "Epoch 1/150\n",
      "7670/7670 [==============================] - 7s 881us/step - loss: 54894.0513 - mean_squared_error: 54894.0513 - mean_absolute_error: 173.1925 - val_loss: 38775.1984 - val_mean_squared_error: 38775.1984 - val_mean_absolute_error: 147.0210\n",
      "Epoch 2/150\n",
      "7670/7670 [==============================] - 2s 225us/step - loss: 32539.9774 - mean_squared_error: 32539.9774 - mean_absolute_error: 132.1292 - val_loss: 6467.6992 - val_mean_squared_error: 6467.6992 - val_mean_absolute_error: 60.6818\n",
      "Epoch 3/150\n",
      "7670/7670 [==============================] - 2s 253us/step - loss: 8945.8278 - mean_squared_error: 8945.8278 - mean_absolute_error: 66.1115 - val_loss: 3548.6888 - val_mean_squared_error: 3548.6888 - val_mean_absolute_error: 41.6477\n",
      "Epoch 4/150\n",
      "7670/7670 [==============================] - 2s 241us/step - loss: 3250.2813 - mean_squared_error: 3250.2813 - mean_absolute_error: 39.6756 - val_loss: 2866.3678 - val_mean_squared_error: 2866.3678 - val_mean_absolute_error: 37.4067\n",
      "Epoch 5/150\n",
      "7670/7670 [==============================] - 2s 225us/step - loss: 2766.2118 - mean_squared_error: 2766.2118 - mean_absolute_error: 35.7836 - val_loss: 2431.2580 - val_mean_squared_error: 2431.2580 - val_mean_absolute_error: 33.0840\n",
      "Epoch 6/150\n",
      "7670/7670 [==============================] - 2s 283us/step - loss: 2481.6619 - mean_squared_error: 2481.6619 - mean_absolute_error: 33.4747 - val_loss: 2093.2053 - val_mean_squared_error: 2093.2053 - val_mean_absolute_error: 29.7809\n",
      "Epoch 7/150\n",
      "7670/7670 [==============================] - 2s 264us/step - loss: 2171.4432 - mean_squared_error: 2171.4432 - mean_absolute_error: 31.2184 - val_loss: 2403.3231 - val_mean_squared_error: 2403.3231 - val_mean_absolute_error: 31.3536\n",
      "Epoch 8/150\n",
      "7670/7670 [==============================] - 2s 214us/step - loss: 2369.8207 - mean_squared_error: 2369.8207 - mean_absolute_error: 32.0719 - val_loss: 2017.2895 - val_mean_squared_error: 2017.2895 - val_mean_absolute_error: 28.7455\n",
      "Epoch 9/150\n",
      "7670/7670 [==============================] - 2s 252us/step - loss: 2084.4381 - mean_squared_error: 2084.4381 - mean_absolute_error: 30.4396 - val_loss: 1895.9257 - val_mean_squared_error: 1895.9257 - val_mean_absolute_error: 27.8776\n",
      "Epoch 10/150\n",
      "7670/7670 [==============================] - 2s 239us/step - loss: 2019.6808 - mean_squared_error: 2019.6808 - mean_absolute_error: 29.9763 - val_loss: 2569.3462 - val_mean_squared_error: 2569.3462 - val_mean_absolute_error: 33.5733\n",
      "Epoch 11/150\n",
      "7670/7670 [==============================] - 2s 238us/step - loss: 2171.7188 - mean_squared_error: 2171.7188 - mean_absolute_error: 31.1400 - val_loss: 3686.9703 - val_mean_squared_error: 3686.9703 - val_mean_absolute_error: 39.3253\n",
      "Epoch 12/150\n",
      "7670/7670 [==============================] - 2s 254us/step - loss: 2088.1534 - mean_squared_error: 2088.1534 - mean_absolute_error: 30.5720 - val_loss: 1771.4944 - val_mean_squared_error: 1771.4944 - val_mean_absolute_error: 26.3256\n",
      "Epoch 13/150\n",
      "7670/7670 [==============================] - 2s 225us/step - loss: 1997.9509 - mean_squared_error: 1997.9509 - mean_absolute_error: 29.9065 - val_loss: 1838.4525 - val_mean_squared_error: 1838.4525 - val_mean_absolute_error: 27.2720\n",
      "Epoch 14/150\n",
      "7670/7670 [==============================] - 2s 251us/step - loss: 1897.7574 - mean_squared_error: 1897.7574 - mean_absolute_error: 29.3006 - val_loss: 1766.0172 - val_mean_squared_error: 1766.0172 - val_mean_absolute_error: 26.8398\n",
      "Epoch 15/150\n",
      "7670/7670 [==============================] - 2s 218us/step - loss: 1849.4804 - mean_squared_error: 1849.4804 - mean_absolute_error: 28.7004 - val_loss: 1765.1381 - val_mean_squared_error: 1765.1381 - val_mean_absolute_error: 26.7743\n",
      "Epoch 16/150\n",
      "7670/7670 [==============================] - 2s 251us/step - loss: 1863.3064 - mean_squared_error: 1863.3064 - mean_absolute_error: 28.6022 - val_loss: 1847.9600 - val_mean_squared_error: 1847.9600 - val_mean_absolute_error: 26.7966\n",
      "Epoch 17/150\n",
      "7670/7670 [==============================] - 2s 246us/step - loss: 1710.5559 - mean_squared_error: 1710.5559 - mean_absolute_error: 27.4971 - val_loss: 1831.9530 - val_mean_squared_error: 1831.9530 - val_mean_absolute_error: 26.4639\n",
      "Epoch 18/150\n",
      "7670/7670 [==============================] - 2s 240us/step - loss: 1697.9567 - mean_squared_error: 1697.9567 - mean_absolute_error: 27.9240 - val_loss: 1745.7872 - val_mean_squared_error: 1745.7872 - val_mean_absolute_error: 26.0207\n",
      "Epoch 19/150\n",
      "7670/7670 [==============================] - 2s 271us/step - loss: 1713.2886 - mean_squared_error: 1713.2886 - mean_absolute_error: 27.8459 - val_loss: 1785.5877 - val_mean_squared_error: 1785.5877 - val_mean_absolute_error: 26.2637\n",
      "Epoch 20/150\n",
      "7670/7670 [==============================] - 2s 280us/step - loss: 1618.7019 - mean_squared_error: 1618.7019 - mean_absolute_error: 26.7797 - val_loss: 2259.1391 - val_mean_squared_error: 2259.1391 - val_mean_absolute_error: 30.5943 - mean_squared_error: 1621.3707 - mean_absolute_error: 26\n",
      "Epoch 21/150\n",
      "7670/7670 [==============================] - 2s 271us/step - loss: 1736.8970 - mean_squared_error: 1736.8970 - mean_absolute_error: 27.5208 - val_loss: 1916.0114 - val_mean_squared_error: 1916.0114 - val_mean_absolute_error: 26.8961\n",
      "Epoch 22/150\n",
      "7670/7670 [==============================] - 2s 281us/step - loss: 1558.5343 - mean_squared_error: 1558.5343 - mean_absolute_error: 26.5463 - val_loss: 2942.6178 - val_mean_squared_error: 2942.6178 - val_mean_absolute_error: 33.7907\n",
      "Epoch 23/150\n",
      "7670/7670 [==============================] - 2s 315us/step - loss: 1595.5674 - mean_squared_error: 1595.5674 - mean_absolute_error: 26.8949 - val_loss: 2582.1168 - val_mean_squared_error: 2582.1168 - val_mean_absolute_error: 32.1716\n",
      "Epoch 24/150\n",
      "7670/7670 [==============================] - 2s 282us/step - loss: 1735.4435 - mean_squared_error: 1735.4435 - mean_absolute_error: 28.1616 - val_loss: 1821.7746 - val_mean_squared_error: 1821.7746 - val_mean_absolute_error: 26.5024\n",
      "Epoch 25/150\n",
      "7670/7670 [==============================] - 2s 273us/step - loss: 1540.5119 - mean_squared_error: 1540.5119 - mean_absolute_error: 26.5979 - val_loss: 1771.8249 - val_mean_squared_error: 1771.8249 - val_mean_absolute_error: 25.9017\n",
      "Epoch 26/150\n",
      "7670/7670 [==============================] - 2s 265us/step - loss: 1627.8450 - mean_squared_error: 1627.8450 - mean_absolute_error: 27.0735 - val_loss: 2087.1987 - val_mean_squared_error: 2087.1987 - val_mean_absolute_error: 28.4621\n",
      "Epoch 27/150\n",
      "7670/7670 [==============================] - 2s 259us/step - loss: 1524.6605 - mean_squared_error: 1524.6605 - mean_absolute_error: 26.6903 - val_loss: 1814.7842 - val_mean_squared_error: 1814.7842 - val_mean_absolute_error: 26.7067\n",
      "Epoch 28/150\n",
      "7670/7670 [==============================] - 2s 251us/step - loss: 1505.0239 - mean_squared_error: 1505.0239 - mean_absolute_error: 26.4419 - val_loss: 1823.4098 - val_mean_squared_error: 1823.4098 - val_mean_absolute_error: 27.0290\n",
      "Epoch 29/150\n",
      "7670/7670 [==============================] - 2s 290us/step - loss: 1368.6909 - mean_squared_error: 1368.6909 - mean_absolute_error: 25.0441 - val_loss: 1831.3457 - val_mean_squared_error: 1831.3457 - val_mean_absolute_error: 26.0947\n",
      "Epoch 30/150\n",
      "7670/7670 [==============================] - 2s 258us/step - loss: 1457.0378 - mean_squared_error: 1457.0378 - mean_absolute_error: 25.6939 - val_loss: 2333.3055 - val_mean_squared_error: 2333.3055 - val_mean_absolute_error: 30.5706\n",
      "Epoch 31/150\n",
      "7670/7670 [==============================] - 2s 271us/step - loss: 1416.8278 - mean_squared_error: 1416.8278 - mean_absolute_error: 25.7903 - val_loss: 1882.5165 - val_mean_squared_error: 1882.5165 - val_mean_absolute_error: 26.4837\n",
      "Epoch 32/150\n",
      "7670/7670 [==============================] - 2s 269us/step - loss: 1396.9036 - mean_squared_error: 1396.9036 - mean_absolute_error: 25.3833 - val_loss: 1955.9751 - val_mean_squared_error: 1955.9751 - val_mean_absolute_error: 27.4258\n",
      "Epoch 33/150\n",
      "7670/7670 [==============================] - 2s 289us/step - loss: 1510.6896 - mean_squared_error: 1510.6896 - mean_absolute_error: 26.1197 - val_loss: 2032.8877 - val_mean_squared_error: 2032.8877 - val_mean_absolute_error: 28.1316\n"
     ]
    },
    {
     "name": "stdout",
     "output_type": "stream",
     "text": [
      "Epoch 34/150\n",
      "7670/7670 [==============================] - 2s 244us/step - loss: 1388.9196 - mean_squared_error: 1388.9196 - mean_absolute_error: 25.0028 - val_loss: 1932.8805 - val_mean_squared_error: 1932.8805 - val_mean_absolute_error: 27.2385\n",
      "Epoch 35/150\n",
      "7670/7670 [==============================] - 2s 277us/step - loss: 1328.4079 - mean_squared_error: 1328.4079 - mean_absolute_error: 24.5561 - val_loss: 1839.3751 - val_mean_squared_error: 1839.3751 - val_mean_absolute_error: 26.0776\n",
      "Epoch 36/150\n",
      "7670/7670 [==============================] - 2s 303us/step - loss: 1489.1207 - mean_squared_error: 1489.1207 - mean_absolute_error: 25.9600 - val_loss: 1724.2319 - val_mean_squared_error: 1724.2319 - val_mean_absolute_error: 25.4257\n",
      "Epoch 37/150\n",
      "7670/7670 [==============================] - 2s 269us/step - loss: 1306.7033 - mean_squared_error: 1306.7033 - mean_absolute_error: 24.5750 - val_loss: 1719.3763 - val_mean_squared_error: 1719.3763 - val_mean_absolute_error: 25.3475\n",
      "Epoch 38/150\n",
      "7670/7670 [==============================] - 2s 278us/step - loss: 1274.4239 - mean_squared_error: 1274.4239 - mean_absolute_error: 24.4991 - val_loss: 1813.5708 - val_mean_squared_error: 1813.5708 - val_mean_absolute_error: 26.1824\n",
      "Epoch 39/150\n",
      "7670/7670 [==============================] - 2s 275us/step - loss: 1290.1530 - mean_squared_error: 1290.1530 - mean_absolute_error: 24.6313 - val_loss: 1781.9279 - val_mean_squared_error: 1781.9279 - val_mean_absolute_error: 26.1555\n",
      "Epoch 40/150\n",
      "7670/7670 [==============================] - 2s 268us/step - loss: 1452.1372 - mean_squared_error: 1452.1372 - mean_absolute_error: 25.7323 - val_loss: 1937.6165 - val_mean_squared_error: 1937.6165 - val_mean_absolute_error: 27.2556\n",
      "Epoch 41/150\n",
      "7670/7670 [==============================] - 2s 239us/step - loss: 1483.2699 - mean_squared_error: 1483.2699 - mean_absolute_error: 26.0346 - val_loss: 1893.0087 - val_mean_squared_error: 1893.0087 - val_mean_absolute_error: 26.7798\n",
      "Epoch 42/150\n",
      "7670/7670 [==============================] - 2s 239us/step - loss: 1329.8445 - mean_squared_error: 1329.8445 - mean_absolute_error: 24.9088 - val_loss: 1692.9802 - val_mean_squared_error: 1692.9802 - val_mean_absolute_error: 25.3713\n",
      "Epoch 43/150\n",
      "7670/7670 [==============================] - 2s 229us/step - loss: 1234.1043 - mean_squared_error: 1234.1043 - mean_absolute_error: 23.9704 - val_loss: 1743.3562 - val_mean_squared_error: 1743.3562 - val_mean_absolute_error: 25.7109\n",
      "Epoch 44/150\n",
      "7670/7670 [==============================] - 2s 259us/step - loss: 1252.1050 - mean_squared_error: 1252.1050 - mean_absolute_error: 24.0549 - val_loss: 1759.6226 - val_mean_squared_error: 1759.6226 - val_mean_absolute_error: 25.6188\n",
      "Epoch 45/150\n",
      "7670/7670 [==============================] - 2s 248us/step - loss: 1290.5208 - mean_squared_error: 1290.5208 - mean_absolute_error: 24.5078 - val_loss: 1707.7641 - val_mean_squared_error: 1707.7641 - val_mean_absolute_error: 25.9217\n",
      "Epoch 46/150\n",
      "7670/7670 [==============================] - 5s 644us/step - loss: 1301.1164 - mean_squared_error: 1301.1164 - mean_absolute_error: 24.8751 - val_loss: 1731.9957 - val_mean_squared_error: 1731.9957 - val_mean_absolute_error: 25.5334\n",
      "Epoch 47/150\n",
      "7670/7670 [==============================] - 2s 290us/step - loss: 1190.0523 - mean_squared_error: 1190.0523 - mean_absolute_error: 23.4296 - val_loss: 2007.0297 - val_mean_squared_error: 2007.0297 - val_mean_absolute_error: 27.4396\n",
      "Epoch 48/150\n",
      "7670/7670 [==============================] - 2s 215us/step - loss: 1082.5646 - mean_squared_error: 1082.5646 - mean_absolute_error: 22.7595 - val_loss: 2244.2200 - val_mean_squared_error: 2244.2200 - val_mean_absolute_error: 29.0756\n",
      "Epoch 49/150\n",
      "7670/7670 [==============================] - 2s 291us/step - loss: 1132.7049 - mean_squared_error: 1132.7049 - mean_absolute_error: 22.9883 - val_loss: 2120.3748 - val_mean_squared_error: 2120.3748 - val_mean_absolute_error: 29.2171\n",
      "Epoch 50/150\n",
      "7670/7670 [==============================] - 2s 297us/step - loss: 1216.5520 - mean_squared_error: 1216.5520 - mean_absolute_error: 23.5956 - val_loss: 1701.9737 - val_mean_squared_error: 1701.9737 - val_mean_absolute_error: 25.1173\n",
      "Epoch 51/150\n",
      "7670/7670 [==============================] - 2s 291us/step - loss: 1126.0136 - mean_squared_error: 1126.0136 - mean_absolute_error: 22.9218 - val_loss: 1778.1892 - val_mean_squared_error: 1778.1892 - val_mean_absolute_error: 26.0897\n",
      "Epoch 52/150\n",
      "7670/7670 [==============================] - 2s 279us/step - loss: 1165.7594 - mean_squared_error: 1165.7594 - mean_absolute_error: 23.3290 - val_loss: 1835.5622 - val_mean_squared_error: 1835.5622 - val_mean_absolute_error: 26.7531\n",
      "Epoch 53/150\n",
      "7670/7670 [==============================] - 2s 260us/step - loss: 1038.4649 - mean_squared_error: 1038.4649 - mean_absolute_error: 22.3006 - val_loss: 1840.3008 - val_mean_squared_error: 1840.3008 - val_mean_absolute_error: 26.9105\n",
      "Epoch 54/150\n",
      "7670/7670 [==============================] - 2s 277us/step - loss: 1111.3394 - mean_squared_error: 1111.3394 - mean_absolute_error: 22.6230 - val_loss: 1920.4409 - val_mean_squared_error: 1920.4409 - val_mean_absolute_error: 28.1431\n",
      "Epoch 55/150\n",
      "7670/7670 [==============================] - 2s 252us/step - loss: 1127.3990 - mean_squared_error: 1127.3990 - mean_absolute_error: 23.0402 - val_loss: 1994.8260 - val_mean_squared_error: 1994.8260 - val_mean_absolute_error: 27.6987\n",
      "Epoch 56/150\n",
      "7670/7670 [==============================] - 2s 263us/step - loss: 1052.2900 - mean_squared_error: 1052.2900 - mean_absolute_error: 22.2211 - val_loss: 1686.3099 - val_mean_squared_error: 1686.3099 - val_mean_absolute_error: 25.0404\n",
      "Epoch 57/150\n",
      "7670/7670 [==============================] - 2s 299us/step - loss: 1119.9196 - mean_squared_error: 1119.9196 - mean_absolute_error: 22.8275 - val_loss: 1901.6212 - val_mean_squared_error: 1901.6212 - val_mean_absolute_error: 26.9938\n",
      "Epoch 58/150\n",
      "7670/7670 [==============================] - 2s 270us/step - loss: 1038.1563 - mean_squared_error: 1038.1563 - mean_absolute_error: 22.2169 - val_loss: 1690.3489 - val_mean_squared_error: 1690.3489 - val_mean_absolute_error: 25.5341\n",
      "Epoch 59/150\n",
      "7670/7670 [==============================] - 2s 286us/step - loss: 1054.6402 - mean_squared_error: 1054.6402 - mean_absolute_error: 22.2993 - val_loss: 1817.3198 - val_mean_squared_error: 1817.3198 - val_mean_absolute_error: 26.6459\n",
      "Epoch 60/150\n",
      "7670/7670 [==============================] - 2s 281us/step - loss: 1173.7826 - mean_squared_error: 1173.7826 - mean_absolute_error: 23.1309 - val_loss: 1829.4080 - val_mean_squared_error: 1829.4080 - val_mean_absolute_error: 26.5690\n",
      "Epoch 61/150\n",
      "7670/7670 [==============================] - 2s 295us/step - loss: 999.6668 - mean_squared_error: 999.6668 - mean_absolute_error: 21.8594 - val_loss: 1731.4111 - val_mean_squared_error: 1731.4111 - val_mean_absolute_error: 25.9457\n",
      "Epoch 62/150\n",
      "7670/7670 [==============================] - 2s 244us/step - loss: 1065.9194 - mean_squared_error: 1065.9194 - mean_absolute_error: 22.2646 - val_loss: 1668.7671 - val_mean_squared_error: 1668.7671 - val_mean_absolute_error: 25.3101\n",
      "Epoch 63/150\n",
      "7670/7670 [==============================] - 2s 259us/step - loss: 1052.5044 - mean_squared_error: 1052.5044 - mean_absolute_error: 22.2904 - val_loss: 1696.4327 - val_mean_squared_error: 1696.4327 - val_mean_absolute_error: 25.7443\n",
      "Epoch 64/150\n",
      "7670/7670 [==============================] - 2s 284us/step - loss: 1008.4116 - mean_squared_error: 1008.4116 - mean_absolute_error: 22.0005 - val_loss: 1792.8350 - val_mean_squared_error: 1792.8350 - val_mean_absolute_error: 26.0704\n",
      "Epoch 65/150\n",
      "7670/7670 [==============================] - 2s 272us/step - loss: 1034.9267 - mean_squared_error: 1034.9267 - mean_absolute_error: 22.1670 - val_loss: 1927.5719 - val_mean_squared_error: 1927.5719 - val_mean_absolute_error: 27.9022\n",
      "Epoch 66/150\n",
      "7670/7670 [==============================] - 2s 236us/step - loss: 968.7511 - mean_squared_error: 968.7511 - mean_absolute_error: 21.3648 - val_loss: 1776.0545 - val_mean_squared_error: 1776.0545 - val_mean_absolute_error: 26.2820\n",
      "Epoch 67/150\n"
     ]
    },
    {
     "name": "stdout",
     "output_type": "stream",
     "text": [
      "7670/7670 [==============================] - 2s 233us/step - loss: 1109.4409 - mean_squared_error: 1109.4409 - mean_absolute_error: 22.7024 - val_loss: 1760.2296 - val_mean_squared_error: 1760.2296 - val_mean_absolute_error: 25.8292\n",
      "Epoch 68/150\n",
      "7670/7670 [==============================] - 3s 328us/step - loss: 989.3267 - mean_squared_error: 989.3267 - mean_absolute_error: 21.3382 - val_loss: 1798.8738 - val_mean_squared_error: 1798.8738 - val_mean_absolute_error: 26.3162\n",
      "Epoch 69/150\n",
      "7670/7670 [==============================] - 2s 257us/step - loss: 1022.1172 - mean_squared_error: 1022.1172 - mean_absolute_error: 21.8927 - val_loss: 1951.2657 - val_mean_squared_error: 1951.2657 - val_mean_absolute_error: 27.5017\n",
      "Epoch 70/150\n",
      "7670/7670 [==============================] - 2s 234us/step - loss: 909.2994 - mean_squared_error: 909.2994 - mean_absolute_error: 20.7820 - val_loss: 1814.7030 - val_mean_squared_error: 1814.7030 - val_mean_absolute_error: 26.1180\n",
      "Epoch 71/150\n",
      "7670/7670 [==============================] - 2s 237us/step - loss: 987.6383 - mean_squared_error: 987.6383 - mean_absolute_error: 21.7141 - val_loss: 1788.7426 - val_mean_squared_error: 1788.7426 - val_mean_absolute_error: 25.8924\n",
      "Epoch 72/150\n",
      "7670/7670 [==============================] - 2s 243us/step - loss: 912.9348 - mean_squared_error: 912.9348 - mean_absolute_error: 20.9776 - val_loss: 1640.2510 - val_mean_squared_error: 1640.2510 - val_mean_absolute_error: 25.1318\n",
      "Epoch 73/150\n",
      "7670/7670 [==============================] - 2s 252us/step - loss: 894.4031 - mean_squared_error: 894.4031 - mean_absolute_error: 20.6715 - val_loss: 1955.5944 - val_mean_squared_error: 1955.5944 - val_mean_absolute_error: 27.1207\n",
      "Epoch 74/150\n",
      "7670/7670 [==============================] - 2s 249us/step - loss: 1038.7963 - mean_squared_error: 1038.7963 - mean_absolute_error: 21.9548 - val_loss: 1837.4901 - val_mean_squared_error: 1837.4901 - val_mean_absolute_error: 26.6227\n",
      "Epoch 75/150\n",
      "7670/7670 [==============================] - 2s 266us/step - loss: 957.9990 - mean_squared_error: 957.9990 - mean_absolute_error: 21.1344 - val_loss: 1833.1988 - val_mean_squared_error: 1833.1988 - val_mean_absolute_error: 26.6545\n",
      "Epoch 76/150\n",
      "7670/7670 [==============================] - 2s 240us/step - loss: 928.6392 - mean_squared_error: 928.6392 - mean_absolute_error: 20.9746 - val_loss: 1809.5637 - val_mean_squared_error: 1809.5637 - val_mean_absolute_error: 26.3004\n",
      "Epoch 77/150\n",
      "7670/7670 [==============================] - 2s 260us/step - loss: 895.2451 - mean_squared_error: 895.2451 - mean_absolute_error: 20.4431 - val_loss: 1699.8344 - val_mean_squared_error: 1699.8344 - val_mean_absolute_error: 25.6548\n",
      "Epoch 78/150\n",
      "7670/7670 [==============================] - 2s 298us/step - loss: 905.3527 - mean_squared_error: 905.3527 - mean_absolute_error: 20.9412 - val_loss: 2105.2134 - val_mean_squared_error: 2105.2134 - val_mean_absolute_error: 28.5116\n",
      "Epoch 79/150\n",
      "7670/7670 [==============================] - 2s 300us/step - loss: 925.0874 - mean_squared_error: 925.0874 - mean_absolute_error: 20.9474 - val_loss: 1791.0803 - val_mean_squared_error: 1791.0803 - val_mean_absolute_error: 25.9750\n",
      "Epoch 80/150\n",
      "7670/7670 [==============================] - 2s 281us/step - loss: 823.7903 - mean_squared_error: 823.7903 - mean_absolute_error: 19.8739 - val_loss: 2239.3081 - val_mean_squared_error: 2239.3081 - val_mean_absolute_error: 29.1631\n",
      "Epoch 81/150\n",
      "7670/7670 [==============================] - 2s 296us/step - loss: 900.5754 - mean_squared_error: 900.5754 - mean_absolute_error: 20.7648 - val_loss: 1733.0996 - val_mean_squared_error: 1733.0996 - val_mean_absolute_error: 25.8175\n",
      "Epoch 82/150\n",
      "7670/7670 [==============================] - 2s 273us/step - loss: 860.0690 - mean_squared_error: 860.0690 - mean_absolute_error: 19.9463 - val_loss: 1746.2470 - val_mean_squared_error: 1746.2470 - val_mean_absolute_error: 25.6190\n",
      "Epoch 83/150\n",
      "7670/7670 [==============================] - 2s 270us/step - loss: 834.2477 - mean_squared_error: 834.2477 - mean_absolute_error: 19.8198 - val_loss: 1785.3759 - val_mean_squared_error: 1785.3759 - val_mean_absolute_error: 25.6816\n",
      "Epoch 84/150\n",
      "7670/7670 [==============================] - 2s 315us/step - loss: 920.5119 - mean_squared_error: 920.5119 - mean_absolute_error: 20.6433 - val_loss: 1957.0938 - val_mean_squared_error: 1957.0938 - val_mean_absolute_error: 27.4706\n",
      "Epoch 85/150\n",
      "7670/7670 [==============================] - 2s 226us/step - loss: 884.9139 - mean_squared_error: 884.9139 - mean_absolute_error: 20.5073 - val_loss: 1696.4725 - val_mean_squared_error: 1696.4725 - val_mean_absolute_error: 25.8876\n",
      "Epoch 86/150\n",
      "7670/7670 [==============================] - 2s 309us/step - loss: 857.1664 - mean_squared_error: 857.1664 - mean_absolute_error: 20.1123 - val_loss: 1690.2254 - val_mean_squared_error: 1690.2254 - val_mean_absolute_error: 25.6335\n",
      "Epoch 87/150\n",
      "7670/7670 [==============================] - 2s 274us/step - loss: 875.3081 - mean_squared_error: 875.3081 - mean_absolute_error: 20.2572 - val_loss: 1756.6547 - val_mean_squared_error: 1756.6547 - val_mean_absolute_error: 25.7688\n",
      "Epoch 88/150\n",
      "7670/7670 [==============================] - 2s 251us/step - loss: 821.5030 - mean_squared_error: 821.5030 - mean_absolute_error: 19.7368 - val_loss: 1887.3689 - val_mean_squared_error: 1887.3689 - val_mean_absolute_error: 26.9018\n",
      "Epoch 89/150\n",
      "7670/7670 [==============================] - 2s 230us/step - loss: 872.1740 - mean_squared_error: 872.1740 - mean_absolute_error: 20.3398 - val_loss: 1859.4596 - val_mean_squared_error: 1859.4596 - val_mean_absolute_error: 26.9777\n",
      "Epoch 90/150\n",
      "7670/7670 [==============================] - 2s 256us/step - loss: 815.6939 - mean_squared_error: 815.6939 - mean_absolute_error: 19.6208 - val_loss: 1750.2460 - val_mean_squared_error: 1750.2460 - val_mean_absolute_error: 26.0267\n",
      "Epoch 91/150\n",
      "7670/7670 [==============================] - 2s 255us/step - loss: 856.0557 - mean_squared_error: 856.0557 - mean_absolute_error: 20.0572 - val_loss: 1802.9830 - val_mean_squared_error: 1802.9830 - val_mean_absolute_error: 26.3726\n",
      "Epoch 92/150\n",
      "7670/7670 [==============================] - 2s 253us/step - loss: 847.9454 - mean_squared_error: 847.9454 - mean_absolute_error: 19.7668 - val_loss: 1773.1209 - val_mean_squared_error: 1773.1209 - val_mean_absolute_error: 26.4046\n",
      "Epoch 93/150\n",
      "7670/7670 [==============================] - 2s 321us/step - loss: 831.4322 - mean_squared_error: 831.4322 - mean_absolute_error: 19.9141 - val_loss: 1947.0745 - val_mean_squared_error: 1947.0745 - val_mean_absolute_error: 27.5805n_squared_error: 826.6749 - mean_absolute_error: 19.85\n",
      "Epoch 94/150\n",
      "7670/7670 [==============================] - 3s 423us/step - loss: 841.5785 - mean_squared_error: 841.5785 - mean_absolute_error: 20.1242 - val_loss: 1770.3659 - val_mean_squared_error: 1770.3659 - val_mean_absolute_error: 26.2233\n",
      "Epoch 95/150\n",
      "7670/7670 [==============================] - 2s 321us/step - loss: 836.4783 - mean_squared_error: 836.4783 - mean_absolute_error: 19.9878 - val_loss: 1777.9962 - val_mean_squared_error: 1777.9962 - val_mean_absolute_error: 26.2785\n",
      "Epoch 96/150\n",
      "7670/7670 [==============================] - 2s 294us/step - loss: 864.0762 - mean_squared_error: 864.0762 - mean_absolute_error: 20.0672 - val_loss: 1752.8987 - val_mean_squared_error: 1752.8987 - val_mean_absolute_error: 25.9926\n",
      "Epoch 97/150\n",
      "7670/7670 [==============================] - 2s 290us/step - loss: 760.8422 - mean_squared_error: 760.8422 - mean_absolute_error: 18.9729 - val_loss: 1768.7291 - val_mean_squared_error: 1768.7291 - val_mean_absolute_error: 26.1520\n",
      "Epoch 98/150\n",
      "7670/7670 [==============================] - 2s 261us/step - loss: 807.4256 - mean_squared_error: 807.4256 - mean_absolute_error: 19.4912 - val_loss: 1773.3068 - val_mean_squared_error: 1773.3068 - val_mean_absolute_error: 26.0820\n",
      "Epoch 99/150\n",
      "7670/7670 [==============================] - 3s 326us/step - loss: 793.7919 - mean_squared_error: 793.7919 - mean_absolute_error: 19.3707 - val_loss: 1743.1104 - val_mean_squared_error: 1743.1104 - val_mean_absolute_error: 26.0806\n",
      "Epoch 100/150\n"
     ]
    },
    {
     "name": "stdout",
     "output_type": "stream",
     "text": [
      "7670/7670 [==============================] - 2s 315us/step - loss: 770.2585 - mean_squared_error: 770.2585 - mean_absolute_error: 19.0712 - val_loss: 1661.5067 - val_mean_squared_error: 1661.5067 - val_mean_absolute_error: 25.2090\n",
      "Epoch 101/150\n",
      "7670/7670 [==============================] - 2s 271us/step - loss: 747.0892 - mean_squared_error: 747.0892 - mean_absolute_error: 18.8049 - val_loss: 1907.3063 - val_mean_squared_error: 1907.3063 - val_mean_absolute_error: 26.9978\n",
      "Epoch 102/150\n",
      "7670/7670 [==============================] - 2s 259us/step - loss: 829.5246 - mean_squared_error: 829.5246 - mean_absolute_error: 19.7208 - val_loss: 1757.1844 - val_mean_squared_error: 1757.1844 - val_mean_absolute_error: 26.4716\n",
      "Epoch 103/150\n",
      "7670/7670 [==============================] - 3s 422us/step - loss: 808.3519 - mean_squared_error: 808.3519 - mean_absolute_error: 19.5720 - val_loss: 1645.5411 - val_mean_squared_error: 1645.5411 - val_mean_absolute_error: 25.5396\n",
      "Epoch 104/150\n",
      "7670/7670 [==============================] - 2s 297us/step - loss: 809.0264 - mean_squared_error: 809.0264 - mean_absolute_error: 19.4107 - val_loss: 1727.3623 - val_mean_squared_error: 1727.3623 - val_mean_absolute_error: 25.8656\n",
      "Epoch 105/150\n",
      "7670/7670 [==============================] - 3s 333us/step - loss: 756.1978 - mean_squared_error: 756.1978 - mean_absolute_error: 19.0232 - val_loss: 1784.1304 - val_mean_squared_error: 1784.1304 - val_mean_absolute_error: 26.0938\n",
      "Epoch 106/150\n",
      "7670/7670 [==============================] - 3s 339us/step - loss: 754.5131 - mean_squared_error: 754.5131 - mean_absolute_error: 18.9413 - val_loss: 1835.3724 - val_mean_squared_error: 1835.3724 - val_mean_absolute_error: 26.4252\n",
      "Epoch 107/150\n",
      "7670/7670 [==============================] - 3s 340us/step - loss: 722.8999 - mean_squared_error: 722.8999 - mean_absolute_error: 18.5316 - val_loss: 1780.1919 - val_mean_squared_error: 1780.1919 - val_mean_absolute_error: 25.9640\n",
      "Epoch 108/150\n",
      "7670/7670 [==============================] - 3s 334us/step - loss: 756.4124 - mean_squared_error: 756.4124 - mean_absolute_error: 18.8409 - val_loss: 1903.9349 - val_mean_squared_error: 1903.9349 - val_mean_absolute_error: 26.9634\n",
      "Epoch 109/150\n",
      "7670/7670 [==============================] - 2s 320us/step - loss: 737.1886 - mean_squared_error: 737.1886 - mean_absolute_error: 18.7513 - val_loss: 1694.6447 - val_mean_squared_error: 1694.6447 - val_mean_absolute_error: 25.1648\n",
      "Epoch 110/150\n",
      "7670/7670 [==============================] - 3s 330us/step - loss: 757.1308 - mean_squared_error: 757.1308 - mean_absolute_error: 19.0351 - val_loss: 1761.1848 - val_mean_squared_error: 1761.1848 - val_mean_absolute_error: 25.8910\n",
      "Epoch 111/150\n",
      "7670/7670 [==============================] - 3s 326us/step - loss: 758.5948 - mean_squared_error: 758.5948 - mean_absolute_error: 18.9006 - val_loss: 1897.7730 - val_mean_squared_error: 1897.7730 - val_mean_absolute_error: 26.8567\n",
      "Epoch 112/150\n",
      "7670/7670 [==============================] - 3s 390us/step - loss: 748.3946 - mean_squared_error: 748.3946 - mean_absolute_error: 18.9243 - val_loss: 1745.2484 - val_mean_squared_error: 1745.2484 - val_mean_absolute_error: 25.6483\n",
      "Epoch 113/150\n",
      "7670/7670 [==============================] - 2s 325us/step - loss: 793.6575 - mean_squared_error: 793.6575 - mean_absolute_error: 19.2147 - val_loss: 1943.9142 - val_mean_squared_error: 1943.9142 - val_mean_absolute_error: 27.0521\n",
      "Epoch 114/150\n",
      "7670/7670 [==============================] - 2s 308us/step - loss: 766.1861 - mean_squared_error: 766.1861 - mean_absolute_error: 19.0643 - val_loss: 1831.5425 - val_mean_squared_error: 1831.5425 - val_mean_absolute_error: 26.3218\n",
      "Epoch 115/150\n",
      "7670/7670 [==============================] - 2s 304us/step - loss: 666.9265 - mean_squared_error: 666.9265 - mean_absolute_error: 17.6969 - val_loss: 1656.2482 - val_mean_squared_error: 1656.2482 - val_mean_absolute_error: 25.0707\n",
      "Epoch 116/150\n",
      "7670/7670 [==============================] - 2s 285us/step - loss: 709.1790 - mean_squared_error: 709.1790 - mean_absolute_error: 18.4459 - val_loss: 1761.1721 - val_mean_squared_error: 1761.1721 - val_mean_absolute_error: 26.1302\n",
      "Epoch 117/150\n",
      "7670/7670 [==============================] - 2s 293us/step - loss: 741.7458 - mean_squared_error: 741.7458 - mean_absolute_error: 18.6680 - val_loss: 1814.5811 - val_mean_squared_error: 1814.5811 - val_mean_absolute_error: 26.2187\n",
      "Epoch 118/150\n",
      "7670/7670 [==============================] - 2s 306us/step - loss: 741.7733 - mean_squared_error: 741.7733 - mean_absolute_error: 18.8298 - val_loss: 1782.0001 - val_mean_squared_error: 1782.0001 - val_mean_absolute_error: 25.8304\n",
      "Epoch 119/150\n",
      "7670/7670 [==============================] - 2s 298us/step - loss: 723.7926 - mean_squared_error: 723.7926 - mean_absolute_error: 18.6924 - val_loss: 1657.3580 - val_mean_squared_error: 1657.3580 - val_mean_absolute_error: 25.3771\n",
      "Epoch 120/150\n",
      "7670/7670 [==============================] - 3s 330us/step - loss: 721.9832 - mean_squared_error: 721.9832 - mean_absolute_error: 18.6040 - val_loss: 1938.4809 - val_mean_squared_error: 1938.4809 - val_mean_absolute_error: 26.9966\n",
      "Epoch 121/150\n",
      "7670/7670 [==============================] - 2s 314us/step - loss: 713.5767 - mean_squared_error: 713.5767 - mean_absolute_error: 18.3950 - val_loss: 1850.3420 - val_mean_squared_error: 1850.3420 - val_mean_absolute_error: 26.4651\n",
      "Epoch 122/150\n",
      "7670/7670 [==============================] - 3s 361us/step - loss: 665.0022 - mean_squared_error: 665.0022 - mean_absolute_error: 17.8981 - val_loss: 1749.5317 - val_mean_squared_error: 1749.5317 - val_mean_absolute_error: 26.4144\n",
      "Epoch 123/150\n",
      "7670/7670 [==============================] - 2s 325us/step - loss: 639.1444 - mean_squared_error: 639.1444 - mean_absolute_error: 17.4569 - val_loss: 1847.1719 - val_mean_squared_error: 1847.1719 - val_mean_absolute_error: 26.9955\n",
      "Epoch 124/150\n",
      "7670/7670 [==============================] - 2s 321us/step - loss: 677.0232 - mean_squared_error: 677.0232 - mean_absolute_error: 17.9495 - val_loss: 1706.2724 - val_mean_squared_error: 1706.2724 - val_mean_absolute_error: 25.7249\n",
      "Epoch 125/150\n",
      "7670/7670 [==============================] - 2s 283us/step - loss: 705.2777 - mean_squared_error: 705.2777 - mean_absolute_error: 18.3830 - val_loss: 1654.6887 - val_mean_squared_error: 1654.6887 - val_mean_absolute_error: 25.3460\n",
      "Epoch 126/150\n",
      "7670/7670 [==============================] - 2s 298us/step - loss: 722.5984 - mean_squared_error: 722.5984 - mean_absolute_error: 18.4203 - val_loss: 1893.2772 - val_mean_squared_error: 1893.2772 - val_mean_absolute_error: 27.3050\n",
      "Epoch 127/150\n",
      "7670/7670 [==============================] - 2s 304us/step - loss: 718.7080 - mean_squared_error: 718.7080 - mean_absolute_error: 18.3679 - val_loss: 1669.3992 - val_mean_squared_error: 1669.3992 - val_mean_absolute_error: 25.2953\n",
      "Epoch 128/150\n",
      "7670/7670 [==============================] - 3s 392us/step - loss: 710.1747 - mean_squared_error: 710.1747 - mean_absolute_error: 18.1709 - val_loss: 1962.6820 - val_mean_squared_error: 1962.6820 - val_mean_absolute_error: 27.1151\n",
      "Epoch 129/150\n",
      "7670/7670 [==============================] - 3s 348us/step - loss: 686.1596 - mean_squared_error: 686.1596 - mean_absolute_error: 18.0279 - val_loss: 1661.4200 - val_mean_squared_error: 1661.4200 - val_mean_absolute_error: 25.1663\n",
      "Epoch 130/150\n",
      "7670/7670 [==============================] - 3s 396us/step - loss: 646.2475 - mean_squared_error: 646.2475 - mean_absolute_error: 17.5674 - val_loss: 1930.5167 - val_mean_squared_error: 1930.5167 - val_mean_absolute_error: 27.4940\n",
      "Epoch 131/150\n",
      "7670/7670 [==============================] - 3s 345us/step - loss: 659.8445 - mean_squared_error: 659.8445 - mean_absolute_error: 17.6238 - val_loss: 1681.1591 - val_mean_squared_error: 1681.1591 - val_mean_absolute_error: 25.2546\n",
      "Epoch 132/150\n",
      "7670/7670 [==============================] - 2s 325us/step - loss: 711.6963 - mean_squared_error: 711.6963 - mean_absolute_error: 18.2467 - val_loss: 1684.4351 - val_mean_squared_error: 1684.4351 - val_mean_absolute_error: 25.4612\n",
      "Epoch 133/150\n"
     ]
    },
    {
     "name": "stdout",
     "output_type": "stream",
     "text": [
      "7670/7670 [==============================] - 3s 326us/step - loss: 668.3778 - mean_squared_error: 668.3778 - mean_absolute_error: 17.7432 - val_loss: 1732.6688 - val_mean_squared_error: 1732.6688 - val_mean_absolute_error: 25.8477\n",
      "Epoch 134/150\n",
      "7670/7670 [==============================] - 2s 302us/step - loss: 700.9396 - mean_squared_error: 700.9396 - mean_absolute_error: 18.3077 - val_loss: 1866.1290 - val_mean_squared_error: 1866.1290 - val_mean_absolute_error: 26.7139\n",
      "Epoch 135/150\n",
      "7670/7670 [==============================] - 2s 324us/step - loss: 666.5493 - mean_squared_error: 666.5493 - mean_absolute_error: 17.6842 - val_loss: 1766.2543 - val_mean_squared_error: 1766.2543 - val_mean_absolute_error: 26.2871\n",
      "Epoch 136/150\n",
      "7670/7670 [==============================] - 2s 311us/step - loss: 651.2669 - mean_squared_error: 651.2669 - mean_absolute_error: 17.6068 - val_loss: 2168.1891 - val_mean_squared_error: 2168.1891 - val_mean_absolute_error: 29.0192\n",
      "Epoch 137/150\n",
      "7670/7670 [==============================] - 2s 283us/step - loss: 698.3335 - mean_squared_error: 698.3335 - mean_absolute_error: 18.0635 - val_loss: 1676.8366 - val_mean_squared_error: 1676.8366 - val_mean_absolute_error: 25.5362\n",
      "Epoch 138/150\n",
      "7670/7670 [==============================] - 2s 287us/step - loss: 688.9517 - mean_squared_error: 688.9517 - mean_absolute_error: 18.0087 - val_loss: 1751.5504 - val_mean_squared_error: 1751.5504 - val_mean_absolute_error: 26.4054\n",
      "Epoch 139/150\n",
      "7670/7670 [==============================] - 2s 270us/step - loss: 675.2727 - mean_squared_error: 675.2727 - mean_absolute_error: 17.8400 - val_loss: 1747.6114 - val_mean_squared_error: 1747.6114 - val_mean_absolute_error: 26.2786\n",
      "Epoch 140/150\n",
      "7670/7670 [==============================] - 2s 308us/step - loss: 666.1696 - mean_squared_error: 666.1696 - mean_absolute_error: 17.9187 - val_loss: 1852.8944 - val_mean_squared_error: 1852.8944 - val_mean_absolute_error: 26.8727\n",
      "Epoch 141/150\n",
      "7670/7670 [==============================] - 2s 306us/step - loss: 621.7506 - mean_squared_error: 621.7506 - mean_absolute_error: 17.3223 - val_loss: 1683.1047 - val_mean_squared_error: 1683.1047 - val_mean_absolute_error: 25.2344\n",
      "Epoch 142/150\n",
      "7670/7670 [==============================] - 3s 326us/step - loss: 657.5695 - mean_squared_error: 657.5695 - mean_absolute_error: 17.7352 - val_loss: 2013.2150 - val_mean_squared_error: 2013.2150 - val_mean_absolute_error: 27.8262\n",
      "Epoch 143/150\n",
      "7670/7670 [==============================] - 2s 313us/step - loss: 628.4456 - mean_squared_error: 628.4456 - mean_absolute_error: 17.1632 - val_loss: 1738.8596 - val_mean_squared_error: 1738.8596 - val_mean_absolute_error: 25.5113\n",
      "Epoch 144/150\n",
      "7670/7670 [==============================] - 2s 272us/step - loss: 647.7055 - mean_squared_error: 647.7055 - mean_absolute_error: 17.5821 - val_loss: 1806.6293 - val_mean_squared_error: 1806.6293 - val_mean_absolute_error: 26.4409\n",
      "Epoch 145/150\n",
      "7670/7670 [==============================] - 2s 278us/step - loss: 684.9743 - mean_squared_error: 684.9743 - mean_absolute_error: 17.9002 - val_loss: 1751.4675 - val_mean_squared_error: 1751.4675 - val_mean_absolute_error: 25.9131quared_error: 677.5824 - mean_absolute_error: 17.8\n",
      "Epoch 146/150\n",
      "7670/7670 [==============================] - 2s 316us/step - loss: 669.7873 - mean_squared_error: 669.7873 - mean_absolute_error: 17.7689 - val_loss: 1739.0058 - val_mean_squared_error: 1739.0058 - val_mean_absolute_error: 25.8988\n",
      "Epoch 147/150\n",
      "7670/7670 [==============================] - 2s 294us/step - loss: 705.9958 - mean_squared_error: 705.9958 - mean_absolute_error: 18.3892 - val_loss: 1763.5059 - val_mean_squared_error: 1763.5059 - val_mean_absolute_error: 25.6110\n",
      "Epoch 148/150\n",
      "7670/7670 [==============================] - 2s 304us/step - loss: 693.4844 - mean_squared_error: 693.4844 - mean_absolute_error: 18.1391 - val_loss: 1807.6623 - val_mean_squared_error: 1807.6623 - val_mean_absolute_error: 26.0184\n",
      "Epoch 149/150\n",
      "7670/7670 [==============================] - 2s 298us/step - loss: 661.1921 - mean_squared_error: 661.1921 - mean_absolute_error: 17.5039 - val_loss: 1680.8001 - val_mean_squared_error: 1680.8001 - val_mean_absolute_error: 24.7873\n",
      "Epoch 150/150\n",
      "7670/7670 [==============================] - 2s 298us/step - loss: 646.4135 - mean_squared_error: 646.4135 - mean_absolute_error: 17.4721 - val_loss: 1793.8074 - val_mean_squared_error: 1793.8074 - val_mean_absolute_error: 26.2300\n"
     ]
    },
    {
     "data": {
      "text/plain": [
       "<keras.callbacks.History at 0x25b0fb6eec8>"
      ]
     },
     "execution_count": 88,
     "metadata": {},
     "output_type": "execute_result"
    }
   ],
   "source": [
    "model_Split_5.fit(X_train_model_5, y_train_model_5, epochs=100, batch_size=60,  verbose=1, validation_split=0.2)"
   ]
  },
  {
   "cell_type": "code",
   "execution_count": 89,
   "metadata": {},
   "outputs": [],
   "source": [
    "y_pred_model_5 = model_Split_5.predict(X_test_model_5)"
   ]
  },
  {
   "cell_type": "code",
   "execution_count": 90,
   "metadata": {},
   "outputs": [
    {
     "name": "stdout",
     "output_type": "stream",
     "text": [
      "RMSLE model 5: 0.36276893517130754\n"
     ]
    }
   ],
   "source": [
    "print('RMSLE model 5:', np.sqrt(mean_squared_log_error(y_test_model_5, y_pred_model_5)))"
   ]
  },
  {
   "cell_type": "code",
   "execution_count": null,
   "metadata": {},
   "outputs": [],
   "source": []
  },
  {
   "cell_type": "markdown",
   "metadata": {},
   "source": [
    "# Predict register"
   ]
  },
  {
   "cell_type": "code",
   "execution_count": 91,
   "metadata": {},
   "outputs": [],
   "source": [
    "# df_train_registered = pd.read_csv('train.csv')"
   ]
  },
  {
   "cell_type": "code",
   "execution_count": 92,
   "metadata": {},
   "outputs": [],
   "source": [
    "# df_train_registered.rename(columns={'weathersit':'weather',\n",
    "#                      'mnth':'month',\n",
    "#                      'hr':'hour',\n",
    "#                      'yr':'year',\n",
    "#                      'hum': 'humidity',\n",
    "#                      'cnt':'count'},inplace=True)"
   ]
  },
  {
   "cell_type": "code",
   "execution_count": 93,
   "metadata": {},
   "outputs": [],
   "source": [
    "# df_train_registered = shuffle(df_train_registered, random_state=42)"
   ]
  },
  {
   "cell_type": "code",
   "execution_count": 94,
   "metadata": {},
   "outputs": [],
   "source": [
    "# df_train_registered['season'] = df_train_registered.season.astype('category')\n",
    "# df_train_registered['year'] = df_train_registered.year.astype('category')\n",
    "# df_train_registered['month'] = df_train_registered.month.astype('category')\n",
    "# df_train_registered['hour'] = df_train_registered.hour.astype('category')\n",
    "# df_train_registered['holiday'] = df_train_registered.holiday.astype('category')\n",
    "# df_train_registered['weekday'] = df_train_registered.weekday.astype('category')\n",
    "# df_train_registered['workingday'] = df_train_registered.workingday.astype('category')\n",
    "# df_train_registered['weather'] = df_train_registered.weather.astype('category')"
   ]
  },
  {
   "cell_type": "code",
   "execution_count": 95,
   "metadata": {},
   "outputs": [],
   "source": [
    "# features_r = ['season', 'year', 'month', 'hour', 'holiday', 'weekday', 'workingday', 'weather']\n",
    "# #Separating out the features\n",
    "# X_r = df_train_registered.loc[:, features_r].values\n",
    "# #Separating out the target\n",
    "# y_r = df_train_registered.loc[:,['registered']].values\n",
    "# #Standardizing the features\n",
    "# X_r = StandardScaler().fit_transform(X_r)"
   ]
  },
  {
   "cell_type": "code",
   "execution_count": 96,
   "metadata": {},
   "outputs": [],
   "source": [
    "#X_train_r, X_test_r, y_train_r, y_test_r = train_test_split(X_r, y_r, test_size=0.2, random_state=42)"
   ]
  },
  {
   "cell_type": "code",
   "execution_count": 97,
   "metadata": {},
   "outputs": [],
   "source": [
    "# model_rf = RandomForestRegressor()\n",
    "# model_rf.fit(X_train_r,y_train_r)\n",
    "\n",
    "# # Get the mean absolute error on the validation data :\n",
    "# y_pred_r = model_rf.predict(X_test_r)\n",
    "# MAE_r = mean_absolute_error(y_test_r , y_pred_r)"
   ]
  },
  {
   "cell_type": "code",
   "execution_count": 98,
   "metadata": {},
   "outputs": [],
   "source": [
    "# y_pred_r = model_rf.predict(X_test_r)"
   ]
  },
  {
   "cell_type": "code",
   "execution_count": 99,
   "metadata": {},
   "outputs": [],
   "source": [
    "# print('RMSLE pred reg:', np.sqrt(mean_squared_log_error(y_test_r, y_pred_r)))"
   ]
  },
  {
   "cell_type": "code",
   "execution_count": 100,
   "metadata": {},
   "outputs": [],
   "source": [
    "# df_train_model_r = pd.read_csv('train.csv')"
   ]
  },
  {
   "cell_type": "code",
   "execution_count": 101,
   "metadata": {},
   "outputs": [],
   "source": [
    "# df_train_model_r.rename(columns={'weathersit':'weather',\n",
    "#                      'mnth':'month',\n",
    "#                      'hr':'hour',\n",
    "#                      'yr':'year',\n",
    "#                      'hum': 'humidity',\n",
    "#                      'cnt':'count'},inplace=True)"
   ]
  },
  {
   "cell_type": "code",
   "execution_count": 102,
   "metadata": {},
   "outputs": [],
   "source": [
    "# df_train_model_r = shuffle(df_train_model_r, random_state=42)"
   ]
  },
  {
   "cell_type": "code",
   "execution_count": 103,
   "metadata": {},
   "outputs": [],
   "source": [
    "# df_train_model_r['season'] = df_train_model_r.season.astype('category')\n",
    "# df_train_model_r['year'] = df_train_model_r.year.astype('category')\n",
    "# df_train_model_r['month'] = df_train_model_r.month.astype('category')\n",
    "# df_train_model_r['hour'] = df_train_model_r.hour.astype('category')\n",
    "# df_train_model_r['holiday'] = df_train_model_r.holiday.astype('category')\n",
    "# df_train_model_r['weekday'] = df_train_model_r.weekday.astype('category')\n",
    "# df_train_model_r['workingday'] = df_train_model_r.workingday.astype('category')\n",
    "# df_train_model_r['weather'] = df_train_model_r.weather.astype('category')"
   ]
  },
  {
   "cell_type": "code",
   "execution_count": 104,
   "metadata": {},
   "outputs": [],
   "source": [
    "# df_train_model_r = df_train_model_r.drop(['windspeed','atemp'], axis=1)"
   ]
  },
  {
   "cell_type": "code",
   "execution_count": 105,
   "metadata": {},
   "outputs": [],
   "source": [
    "# df_train_model_r=pd.get_dummies(df_train_model_r)"
   ]
  },
  {
   "cell_type": "code",
   "execution_count": null,
   "metadata": {},
   "outputs": [],
   "source": []
  },
  {
   "cell_type": "code",
   "execution_count": 106,
   "metadata": {},
   "outputs": [],
   "source": [
    "# y_model_r = df_train_model_r['count']\n",
    "# X_model_r = df_train_model_r[['season_1','season_2','season_3','season_4','year_0','year_1','month_1','month_2','month_3','month_4','month_5','month_6','month_7','month_8','month_9','month_10','month_11','month_12','hour_0','hour_1','hour_2','hour_3','hour_4','hour_5','hour_6','hour_7','hour_8','hour_9','hour_10','hour_11','hour_12','hour_13','hour_14','hour_15','hour_16','hour_17','hour_18','hour_19','hour_20','hour_21','hour_22','hour_23','workingday_0','workingday_1','weather_1','weather_2','weather_3','weather_4','temp', 'humidity','weekday_0','weekday_1','weekday_2','weekday_3','weekday_4','weekday_5','weekday_6','holiday_0','holiday_1','registered' ]]\n",
    "\n",
    "# X_train_model_r, X_test_model_r, y_train_model_r, y_test_model_r = train_test_split(X_model_r, y_model_r, test_size=0.2, random_state=42)"
   ]
  },
  {
   "cell_type": "code",
   "execution_count": 107,
   "metadata": {},
   "outputs": [],
   "source": [
    "# X_test_model_r = X_test_model_r.drop([ 'registered'], axis=1)"
   ]
  },
  {
   "cell_type": "markdown",
   "metadata": {},
   "source": [
    "H `.shape[0]` επιστρέφει το πόσα row είναι στο dataFrame\n",
    "και η `.index` πέρνει τον νούμερο του row και με την `range` του λέει να το κάνει από 0 εώς .shape[0]"
   ]
  },
  {
   "cell_type": "code",
   "execution_count": 108,
   "metadata": {},
   "outputs": [],
   "source": [
    "# X_test_model_r.index = range(X_test_model_r.shape[0])"
   ]
  },
  {
   "cell_type": "markdown",
   "metadata": {},
   "source": [
    "Χρησιμοποιούμε την `pd.concat()`για να ενώσουμε columns (δηλαδή `axis=1`) από δυο πίνακες σε ένα dataframe.'Oμως, η `y_pred_c`,`y_pred_r` που προβλέπουμε πιο πάνω είναι σε μορφή np.array,ενώ `df_train` που θέλουμε να τις προσθέσουμε μέσα είναι dataFrame. Οπότε χρησιμοποιούμε την `pd.DataFrame()` για να μετατρέψουμε το array σε dataFrame.\n",
    "\n",
    "By default η pd.concat() το array που βάζει του δίνει όνομα 0,οπότε για να ξεχωρίζουμε τα feature τα κάνουμε `rename()` σε `pred_casual`,`pred_registered` αντίστοιχα,αμέσως μετά concat(για να μην μπερδεφτουν τα 0)"
   ]
  },
  {
   "cell_type": "code",
   "execution_count": 109,
   "metadata": {},
   "outputs": [],
   "source": [
    "# X_test_model_r = pd.concat([X_test_model_r, pd.DataFrame(y_pred_r)], axis=1)\n",
    "# X_test_model_r.rename(columns={0:'registered'},inplace=True)"
   ]
  },
  {
   "cell_type": "code",
   "execution_count": 110,
   "metadata": {},
   "outputs": [],
   "source": [
    "# model_r = Sequential()\n",
    "# model_r.add(Dense(120, input_dim=60, kernel_initializer=RandomNormal(mean=0.0, stddev=0.05, seed=12), activation='relu'))\n",
    "# #model.add(Dense(120, input_dim=59, kernel_initializer='normal', activation='relu'))\n",
    "# model_r.add(Dense(80, activation='relu'))\n",
    "# model_r.add(Dense(40, activation='relu'))\n",
    "# model_r.add(Dense(12, activation='relu'))\n",
    "# model_r.add(Dense(1, activation='relu'))\n",
    "# model_r.summary()"
   ]
  },
  {
   "cell_type": "code",
   "execution_count": 111,
   "metadata": {},
   "outputs": [],
   "source": [
    "# model_r.compile(loss='mse',optimizer='adam', metrics=['mse','mae'])"
   ]
  },
  {
   "cell_type": "code",
   "execution_count": 112,
   "metadata": {
    "scrolled": true
   },
   "outputs": [],
   "source": [
    "# model_r.fit(X_train_model_r, y_train_model_r, epochs=50, batch_size=50,  verbose=1, validation_split=0.2)"
   ]
  },
  {
   "cell_type": "code",
   "execution_count": 113,
   "metadata": {},
   "outputs": [],
   "source": [
    "# y_pred_model_r = model_r.predict(X_test_model_r)"
   ]
  },
  {
   "cell_type": "code",
   "execution_count": 114,
   "metadata": {},
   "outputs": [],
   "source": [
    "# print('RMSLE:', np.sqrt(mean_squared_log_error(y_test_model_r, y_pred_model_r)))"
   ]
  },
  {
   "cell_type": "code",
   "execution_count": null,
   "metadata": {},
   "outputs": [],
   "source": []
  },
  {
   "cell_type": "markdown",
   "metadata": {},
   "source": [
    "# <span style=\"color:SlateBlue\"> Code for Kaggle </span>"
   ]
  },
  {
   "cell_type": "code",
   "execution_count": 115,
   "metadata": {},
   "outputs": [],
   "source": [
    "filename = 'test.csv' \n",
    "\n",
    "df_test = pd.read_csv(filename)\n",
    "df_test_Forest = pd.read_csv(filename)"
   ]
  },
  {
   "cell_type": "code",
   "execution_count": 116,
   "metadata": {},
   "outputs": [],
   "source": [
    "df_test.rename(columns={'weathersit':'weather',\n",
    "                     'mnth':'month',\n",
    "                     'hr':'hour',\n",
    "                     'yr':'year',\n",
    "                     'hum': 'humidity',\n",
    "                     'cnt':'count'},inplace=True)\n",
    "df_test_Forest.rename(columns={'weathersit':'weather',\n",
    "                     'mnth':'month',\n",
    "                     'hr':'hour',\n",
    "                     'yr':'year',\n",
    "                     'hum': 'humidity',\n",
    "                     'cnt':'count'},inplace=True)"
   ]
  },
  {
   "cell_type": "code",
   "execution_count": 117,
   "metadata": {},
   "outputs": [],
   "source": [
    "df_test['season'] = df_test.season.astype('category')\n",
    "df_test['year'] = df_test.year.astype('category')\n",
    "df_test['month'] = df_test.month.astype('category')\n",
    "df_test['hour'] = df_test.hour.astype('category')\n",
    "df_test['holiday'] = df_test.holiday.astype('category')\n",
    "df_test['weekday'] = df_test.weekday.astype('category')\n",
    "df_test['workingday'] = df_test.workingday.astype('category')\n",
    "df_test['weather'] = df_test.weather.astype('category')\n",
    "\n",
    "df_test_Forest['season'] = df_test_Forest.season.astype('category')\n",
    "df_test_Forest['year'] = df_test_Forest.year.astype('category')\n",
    "df_test_Forest['month'] = df_test_Forest.month.astype('category')\n",
    "df_test_Forest['hour'] = df_test_Forest.hour.astype('category')\n",
    "df_test_Forest['holiday'] = df_test_Forest.holiday.astype('category')\n",
    "df_test_Forest['weekday'] = df_test_Forest.weekday.astype('category')\n",
    "df_test_Forest['workingday'] = df_test_Forest.workingday.astype('category')\n",
    "df_test_Forest['weather'] = df_test_Forest.weather.astype('category')"
   ]
  },
  {
   "cell_type": "code",
   "execution_count": null,
   "metadata": {},
   "outputs": [],
   "source": []
  },
  {
   "cell_type": "markdown",
   "metadata": {},
   "source": [
    "### Trees predict Test"
   ]
  },
  {
   "cell_type": "code",
   "execution_count": 118,
   "metadata": {},
   "outputs": [],
   "source": [
    "df_test_Forest=df_test_Forest.round({'humidity': 1,'temp':1,'windspeed':1})"
   ]
  },
  {
   "cell_type": "code",
   "execution_count": 119,
   "metadata": {},
   "outputs": [],
   "source": [
    "df_test_Forest = df_test_Forest[['humidity','temp','windspeed','season','year','month','hour','weekday','workingday','weather']]   "
   ]
  },
  {
   "cell_type": "code",
   "execution_count": null,
   "metadata": {},
   "outputs": [],
   "source": []
  },
  {
   "cell_type": "markdown",
   "metadata": {},
   "source": [
    "RandomForest:"
   ]
  },
  {
   "cell_type": "code",
   "execution_count": 120,
   "metadata": {},
   "outputs": [],
   "source": [
    "y_pred_Forest = model_Forest.predict(df_test_Forest)"
   ]
  },
  {
   "cell_type": "markdown",
   "metadata": {},
   "source": [
    "ExtraTreesRegressor:"
   ]
  },
  {
   "cell_type": "code",
   "execution_count": 121,
   "metadata": {},
   "outputs": [],
   "source": [
    "y_pred_Tree = model_Tree.predict(df_test_Forest)"
   ]
  },
  {
   "cell_type": "markdown",
   "metadata": {},
   "source": [
    "### MLP predict Test"
   ]
  },
  {
   "cell_type": "code",
   "execution_count": 122,
   "metadata": {},
   "outputs": [],
   "source": [
    "df_test=pd.get_dummies(df_test)"
   ]
  },
  {
   "cell_type": "code",
   "execution_count": 123,
   "metadata": {},
   "outputs": [],
   "source": [
    "df_test = df_test[['temp', 'humidity','season_1','season_2','season_3','season_4','year_0','year_1','month_1','month_2','month_3','month_4','month_5','month_6','month_7','month_8','month_9','month_10','month_11','month_12','hour_0','hour_1','hour_2','hour_3','hour_4','hour_5','hour_6','hour_7','hour_8','hour_9','hour_10','hour_11','hour_12','hour_13','hour_14','hour_15','hour_16','hour_17','hour_18','hour_19','hour_20','hour_21','hour_22','hour_23','weekday_0','weekday_1','weekday_2','weekday_3','weekday_4','weekday_5','weekday_6','weather_1','weather_2','weather_3','holiday_0','holiday_1']]"
   ]
  },
  {
   "cell_type": "markdown",
   "metadata": {},
   "source": [
    "Model:"
   ]
  },
  {
   "cell_type": "code",
   "execution_count": 124,
   "metadata": {},
   "outputs": [],
   "source": [
    "y_pred = model.predict(df_test)"
   ]
  },
  {
   "cell_type": "markdown",
   "metadata": {},
   "source": [
    "Model 1:"
   ]
  },
  {
   "cell_type": "code",
   "execution_count": 125,
   "metadata": {},
   "outputs": [],
   "source": [
    "y_pred_model_1 = model_Split_1.predict(df_test)"
   ]
  },
  {
   "cell_type": "markdown",
   "metadata": {},
   "source": [
    "Molel 2:"
   ]
  },
  {
   "cell_type": "code",
   "execution_count": 126,
   "metadata": {},
   "outputs": [],
   "source": [
    "y_pred_model_2 = model_Split_2.predict(df_test)"
   ]
  },
  {
   "cell_type": "markdown",
   "metadata": {},
   "source": [
    "Model 3:"
   ]
  },
  {
   "cell_type": "code",
   "execution_count": 127,
   "metadata": {},
   "outputs": [],
   "source": [
    "y_pred_model_3 = model_Split_3.predict(df_test)"
   ]
  },
  {
   "cell_type": "markdown",
   "metadata": {},
   "source": [
    "Model 4:"
   ]
  },
  {
   "cell_type": "code",
   "execution_count": 128,
   "metadata": {},
   "outputs": [],
   "source": [
    "y_pred_model_4 = model_Split_4.predict(df_test)"
   ]
  },
  {
   "cell_type": "markdown",
   "metadata": {},
   "source": [
    "Model 5:"
   ]
  },
  {
   "cell_type": "code",
   "execution_count": 129,
   "metadata": {},
   "outputs": [],
   "source": [
    "y_pred_model_5 = model_Split_5.predict(df_test)"
   ]
  },
  {
   "cell_type": "code",
   "execution_count": null,
   "metadata": {},
   "outputs": [],
   "source": []
  },
  {
   "cell_type": "markdown",
   "metadata": {},
   "source": [
    "#### Model register:"
   ]
  },
  {
   "cell_type": "code",
   "execution_count": 130,
   "metadata": {},
   "outputs": [],
   "source": [
    "# df_test_R= pd.read_csv('test.csv')"
   ]
  },
  {
   "cell_type": "code",
   "execution_count": 131,
   "metadata": {},
   "outputs": [],
   "source": [
    "# df_test_R.rename(columns={'weathersit':'weather',\n",
    "#                      'mnth':'month',\n",
    "#                      'hr':'hour',\n",
    "#                      'yr':'year',\n",
    "#                      'hum': 'humidity',\n",
    "#                      'cnt':'count'},inplace=True)"
   ]
  },
  {
   "cell_type": "code",
   "execution_count": 132,
   "metadata": {},
   "outputs": [],
   "source": [
    "# df_test_R['season'] = df_test_R.season.astype('category')\n",
    "# df_test_R['year'] = df_test_R.year.astype('category')\n",
    "# df_test_R['month'] = df_test_R.month.astype('category')\n",
    "# df_test_R['hour'] = df_test_R.hour.astype('category')\n",
    "# df_test_R['holiday'] = df_test_R.holiday.astype('category')\n",
    "# df_test_R['weekday'] = df_test_R.weekday.astype('category')\n",
    "# df_test_R['workingday'] = df_test_R.workingday.astype('category')\n",
    "# df_test_R['weather'] = df_test_R.weather.astype('category')"
   ]
  },
  {
   "cell_type": "code",
   "execution_count": 133,
   "metadata": {},
   "outputs": [],
   "source": [
    "# df_test_R=pd.get_dummies(df_test_R)"
   ]
  },
  {
   "cell_type": "code",
   "execution_count": 134,
   "metadata": {},
   "outputs": [],
   "source": [
    "# df_test_R.insert(56,'weather_4',np.uint8(0))"
   ]
  },
  {
   "cell_type": "code",
   "execution_count": 135,
   "metadata": {},
   "outputs": [],
   "source": [
    "# df_test_r= pd.read_csv('test.csv')"
   ]
  },
  {
   "cell_type": "code",
   "execution_count": 136,
   "metadata": {},
   "outputs": [],
   "source": [
    "# df_test_r.rename(columns={'weathersit':'weather',\n",
    "#                      'mnth':'month',\n",
    "#                      'hr':'hour',\n",
    "#                      'yr':'year',\n",
    "#                      'hum': 'humidity',\n",
    "#                      'cnt':'count'},inplace=True)"
   ]
  },
  {
   "cell_type": "code",
   "execution_count": 137,
   "metadata": {},
   "outputs": [],
   "source": [
    "# features_r1 = ['season', 'year', 'month', 'hour', 'holiday', 'weekday', 'workingday', 'weather']\n",
    "# #Separating out the features\n",
    "# X_r1 = df_test_r.loc[:, features_r1].values\n",
    "# #Standardizing the features\n",
    "# X_r1 = StandardScaler().fit_transform(X_r1)"
   ]
  },
  {
   "cell_type": "code",
   "execution_count": 138,
   "metadata": {},
   "outputs": [],
   "source": [
    "# y_pred_r = model_rf.predict(X_r1)"
   ]
  },
  {
   "cell_type": "code",
   "execution_count": 139,
   "metadata": {},
   "outputs": [],
   "source": [
    "# df_test_R = df_test_R[['season_1','season_2','season_3','season_4','year_0','year_1','month_1','month_2','month_3','month_4','month_5','month_6','month_7','month_8','month_9','month_10','month_11','month_12','hour_0','hour_1','hour_2','hour_3','hour_4','hour_5','hour_6','hour_7','hour_8','hour_9','hour_10','hour_11','hour_12','hour_13','hour_14','hour_15','hour_16','hour_17','hour_18','hour_19','hour_20','hour_21','hour_22','hour_23','workingday_0','workingday_1','weather_1','weather_2','weather_3','weather_4','temp', 'humidity','weekday_0','weekday_1','weekday_2','weekday_3','weekday_4','weekday_5','weekday_6','holiday_0','holiday_1' ]]"
   ]
  },
  {
   "cell_type": "code",
   "execution_count": 140,
   "metadata": {},
   "outputs": [],
   "source": [
    "# df_test_R=pd.concat([df_test_R, pd.DataFrame(y_pred_r)], axis=1)\n",
    "# df_test_R.rename(columns={0:'registered'},inplace=True)"
   ]
  },
  {
   "cell_type": "code",
   "execution_count": 141,
   "metadata": {},
   "outputs": [],
   "source": [
    "# y_pred_model_r = model_r.predict(df_test_R)"
   ]
  },
  {
   "cell_type": "markdown",
   "metadata": {},
   "source": [
    "# Ensemble learning"
   ]
  },
  {
   "cell_type": "markdown",
   "metadata": {},
   "source": [
    "From Wikipedia:\n",
    "\n",
    "Ensemble methods use multiple learning algorithms to obtain better predictive performance than could be obtained from any of the constituent learning algorithms alone."
   ]
  },
  {
   "cell_type": "code",
   "execution_count": null,
   "metadata": {},
   "outputs": [],
   "source": []
  },
  {
   "cell_type": "markdown",
   "metadata": {},
   "source": [
    "KNN"
   ]
  },
  {
   "cell_type": "code",
   "execution_count": 142,
   "metadata": {},
   "outputs": [],
   "source": [
    "from sklearn.neighbors import KNeighborsRegressor"
   ]
  },
  {
   "cell_type": "code",
   "execution_count": 143,
   "metadata": {},
   "outputs": [],
   "source": [
    "reg_knn = KNeighborsRegressor(n_jobs=-1, n_neighbors=8, weights='distance', p=1)"
   ]
  },
  {
   "cell_type": "markdown",
   "metadata": {},
   "source": [
    "#### Voting Regression:"
   ]
  },
  {
   "cell_type": "markdown",
   "metadata": {},
   "source": [
    "Every model makes a prediction (votes) for each test instance and the final output prediction is the one that receives more than half of the votes."
   ]
  },
  {
   "cell_type": "markdown",
   "metadata": {},
   "source": [
    "https://www.toptal.com/machine-learning/ensemble-methods-machine-learning?fbclid=IwAR0Sdsla0Fdxrws0Pblxmy5eIBh2cq8TnGoCXKwlX1DXkYW79UyDNIXb3Bc"
   ]
  },
  {
   "cell_type": "code",
   "execution_count": 144,
   "metadata": {},
   "outputs": [],
   "source": [
    "from sklearn.ensemble import VotingRegressor"
   ]
  },
  {
   "cell_type": "markdown",
   "metadata": {},
   "source": [
    "n_jobsint or None, optional (default=None)\n",
    "The number of jobs to run in parallel for fit. None means 1 unless in a joblib.parallel_backend context. -1 means using all processors. See Glossary for more details."
   ]
  },
  {
   "cell_type": "code",
   "execution_count": 145,
   "metadata": {},
   "outputs": [
    {
     "name": "stdout",
     "output_type": "stream",
     "text": [
      "RMSLE voting: 0.3495248335106671\n"
     ]
    }
   ],
   "source": [
    "voting = VotingRegressor(estimators=[('rf', reg_Forest), ('rt', reg_Tree), ('knn', reg_knn)], weights=[5, 3, 1], n_jobs=-1)\n",
    "voting.fit(X_train_Forest, y_train_Forest)\n",
    "y_pred_Voting = voting.predict(X_test_Forest)\n",
    "\n",
    "True in (y_pred_Voting < 0)\n",
    "for i, y  in enumerate(y_pred_Voting):\n",
    "    if y_pred_Voting[i] < 0:\n",
    "        y_pred_Voting[i] = 0\n",
    "for i, y  in enumerate(y_pred_Voting):\n",
    "    if y_pred_Voting[i] < 0:\n",
    "        y_pred_Voting[i] = 0\n",
    "\n",
    "print('RMSLE voting:', np.sqrt(mean_squared_log_error(y_test_Forest, y_pred_Voting)))\n",
    "\n",
    "y_pred_Voting = voting.predict(df_test_Forest)"
   ]
  },
  {
   "cell_type": "code",
   "execution_count": null,
   "metadata": {},
   "outputs": [],
   "source": []
  },
  {
   "cell_type": "markdown",
   "metadata": {},
   "source": [
    "#### Average:"
   ]
  },
  {
   "cell_type": "markdown",
   "metadata": {},
   "source": [
    "Average the predictions from RandomForest, Model, Model 1, Model 2, Model 3, Model 4, Model 5."
   ]
  },
  {
   "cell_type": "markdown",
   "metadata": {},
   "source": [
    "average: `y_pred_Forest`,\n",
    "`y_pred`,\n",
    "`y_pred_model_1`,\n",
    "`y_pred_model_2`,\n",
    "`y_pred_model_3`,\n",
    "`y_pred_model_4`,\n",
    "`y_pred_model_5`."
   ]
  },
  {
   "cell_type": "code",
   "execution_count": 165,
   "metadata": {},
   "outputs": [],
   "source": [
    "y_pred_average = [0]*len(y_pred_model_1)\n",
    "\n",
    "for i in range(0,len(y_pred)):\n",
    "    y_pred_average[i] = y_pred_Voting[i] + float(y_pred[i]) + float(y_pred_model_1[i]) + float(y_pred_model_2[i]) + float(y_pred_model_3[i]) + float(y_pred_model_4[i]) + float(y_pred_model_5[i])\n",
    "    y_pred_average[i] = y_pred_average[i]/7"
   ]
  },
  {
   "cell_type": "code",
   "execution_count": null,
   "metadata": {},
   "outputs": [],
   "source": []
  },
  {
   "cell_type": "markdown",
   "metadata": {},
   "source": [
    "# Submission Average"
   ]
  },
  {
   "cell_type": "code",
   "execution_count": 166,
   "metadata": {},
   "outputs": [],
   "source": [
    "submission = pd.DataFrame()\n",
    "submission['Id'] = range(len(y_pred_average))\n",
    "submission['Predicted'] = y_pred_average"
   ]
  },
  {
   "cell_type": "code",
   "execution_count": 167,
   "metadata": {},
   "outputs": [],
   "source": [
    "submission.to_csv(\"submission.csv\", index=False)"
   ]
  },
  {
   "cell_type": "code",
   "execution_count": null,
   "metadata": {},
   "outputs": [],
   "source": []
  },
  {
   "cell_type": "markdown",
   "metadata": {},
   "source": [
    "# If want make a submission for testing some model"
   ]
  },
  {
   "cell_type": "code",
   "execution_count": 149,
   "metadata": {},
   "outputs": [],
   "source": [
    "# submission = pd.DataFrame()\n",
    "# submission['Id'] = range( y_pred_Forest.shape[0])\n",
    "# submission['Predicted'] =  y_pred_Forest"
   ]
  },
  {
   "cell_type": "code",
   "execution_count": 150,
   "metadata": {},
   "outputs": [],
   "source": [
    "# submission.to_csv(\"submissionVoting.csv\", index=False)"
   ]
  },
  {
   "cell_type": "code",
   "execution_count": null,
   "metadata": {},
   "outputs": [],
   "source": []
  },
  {
   "cell_type": "markdown",
   "metadata": {},
   "source": [
    "# Try,and not work"
   ]
  },
  {
   "cell_type": "code",
   "execution_count": 151,
   "metadata": {},
   "outputs": [],
   "source": [
    "#LOG\n",
    "\n",
    "# https://dev.to/rokaandy/logarithmic-transformation-in-linear-regression-models-why-when-3a7c\n",
    "\n",
    "# df_train.hist('count',figsize=(8,5))\n",
    "# df_train['count'] = np.log(df_train['count'])\n",
    "# df_train['count'].describe()\n",
    "\n",
    "\n",
    "\n",
    "# Percentile Linearization\n",
    "\n",
    "# size = len(df_train['count'])-1\n",
    "# df_train['count'] = df_train['count'].rank(method='min').apply(lambda x: (x-1)/size)\n",
    "# df_train['count'].describe()    GIVES SCORE 1.77\n",
    "\n",
    "\n",
    "\n",
    "# Log Max Root\n",
    "\n",
    "# log_max = np.log(df_train['count'].max())\n",
    "# df_train['count'] = df_train['count']**(1/log_max)\n",
    "# df_train['count'].describe()#\n",
    "\n",
    "# Log Max Root Normalized  GIVES SCORE 1.76\n",
    "\n",
    "# https://towardsdatascience.com/transforming-skewed-data-73da4c2d0d16\n",
    "\n",
    "# def normalize(column):\n",
    "#     upper = column.max()\n",
    "#     lower = column.min()\n",
    "#     y = (column - lower)/(upper-lower)\n",
    "#     return y\n",
    "\n",
    "# df_train['count'] = normalize(df_train['count'])\n",
    "\n",
    "##################################################################################################\n",
    "\n",
    "# Reversing log\n",
    "\n",
    "# y_pred = np.expm1(y_pred)\n",
    "# y_pred_model_1 = np.expm1(y_pred_model_1)\n",
    "# y_pred_model_2 = np.expm1(y_pred_model_2)\n",
    "# y_pred_model_3 = np.expm1(y_pred_model_3)\n",
    "# y_pred_model_4 = np.expm1(y_pred_model_4)\n",
    "# y_pred_model_5 = np.expm1(y_pred_model_5)"
   ]
  },
  {
   "cell_type": "markdown",
   "metadata": {},
   "source": [
    "#### Time Series Analysis(RNN):"
   ]
  },
  {
   "cell_type": "code",
   "execution_count": 152,
   "metadata": {},
   "outputs": [],
   "source": [
    "# import numpy as np\n",
    "# import tensorflow as tf\n",
    "# from tensorflow import keras\n",
    "# import pandas as pd\n",
    "# import seaborn as sns\n",
    "# from pylab import rcParams\n",
    "# import matplotlib.pyplot as plt\n",
    "# from matplotlib import rc\n",
    "# from sklearn.model_selection import train_test_split\n",
    "# from pandas.plotting import register_matplotlib_converters\n",
    "\n",
    "# %matplotlib inline\n",
    "# %config InlineBackend.figure_format='retina'\n",
    "\n",
    "# register_matplotlib_converters()\n",
    "# sns.set(style='whitegrid', palette='muted', font_scale=1.5)\n",
    "\n",
    "# rcParams['figure.figsize'] = 22, 10\n",
    "\n",
    "# RANDOM_SEED = 42\n",
    "\n",
    "# np.random.seed(RANDOM_SEED)\n",
    "# tf.random.set_seed(RANDOM_SEED)"
   ]
  },
  {
   "cell_type": "code",
   "execution_count": 153,
   "metadata": {},
   "outputs": [],
   "source": [
    "#df = pd.read_csv(\"train.csv\")\n",
    "\n",
    "# train_size = int(len(df) * 0.9)\n",
    "# test_size = len(df) - train_size\n",
    "# train, test = df.iloc[0:train_size], df.iloc[train_size:len(df)]\n",
    "# print(len(train), len(test))"
   ]
  },
  {
   "cell_type": "code",
   "execution_count": 154,
   "metadata": {},
   "outputs": [],
   "source": [
    "# from sklearn.preprocessing import RobustScaler\n",
    "\n",
    "# f_columns = ['atemp', 'temp', 'hum', 'windspeed']\n",
    "\n",
    "# f_transformer = RobustScaler()\n",
    "# cnt_transformer = RobustScaler()\n",
    "\n",
    "# f_transformer = f_transformer.fit(train[f_columns].to_numpy())\n",
    "# cnt_transformer = cnt_transformer.fit(train[['cnt']])\n",
    "\n",
    "# train.loc[:, f_columns] = f_transformer.transform(train[f_columns].to_numpy())\n",
    "# train['cnt'] = cnt_transformer.transform(train[['cnt']])\n",
    "\n",
    "# test.loc[:, f_columns] = f_transformer.transform(test[f_columns].to_numpy())\n",
    "# test['cnt'] = cnt_transformer.transform(test[['cnt']])"
   ]
  },
  {
   "cell_type": "code",
   "execution_count": 155,
   "metadata": {},
   "outputs": [],
   "source": [
    "# def create_dataset(X, y, time_steps=1):\n",
    "#     Xs, ys = [], []\n",
    "#     for i in range(len(X) - time_steps):\n",
    "#         v = X.iloc[i:(i + time_steps)].values\n",
    "#         Xs.append(v)        \n",
    "#         ys.append(y.iloc[i + time_steps])\n",
    "#     return np.array(Xs), np.array(ys)"
   ]
  },
  {
   "cell_type": "code",
   "execution_count": 156,
   "metadata": {},
   "outputs": [],
   "source": [
    "# time_steps = 10\n",
    "\n",
    "# # reshape to [samples, time_steps, n_features]\n",
    "\n",
    "# X_train, y_train = create_dataset(train, train.cnt, time_steps)\n",
    "# X_test, y_test = create_dataset(test, test.cnt, time_steps)\n",
    "\n",
    "# print(X_train.shape, y_train.shape)"
   ]
  },
  {
   "cell_type": "code",
   "execution_count": 157,
   "metadata": {},
   "outputs": [],
   "source": [
    "# model = keras.Sequential()\n",
    "# model.add(\n",
    "#   keras.layers.Bidirectional(\n",
    "#     keras.layers.LSTM(\n",
    "#       units=128, \n",
    "#       input_shape=(X_train.shape[1], X_train.shape[2])\n",
    "#     )\n",
    "#   )\n",
    "# )\n",
    "# model.add(keras.layers.Dropout(rate=0.2))\n",
    "# model.add(keras.layers.Dense(units=1))\n",
    "# model.compile(loss='mean_squared_error', optimizer='adam')"
   ]
  },
  {
   "cell_type": "code",
   "execution_count": 158,
   "metadata": {},
   "outputs": [],
   "source": [
    "# history = model.fit(\n",
    "#     X_train, y_train, \n",
    "#     epochs=10, \n",
    "#     batch_size=32, \n",
    "#     validation_split=0.1,\n",
    "#     shuffle=False\n",
    "# )"
   ]
  },
  {
   "cell_type": "code",
   "execution_count": 159,
   "metadata": {},
   "outputs": [],
   "source": [
    "# plt.plot(history.history['loss'], label='train')\n",
    "# plt.plot(history.history['val_loss'], label='test')\n",
    "# plt.legend();"
   ]
  },
  {
   "cell_type": "code",
   "execution_count": 160,
   "metadata": {},
   "outputs": [],
   "source": [
    "#y_pred = model.predict(X_test)"
   ]
  },
  {
   "cell_type": "code",
   "execution_count": 161,
   "metadata": {},
   "outputs": [],
   "source": [
    "# y_train_inv = cnt_transformer.inverse_transform(y_train.reshape(1, -1))\n",
    "# y_test_inv = cnt_transformer.inverse_transform(y_test.reshape(1, -1))\n",
    "# y_pred_inv = cnt_transformer.inverse_transform(y_pred)"
   ]
  },
  {
   "cell_type": "code",
   "execution_count": 162,
   "metadata": {},
   "outputs": [],
   "source": [
    "# from sklearn.metrics import mean_squared_log_error, r2_score\n",
    "\n",
    "# True in (y_pred < 0)\n",
    "# for i, y  in enumerate(y_pred):\n",
    "#     if y_pred[i] < 0:\n",
    "#         y_pred[i] = 0\n",
    "# for i, y  in enumerate(y_pred):\n",
    "#     if y_pred[i] < 0:\n",
    "#         y_pred[i] = 0"
   ]
  },
  {
   "cell_type": "code",
   "execution_count": 163,
   "metadata": {},
   "outputs": [],
   "source": [
    "# print('RMSLE:', np.sqrt(mean_squared_log_error(y_test_inv, y_pred_inv.T)))\n",
    "# print('R2:', r2_score(y_test_inv, y_pred_inv.T))\n",
    "\n",
    "\n",
    "\n",
    "#RMSLE: 1.599107832091222\n",
    "#R2: nan"
   ]
  },
  {
   "cell_type": "code",
   "execution_count": null,
   "metadata": {},
   "outputs": [],
   "source": []
  },
  {
   "cell_type": "markdown",
   "metadata": {},
   "source": [
    "#### Tanh estimators normalization:"
   ]
  },
  {
   "cell_type": "code",
   "execution_count": 164,
   "metadata": {},
   "outputs": [],
   "source": [
    "# import pandas as pd\n",
    "# from sklearn import preprocessing\n",
    "# from sklearn.preprocessing import MinMaxScaler\n",
    "\n",
    "# count = df_train[['count']]\n",
    "# m_count = np.mean(count, axis=0) # array([16.25, 26.25])\n",
    "# std_count = np.std(count, axis=0) # array([17.45530005, 22.18529919])\n",
    "\n",
    "# mylist1 = []\n",
    "\n",
    "# for i in range(len(count)):\n",
    "#     estimator = 0.5 * (np.tanh(0.01 * ((count['count'][i] - m_count) / std_count)) + 1)\n",
    "#     mylist1.insert(i, estimator)\n",
    "\n",
    "    \n",
    "# df_train_count = pd.DataFrame(mylist1)\n",
    "# df_train.insert(60,'normalised_count',df_train_count)\n",
    "\n",
    "# temp = df_train[['temp']]\n",
    "# m_temp = np.mean(temp, axis=0) \n",
    "# std_temp = np.std(temp, axis=0) \n",
    "\n",
    "# mylist2 = []\n",
    "\n",
    "# for i in range(len(temp)):\n",
    "#     estimator = 0.5 * (np.tanh(0.01 * ((temp['temp'][i] - m_temp) / std_temp)) + 1)\n",
    "#     mylist2.insert(i, estimator)\n",
    "\n",
    "# df_train_temp = pd.DataFrame(mylist2)\n",
    "# df_train.insert(61,'normalised_temp',df_train_count)\n",
    "\n",
    "# humidity = df_train[['humidity']]\n",
    "# m_humidity = np.mean(humidity, axis=0) # array([16.25, 26.25])\n",
    "# std_humidity = np.std(humidity, axis=0) # array([17.45530005, 22.18529919])\n",
    "\n",
    "# mylist3 = []\n",
    "\n",
    "# for i in range(len(humidity)):\n",
    "#     estimator = 0.5 * (np.tanh(0.01 * ((humidity['humidity'][i] - m_humidity) / std_humidity)) + 1)\n",
    "#     mylist3.insert(i, estimator)\n",
    "    \n",
    "# df_train_humidity = pd.DataFrame(mylist3)\n",
    "# df_train.insert(62,'normalised_humidity',df_train_count)\n",
    "\n",
    "# y = df_train['normalised_count']\n",
    "# X = df_train[['temp', 'humidity','season_1','season_2','season_3','season_4','year_0','year_1','month_1','month_2','month_3','month_4','month_5','month_6','month_7','month_8','month_9','month_10','month_11','month_12','hour_0','hour_1','hour_2','hour_3','hour_4','hour_5','hour_6','hour_7','hour_8','hour_9','hour_10','hour_11','hour_12','hour_13','hour_14','hour_15','hour_16','hour_17','hour_18','hour_19','hour_20','hour_21','hour_22','hour_23','workingday_0','workingday_1','weather_1','weather_2','weather_3','weather_4','weekday_0','weekday_1','weekday_2','weekday_3','weekday_4','weekday_5','weekday_6' ]]\n",
    "\n",
    "# X_train, X_test, y_train, y_test = train_test_split(X, y, test_size=0.2, random_state=42)\n",
    "\n",
    "##################################################################################################################\n",
    "\n",
    "# Reverse tanh estimator's normalization\n",
    "# for i in range(len(y_pred)):\n",
    "#     y1 = y_pred[i] * 2\n",
    "#     y2 = y1 - 1\n",
    "#     y3 = np.arctanh(y2)\n",
    "#     y4 = y3 / 0.01\n",
    "#     y5 = y4 * std_count\n",
    "#     y6 = y5 + m_count\n",
    "#     y_pred[i] = y6.round()"
   ]
  },
  {
   "cell_type": "code",
   "execution_count": null,
   "metadata": {},
   "outputs": [],
   "source": []
  }
 ],
 "metadata": {
  "kernelspec": {
   "display_name": "Python 3",
   "language": "python",
   "name": "python3"
  },
  "language_info": {
   "codemirror_mode": {
    "name": "ipython",
    "version": 3
   },
   "file_extension": ".py",
   "mimetype": "text/x-python",
   "name": "python",
   "nbconvert_exporter": "python",
   "pygments_lexer": "ipython3",
   "version": "3.7.4"
  }
 },
 "nbformat": 4,
 "nbformat_minor": 2
}
